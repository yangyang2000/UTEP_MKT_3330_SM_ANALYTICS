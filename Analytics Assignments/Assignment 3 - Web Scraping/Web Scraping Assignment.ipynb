{
 "cells": [
  {
   "cell_type": "markdown",
   "metadata": {},
   "source": [
    "## For the IMDB assignment:\n",
    "\n",
    "1. Write a web scraper to collect the top 500 movies from 2017.\n",
    "\n",
    "    a. Hint, use this URL as a start: http://www.imdb.com/search/title?year=2017&title_type=feature&\n",
    "    \n",
    "    b. Again, what information you collect is up to you with a **minimum of**: Grab the movie ID for each movie, the gross revenue, number of votes, overall rating, the movie category (action, romance, etc.), director, and stars.\n",
    "    \n",
    "2. What makes a movie successful? Using the data you collected, do some (regression) analysis to show how important characteristics of the movie interact to predict box office revenues. Example, do ratings matter? If so for which types of movies? "
   ]
  }
 ],
 "metadata": {
  "kernelspec": {
   "display_name": "Python 2",
   "language": "python",
   "name": "python2"
  },
  "language_info": {
   "codemirror_mode": {
    "name": "ipython",
    "version": 2
   },
   "file_extension": ".py",
   "mimetype": "text/x-python",
   "name": "python",
   "nbconvert_exporter": "python",
   "pygments_lexer": "ipython2",
   "version": "2.7.14"
  }
 },
 "nbformat": 4,
 "nbformat_minor": 2
}
