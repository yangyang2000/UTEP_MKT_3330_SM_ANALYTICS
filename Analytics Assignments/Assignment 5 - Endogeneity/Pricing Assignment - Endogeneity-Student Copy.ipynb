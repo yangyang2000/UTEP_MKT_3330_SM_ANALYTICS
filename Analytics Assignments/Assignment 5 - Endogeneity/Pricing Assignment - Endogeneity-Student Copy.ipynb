{
 "cells": [
  {
   "cell_type": "markdown",
   "metadata": {},
   "source": [
    "# Problem 1\n",
    "\n",
    "Consider an airline that operates many independent routes, i.e. demand for routes are assumed to be independent, i.e. demand for one route does not affect/ is not correlated with demand of another. You observe a dataset of revenues and prices for 2 routes and want to estimate the demand for route 1. Assume managers are fairly sophisticated, i.e. they strategically decide prices by anticipating demand shocks.\n",
    "\n",
    "Data located here: https://www.dropbox.com/s/7hiiyzvqgy10wlz/problem_1.xlsx?dl=0\n",
    "\n",
    "Remember, you can use pandas (pd.read_excel) to read in the data directly, just change the url above to end with 'dl=1'"
   ]
  },
  {
   "cell_type": "markdown",
   "metadata": {},
   "source": [
    "## 1.A\n",
    "Plot scatter plots of demand versus prices for both markets on one graph. Plot the time series of both demands (demand over time). Do you notice any patterns? Note the data contains revenue not demand. \n",
    "\n",
    "Are there significant difference by month? Any significant differences by day of week?"
   ]
  },
  {
   "cell_type": "markdown",
   "metadata": {},
   "source": [
    "# 1. B\n",
    "\n",
    "Use linear regression to estimate the linear demand equation D(p)=A-bp+e for market 1. Report the results. How can you tell looking just at this result that the parameter estimates are not realistic? Why are the parameter estimates biased? Explain in detail, use mathematical arguments where appropriate (see notes)."
   ]
  },
  {
   "cell_type": "markdown",
   "metadata": {},
   "source": [
    "# 1.C\n",
    "Explain how you can resolve the bias issue with the data that you have? What is the logic for your solution?"
   ]
  },
  {
   "cell_type": "markdown",
   "metadata": {},
   "source": [
    "# 1.D\n",
    "\n",
    "Use your solution to estimate the demand equation, what are your new parameters?"
   ]
  },
  {
   "cell_type": "code",
   "execution_count": null,
   "metadata": {
    "collapsed": true
   },
   "outputs": [],
   "source": []
  },
  {
   "cell_type": "markdown",
   "metadata": {},
   "source": [
    "# Problem 2\n",
    "\n",
    "You are trying to evaluate the effect of your business' \"elite\" tier of customer status that get additional benefits. To qualify for elite status, customers have to have spent at least \\$1000 in the previous year. \n",
    "\n",
    "Data is located here: https://www.dropbox.com/s/cgvdb10jud0kdhr/problem_2.xlsx?dl=0"
   ]
  },
  {
   "cell_type": "markdown",
   "metadata": {},
   "source": [
    "## 2.A\n",
    "\n",
    "Plot your data in a meaningful way. Can you conclude from the visualizations of the data if there are any effects of elite status on those consumers' spending behavior?"
   ]
  },
  {
   "cell_type": "markdown",
   "metadata": {},
   "source": [
    "## 2.B\n",
    "\n",
    "Take the average of sales for elite customers and non-elite customers. What's the difference in their current year sales? Is this equal to the effect of receiving elite status on sales? Why is this not a valid estimate?"
   ]
  },
  {
   "cell_type": "markdown",
   "metadata": {},
   "source": [
    "## 2.C\n",
    "\n",
    "Explain how you can eliminate the potential bias in 2.B. What causal inference method can you use? Why? DO you think there are any shortcomings to the method you selected?"
   ]
  },
  {
   "cell_type": "markdown",
   "metadata": {},
   "source": [
    "## 2.D\n",
    "\n",
    "Report your new estimate of the effect of the elite program. The benefits of the program cost your company an additional \\$108 per customer a year. Should you continue with the program?"
   ]
  },
  {
   "cell_type": "code",
   "execution_count": null,
   "metadata": {
    "collapsed": true
   },
   "outputs": [],
   "source": []
  }
 ],
 "metadata": {
  "kernelspec": {
   "display_name": "Python 2",
   "language": "python",
   "name": "python2"
  },
  "language_info": {
   "codemirror_mode": {
    "name": "ipython",
    "version": 2
   },
   "file_extension": ".py",
   "mimetype": "text/x-python",
   "name": "python",
   "nbconvert_exporter": "python",
   "pygments_lexer": "ipython2",
   "version": "2.7.14"
  }
 },
 "nbformat": 4,
 "nbformat_minor": 2
}
