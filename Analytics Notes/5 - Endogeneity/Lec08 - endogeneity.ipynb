{
 "cells": [
  {
   "cell_type": "markdown",
   "metadata": {},
   "source": [
    "# Quick Review: So far we have looked at aggregate demand models\n",
    "Aggregate demand means that we link pricing (or other managerial actions) to total units sold.\n",
    "\n",
    "### Linear demand function:\n",
    "### $$D(p) = A-bp$$\n",
    "\n",
    "### We estimate this using OLS on experimental data###\n",
    "### $$D(p) = A-bp+e$$\n",
    "\n",
    "\n",
    "Linear demand functions captures the basic intuition about demand: it is negatively affected by prices. This is captured by the assumption that $b$ is negative. It is simple to work with and has nice concave profit functions (parabolic to be exact).\n",
    "\n",
    "Price elasticity of linear demand increases (more elastic) when price increases. Linear demand goes from inelastic at low prices to highly elastic as we raise prices. \n",
    "\n",
    "Linear demand also assumes that we can only give away a finite number, A, of the product even if the price was free.\n",
    "\n",
    "Linear demand is easy to fit with data, we just need to run a simple linear regression.\n",
    "\n",
    "### Constant elastic demand function:\n",
    "### $$D(p) = p^{\\beta}e^k$$\n",
    "\n",
    "### We estimate this using OLS on log-transformed experimental data###\n",
    "### $$ln(D(p)) = \\beta ln(p)+k+e$$\n",
    "\n",
    "Constant elasticity demand functions also captures the basic intuition that demand is negatively affected by prices. This is captured by the assumption that elasticity, $\\beta$ is negative.\n",
    "\n",
    "This demand function is nice to work with when we have elastic demand, in which case the profit function is concave.\n",
    "\n",
    "However, when the demand is inelastic, since the elasticity does not change with price, we cannot maximize profit. Price should always be increased when we have inelastic demand.\n",
    "\n",
    "On the other hand, constant elasticity demand allows demand to be infinite when price goes to 0, and demand approaches 0 (but never gets there) when price goes to infinity.\n",
    "\n",
    "We can also estimate parameters $\\beta$ and $k$ for the constant elastic model, although we have to take logs of demand and prices before running the regression."
   ]
  },
  {
   "cell_type": "markdown",
   "metadata": {},
   "source": [
    "# Problems with aggregate models\n",
    "\n",
    "\n",
    "## High cost of experimentation.\n",
    "\n",
    "Notice that the problems we solved with sales and price data involved running several price experiments. Imagine you are a grocery store that is trying to figure out the aggregate demand curve of bread. In order to do this, you have to first figure out what are the equivalent weeks on the calendar (find some weeks that historically had similar sales), and then you change the price for each of these weeks. \n",
    "\n",
    "If the price you selected for one or more of these weeks is a \"bad\" price, you could end up losing a lot of potential profits. This is why many businesses hesitate to do price experiments.\n",
    "\n",
    "## What if we already have price changes in historical data, do we still need to run price experiments?\n",
    "\n",
    "Short answer: **yes**.\n",
    "\n",
    "Long answer: **yes** because...\n",
    "\n",
    "Historical price variation is due to managers' price intuitions. Managers aren't dumb, hopefully. So that means if we are changing prices not for experimentation, there must be a reason.\n",
    "\n",
    "This reason is typically assumed that managers **are trying to charge optimal prices**.\n",
    "\n",
    "If mangers are anticipating changes in demand, and then charge optimal prices for those demand curves, then the resulting demand and sales data don't help us measure the demand function, rather **it maps out the optimal prices corresponding to several unknown demand functions.**"
   ]
  },
  {
   "cell_type": "markdown",
   "metadata": {},
   "source": [
    "# This is a good time to introduce endogeneity\n",
    "\n",
    "Let's begin with a regression equation:\n",
    "\n",
    "$$y = \\beta_0+\\beta_1x_1+e$$\n",
    "\n",
    "Endogeneity occurs when $e$ is correlated with an explanatory variable, in this case $x_1$.\n",
    "\n",
    "Why is profit maximizing price decisions correlated with the error term of the demand estimation?\n",
    "\n",
    "Suppose we try to estimate the linear demand model.\n",
    "\n",
    "$$D=A-bp+e_1$$\n",
    "\n",
    "However, prices are set using something close to\n",
    "\n",
    "$$ p^{*}=\\frac{A+e_1+b*c_m}{2b}+e_2 $$\n",
    "\n",
    "If the error, $e_1$ is idiosyncratic changes to the demand that the manager anticipates, then prices are obviously correlated with the error, as they are a function of the error. In fact, we even know the direction. If the error increases, price increases.\n",
    "\n",
    "**This causes an endogeneity issue.**\n",
    "\n",
    "## So, what is the issue with endogeneity?\n",
    "\n",
    "The issue is that the correlation between error term and an explanatory variable leads to bias in that explanatory variable's estimated parameter.\n",
    "\n",
    "Let's demonstrate this with linear demand below."
   ]
  },
  {
   "cell_type": "markdown",
   "metadata": {},
   "source": [
    "### Example of Endogenous Pricing (True Demand = 10000-200p+e1, c_m = 30, c_f=2000)"
   ]
  },
  {
   "cell_type": "code",
   "execution_count": 1,
   "metadata": {},
   "outputs": [
    {
     "data": {
      "text/plain": [
       "(array([   63.57892199,   700.94544124,   157.40749337,  -429.22458217,\n",
       "         -133.06721838,  -324.4503548 ,   783.13378447, -1045.68509531,\n",
       "          728.16403187,   472.6467077 ,  -200.10059693,   157.61365202,\n",
       "         -555.03041704,  -292.41076263,   -94.20478203,   406.51182453,\n",
       "          -80.65235821,   800.43577535,   492.17128755,  -417.72368642,\n",
       "          -93.32466996,  -429.0335368 ,  -379.88907952,  -756.02711977,\n",
       "          873.88737206]),\n",
       " array([ 6.39016493,  0.21346267, -5.52492673, -1.05777209, -1.22671138,\n",
       "         1.67793051,  1.42203929, -5.10790011, -3.92485964,  1.27449521,\n",
       "         0.02000605, -1.41204983,  1.44156649,  3.19855891,  3.46895524,\n",
       "        -0.00722926,  0.20773454,  2.5410722 ,  1.98505306, -2.12470128,\n",
       "        -1.49581631,  1.81462718,  0.9016294 , -0.75368601,  1.66833024]))"
      ]
     },
     "execution_count": 1,
     "metadata": {},
     "output_type": "execute_result"
    }
   ],
   "source": [
    "import numpy as np, pandas as pd\n",
    "from statsmodels.regression.linear_model import OLS\n",
    "np.random.seed(999)\n",
    "e1 = np.random.normal(0, 500, 25) # error for demand function\n",
    "e2 = np.random.normal(0, 3, 25) # error in pricing\n",
    "A, b, c_m, c_f = 10000, 200, 30, 2000 # True demand and cost parameters\n",
    "e1, e2"
   ]
  },
  {
   "cell_type": "markdown",
   "metadata": {},
   "source": [
    "##### This is endogenous pricing because managers anticipate idiosyncratic (error term in demand equation) shocks to demand and compute an optimal price"
   ]
  },
  {
   "cell_type": "code",
   "execution_count": 2,
   "metadata": {},
   "outputs": [
    {
     "data": {
      "text/plain": [
       "array([46.54911224, 41.96582627, 34.86859201, 37.86916645, 38.44062057,\n",
       "       40.86680463, 43.37987375, 32.27788716, 37.89555044, 42.45611198,\n",
       "       39.51975456, 38.9819843 , 40.05399044, 42.467532  , 43.23344328,\n",
       "       41.00905031, 40.00610364, 44.54216164, 43.21548127, 36.8309895 ,\n",
       "       38.27087202, 40.74204333, 39.9519067 , 37.35624619, 43.85304867])"
      ]
     },
     "execution_count": 2,
     "metadata": {},
     "output_type": "execute_result"
    }
   ],
   "source": [
    "# Simulated prices where managers are charging close to optimal prices\n",
    "# Managers can anticipate \"e1\" and then make pricing mistakes \"e2\"\n",
    "p_obs = (A+e1+b*c_m)/(2*b)+e2\n",
    "p_obs"
   ]
  },
  {
   "cell_type": "code",
   "execution_count": 3,
   "metadata": {},
   "outputs": [
    {
     "data": {
      "text/plain": [
       "array([ 753.75647484, 2307.78018654, 3183.68909174, 1996.94212746,\n",
       "       2178.8086677 , 1502.18872004, 2107.15903382, 2498.7374734 ,\n",
       "       3149.05394401, 1981.42431111, 1895.94849147, 2361.2167922 ,\n",
       "       1434.17149438, 1214.08283704, 1259.10656107, 2204.70176327,\n",
       "       1918.1269137 , 1892.00344713, 1849.07503258, 2216.07841295,\n",
       "       2252.5009263 , 1422.55779644, 1629.72958117, 1772.72364135,\n",
       "       2103.27763772])"
      ]
     },
     "execution_count": 3,
     "metadata": {},
     "output_type": "execute_result"
    }
   ],
   "source": [
    "# Units sold where managers are using their \"optimal\" prices:\n",
    "demand_obs = A-b*p_obs+e1\n",
    "demand_obs"
   ]
  },
  {
   "cell_type": "code",
   "execution_count": 4,
   "metadata": {},
   "outputs": [],
   "source": [
    "df = pd.DataFrame(zip(demand_obs, p_obs))\n",
    "df.columns = ['demand', 'price']"
   ]
  },
  {
   "cell_type": "code",
   "execution_count": 5,
   "metadata": {},
   "outputs": [],
   "source": [
    "% matplotlib inline\n",
    "from matplotlib import pyplot as plt"
   ]
  },
  {
   "cell_type": "code",
   "execution_count": 6,
   "metadata": {
    "scrolled": true
   },
   "outputs": [
    {
     "data": {
      "text/html": [
       "<div>\n",
       "<style scoped>\n",
       "    .dataframe tbody tr th:only-of-type {\n",
       "        vertical-align: middle;\n",
       "    }\n",
       "\n",
       "    .dataframe tbody tr th {\n",
       "        vertical-align: top;\n",
       "    }\n",
       "\n",
       "    .dataframe thead th {\n",
       "        text-align: right;\n",
       "    }\n",
       "</style>\n",
       "<table border=\"1\" class=\"dataframe\">\n",
       "  <thead>\n",
       "    <tr style=\"text-align: right;\">\n",
       "      <th></th>\n",
       "      <th>demand</th>\n",
       "      <th>price</th>\n",
       "    </tr>\n",
       "  </thead>\n",
       "  <tbody>\n",
       "    <tr>\n",
       "      <th>0</th>\n",
       "      <td>753.756475</td>\n",
       "      <td>46.549112</td>\n",
       "    </tr>\n",
       "    <tr>\n",
       "      <th>1</th>\n",
       "      <td>2307.780187</td>\n",
       "      <td>41.965826</td>\n",
       "    </tr>\n",
       "    <tr>\n",
       "      <th>2</th>\n",
       "      <td>3183.689092</td>\n",
       "      <td>34.868592</td>\n",
       "    </tr>\n",
       "    <tr>\n",
       "      <th>3</th>\n",
       "      <td>1996.942127</td>\n",
       "      <td>37.869166</td>\n",
       "    </tr>\n",
       "    <tr>\n",
       "      <th>4</th>\n",
       "      <td>2178.808668</td>\n",
       "      <td>38.440621</td>\n",
       "    </tr>\n",
       "    <tr>\n",
       "      <th>5</th>\n",
       "      <td>1502.188720</td>\n",
       "      <td>40.866805</td>\n",
       "    </tr>\n",
       "    <tr>\n",
       "      <th>6</th>\n",
       "      <td>2107.159034</td>\n",
       "      <td>43.379874</td>\n",
       "    </tr>\n",
       "    <tr>\n",
       "      <th>7</th>\n",
       "      <td>2498.737473</td>\n",
       "      <td>32.277887</td>\n",
       "    </tr>\n",
       "    <tr>\n",
       "      <th>8</th>\n",
       "      <td>3149.053944</td>\n",
       "      <td>37.895550</td>\n",
       "    </tr>\n",
       "    <tr>\n",
       "      <th>9</th>\n",
       "      <td>1981.424311</td>\n",
       "      <td>42.456112</td>\n",
       "    </tr>\n",
       "    <tr>\n",
       "      <th>10</th>\n",
       "      <td>1895.948491</td>\n",
       "      <td>39.519755</td>\n",
       "    </tr>\n",
       "    <tr>\n",
       "      <th>11</th>\n",
       "      <td>2361.216792</td>\n",
       "      <td>38.981984</td>\n",
       "    </tr>\n",
       "    <tr>\n",
       "      <th>12</th>\n",
       "      <td>1434.171494</td>\n",
       "      <td>40.053990</td>\n",
       "    </tr>\n",
       "    <tr>\n",
       "      <th>13</th>\n",
       "      <td>1214.082837</td>\n",
       "      <td>42.467532</td>\n",
       "    </tr>\n",
       "    <tr>\n",
       "      <th>14</th>\n",
       "      <td>1259.106561</td>\n",
       "      <td>43.233443</td>\n",
       "    </tr>\n",
       "    <tr>\n",
       "      <th>15</th>\n",
       "      <td>2204.701763</td>\n",
       "      <td>41.009050</td>\n",
       "    </tr>\n",
       "    <tr>\n",
       "      <th>16</th>\n",
       "      <td>1918.126914</td>\n",
       "      <td>40.006104</td>\n",
       "    </tr>\n",
       "    <tr>\n",
       "      <th>17</th>\n",
       "      <td>1892.003447</td>\n",
       "      <td>44.542162</td>\n",
       "    </tr>\n",
       "    <tr>\n",
       "      <th>18</th>\n",
       "      <td>1849.075033</td>\n",
       "      <td>43.215481</td>\n",
       "    </tr>\n",
       "    <tr>\n",
       "      <th>19</th>\n",
       "      <td>2216.078413</td>\n",
       "      <td>36.830990</td>\n",
       "    </tr>\n",
       "    <tr>\n",
       "      <th>20</th>\n",
       "      <td>2252.500926</td>\n",
       "      <td>38.270872</td>\n",
       "    </tr>\n",
       "    <tr>\n",
       "      <th>21</th>\n",
       "      <td>1422.557796</td>\n",
       "      <td>40.742043</td>\n",
       "    </tr>\n",
       "    <tr>\n",
       "      <th>22</th>\n",
       "      <td>1629.729581</td>\n",
       "      <td>39.951907</td>\n",
       "    </tr>\n",
       "    <tr>\n",
       "      <th>23</th>\n",
       "      <td>1772.723641</td>\n",
       "      <td>37.356246</td>\n",
       "    </tr>\n",
       "    <tr>\n",
       "      <th>24</th>\n",
       "      <td>2103.277638</td>\n",
       "      <td>43.853049</td>\n",
       "    </tr>\n",
       "  </tbody>\n",
       "</table>\n",
       "</div>"
      ],
      "text/plain": [
       "         demand      price\n",
       "0    753.756475  46.549112\n",
       "1   2307.780187  41.965826\n",
       "2   3183.689092  34.868592\n",
       "3   1996.942127  37.869166\n",
       "4   2178.808668  38.440621\n",
       "5   1502.188720  40.866805\n",
       "6   2107.159034  43.379874\n",
       "7   2498.737473  32.277887\n",
       "8   3149.053944  37.895550\n",
       "9   1981.424311  42.456112\n",
       "10  1895.948491  39.519755\n",
       "11  2361.216792  38.981984\n",
       "12  1434.171494  40.053990\n",
       "13  1214.082837  42.467532\n",
       "14  1259.106561  43.233443\n",
       "15  2204.701763  41.009050\n",
       "16  1918.126914  40.006104\n",
       "17  1892.003447  44.542162\n",
       "18  1849.075033  43.215481\n",
       "19  2216.078413  36.830990\n",
       "20  2252.500926  38.270872\n",
       "21  1422.557796  40.742043\n",
       "22  1629.729581  39.951907\n",
       "23  1772.723641  37.356246\n",
       "24  2103.277638  43.853049"
      ]
     },
     "execution_count": 6,
     "metadata": {},
     "output_type": "execute_result"
    }
   ],
   "source": [
    "df"
   ]
  },
  {
   "cell_type": "code",
   "execution_count": 7,
   "metadata": {},
   "outputs": [
    {
     "data": {
      "text/plain": [
       "<matplotlib.collections.PathCollection at 0xc194e80>"
      ]
     },
     "execution_count": 7,
     "metadata": {},
     "output_type": "execute_result"
    },
    {
     "data": {
      "image/png": "[encoded data removed]",
      "text/plain": [
       "<matplotlib.figure.Figure at 0xc0a2e80>"
      ]
     },
     "metadata": {},
     "output_type": "display_data"
    }
   ],
   "source": [
    "plt.scatter(df.price,df.demand)"
   ]
  },
  {
   "cell_type": "markdown",
   "metadata": {},
   "source": [
    "### We estimate the demand equation below and show that regression result underestimates effect of price"
   ]
  },
  {
   "cell_type": "code",
   "execution_count": 8,
   "metadata": {},
   "outputs": [
    {
     "data": {
      "text/html": [
       "<table class=\"simpletable\">\n",
       "<caption>OLS Regression Results</caption>\n",
       "<tr>\n",
       "  <th>Dep. Variable:</th>         <td>demand</td>      <th>  R-squared:         </th> <td>   0.381</td>\n",
       "</tr>\n",
       "<tr>\n",
       "  <th>Model:</th>                   <td>OLS</td>       <th>  Adj. R-squared:    </th> <td>   0.354</td>\n",
       "</tr>\n",
       "<tr>\n",
       "  <th>Method:</th>             <td>Least Squares</td>  <th>  F-statistic:       </th> <td>   14.17</td>\n",
       "</tr>\n",
       "<tr>\n",
       "  <th>Date:</th>             <td>Wed, 04 Apr 2018</td> <th>  Prob (F-statistic):</th>  <td>0.00101</td>\n",
       "</tr>\n",
       "<tr>\n",
       "  <th>Time:</th>                 <td>15:02:34</td>     <th>  Log-Likelihood:    </th> <td> -186.66</td>\n",
       "</tr>\n",
       "<tr>\n",
       "  <th>No. Observations:</th>      <td>    25</td>      <th>  AIC:               </th> <td>   377.3</td>\n",
       "</tr>\n",
       "<tr>\n",
       "  <th>Df Residuals:</th>          <td>    23</td>      <th>  BIC:               </th> <td>   379.8</td>\n",
       "</tr>\n",
       "<tr>\n",
       "  <th>Df Model:</th>              <td>     1</td>      <th>                     </th>     <td> </td>   \n",
       "</tr>\n",
       "<tr>\n",
       "  <th>Covariance Type:</th>      <td>nonrobust</td>    <th>                     </th>     <td> </td>   \n",
       "</tr>\n",
       "</table>\n",
       "<table class=\"simpletable\">\n",
       "<tr>\n",
       "      <td></td>         <th>coef</th>     <th>std err</th>      <th>t</th>      <th>P>|t|</th>  <th>[0.025</th>    <th>0.975]</th>  \n",
       "</tr>\n",
       "<tr>\n",
       "  <th>Intercept</th> <td> 6227.5644</td> <td> 1136.068</td> <td>    5.482</td> <td> 0.000</td> <td> 3877.429</td> <td> 8577.700</td>\n",
       "</tr>\n",
       "<tr>\n",
       "  <th>price</th>     <td> -105.9049</td> <td>   28.130</td> <td>   -3.765</td> <td> 0.001</td> <td> -164.097</td> <td>  -47.713</td>\n",
       "</tr>\n",
       "</table>\n",
       "<table class=\"simpletable\">\n",
       "<tr>\n",
       "  <th>Omnibus:</th>       <td> 2.315</td> <th>  Durbin-Watson:     </th> <td>   2.004</td>\n",
       "</tr>\n",
       "<tr>\n",
       "  <th>Prob(Omnibus):</th> <td> 0.314</td> <th>  Jarque-Bera (JB):  </th> <td>   1.514</td>\n",
       "</tr>\n",
       "<tr>\n",
       "  <th>Skew:</th>          <td> 0.363</td> <th>  Prob(JB):          </th> <td>   0.469</td>\n",
       "</tr>\n",
       "<tr>\n",
       "  <th>Kurtosis:</th>      <td> 2.037</td> <th>  Cond. No.          </th> <td>    520.</td>\n",
       "</tr>\n",
       "</table>"
      ],
      "text/plain": [
       "<class 'statsmodels.iolib.summary.Summary'>\n",
       "\"\"\"\n",
       "                            OLS Regression Results                            \n",
       "==============================================================================\n",
       "Dep. Variable:                 demand   R-squared:                       0.381\n",
       "Model:                            OLS   Adj. R-squared:                  0.354\n",
       "Method:                 Least Squares   F-statistic:                     14.17\n",
       "Date:                Wed, 04 Apr 2018   Prob (F-statistic):            0.00101\n",
       "Time:                        15:02:34   Log-Likelihood:                -186.66\n",
       "No. Observations:                  25   AIC:                             377.3\n",
       "Df Residuals:                      23   BIC:                             379.8\n",
       "Df Model:                           1                                         \n",
       "Covariance Type:            nonrobust                                         \n",
       "==============================================================================\n",
       "                 coef    std err          t      P>|t|      [0.025      0.975]\n",
       "------------------------------------------------------------------------------\n",
       "Intercept   6227.5644   1136.068      5.482      0.000    3877.429    8577.700\n",
       "price       -105.9049     28.130     -3.765      0.001    -164.097     -47.713\n",
       "==============================================================================\n",
       "Omnibus:                        2.315   Durbin-Watson:                   2.004\n",
       "Prob(Omnibus):                  0.314   Jarque-Bera (JB):                1.514\n",
       "Skew:                           0.363   Prob(JB):                        0.469\n",
       "Kurtosis:                       2.037   Cond. No.                         520.\n",
       "==============================================================================\n",
       "\n",
       "Warnings:\n",
       "[1] Standard Errors assume that the covariance matrix of the errors is correctly specified.\n",
       "\"\"\""
      ]
     },
     "execution_count": 8,
     "metadata": {},
     "output_type": "execute_result"
    }
   ],
   "source": [
    "from statsmodels.formula import api as smf\n",
    "results = smf.ols(formula = 'demand ~ price',data =df).fit()\n",
    "results.summary()"
   ]
  },
  {
   "cell_type": "markdown",
   "metadata": {},
   "source": [
    "### Compare the above \"sophisticated manager\" to one that does experimental pricing, below"
   ]
  },
  {
   "cell_type": "code",
   "execution_count": 9,
   "metadata": {},
   "outputs": [
    {
     "data": {
      "text/plain": [
       "array([45, 46, 47, 32, 37, 44, 41, 45, 32, 31, 48, 33, 33, 32, 40, 49, 33,\n",
       "       42, 34, 31, 36, 35, 41, 45, 47])"
      ]
     },
     "execution_count": 9,
     "metadata": {},
     "output_type": "execute_result"
    }
   ],
   "source": [
    "# If we had run an experiment with random prices from 30 to 50:\n",
    "p_exper = np.random.randint(30, 50, 25)\n",
    "p_exper"
   ]
  },
  {
   "cell_type": "code",
   "execution_count": 10,
   "metadata": {},
   "outputs": [
    {
     "data": {
      "text/plain": [
       "array([1063.57892199, 1500.94544124,  757.40749337, 3170.77541783,\n",
       "       2466.93278162,  875.5496452 , 2583.13378447,  -45.68509531,\n",
       "       4328.16403187, 4272.6467077 ,  199.89940307, 3557.61365202,\n",
       "       2844.96958296, 3307.58923737, 1905.79521797,  606.51182453,\n",
       "       3319.34764179, 2400.43577535, 3692.17128755, 3382.27631358,\n",
       "       2706.67533004, 2570.9664632 , 1420.11092048,  243.97288023,\n",
       "       1473.88737206])"
      ]
     },
     "execution_count": 10,
     "metadata": {},
     "output_type": "execute_result"
    }
   ],
   "source": [
    "# Our realized demand would be:\n",
    "d_exper = A-b*p_exper+e1\n",
    "d_exper"
   ]
  },
  {
   "cell_type": "code",
   "execution_count": 11,
   "metadata": {},
   "outputs": [],
   "source": [
    "df2 = pd.DataFrame(zip(d_exper, p_exper))\n",
    "df2.columns = ['demand', 'price']"
   ]
  },
  {
   "cell_type": "code",
   "execution_count": 12,
   "metadata": {
    "scrolled": true
   },
   "outputs": [
    {
     "data": {
      "text/html": [
       "<div>\n",
       "<style scoped>\n",
       "    .dataframe tbody tr th:only-of-type {\n",
       "        vertical-align: middle;\n",
       "    }\n",
       "\n",
       "    .dataframe tbody tr th {\n",
       "        vertical-align: top;\n",
       "    }\n",
       "\n",
       "    .dataframe thead th {\n",
       "        text-align: right;\n",
       "    }\n",
       "</style>\n",
       "<table border=\"1\" class=\"dataframe\">\n",
       "  <thead>\n",
       "    <tr style=\"text-align: right;\">\n",
       "      <th></th>\n",
       "      <th>demand</th>\n",
       "      <th>price</th>\n",
       "    </tr>\n",
       "  </thead>\n",
       "  <tbody>\n",
       "    <tr>\n",
       "      <th>0</th>\n",
       "      <td>1063.578922</td>\n",
       "      <td>45</td>\n",
       "    </tr>\n",
       "    <tr>\n",
       "      <th>1</th>\n",
       "      <td>1500.945441</td>\n",
       "      <td>46</td>\n",
       "    </tr>\n",
       "    <tr>\n",
       "      <th>2</th>\n",
       "      <td>757.407493</td>\n",
       "      <td>47</td>\n",
       "    </tr>\n",
       "    <tr>\n",
       "      <th>3</th>\n",
       "      <td>3170.775418</td>\n",
       "      <td>32</td>\n",
       "    </tr>\n",
       "    <tr>\n",
       "      <th>4</th>\n",
       "      <td>2466.932782</td>\n",
       "      <td>37</td>\n",
       "    </tr>\n",
       "    <tr>\n",
       "      <th>5</th>\n",
       "      <td>875.549645</td>\n",
       "      <td>44</td>\n",
       "    </tr>\n",
       "    <tr>\n",
       "      <th>6</th>\n",
       "      <td>2583.133784</td>\n",
       "      <td>41</td>\n",
       "    </tr>\n",
       "    <tr>\n",
       "      <th>7</th>\n",
       "      <td>-45.685095</td>\n",
       "      <td>45</td>\n",
       "    </tr>\n",
       "    <tr>\n",
       "      <th>8</th>\n",
       "      <td>4328.164032</td>\n",
       "      <td>32</td>\n",
       "    </tr>\n",
       "    <tr>\n",
       "      <th>9</th>\n",
       "      <td>4272.646708</td>\n",
       "      <td>31</td>\n",
       "    </tr>\n",
       "    <tr>\n",
       "      <th>10</th>\n",
       "      <td>199.899403</td>\n",
       "      <td>48</td>\n",
       "    </tr>\n",
       "    <tr>\n",
       "      <th>11</th>\n",
       "      <td>3557.613652</td>\n",
       "      <td>33</td>\n",
       "    </tr>\n",
       "    <tr>\n",
       "      <th>12</th>\n",
       "      <td>2844.969583</td>\n",
       "      <td>33</td>\n",
       "    </tr>\n",
       "    <tr>\n",
       "      <th>13</th>\n",
       "      <td>3307.589237</td>\n",
       "      <td>32</td>\n",
       "    </tr>\n",
       "    <tr>\n",
       "      <th>14</th>\n",
       "      <td>1905.795218</td>\n",
       "      <td>40</td>\n",
       "    </tr>\n",
       "    <tr>\n",
       "      <th>15</th>\n",
       "      <td>606.511825</td>\n",
       "      <td>49</td>\n",
       "    </tr>\n",
       "    <tr>\n",
       "      <th>16</th>\n",
       "      <td>3319.347642</td>\n",
       "      <td>33</td>\n",
       "    </tr>\n",
       "    <tr>\n",
       "      <th>17</th>\n",
       "      <td>2400.435775</td>\n",
       "      <td>42</td>\n",
       "    </tr>\n",
       "    <tr>\n",
       "      <th>18</th>\n",
       "      <td>3692.171288</td>\n",
       "      <td>34</td>\n",
       "    </tr>\n",
       "    <tr>\n",
       "      <th>19</th>\n",
       "      <td>3382.276314</td>\n",
       "      <td>31</td>\n",
       "    </tr>\n",
       "    <tr>\n",
       "      <th>20</th>\n",
       "      <td>2706.675330</td>\n",
       "      <td>36</td>\n",
       "    </tr>\n",
       "    <tr>\n",
       "      <th>21</th>\n",
       "      <td>2570.966463</td>\n",
       "      <td>35</td>\n",
       "    </tr>\n",
       "    <tr>\n",
       "      <th>22</th>\n",
       "      <td>1420.110920</td>\n",
       "      <td>41</td>\n",
       "    </tr>\n",
       "    <tr>\n",
       "      <th>23</th>\n",
       "      <td>243.972880</td>\n",
       "      <td>45</td>\n",
       "    </tr>\n",
       "    <tr>\n",
       "      <th>24</th>\n",
       "      <td>1473.887372</td>\n",
       "      <td>47</td>\n",
       "    </tr>\n",
       "  </tbody>\n",
       "</table>\n",
       "</div>"
      ],
      "text/plain": [
       "         demand  price\n",
       "0   1063.578922     45\n",
       "1   1500.945441     46\n",
       "2    757.407493     47\n",
       "3   3170.775418     32\n",
       "4   2466.932782     37\n",
       "5    875.549645     44\n",
       "6   2583.133784     41\n",
       "7    -45.685095     45\n",
       "8   4328.164032     32\n",
       "9   4272.646708     31\n",
       "10   199.899403     48\n",
       "11  3557.613652     33\n",
       "12  2844.969583     33\n",
       "13  3307.589237     32\n",
       "14  1905.795218     40\n",
       "15   606.511825     49\n",
       "16  3319.347642     33\n",
       "17  2400.435775     42\n",
       "18  3692.171288     34\n",
       "19  3382.276314     31\n",
       "20  2706.675330     36\n",
       "21  2570.966463     35\n",
       "22  1420.110920     41\n",
       "23   243.972880     45\n",
       "24  1473.887372     47"
      ]
     },
     "execution_count": 12,
     "metadata": {},
     "output_type": "execute_result"
    }
   ],
   "source": [
    "df2"
   ]
  },
  {
   "cell_type": "code",
   "execution_count": 13,
   "metadata": {},
   "outputs": [
    {
     "data": {
      "text/plain": [
       "<matplotlib.collections.PathCollection at 0xc5f78d0>"
      ]
     },
     "execution_count": 13,
     "metadata": {},
     "output_type": "execute_result"
    },
    {
     "data": {
      "image/png": "[encoded data removed]",
      "text/plain": [
       "<matplotlib.figure.Figure at 0xc559160>"
      ]
     },
     "metadata": {},
     "output_type": "display_data"
    }
   ],
   "source": [
    "plt.scatter(df2.price,df2.demand)"
   ]
  },
  {
   "cell_type": "markdown",
   "metadata": {},
   "source": [
    "### The parameters estimated using experimental prices, below, are unbiased in expectation"
   ]
  },
  {
   "cell_type": "code",
   "execution_count": 14,
   "metadata": {},
   "outputs": [
    {
     "data": {
      "text/html": [
       "<table class=\"simpletable\">\n",
       "<caption>OLS Regression Results</caption>\n",
       "<tr>\n",
       "  <th>Dep. Variable:</th>         <td>demand</td>      <th>  R-squared:         </th> <td>   0.840</td>\n",
       "</tr>\n",
       "<tr>\n",
       "  <th>Model:</th>                   <td>OLS</td>       <th>  Adj. R-squared:    </th> <td>   0.833</td>\n",
       "</tr>\n",
       "<tr>\n",
       "  <th>Method:</th>             <td>Least Squares</td>  <th>  F-statistic:       </th> <td>   120.6</td>\n",
       "</tr>\n",
       "<tr>\n",
       "  <th>Date:</th>             <td>Wed, 04 Apr 2018</td> <th>  Prob (F-statistic):</th> <td>1.27e-10</td>\n",
       "</tr>\n",
       "<tr>\n",
       "  <th>Time:</th>                 <td>15:02:37</td>     <th>  Log-Likelihood:    </th> <td> -191.47</td>\n",
       "</tr>\n",
       "<tr>\n",
       "  <th>No. Observations:</th>      <td>    25</td>      <th>  AIC:               </th> <td>   386.9</td>\n",
       "</tr>\n",
       "<tr>\n",
       "  <th>Df Residuals:</th>          <td>    23</td>      <th>  BIC:               </th> <td>   389.4</td>\n",
       "</tr>\n",
       "<tr>\n",
       "  <th>Df Model:</th>              <td>     1</td>      <th>                     </th>     <td> </td>   \n",
       "</tr>\n",
       "<tr>\n",
       "  <th>Covariance Type:</th>      <td>nonrobust</td>    <th>                     </th>     <td> </td>   \n",
       "</tr>\n",
       "</table>\n",
       "<table class=\"simpletable\">\n",
       "<tr>\n",
       "      <td></td>         <th>coef</th>     <th>std err</th>      <th>t</th>      <th>P>|t|</th>  <th>[0.025</th>    <th>0.975]</th>  \n",
       "</tr>\n",
       "<tr>\n",
       "  <th>Intercept</th> <td> 9659.8393</td> <td>  689.142</td> <td>   14.017</td> <td> 0.000</td> <td> 8234.241</td> <td> 1.11e+04</td>\n",
       "</tr>\n",
       "<tr>\n",
       "  <th>price</th>     <td> -190.8992</td> <td>   17.385</td> <td>  -10.981</td> <td> 0.000</td> <td> -226.863</td> <td> -154.935</td>\n",
       "</tr>\n",
       "</table>\n",
       "<table class=\"simpletable\">\n",
       "<tr>\n",
       "  <th>Omnibus:</th>       <td> 0.456</td> <th>  Durbin-Watson:     </th> <td>   2.386</td>\n",
       "</tr>\n",
       "<tr>\n",
       "  <th>Prob(Omnibus):</th> <td> 0.796</td> <th>  Jarque-Bera (JB):  </th> <td>   0.560</td>\n",
       "</tr>\n",
       "<tr>\n",
       "  <th>Skew:</th>          <td>-0.013</td> <th>  Prob(JB):          </th> <td>   0.756</td>\n",
       "</tr>\n",
       "<tr>\n",
       "  <th>Kurtosis:</th>      <td> 2.267</td> <th>  Cond. No.          </th> <td>    256.</td>\n",
       "</tr>\n",
       "</table>"
      ],
      "text/plain": [
       "<class 'statsmodels.iolib.summary.Summary'>\n",
       "\"\"\"\n",
       "                            OLS Regression Results                            \n",
       "==============================================================================\n",
       "Dep. Variable:                 demand   R-squared:                       0.840\n",
       "Model:                            OLS   Adj. R-squared:                  0.833\n",
       "Method:                 Least Squares   F-statistic:                     120.6\n",
       "Date:                Wed, 04 Apr 2018   Prob (F-statistic):           1.27e-10\n",
       "Time:                        15:02:37   Log-Likelihood:                -191.47\n",
       "No. Observations:                  25   AIC:                             386.9\n",
       "Df Residuals:                      23   BIC:                             389.4\n",
       "Df Model:                           1                                         \n",
       "Covariance Type:            nonrobust                                         \n",
       "==============================================================================\n",
       "                 coef    std err          t      P>|t|      [0.025      0.975]\n",
       "------------------------------------------------------------------------------\n",
       "Intercept   9659.8393    689.142     14.017      0.000    8234.241    1.11e+04\n",
       "price       -190.8992     17.385    -10.981      0.000    -226.863    -154.935\n",
       "==============================================================================\n",
       "Omnibus:                        0.456   Durbin-Watson:                   2.386\n",
       "Prob(Omnibus):                  0.796   Jarque-Bera (JB):                0.560\n",
       "Skew:                          -0.013   Prob(JB):                        0.756\n",
       "Kurtosis:                       2.267   Cond. No.                         256.\n",
       "==============================================================================\n",
       "\n",
       "Warnings:\n",
       "[1] Standard Errors assume that the covariance matrix of the errors is correctly specified.\n",
       "\"\"\""
      ]
     },
     "execution_count": 14,
     "metadata": {},
     "output_type": "execute_result"
    }
   ],
   "source": [
    "results2 = smf.ols(formula = 'demand~price', data = df2).fit()\n",
    "results2.summary()"
   ]
  },
  {
   "cell_type": "markdown",
   "metadata": {},
   "source": [
    "## By experimenting with prices, rather than using somewhat optimal prices, we end up with a better dataset to infer the demand curve."
   ]
  },
  {
   "cell_type": "markdown",
   "metadata": {},
   "source": [
    "# So, endogeneity sucks, does that mean we can't use historical data?\n",
    "\n",
    "Not quite... the entire field of econometrics sprouted up to make causal inference using secondary data. There are basically the following ways to resolve endogeneity:\n",
    "\n",
    "1. Control for more stuff by collecting data on the unobservables (this usually isn't possible). \n",
    "\n",
    "2. Instrumental/restriction variables. These are variables that are correlated with the endogenous variable (here we have pricing) and uncorrelated with the error term / outcome variable (demand). This is the most common approach.\n",
    "\n",
    "3. Have a natural / quasi experiment of some kind. The idea here is to have an exogenous (opposite of endogenous) or outside \"shock\" to prices. For example, if there is a new government regulation that says prices have to be X. (this is the bulk of my research)"
   ]
  },
  {
   "cell_type": "markdown",
   "metadata": {},
   "source": [
    "## 1. Control for more stuff\n",
    "\n",
    "If the endogenous variable is correlated with an unobservable that we can collect data for, then it really isn't an endogeneity issue, but rather a data insufficiency issue. For example, if pricing varies based on day of week, then we just need to include variables for days of week in the regression model to control for that factor.\n",
    "\n",
    "There are fancier ways of doing this as well (see propensity score matching), but the basic idea is the same.\n",
    "\n",
    "### We'll simulate an example below\n",
    "\n",
    "Let $D(p) = A-b*p+s(\\text{weekend})$\n",
    "\n",
    "On the weekend, the demand is s units more at every price.\n",
    "\n",
    "Let's assume managers price doing the following:\n",
    "\n",
    "$p = 40+e_2+\\delta(\\text(weekend))$\n",
    "\n",
    "In other words, mangers on average charge \\$40 + some random error, but then adjust their prices by \\$ $\\delta$ on the weekends.\n"
   ]
  },
  {
   "cell_type": "code",
   "execution_count": 15,
   "metadata": {},
   "outputs": [],
   "source": [
    "np.random.seed(999)\n",
    "periods = 100\n",
    "A, b, s, c_m, c_f, delta = 150000, 200, 1500, 30, 2000, 20 # True demand and cost parameters\n",
    "weekend = np.random.randint(0,2, periods) # Weekend or not\n",
    "e1 = np.random.normal(0, 500, periods) # generate 25 random normals with std = 500\n",
    "e2 = np.random.normal(0, 3, periods) # generate 25 random normals with std = 3\n",
    "p_obs = 40+delta*weekend + e2\n",
    "d_obs = A-b*p_obs+s*weekend + e1\n",
    "\n",
    "df = pd.DataFrame(zip(*[weekend, p_obs, d_obs]))\n",
    "df.columns = ['weekend', 'price', 'demand']"
   ]
  },
  {
   "cell_type": "code",
   "execution_count": 16,
   "metadata": {},
   "outputs": [
    {
     "data": {
      "text/plain": [
       "<matplotlib.collections.PathCollection at 0xc8be6d8>"
      ]
     },
     "execution_count": 16,
     "metadata": {},
     "output_type": "execute_result"
    },
    {
     "data": {
      "image/png": "[encoded data removed]",
      "text/plain": [
       "<matplotlib.figure.Figure at 0xc7a9748>"
      ]
     },
     "metadata": {},
     "output_type": "display_data"
    }
   ],
   "source": [
    "plt.scatter(df.price, df.demand)"
   ]
  },
  {
   "cell_type": "code",
   "execution_count": 17,
   "metadata": {},
   "outputs": [
    {
     "data": {
      "text/html": [
       "<table class=\"simpletable\">\n",
       "<caption>OLS Regression Results</caption>\n",
       "<tr>\n",
       "  <th>Dep. Variable:</th>         <td>demand</td>      <th>  R-squared:         </th> <td>   0.854</td>\n",
       "</tr>\n",
       "<tr>\n",
       "  <th>Model:</th>                   <td>OLS</td>       <th>  Adj. R-squared:    </th> <td>   0.853</td>\n",
       "</tr>\n",
       "<tr>\n",
       "  <th>Method:</th>             <td>Least Squares</td>  <th>  F-statistic:       </th> <td>   574.3</td>\n",
       "</tr>\n",
       "<tr>\n",
       "  <th>Date:</th>             <td>Wed, 04 Apr 2018</td> <th>  Prob (F-statistic):</th> <td>9.08e-43</td>\n",
       "</tr>\n",
       "<tr>\n",
       "  <th>Time:</th>                 <td>15:02:39</td>     <th>  Log-Likelihood:    </th> <td> -769.85</td>\n",
       "</tr>\n",
       "<tr>\n",
       "  <th>No. Observations:</th>      <td>   100</td>      <th>  AIC:               </th> <td>   1544.</td>\n",
       "</tr>\n",
       "<tr>\n",
       "  <th>Df Residuals:</th>          <td>    98</td>      <th>  BIC:               </th> <td>   1549.</td>\n",
       "</tr>\n",
       "<tr>\n",
       "  <th>Df Model:</th>              <td>     1</td>      <th>                     </th>     <td> </td>   \n",
       "</tr>\n",
       "<tr>\n",
       "  <th>Covariance Type:</th>      <td>nonrobust</td>    <th>                     </th>     <td> </td>   \n",
       "</tr>\n",
       "</table>\n",
       "<table class=\"simpletable\">\n",
       "<tr>\n",
       "      <td></td>         <th>coef</th>     <th>std err</th>      <th>t</th>      <th>P>|t|</th>  <th>[0.025</th>    <th>0.975]</th>  \n",
       "</tr>\n",
       "<tr>\n",
       "  <th>Intercept</th> <td> 1.473e+05</td> <td>  267.526</td> <td>  550.494</td> <td> 0.000</td> <td> 1.47e+05</td> <td> 1.48e+05</td>\n",
       "</tr>\n",
       "<tr>\n",
       "  <th>price</th>     <td> -127.1674</td> <td>    5.306</td> <td>  -23.964</td> <td> 0.000</td> <td> -137.698</td> <td> -116.637</td>\n",
       "</tr>\n",
       "</table>\n",
       "<table class=\"simpletable\">\n",
       "<tr>\n",
       "  <th>Omnibus:</th>       <td> 0.488</td> <th>  Durbin-Watson:     </th> <td>   2.122</td>\n",
       "</tr>\n",
       "<tr>\n",
       "  <th>Prob(Omnibus):</th> <td> 0.783</td> <th>  Jarque-Bera (JB):  </th> <td>   0.245</td>\n",
       "</tr>\n",
       "<tr>\n",
       "  <th>Skew:</th>          <td> 0.115</td> <th>  Prob(JB):          </th> <td>   0.885</td>\n",
       "</tr>\n",
       "<tr>\n",
       "  <th>Kurtosis:</th>      <td> 3.079</td> <th>  Cond. No.          </th> <td>    250.</td>\n",
       "</tr>\n",
       "</table>"
      ],
      "text/plain": [
       "<class 'statsmodels.iolib.summary.Summary'>\n",
       "\"\"\"\n",
       "                            OLS Regression Results                            \n",
       "==============================================================================\n",
       "Dep. Variable:                 demand   R-squared:                       0.854\n",
       "Model:                            OLS   Adj. R-squared:                  0.853\n",
       "Method:                 Least Squares   F-statistic:                     574.3\n",
       "Date:                Wed, 04 Apr 2018   Prob (F-statistic):           9.08e-43\n",
       "Time:                        15:02:39   Log-Likelihood:                -769.85\n",
       "No. Observations:                 100   AIC:                             1544.\n",
       "Df Residuals:                      98   BIC:                             1549.\n",
       "Df Model:                           1                                         \n",
       "Covariance Type:            nonrobust                                         \n",
       "==============================================================================\n",
       "                 coef    std err          t      P>|t|      [0.025      0.975]\n",
       "------------------------------------------------------------------------------\n",
       "Intercept   1.473e+05    267.526    550.494      0.000    1.47e+05    1.48e+05\n",
       "price       -127.1674      5.306    -23.964      0.000    -137.698    -116.637\n",
       "==============================================================================\n",
       "Omnibus:                        0.488   Durbin-Watson:                   2.122\n",
       "Prob(Omnibus):                  0.783   Jarque-Bera (JB):                0.245\n",
       "Skew:                           0.115   Prob(JB):                        0.885\n",
       "Kurtosis:                       3.079   Cond. No.                         250.\n",
       "==============================================================================\n",
       "\n",
       "Warnings:\n",
       "[1] Standard Errors assume that the covariance matrix of the errors is correctly specified.\n",
       "\"\"\""
      ]
     },
     "execution_count": 17,
     "metadata": {},
     "output_type": "execute_result"
    }
   ],
   "source": [
    "# Let's run a regression assuming we didn't include the variable \"weekend\"\n",
    "results = smf.ols(formula = 'demand ~ price', data = df).fit()\n",
    "results.summary()"
   ]
  },
  {
   "cell_type": "markdown",
   "metadata": {},
   "source": [
    "### If we control for weekends, our parameters for the demand function now match the real parameters"
   ]
  },
  {
   "cell_type": "code",
   "execution_count": 18,
   "metadata": {},
   "outputs": [
    {
     "data": {
      "text/html": [
       "<table class=\"simpletable\">\n",
       "<caption>OLS Regression Results</caption>\n",
       "<tr>\n",
       "  <th>Dep. Variable:</th>         <td>demand</td>      <th>  R-squared:         </th> <td>   0.892</td>\n",
       "</tr>\n",
       "<tr>\n",
       "  <th>Model:</th>                   <td>OLS</td>       <th>  Adj. R-squared:    </th> <td>   0.890</td>\n",
       "</tr>\n",
       "<tr>\n",
       "  <th>Method:</th>             <td>Least Squares</td>  <th>  F-statistic:       </th> <td>   399.5</td>\n",
       "</tr>\n",
       "<tr>\n",
       "  <th>Date:</th>             <td>Wed, 04 Apr 2018</td> <th>  Prob (F-statistic):</th> <td>1.48e-47</td>\n",
       "</tr>\n",
       "<tr>\n",
       "  <th>Time:</th>                 <td>15:02:40</td>     <th>  Log-Likelihood:    </th> <td> -754.98</td>\n",
       "</tr>\n",
       "<tr>\n",
       "  <th>No. Observations:</th>      <td>   100</td>      <th>  AIC:               </th> <td>   1516.</td>\n",
       "</tr>\n",
       "<tr>\n",
       "  <th>Df Residuals:</th>          <td>    97</td>      <th>  BIC:               </th> <td>   1524.</td>\n",
       "</tr>\n",
       "<tr>\n",
       "  <th>Df Model:</th>              <td>     2</td>      <th>                     </th>     <td> </td>   \n",
       "</tr>\n",
       "<tr>\n",
       "  <th>Covariance Type:</th>      <td>nonrobust</td>    <th>                     </th>     <td> </td>   \n",
       "</tr>\n",
       "</table>\n",
       "<table class=\"simpletable\">\n",
       "<tr>\n",
       "      <td></td>         <th>coef</th>     <th>std err</th>      <th>t</th>      <th>P>|t|</th>  <th>[0.025</th>    <th>0.975]</th>  \n",
       "</tr>\n",
       "<tr>\n",
       "  <th>Intercept</th> <td> 1.507e+05</td> <td>  634.632</td> <td>  237.455</td> <td> 0.000</td> <td> 1.49e+05</td> <td> 1.52e+05</td>\n",
       "</tr>\n",
       "<tr>\n",
       "  <th>price</th>     <td> -215.5104</td> <td>   15.916</td> <td>  -13.540</td> <td> 0.000</td> <td> -247.100</td> <td> -183.921</td>\n",
       "</tr>\n",
       "<tr>\n",
       "  <th>weekend</th>   <td> 1874.5183</td> <td>  323.333</td> <td>    5.797</td> <td> 0.000</td> <td> 1232.792</td> <td> 2516.245</td>\n",
       "</tr>\n",
       "</table>\n",
       "<table class=\"simpletable\">\n",
       "<tr>\n",
       "  <th>Omnibus:</th>       <td> 2.016</td> <th>  Durbin-Watson:     </th> <td>   2.057</td>\n",
       "</tr>\n",
       "<tr>\n",
       "  <th>Prob(Omnibus):</th> <td> 0.365</td> <th>  Jarque-Bera (JB):  </th> <td>   1.469</td>\n",
       "</tr>\n",
       "<tr>\n",
       "  <th>Skew:</th>          <td> 0.057</td> <th>  Prob(JB):          </th> <td>   0.480</td>\n",
       "</tr>\n",
       "<tr>\n",
       "  <th>Kurtosis:</th>      <td> 2.417</td> <th>  Cond. No.          </th> <td>    761.</td>\n",
       "</tr>\n",
       "</table>"
      ],
      "text/plain": [
       "<class 'statsmodels.iolib.summary.Summary'>\n",
       "\"\"\"\n",
       "                            OLS Regression Results                            \n",
       "==============================================================================\n",
       "Dep. Variable:                 demand   R-squared:                       0.892\n",
       "Model:                            OLS   Adj. R-squared:                  0.890\n",
       "Method:                 Least Squares   F-statistic:                     399.5\n",
       "Date:                Wed, 04 Apr 2018   Prob (F-statistic):           1.48e-47\n",
       "Time:                        15:02:40   Log-Likelihood:                -754.98\n",
       "No. Observations:                 100   AIC:                             1516.\n",
       "Df Residuals:                      97   BIC:                             1524.\n",
       "Df Model:                           2                                         \n",
       "Covariance Type:            nonrobust                                         \n",
       "==============================================================================\n",
       "                 coef    std err          t      P>|t|      [0.025      0.975]\n",
       "------------------------------------------------------------------------------\n",
       "Intercept   1.507e+05    634.632    237.455      0.000    1.49e+05    1.52e+05\n",
       "price       -215.5104     15.916    -13.540      0.000    -247.100    -183.921\n",
       "weekend     1874.5183    323.333      5.797      0.000    1232.792    2516.245\n",
       "==============================================================================\n",
       "Omnibus:                        2.016   Durbin-Watson:                   2.057\n",
       "Prob(Omnibus):                  0.365   Jarque-Bera (JB):                1.469\n",
       "Skew:                           0.057   Prob(JB):                        0.480\n",
       "Kurtosis:                       2.417   Cond. No.                         761.\n",
       "==============================================================================\n",
       "\n",
       "Warnings:\n",
       "[1] Standard Errors assume that the covariance matrix of the errors is correctly specified.\n",
       "\"\"\""
      ]
     },
     "execution_count": 18,
     "metadata": {},
     "output_type": "execute_result"
    }
   ],
   "source": [
    "# Let's run a regression with weekend\n",
    "results2 = smf.ols(formula = 'demand ~ price+weekend', data = df).fit()\n",
    "results2.summary()"
   ]
  },
  {
   "cell_type": "code",
   "execution_count": 19,
   "metadata": {},
   "outputs": [
    {
     "data": {
      "text/plain": [
       "<matplotlib.legend.Legend at 0xcfaceb8>"
      ]
     },
     "execution_count": 19,
     "metadata": {},
     "output_type": "execute_result"
    },
    {
     "data": {
      "image/png": "[encoded data removed]",
      "text/plain": [
       "<matplotlib.figure.Figure at 0xc8d75c0>"
      ]
     },
     "metadata": {},
     "output_type": "display_data"
    }
   ],
   "source": [
    "df['demand_pred_0'] = df.price*results.params['price']+results.params['Intercept']\n",
    "df['demand_pred_1'] = df.price*results2.params['price']+df.weekend*results2.params['weekend']+results2.params['Intercept']\n",
    "\n",
    "plt.figure(figsize = (12,8))\n",
    "plt.scatter(df.price, df.demand)\n",
    "plt.plot(df.price, df.demand_pred_0)\n",
    "plt.plot(df[df.weekend == 0].price, df[df.weekend==0].demand_pred_1)\n",
    "plt.plot(df[df.weekend == 1].price, df[df.weekend==1].demand_pred_1)\n",
    "plt.legend(['Predicted no weekend', 'Predicted weekend (weekday)', 'Predicted weekend (weekend)'], loc = 1)"
   ]
  },
  {
   "cell_type": "markdown",
   "metadata": {},
   "source": [
    "## 2. Instrumental Variables\n",
    "\n",
    "Instrumental variables satisify the following 2 conditions.\n",
    "\n",
    "1. They are correlated with the endogenous variable, controlling for everything else, i.e. they are predictive of the endogenous variable.\n",
    "2. They are uncorrelated with the outcome variable, controlling for everything else, i.e. they are not predictive of the dependent variable.\n",
    "\n",
    "Note that these are sometimes called restriction variables because their correlation is restricted to the effect on the endogenous variable.\n",
    "\n",
    "The intuition is this. If something only affects price, then we can use variations in that \"something\" to map out the demand curve.\n",
    "\n",
    "The difference between this and the previous weekend example is that weekends are correlated with price and demand. Instrumental variables should only enter the manager's pricing decision and not the demand equation.\n",
    "\n",
    "The power of using instruments is that if you have a really good instrument (highly impacts price, does not impact demand), then it does not matter if price is also strategically determined by true unobservables (the demand shocks), you can still get unbiased estimates of the demand curve parameters. \n",
    "\n",
    "#### What are some common instruments for prices? \n",
    "\n",
    "1. Costs - costs are often assumed not to affect demand directly (only through price), but they definitely affect price. In particular, marginal costs (since they affect optimal price, $p^*$). Costs are probably the best instrument.\n",
    "\n",
    "2. Prices of same goods in other markets. With some goods, this may be an appropriate choice of instrument, though the argument is typically weak.\n",
    "\n",
    "### Ok, so how do we use instrumental variables?\n",
    "\n",
    "Conceptually, let's say we have an endogenous equation we want to estimate.\n",
    "$$y=\\beta_0+\\beta_1x_1+\\beta_2x_2+...+e$$\n",
    "\n",
    "Let's say $x_1$ is endogenous. This means we need to find at least one instrument $z_i$ that is correlated with $x_1$ but uncorrelated with $e$. Then, we do the following 2 step regression:\n",
    "\n",
    "1. $x_1=\\alpha_0+\\alpha_2 x_2+\\alpha_3 x_3+...+\\delta_1z_1+\\delta_2z_2+...+e$\n",
    "\n",
    "    a. We can use this regression to compute $\\hat{x_1}$, the predicted value of $x_1$ from equation 1. We then run the following regression.\n",
    "\n",
    "2. $y=\\beta_0+\\beta_1\\hat{x_1}+\\beta_2x_2+...+e$\n",
    "\n",
    "In practice, this can all be done in one step. We'll ignore the derivation of the estimator as it requires some linear algebra. However, this is a common method that has been built into statsmodels.\n",
    "\n",
    "## We demonstrate the 2SLS estimation below on simulated data\n",
    "\n",
    "We let demand be:\n",
    "$$D(p)=A-bp+e_1$$\n",
    "\n",
    "\n",
    "$$P=\\frac{A+e_1+bc_m}{2b}+e_2$$\n",
    "\n",
    "\n",
    "$$c_m = \\bar{c}_m+e_3$$\n"
   ]
  },
  {
   "cell_type": "code",
   "execution_count": 20,
   "metadata": {},
   "outputs": [
    {
     "name": "stderr",
     "output_type": "stream",
     "text": [
      "C:\\Users\\Yang\\Anaconda2\\lib\\site-packages\\statsmodels\\compat\\pandas.py:56: FutureWarning: The pandas.core.datetools module is deprecated and will be removed in a future version. Please use the pandas.tseries module instead.\n",
      "  from pandas.core import datetools\n"
     ]
    }
   ],
   "source": [
    "np.random.seed(1000)\n",
    "from statsmodels.sandbox.regression.gmm import IV2SLS # import 2SLS estimator\n",
    "periods = 100\n",
    "A, b, c_m_bar, c_f = 10000, 200, 30, 2000 # True demand and cost parameters\n",
    "e1 = np.random.normal(0, 500, periods) # generate random normals with std = 500 Demand errors\n",
    "e2 = np.random.normal(0, 3, periods) # generate random normals with std = 3 Pricing errors\n",
    "e3 = np.random.normal(0, 7, periods) # generate random normals with std = 8 Cost errors\n",
    "c_m = c_m_bar+e3\n",
    "p_obs = (A+e1+b*c_m)/(2*b)+e2\n",
    "d_obs = A-b*p_obs+ e1\n",
    "df = pd.DataFrame(zip(p_obs,d_obs, c_m))\n",
    "df.columns = ['price', 'demand', 'cost']"
   ]
  },
  {
   "cell_type": "code",
   "execution_count": 21,
   "metadata": {},
   "outputs": [
    {
     "data": {
      "text/plain": [
       "<matplotlib.collections.PathCollection at 0xd110b38>"
      ]
     },
     "execution_count": 21,
     "metadata": {},
     "output_type": "execute_result"
    },
    {
     "data": {
      "image/png": "[encoded data removed]",
      "text/plain": [
       "<matplotlib.figure.Figure at 0xc9df7b8>"
      ]
     },
     "metadata": {},
     "output_type": "display_data"
    }
   ],
   "source": [
    "plt.scatter(df.price, df.demand)"
   ]
  },
  {
   "cell_type": "markdown",
   "metadata": {},
   "source": [
    "#### OLS results below are biased"
   ]
  },
  {
   "cell_type": "code",
   "execution_count": 22,
   "metadata": {},
   "outputs": [
    {
     "data": {
      "text/html": [
       "<table class=\"simpletable\">\n",
       "<caption>OLS Regression Results</caption>\n",
       "<tr>\n",
       "  <th>Dep. Variable:</th>         <td>demand</td>      <th>  R-squared:         </th> <td>   0.734</td>\n",
       "</tr>\n",
       "<tr>\n",
       "  <th>Model:</th>                   <td>OLS</td>       <th>  Adj. R-squared:    </th> <td>   0.731</td>\n",
       "</tr>\n",
       "<tr>\n",
       "  <th>Method:</th>             <td>Least Squares</td>  <th>  F-statistic:       </th> <td>   270.0</td>\n",
       "</tr>\n",
       "<tr>\n",
       "  <th>Date:</th>             <td>Wed, 04 Apr 2018</td> <th>  Prob (F-statistic):</th> <td>6.56e-30</td>\n",
       "</tr>\n",
       "<tr>\n",
       "  <th>Time:</th>                 <td>15:02:42</td>     <th>  Log-Likelihood:    </th> <td> -762.13</td>\n",
       "</tr>\n",
       "<tr>\n",
       "  <th>No. Observations:</th>      <td>   100</td>      <th>  AIC:               </th> <td>   1528.</td>\n",
       "</tr>\n",
       "<tr>\n",
       "  <th>Df Residuals:</th>          <td>    98</td>      <th>  BIC:               </th> <td>   1533.</td>\n",
       "</tr>\n",
       "<tr>\n",
       "  <th>Df Model:</th>              <td>     1</td>      <th>                     </th>     <td> </td>   \n",
       "</tr>\n",
       "<tr>\n",
       "  <th>Covariance Type:</th>      <td>nonrobust</td>    <th>                     </th>     <td> </td>   \n",
       "</tr>\n",
       "</table>\n",
       "<table class=\"simpletable\">\n",
       "<tr>\n",
       "      <td></td>         <th>coef</th>     <th>std err</th>      <th>t</th>      <th>P>|t|</th>  <th>[0.025</th>    <th>0.975]</th>  \n",
       "</tr>\n",
       "<tr>\n",
       "  <th>Intercept</th> <td> 8618.2412</td> <td>  391.230</td> <td>   22.029</td> <td> 0.000</td> <td> 7841.858</td> <td> 9394.624</td>\n",
       "</tr>\n",
       "<tr>\n",
       "  <th>price</th>     <td> -163.7741</td> <td>    9.968</td> <td>  -16.430</td> <td> 0.000</td> <td> -183.555</td> <td> -143.993</td>\n",
       "</tr>\n",
       "</table>\n",
       "<table class=\"simpletable\">\n",
       "<tr>\n",
       "  <th>Omnibus:</th>       <td> 0.494</td> <th>  Durbin-Watson:     </th> <td>   2.162</td>\n",
       "</tr>\n",
       "<tr>\n",
       "  <th>Prob(Omnibus):</th> <td> 0.781</td> <th>  Jarque-Bera (JB):  </th> <td>   0.494</td>\n",
       "</tr>\n",
       "<tr>\n",
       "  <th>Skew:</th>          <td> 0.162</td> <th>  Prob(JB):          </th> <td>   0.781</td>\n",
       "</tr>\n",
       "<tr>\n",
       "  <th>Kurtosis:</th>      <td> 2.885</td> <th>  Cond. No.          </th> <td>    308.</td>\n",
       "</tr>\n",
       "</table>"
      ],
      "text/plain": [
       "<class 'statsmodels.iolib.summary.Summary'>\n",
       "\"\"\"\n",
       "                            OLS Regression Results                            \n",
       "==============================================================================\n",
       "Dep. Variable:                 demand   R-squared:                       0.734\n",
       "Model:                            OLS   Adj. R-squared:                  0.731\n",
       "Method:                 Least Squares   F-statistic:                     270.0\n",
       "Date:                Wed, 04 Apr 2018   Prob (F-statistic):           6.56e-30\n",
       "Time:                        15:02:42   Log-Likelihood:                -762.13\n",
       "No. Observations:                 100   AIC:                             1528.\n",
       "Df Residuals:                      98   BIC:                             1533.\n",
       "Df Model:                           1                                         \n",
       "Covariance Type:            nonrobust                                         \n",
       "==============================================================================\n",
       "                 coef    std err          t      P>|t|      [0.025      0.975]\n",
       "------------------------------------------------------------------------------\n",
       "Intercept   8618.2412    391.230     22.029      0.000    7841.858    9394.624\n",
       "price       -163.7741      9.968    -16.430      0.000    -183.555    -143.993\n",
       "==============================================================================\n",
       "Omnibus:                        0.494   Durbin-Watson:                   2.162\n",
       "Prob(Omnibus):                  0.781   Jarque-Bera (JB):                0.494\n",
       "Skew:                           0.162   Prob(JB):                        0.781\n",
       "Kurtosis:                       2.885   Cond. No.                         308.\n",
       "==============================================================================\n",
       "\n",
       "Warnings:\n",
       "[1] Standard Errors assume that the covariance matrix of the errors is correctly specified.\n",
       "\"\"\""
      ]
     },
     "execution_count": 22,
     "metadata": {},
     "output_type": "execute_result"
    }
   ],
   "source": [
    "results = smf.ols(formula = 'demand~price', data = df).fit()\n",
    "results.summary()"
   ]
  },
  {
   "cell_type": "markdown",
   "metadata": {},
   "source": [
    "#### Run the IVRegression"
   ]
  },
  {
   "cell_type": "code",
   "execution_count": 23,
   "metadata": {},
   "outputs": [
    {
     "data": {
      "text/html": [
       "<table class=\"simpletable\">\n",
       "<caption>IV2SLS Regression Results</caption>\n",
       "<tr>\n",
       "  <th>Dep. Variable:</th>         <td>demand</td>      <th>  R-squared:         </th> <td>   0.707</td>\n",
       "</tr>\n",
       "<tr>\n",
       "  <th>Model:</th>                 <td>IV2SLS</td>      <th>  Adj. R-squared:    </th> <td>   0.704</td>\n",
       "</tr>\n",
       "<tr>\n",
       "  <th>Method:</th>               <td>Two Stage</td>    <th>  F-statistic:       </th> <td>   202.0</td>\n",
       "</tr>\n",
       "<tr>\n",
       "  <th></th>                    <td>Least Squares</td>  <th>  Prob (F-statistic):</th> <td>1.51e-25</td>\n",
       "</tr>\n",
       "<tr>\n",
       "  <th>Date:</th>             <td>Wed, 04 Apr 2018</td> <th>                     </th>     <td> </td>   \n",
       "</tr>\n",
       "<tr>\n",
       "  <th>Time:</th>                 <td>15:02:44</td>     <th>                     </th>     <td> </td>   \n",
       "</tr>\n",
       "<tr>\n",
       "  <th>No. Observations:</th>      <td>   100</td>      <th>                     </th>     <td> </td>   \n",
       "</tr>\n",
       "<tr>\n",
       "  <th>Df Residuals:</th>          <td>    98</td>      <th>                     </th>     <td> </td>   \n",
       "</tr>\n",
       "<tr>\n",
       "  <th>Df Model:</th>              <td>     1</td>      <th>                     </th>     <td> </td>   \n",
       "</tr>\n",
       "</table>\n",
       "<table class=\"simpletable\">\n",
       "<tr>\n",
       "    <td></td>       <th>coef</th>     <th>std err</th>      <th>t</th>      <th>P>|t|</th>  <th>[0.025</th>    <th>0.975]</th>  \n",
       "</tr>\n",
       "<tr>\n",
       "  <th>const</th> <td> 9841.1232</td> <td>  537.143</td> <td>   18.321</td> <td> 0.000</td> <td> 8775.180</td> <td> 1.09e+04</td>\n",
       "</tr>\n",
       "<tr>\n",
       "  <th>price</th> <td> -195.1874</td> <td>   13.732</td> <td>  -14.214</td> <td> 0.000</td> <td> -222.439</td> <td> -167.936</td>\n",
       "</tr>\n",
       "</table>\n",
       "<table class=\"simpletable\">\n",
       "<tr>\n",
       "  <th>Omnibus:</th>       <td> 1.240</td> <th>  Durbin-Watson:     </th> <td>   2.141</td>\n",
       "</tr>\n",
       "<tr>\n",
       "  <th>Prob(Omnibus):</th> <td> 0.538</td> <th>  Jarque-Bera (JB):  </th> <td>   0.925</td>\n",
       "</tr>\n",
       "<tr>\n",
       "  <th>Skew:</th>          <td> 0.232</td> <th>  Prob(JB):          </th> <td>   0.630</td>\n",
       "</tr>\n",
       "<tr>\n",
       "  <th>Kurtosis:</th>      <td> 3.082</td> <th>  Cond. No.          </th> <td>    308.</td>\n",
       "</tr>\n",
       "</table>"
      ],
      "text/plain": [
       "<class 'statsmodels.iolib.summary.Summary'>\n",
       "\"\"\"\n",
       "                          IV2SLS Regression Results                           \n",
       "==============================================================================\n",
       "Dep. Variable:                 demand   R-squared:                       0.707\n",
       "Model:                         IV2SLS   Adj. R-squared:                  0.704\n",
       "Method:                     Two Stage   F-statistic:                     202.0\n",
       "                        Least Squares   Prob (F-statistic):           1.51e-25\n",
       "Date:                Wed, 04 Apr 2018                                         \n",
       "Time:                        15:02:44                                         \n",
       "No. Observations:                 100                                         \n",
       "Df Residuals:                      98                                         \n",
       "Df Model:                           1                                         \n",
       "==============================================================================\n",
       "                 coef    std err          t      P>|t|      [0.025      0.975]\n",
       "------------------------------------------------------------------------------\n",
       "const       9841.1232    537.143     18.321      0.000    8775.180    1.09e+04\n",
       "price       -195.1874     13.732    -14.214      0.000    -222.439    -167.936\n",
       "==============================================================================\n",
       "Omnibus:                        1.240   Durbin-Watson:                   2.141\n",
       "Prob(Omnibus):                  0.538   Jarque-Bera (JB):                0.925\n",
       "Skew:                           0.232   Prob(JB):                        0.630\n",
       "Kurtosis:                       3.082   Cond. No.                         308.\n",
       "==============================================================================\n",
       "\"\"\""
      ]
     },
     "execution_count": 23,
     "metadata": {},
     "output_type": "execute_result"
    }
   ],
   "source": [
    "import statsmodels.api as sm\n",
    "results = IV2SLS(df.demand, sm.add_constant(df['price']), instrument=sm.add_constant(df.cost)).fit()\n",
    "results.summary()"
   ]
  },
  {
   "cell_type": "markdown",
   "metadata": {},
   "source": [
    "### Think about some instruments for the following relationships\n",
    "\n",
    "Remember, an instrument should affect the endogenous RHS variable but not the LHS outcome. First, what is the source of the endogeneity problem? Second, what are some potential instruments?\n",
    "\n",
    "1. [The effect of the number of police officers on the amount of crime](http://pricetheory.uchicago.edu/levitt/Papers/LevittUsingElectoralCycles1997.pdf). \n",
    "2. The effect of number of customer service representatives on customer satisfaction.\n",
    "3. The compensation scheme of an employee and the employee's performance.\n",
    "4. The effect of advertisement spending on sales\n",
    "5. [The effect of online reviews on sales](http://pubsonline.informs.org/doi/abs/10.1287/mksc.1100.0572)"
   ]
  },
  {
   "cell_type": "markdown",
   "metadata": {},
   "source": [
    "# 3. Natural/Quasi Experiments\n",
    "\n",
    "While it is nice to be able to run purposely designed experiments, it is usually not possible. Instead, looking for naturally occurring \"experiments\" (or other wise exogenous variation in endogenous variables) could be a worthwhile strategy.\n",
    "\n",
    "The most classic example of this is Card & Kruger's seminal paper on the effect of minimum wage increase on unemployment to estimate the wage elasticity of employment. In this study, they took advantage of the change in minimum wage laws in New Jersey to study the change in employment for towns on the border of NJ and PA. In this setting, it is assumed that the minimum wage law is an exogenous change to the price of labor in NJ (although it may be argued that the law was endogenously passed - i.e. it was able to be passed because demand for labor was anticipated to be higher). By comparing the change in employment before and after the new minimum wage law is enacted in towns on the NJ side versus the change in employment around the matching time periods in towns on the PA side, the researchers are able to resolve the endogenous relationship between price of labor and employment.\n",
    "\n",
    "This leads to the most widely used \"identification\" strategy in a natural experiment setting:\n",
    "\n",
    "## Difference in Differences (for program evaluation)\n",
    "\n",
    "The identification strategy discussed above is often used in program evaluation, for example evaluating the effect of implementing some new strategy like advertising.\n",
    "\n",
    "Assume the following hypothetical example.\n",
    "\n",
    "A company sells the same product on 2 websites. One website allows managers to bid on the search rank, so that their product comes up first. THe other website does not allow this. \n",
    "\n",
    "Let's also assume that managers only bid on ad space when they expect demand to be high.\n",
    "\n",
    "Let's assume that some consumers will buy whichever link comes up first, therefore there is a fixed effect of the advertisement on demand at every price. Furthermore, assume that prices are fixed across sites, i.e. this is an industry where prices are relatively sticky.\n",
    "\n",
    "Additionally, let's say there are predictable product demand variations, $e$, and unpredictable site-specific product demand variations, $e_1$. This is like assuming that managers know when they expect spikes in demand, but do not anticipate site-specific fluctuations in demand.\n",
    "\n",
    "**Finally, let's assume managers decide to purchase the top search rank when they anticipate the common demand variation $e$ is high, i.e. $e>e^*>0$.**\n",
    "\n",
    "$$ D_1 = A_1-b_1p+\\delta Ad +e+e_1$$\n",
    "\n",
    "In other words, we can write the demand with and without ad in website 1 as 2 equations:\n",
    "\n",
    "$$ D_1^{\\text{ad}} = A_1-b_1p+\\delta+e_{\\text{ad}}+e_1 $$\n",
    "\n",
    "$$ D_1^{\\text{no ad}} = A_1-b_1p+e_{\\text{no ad}}+e_1 $$\n",
    "\n",
    "The difference between the 2 is below, where $E$ is the expectation operator (think \"on average\"). We need expectations because we have random shocks in the expression:\n",
    "\n",
    "$$E[\\Delta D_1] = E[D_1^{\\text{ad}}-D_1^{\\text{no ad}}]$$ \n",
    "\n",
    "$$E[\\Delta D_1] = A_1-b_1p+\\delta+e_{\\text{ad}}+e_1 - (A_1-b_1p+e_{\\text{no ad}}+e_1)$$ \n",
    "\n",
    "$$E[\\Delta D_1] = E[\\delta+e_{\\text{ad}}+e_1 -(e_{\\text{no ad}}+e_1)]$$\n",
    "\n",
    "$$E[\\Delta D_1] = \\delta+E[e_{\\text{ad}} -e_{\\text{no ad}}]+E[e_1-e_1]$$\n",
    "\n",
    "$$E[\\Delta D_1] = \\delta+E[e_{\\text{ad}} -e_{\\text{no ad}}]$$\n",
    "\n",
    "First, if prices are the same with and without ads, which we assume to be the case, then the change in demand due to the ad is not dependent on price. However, the effect of the ad, $\\delta$, will be exaggerated if we only look at the difference in average demand when ads are shown versus when they are not, this is because the common errors that managers can somehow predict are higher when there are ads than when there are not - this is our $e>e^*>0$ assumption, the assumption that managers try to advertise when demand is high. Since $E[e_{\\text{ad}} -e_{\\text{no ad}}]>0$, our naive estimate of the effect of advertisement is biased (**due to endogeneity**).\n",
    "\n",
    "\n",
    "Now, let's look at the difference of demand on the second website for the days when the manager advertises on the first site versus the days where there is no advertisement.\n",
    "\n",
    "$$ D_2^{\\text{ad}} = A_2-b_2p+e_{\\text{ad}}+e_1 $$\n",
    "\n",
    "$$ D_2^{\\text{no ad}} = A_2-b_2p+e_{\\text{no ad}}+e_1 $$\n",
    "\n",
    "$$E[\\Delta D_2] = E[D_2^{\\text{ad}}-D_2^{\\text{no ad}}]$$\n",
    "\n",
    "$$E[\\Delta D_2] = E[A_2-b_2p+e_{\\text{ad}}+e_1-(A_2-b_2p+e_{\\text{no ad}}+e_1)]$$\n",
    "\n",
    "$$E[\\Delta D_2] = E[e_{\\text{ad}}-e_{\\text{no ad}}]$$\n",
    "\n",
    "Finally, the difference in differences between the ad and no ad sales on each website is:\n",
    "\n",
    "$$\\text{Diff-in-Diff} = E[\\Delta D_1]-E[\\Delta D_2] = \\delta+E[e_{\\text{ad}} -e_{\\text{no ad}}] - E[e_{\\text{ad}}-e_{\\text{no ad}}]$$\n",
    "\n",
    "$$\\text{Diff-in-Diff} = \\delta $$\n",
    "\n",
    "We simulate an example of this below where $\\delta = 100, A_1=10000, b_1=200, A_2=7000, b_2 = 150$\n",
    "\n",
    "Let's say that managers only advertise when demand is expected to be in the top 70% of all days, i.e. $Pr(e>e*)>.7$ where $e\\sim N(0,Sd_c)$. Let $Sd_c=300$.\n",
    "\n",
    "The corresponding $e*$, the cutoff, is $N(0,Sd_c)^{-1}(.7) = 157.32$"
   ]
  },
  {
   "cell_type": "code",
   "execution_count": 24,
   "metadata": {},
   "outputs": [],
   "source": [
    "np.random.seed(999)"
   ]
  },
  {
   "cell_type": "code",
   "execution_count": 25,
   "metadata": {},
   "outputs": [
    {
     "name": "stdout",
     "output_type": "stream",
     "text": [
      "157.3201538124122\n"
     ]
    }
   ],
   "source": [
    "Sd_c,Sd_1,Sd_2 = 300,100,100\n",
    "delta, A_1,b_1,A_2,b_2 = 100,10000,200,7000,150\n",
    "c_m, c_f, c_ad = 10,2000,2\n",
    "probad = .7\n",
    "from scipy.stats import norm\n",
    "e_star=norm.ppf(probad, loc=0, scale=Sd_c) # Inverse normal\n",
    "print e_star"
   ]
  },
  {
   "cell_type": "code",
   "execution_count": 26,
   "metadata": {},
   "outputs": [],
   "source": [
    "# Simulate data\n",
    "periods = 365\n",
    "t = range(periods)\n",
    "\n",
    "## Simulate demand shocks\n",
    "e_common = np.random.normal(0,Sd_c, periods) # common shocks\n",
    "e_1 = np.random.normal(0,Sd_1, periods) # site 1 shocks\n",
    "e_2 = np.random.normal(0,Sd_2, periods) # site 2 shocks\n",
    "\n",
    "# use sign function so that when e-e*>0, we get 1, else we get -1\n",
    "# (sign(e-e*)+1 )/2 will yield 0's and 1's\n",
    "Ad = np.array([int((np.sign(e-e_star)+1)/2) for e in e_common]) \n",
    "\n",
    "# Compute expected common shock size by ad vs. no ad\n",
    "e_common_ad_expected = norm.expect(lambda x: x, loc=0, scale=Sd_c, lb=e_star, ub=None, conditional=True)\n",
    "e_common_noad_expected = norm.expect(lambda x: x, loc=0, scale=Sd_c, lb=None, ub=e_star, conditional=True)\n",
    "\n",
    "\n",
    "## This section is to compute an \"optimal\" price common across markets\n",
    "p_1_ad_star = (A_1+delta+e_common_ad_expected+b_1*(c_m+c_ad))/(2*b_1) # optimal prices when ads are displayed for mkt 1\n",
    "p_1_noad_star = (A_1+e_common_noad_expected+b_1*c_m)/(2*b_1) # optimal prices when ads are not displayed for mkt 1\n",
    "p_2_star = (A_2+b_2*c_m)/(2*b_2)\n",
    "\n",
    "# Calculate expected hypothetical demands\n",
    "d_1_ad_expected = A_1+delta+e_common_ad_expected-b_1*p_1_ad_star\n",
    "d_1_noad_expected = A_1+e_common_noad_expected-b_1*p_1_noad_star\n",
    "d_2_expected = A_2-b_2*p_2_star\n",
    "\n",
    "w_1 = (d_1_ad_expected+d_1_noad_expected)/(d_1_ad_expected+d_1_noad_expected+d_2_expected)\n",
    "w_2 = d_2_expected/(d_1_ad_expected+d_1_noad_expected+d_2_expected)\n",
    "\n",
    "# let's assume the manager charges a price that is the weighted avg of all the partially optimal prices.\n",
    "p_star = w_1*(probad*p_1_ad_star+(1-probad)*p_1_noad_star)+w_2*p_2_star # This is about $30\n",
    "\n",
    "### Given the \"optimal price\" let's simulate some demand\n",
    "d_1 = A_1-b_1*p_star+delta*Ad+e_common+e_1\n",
    "d_2 = A_2-b_2*p_star+e_common+e_2"
   ]
  },
  {
   "cell_type": "code",
   "execution_count": 27,
   "metadata": {},
   "outputs": [
    {
     "data": {
      "text/html": [
       "<div>\n",
       "<style scoped>\n",
       "    .dataframe tbody tr th:only-of-type {\n",
       "        vertical-align: middle;\n",
       "    }\n",
       "\n",
       "    .dataframe tbody tr th {\n",
       "        vertical-align: top;\n",
       "    }\n",
       "\n",
       "    .dataframe thead th {\n",
       "        text-align: right;\n",
       "    }\n",
       "</style>\n",
       "<table border=\"1\" class=\"dataframe\">\n",
       "  <thead>\n",
       "    <tr style=\"text-align: right;\">\n",
       "      <th></th>\n",
       "      <th>Demand</th>\n",
       "      <th>Ad</th>\n",
       "      <th>Site</th>\n",
       "      <th>t</th>\n",
       "    </tr>\n",
       "  </thead>\n",
       "  <tbody>\n",
       "    <tr>\n",
       "      <th>0</th>\n",
       "      <td>3996.110695</td>\n",
       "      <td>0</td>\n",
       "      <td>1</td>\n",
       "      <td>0</td>\n",
       "    </tr>\n",
       "    <tr>\n",
       "      <th>1</th>\n",
       "      <td>4174.546884</td>\n",
       "      <td>1</td>\n",
       "      <td>1</td>\n",
       "      <td>1</td>\n",
       "    </tr>\n",
       "    <tr>\n",
       "      <th>2</th>\n",
       "      <td>3728.490072</td>\n",
       "      <td>0</td>\n",
       "      <td>1</td>\n",
       "      <td>2</td>\n",
       "    </tr>\n",
       "    <tr>\n",
       "      <th>3</th>\n",
       "      <td>3584.945536</td>\n",
       "      <td>0</td>\n",
       "      <td>1</td>\n",
       "      <td>3</td>\n",
       "    </tr>\n",
       "    <tr>\n",
       "      <th>4</th>\n",
       "      <td>3715.886000</td>\n",
       "      <td>0</td>\n",
       "      <td>1</td>\n",
       "      <td>4</td>\n",
       "    </tr>\n",
       "  </tbody>\n",
       "</table>\n",
       "</div>"
      ],
      "text/plain": [
       "        Demand  Ad  Site  t\n",
       "0  3996.110695   0     1  0\n",
       "1  4174.546884   1     1  1\n",
       "2  3728.490072   0     1  2\n",
       "3  3584.945536   0     1  3\n",
       "4  3715.886000   0     1  4"
      ]
     },
     "execution_count": 27,
     "metadata": {},
     "output_type": "execute_result"
    }
   ],
   "source": [
    "from itertools import chain\n",
    "d = list(chain(*[d_1,d_2])) # stack the 2 demands\n",
    "Ads = list(Ad)+list(Ad)\n",
    "Site = len(d_1)*[1]+len(d_2)*[0]\n",
    "T = t+t\n",
    "df = pd.DataFrame(zip(d,Ads,Site,T), columns = ['Demand', 'Ad', 'Site', 't'])\n",
    "df.head()"
   ]
  },
  {
   "cell_type": "code",
   "execution_count": 28,
   "metadata": {},
   "outputs": [
    {
     "data": {
      "text/html": [
       "<div>\n",
       "<style scoped>\n",
       "    .dataframe tbody tr th:only-of-type {\n",
       "        vertical-align: middle;\n",
       "    }\n",
       "\n",
       "    .dataframe tbody tr th {\n",
       "        vertical-align: top;\n",
       "    }\n",
       "\n",
       "    .dataframe thead th {\n",
       "        text-align: right;\n",
       "    }\n",
       "</style>\n",
       "<table border=\"1\" class=\"dataframe\">\n",
       "  <thead>\n",
       "    <tr style=\"text-align: right;\">\n",
       "      <th></th>\n",
       "      <th>Demand</th>\n",
       "      <th>Ad</th>\n",
       "      <th>Site</th>\n",
       "      <th>t</th>\n",
       "    </tr>\n",
       "  </thead>\n",
       "  <tbody>\n",
       "    <tr>\n",
       "      <th>725</th>\n",
       "      <td>2397.557390</td>\n",
       "      <td>0</td>\n",
       "      <td>0</td>\n",
       "      <td>360</td>\n",
       "    </tr>\n",
       "    <tr>\n",
       "      <th>726</th>\n",
       "      <td>2556.946791</td>\n",
       "      <td>1</td>\n",
       "      <td>0</td>\n",
       "      <td>361</td>\n",
       "    </tr>\n",
       "    <tr>\n",
       "      <th>727</th>\n",
       "      <td>1680.792270</td>\n",
       "      <td>0</td>\n",
       "      <td>0</td>\n",
       "      <td>362</td>\n",
       "    </tr>\n",
       "    <tr>\n",
       "      <th>728</th>\n",
       "      <td>2151.656211</td>\n",
       "      <td>0</td>\n",
       "      <td>0</td>\n",
       "      <td>363</td>\n",
       "    </tr>\n",
       "    <tr>\n",
       "      <th>729</th>\n",
       "      <td>1796.853915</td>\n",
       "      <td>0</td>\n",
       "      <td>0</td>\n",
       "      <td>364</td>\n",
       "    </tr>\n",
       "  </tbody>\n",
       "</table>\n",
       "</div>"
      ],
      "text/plain": [
       "          Demand  Ad  Site    t\n",
       "725  2397.557390   0     0  360\n",
       "726  2556.946791   1     0  361\n",
       "727  1680.792270   0     0  362\n",
       "728  2151.656211   0     0  363\n",
       "729  1796.853915   0     0  364"
      ]
     },
     "execution_count": 28,
     "metadata": {},
     "output_type": "execute_result"
    }
   ],
   "source": [
    "df.tail()"
   ]
  },
  {
   "cell_type": "code",
   "execution_count": 29,
   "metadata": {},
   "outputs": [
    {
     "data": {
      "text/html": [
       "<table class=\"simpletable\">\n",
       "<caption>OLS Regression Results</caption>\n",
       "<tr>\n",
       "  <th>Dep. Variable:</th>         <td>Demand</td>      <th>  R-squared:         </th> <td>   0.591</td>\n",
       "</tr>\n",
       "<tr>\n",
       "  <th>Model:</th>                   <td>OLS</td>       <th>  Adj. R-squared:    </th> <td>   0.590</td>\n",
       "</tr>\n",
       "<tr>\n",
       "  <th>Method:</th>             <td>Least Squares</td>  <th>  F-statistic:       </th> <td>   525.2</td>\n",
       "</tr>\n",
       "<tr>\n",
       "  <th>Date:</th>             <td>Wed, 04 Apr 2018</td> <th>  Prob (F-statistic):</th> <td>1.60e-72</td>\n",
       "</tr>\n",
       "<tr>\n",
       "  <th>Time:</th>                 <td>15:02:49</td>     <th>  Log-Likelihood:    </th> <td> -2493.4</td>\n",
       "</tr>\n",
       "<tr>\n",
       "  <th>No. Observations:</th>      <td>   365</td>      <th>  AIC:               </th> <td>   4991.</td>\n",
       "</tr>\n",
       "<tr>\n",
       "  <th>Df Residuals:</th>          <td>   363</td>      <th>  BIC:               </th> <td>   4999.</td>\n",
       "</tr>\n",
       "<tr>\n",
       "  <th>Df Model:</th>              <td>     1</td>      <th>                     </th>     <td> </td>   \n",
       "</tr>\n",
       "<tr>\n",
       "  <th>Covariance Type:</th>      <td>nonrobust</td>    <th>                     </th>     <td> </td>   \n",
       "</tr>\n",
       "</table>\n",
       "<table class=\"simpletable\">\n",
       "<tr>\n",
       "      <td></td>         <th>coef</th>     <th>std err</th>      <th>t</th>      <th>P>|t|</th>  <th>[0.025</th>    <th>0.975]</th>  \n",
       "</tr>\n",
       "<tr>\n",
       "  <th>Intercept</th> <td> 3752.2781</td> <td>   13.967</td> <td>  268.653</td> <td> 0.000</td> <td> 3724.812</td> <td> 3779.744</td>\n",
       "</tr>\n",
       "<tr>\n",
       "  <th>Ad</th>        <td>  593.9492</td> <td>   25.918</td> <td>   22.917</td> <td> 0.000</td> <td>  542.981</td> <td>  644.917</td>\n",
       "</tr>\n",
       "</table>\n",
       "<table class=\"simpletable\">\n",
       "<tr>\n",
       "  <th>Omnibus:</th>       <td>18.230</td> <th>  Durbin-Watson:     </th> <td>   1.951</td>\n",
       "</tr>\n",
       "<tr>\n",
       "  <th>Prob(Omnibus):</th> <td> 0.000</td> <th>  Jarque-Bera (JB):  </th> <td>  22.235</td>\n",
       "</tr>\n",
       "<tr>\n",
       "  <th>Skew:</th>          <td>-0.447</td> <th>  Prob(JB):          </th> <td>1.49e-05</td>\n",
       "</tr>\n",
       "<tr>\n",
       "  <th>Kurtosis:</th>      <td> 3.814</td> <th>  Cond. No.          </th> <td>    2.43</td>\n",
       "</tr>\n",
       "</table>"
      ],
      "text/plain": [
       "<class 'statsmodels.iolib.summary.Summary'>\n",
       "\"\"\"\n",
       "                            OLS Regression Results                            \n",
       "==============================================================================\n",
       "Dep. Variable:                 Demand   R-squared:                       0.591\n",
       "Model:                            OLS   Adj. R-squared:                  0.590\n",
       "Method:                 Least Squares   F-statistic:                     525.2\n",
       "Date:                Wed, 04 Apr 2018   Prob (F-statistic):           1.60e-72\n",
       "Time:                        15:02:49   Log-Likelihood:                -2493.4\n",
       "No. Observations:                 365   AIC:                             4991.\n",
       "Df Residuals:                     363   BIC:                             4999.\n",
       "Df Model:                           1                                         \n",
       "Covariance Type:            nonrobust                                         \n",
       "==============================================================================\n",
       "                 coef    std err          t      P>|t|      [0.025      0.975]\n",
       "------------------------------------------------------------------------------\n",
       "Intercept   3752.2781     13.967    268.653      0.000    3724.812    3779.744\n",
       "Ad           593.9492     25.918     22.917      0.000     542.981     644.917\n",
       "==============================================================================\n",
       "Omnibus:                       18.230   Durbin-Watson:                   1.951\n",
       "Prob(Omnibus):                  0.000   Jarque-Bera (JB):               22.235\n",
       "Skew:                          -0.447   Prob(JB):                     1.49e-05\n",
       "Kurtosis:                       3.814   Cond. No.                         2.43\n",
       "==============================================================================\n",
       "\n",
       "Warnings:\n",
       "[1] Standard Errors assume that the covariance matrix of the errors is correctly specified.\n",
       "\"\"\""
      ]
     },
     "execution_count": 29,
     "metadata": {},
     "output_type": "execute_result"
    }
   ],
   "source": [
    "# Run regression of demand on ad for site 1 only\n",
    "import statsmodels.formula.api as smf\n",
    "results = smf.ols(formula='Demand ~ Ad', data=df[df.Site==1]).fit()\n",
    "results.summary()"
   ]
  },
  {
   "cell_type": "code",
   "execution_count": 30,
   "metadata": {},
   "outputs": [
    {
     "data": {
      "text/html": [
       "<table class=\"simpletable\">\n",
       "<caption>OLS Regression Results</caption>\n",
       "<tr>\n",
       "  <th>Dep. Variable:</th>         <td>Demand</td>      <th>  R-squared:         </th> <td>   0.924</td> \n",
       "</tr>\n",
       "<tr>\n",
       "  <th>Model:</th>                   <td>OLS</td>       <th>  Adj. R-squared:    </th> <td>   0.924</td> \n",
       "</tr>\n",
       "<tr>\n",
       "  <th>Method:</th>             <td>Least Squares</td>  <th>  F-statistic:       </th> <td>   2950.</td> \n",
       "</tr>\n",
       "<tr>\n",
       "  <th>Date:</th>             <td>Wed, 04 Apr 2018</td> <th>  Prob (F-statistic):</th>  <td>  0.00</td>  \n",
       "</tr>\n",
       "<tr>\n",
       "  <th>Time:</th>                 <td>15:02:49</td>     <th>  Log-Likelihood:    </th> <td> -4996.0</td> \n",
       "</tr>\n",
       "<tr>\n",
       "  <th>No. Observations:</th>      <td>   730</td>      <th>  AIC:               </th> <td>1.000e+04</td>\n",
       "</tr>\n",
       "<tr>\n",
       "  <th>Df Residuals:</th>          <td>   726</td>      <th>  BIC:               </th> <td>1.002e+04</td>\n",
       "</tr>\n",
       "<tr>\n",
       "  <th>Df Model:</th>              <td>     3</td>      <th>                     </th>     <td> </td>    \n",
       "</tr>\n",
       "<tr>\n",
       "  <th>Covariance Type:</th>      <td>nonrobust</td>    <th>                     </th>     <td> </td>    \n",
       "</tr>\n",
       "</table>\n",
       "<table class=\"simpletable\">\n",
       "<tr>\n",
       "      <td></td>         <th>coef</th>     <th>std err</th>      <th>t</th>      <th>P>|t|</th>  <th>[0.025</th>    <th>0.975]</th>  \n",
       "</tr>\n",
       "<tr>\n",
       "  <th>Intercept</th> <td> 2275.0218</td> <td>   14.143</td> <td>  160.863</td> <td> 0.000</td> <td> 2247.256</td> <td> 2302.787</td>\n",
       "</tr>\n",
       "<tr>\n",
       "  <th>Site</th>      <td> 1477.2563</td> <td>   20.001</td> <td>   73.860</td> <td> 0.000</td> <td> 1437.990</td> <td> 1516.522</td>\n",
       "</tr>\n",
       "<tr>\n",
       "  <th>Ad</th>        <td>  500.5946</td> <td>   26.244</td> <td>   19.075</td> <td> 0.000</td> <td>  449.072</td> <td>  552.117</td>\n",
       "</tr>\n",
       "<tr>\n",
       "  <th>Site:Ad</th>   <td>   93.3545</td> <td>   37.114</td> <td>    2.515</td> <td> 0.012</td> <td>   20.491</td> <td>  166.218</td>\n",
       "</tr>\n",
       "</table>\n",
       "<table class=\"simpletable\">\n",
       "<tr>\n",
       "  <th>Omnibus:</th>       <td>27.659</td> <th>  Durbin-Watson:     </th> <td>   1.952</td>\n",
       "</tr>\n",
       "<tr>\n",
       "  <th>Prob(Omnibus):</th> <td> 0.000</td> <th>  Jarque-Bera (JB):  </th> <td>  33.414</td>\n",
       "</tr>\n",
       "<tr>\n",
       "  <th>Skew:</th>          <td>-0.402</td> <th>  Prob(JB):          </th> <td>5.55e-08</td>\n",
       "</tr>\n",
       "<tr>\n",
       "  <th>Kurtosis:</th>      <td> 3.672</td> <th>  Cond. No.          </th> <td>    6.37</td>\n",
       "</tr>\n",
       "</table>"
      ],
      "text/plain": [
       "<class 'statsmodels.iolib.summary.Summary'>\n",
       "\"\"\"\n",
       "                            OLS Regression Results                            \n",
       "==============================================================================\n",
       "Dep. Variable:                 Demand   R-squared:                       0.924\n",
       "Model:                            OLS   Adj. R-squared:                  0.924\n",
       "Method:                 Least Squares   F-statistic:                     2950.\n",
       "Date:                Wed, 04 Apr 2018   Prob (F-statistic):               0.00\n",
       "Time:                        15:02:49   Log-Likelihood:                -4996.0\n",
       "No. Observations:                 730   AIC:                         1.000e+04\n",
       "Df Residuals:                     726   BIC:                         1.002e+04\n",
       "Df Model:                           3                                         \n",
       "Covariance Type:            nonrobust                                         \n",
       "==============================================================================\n",
       "                 coef    std err          t      P>|t|      [0.025      0.975]\n",
       "------------------------------------------------------------------------------\n",
       "Intercept   2275.0218     14.143    160.863      0.000    2247.256    2302.787\n",
       "Site        1477.2563     20.001     73.860      0.000    1437.990    1516.522\n",
       "Ad           500.5946     26.244     19.075      0.000     449.072     552.117\n",
       "Site:Ad       93.3545     37.114      2.515      0.012      20.491     166.218\n",
       "==============================================================================\n",
       "Omnibus:                       27.659   Durbin-Watson:                   1.952\n",
       "Prob(Omnibus):                  0.000   Jarque-Bera (JB):               33.414\n",
       "Skew:                          -0.402   Prob(JB):                     5.55e-08\n",
       "Kurtosis:                       3.672   Cond. No.                         6.37\n",
       "==============================================================================\n",
       "\n",
       "Warnings:\n",
       "[1] Standard Errors assume that the covariance matrix of the errors is correctly specified.\n",
       "\"\"\""
      ]
     },
     "execution_count": 30,
     "metadata": {},
     "output_type": "execute_result"
    }
   ],
   "source": [
    "results = smf.ols(formula='Demand ~ Site*Ad', data=df).fit()\n",
    "results.summary()"
   ]
  },
  {
   "cell_type": "code",
   "execution_count": 31,
   "metadata": {},
   "outputs": [
    {
     "data": {
      "text/html": [
       "<div>\n",
       "<style scoped>\n",
       "    .dataframe tbody tr th:only-of-type {\n",
       "        vertical-align: middle;\n",
       "    }\n",
       "\n",
       "    .dataframe tbody tr th {\n",
       "        vertical-align: top;\n",
       "    }\n",
       "\n",
       "    .dataframe thead th {\n",
       "        text-align: right;\n",
       "    }\n",
       "</style>\n",
       "<table border=\"1\" class=\"dataframe\">\n",
       "  <thead>\n",
       "    <tr style=\"text-align: right;\">\n",
       "      <th>Ad</th>\n",
       "      <th>0</th>\n",
       "      <th>1</th>\n",
       "      <th>Delta</th>\n",
       "    </tr>\n",
       "    <tr>\n",
       "      <th>Site</th>\n",
       "      <th></th>\n",
       "      <th></th>\n",
       "      <th></th>\n",
       "    </tr>\n",
       "  </thead>\n",
       "  <tbody>\n",
       "    <tr>\n",
       "      <th>0</th>\n",
       "      <td>2275.021761</td>\n",
       "      <td>2775.616405</td>\n",
       "      <td>1477.256319</td>\n",
       "    </tr>\n",
       "    <tr>\n",
       "      <th>1</th>\n",
       "      <td>3752.278079</td>\n",
       "      <td>4346.227271</td>\n",
       "      <td>1570.610866</td>\n",
       "    </tr>\n",
       "  </tbody>\n",
       "</table>\n",
       "</div>"
      ],
      "text/plain": [
       "Ad              0            1        Delta\n",
       "Site                                       \n",
       "0     2275.021761  2775.616405  1477.256319\n",
       "1     3752.278079  4346.227271  1570.610866"
      ]
     },
     "execution_count": 31,
     "metadata": {},
     "output_type": "execute_result"
    }
   ],
   "source": [
    "# Alternative, we can compute the differences in differences of average sales manually...\n",
    "temp = df.groupby(['Site', 'Ad'])[['Demand']].mean().unstack('Ad')['Demand']\n",
    "temp['Delta'] = temp.apply(lambda x: x[1]-x[0])\n",
    "temp"
   ]
  },
  {
   "cell_type": "code",
   "execution_count": 32,
   "metadata": {},
   "outputs": [
    {
     "data": {
      "text/plain": [
       "'Estimated Effect of Ad is: 93.35454721135056'"
      ]
     },
     "execution_count": 32,
     "metadata": {},
     "output_type": "execute_result"
    }
   ],
   "source": [
    "'Estimated Effect of Ad is: '+str(temp.loc[1,'Delta']-temp.loc[0,'Delta'])"
   ]
  },
  {
   "cell_type": "markdown",
   "metadata": {},
   "source": [
    "## Difference in Differences w/ Structural Pricing Parameters\n",
    "\n",
    "Assume the following hypothetical example.\n",
    "\n",
    "Let's say a hotel sells its rooms on 2 websites: Hotels.com and Expedia. Let's make the fairly reasonable assumption that the only marginal costs are the booking fees that hotels pay to either platform: $c_{H}$ and $c_{Ex}$. We observe demand and prices. Halfway through the dataset, we also know that Expedia raises its booking fee, though we do not observe the new fee directly (it is \\$10 more in the simulation).\n",
    "\n",
    "The effect of change $\\Delta$ in $c_m$ in general:\n",
    "$$p_{old} = \\frac{A+bc_m}{2b}$$\n",
    "\n",
    "\n",
    "$$p_{new} = \\frac{A+b(c_m+\\Delta_c)}{2b}$$\n",
    "\n",
    "$$p_{new}-p_{old} =  \\frac{A+b(c_m+\\Delta_c)-(A+bc_m)}{2b}$$\n",
    "\n",
    "$$p_{new}-p_{old} =  \\frac{b(c_m+\\Delta_c)-bc_m}{2b}= \\frac{\\Delta_c}{2}$$\n",
    "\n",
    "The effect of change $\\Delta$ in $c_m$ on demand:\n",
    "\n",
    "$$d_{old}=A-bp_{old}$$\n",
    "\n",
    "$$d_{new}=A-bp_{new}=A-b(p_{old}+\\frac{\\Delta_c}{2})$$\n",
    "\n",
    "$$d_{new}-d_{old}=A-b(p_{old}+\\frac{\\Delta_c}{2})-(A-bp_{old})$$\n",
    "\n",
    "$$d_{new}-d_{old}=\\frac{-b\\Delta_c}{2}$$\n",
    "\n",
    "### The Diff-in-Diff estimator then compares this effect in a market with a market that does not have any change in cost\n",
    "\n",
    "$$\\text{diff-in-diff}=\\Delta_{D1} - \\Delta_{D2} = \\frac{-b_1\\Delta_{c1}}{2}-\\frac{-b_2\\Delta_{c2}}{2}$$\n",
    "\n",
    "### If $\\Delta{c_2}=0$, then $\\text{diff-in-diff}=\\frac{-b_1\\Delta_{c1}}{2}$. Notice this does not depend on demand parameters of the second market."
   ]
  },
  {
   "cell_type": "code",
   "execution_count": 33,
   "metadata": {},
   "outputs": [],
   "source": [
    "#### Simulate these data\n",
    "#### First half\n",
    "periods = 200\n",
    "params1 = 10000, 150,7000, 100, 10,10, 2000 # True demand and cost parameters\n",
    "params2 = 10000, 150,7000, 100, 20,10, 2000 # True demand and cost parameters\n",
    "shockparams = 300,200,200,5,5\n",
    "def _simulate_(periods, params1, params2, shockparams):\n",
    "    s_c,s_ex,s_h,s_ex_p,s_h_p = shockparams\n",
    "    A_ex, b_ex,A_h,b_h, c_m_ex, c_m_h, c_f  = params1\n",
    "    e_common_1 = np.random.normal(0, s_c, periods) # generate common demand shocks over time (applies to both sites)\n",
    "    e_ex_1 = np.random.normal(0, s_ex, periods) # generate random shocks to Expedia.com demand\n",
    "    e_h_1 = np.random.normal(0, s_h, periods) # generate random shocks to hotels.com demand\n",
    "    e_ex_p_1 = np.random.normal(0, s_ex_p, periods) # generate random normals with std = 5 Pricing errors 1\n",
    "    e_h_p_1 = np.random.normal(0, s_h_p, periods) # generate random normals with std = 5 Pricing errors 2\n",
    "    p_ex_obs_1 = (A_ex+e_common_1+b_ex*c_m_ex)/(2*b_ex)+e_ex_p_1\n",
    "    p_h_obs_1 = (A_h+e_common_1+b_h*c_m_h)/(2*b_h)+e_h_p_1\n",
    "    d_ex_obs_1 = A_ex-b_ex*p_ex_obs_1+ e_ex_1+e_common_1\n",
    "    d_h_obs_1 = A_h-b_h*p_h_obs_1+e_h_1+e_common_1\n",
    "    #### Second half\n",
    "    A_ex, b_ex,A_h,b_h, c_m_ex_2, c_m_h, c_f = params2\n",
    "    e_common_2 = np.random.normal(0, s_c, periods) # Generate common shocks over demand (applies to both sites)\n",
    "    e_ex_2 = np.random.normal(0,s_ex, periods) # generate random shocks to expedia demand\n",
    "    e_h_2 = np.random.normal(0, s_h, periods) # generate random shocks to hotels.com demand\n",
    "    e_ex_p_2 = np.random.normal(0, s_ex_p, periods) # generate random normals with std = 5 Pricing errors 1\n",
    "    e_h_p_2 = np.random.normal(0, s_h_p, periods) # generate random normals with std = 5 Pricing errors 2\n",
    "    p_ex_obs_2 = (A_ex+e_common_2+b_ex*c_m_ex_2)/(2*b_ex)+e_ex_p_2\n",
    "    p_h_obs_2 = (A_h+e_common_2+b_h*c_m_h)/(2*b_h)+e_h_p_2\n",
    "    d_ex_obs_2 = A_ex-b_ex*p_ex_obs_2+ e_common_2\n",
    "    d_h_obs_2 = A_h-b_h*p_h_obs_2+e_common_2\n",
    "    return d_ex_obs_1,d_h_obs_1,p_ex_obs_1,p_h_obs_1,d_ex_obs_2,d_h_obs_2,p_ex_obs_2,p_h_obs_2"
   ]
  },
  {
   "cell_type": "code",
   "execution_count": 34,
   "metadata": {},
   "outputs": [],
   "source": [
    "d_ex_obs_1,d_h_obs_1,p_ex_obs_1,p_h_obs_1,d_ex_obs_2,d_h_obs_2,p_ex_obs_2,p_h_obs_2 = _simulate_(periods, params1, params2, shockparams)"
   ]
  },
  {
   "cell_type": "code",
   "execution_count": 35,
   "metadata": {},
   "outputs": [
    {
     "data": {
      "text/plain": [
       "<matplotlib.legend.Legend at 0xdaf70f0>"
      ]
     },
     "execution_count": 35,
     "metadata": {},
     "output_type": "execute_result"
    },
    {
     "data": {
      "image/png": "[encoded data removed]",
      "text/plain": [
       "<matplotlib.figure.Figure at 0xd375240>"
      ]
     },
     "metadata": {},
     "output_type": "display_data"
    }
   ],
   "source": [
    "plt.scatter(p_ex_obs_1, d_ex_obs_1)\n",
    "plt.scatter(p_h_obs_1, d_h_obs_1, c = 'red')\n",
    "plt.legend(['Expedia', 'Hotels'])"
   ]
  },
  {
   "cell_type": "code",
   "execution_count": 36,
   "metadata": {},
   "outputs": [
    {
     "data": {
      "text/plain": [
       "<matplotlib.legend.Legend at 0xdd2a128>"
      ]
     },
     "execution_count": 36,
     "metadata": {},
     "output_type": "execute_result"
    },
    {
     "data": {
      "image/png": "[encoded data removed]",
      "text/plain": [
       "<matplotlib.figure.Figure at 0xdc0e390>"
      ]
     },
     "metadata": {},
     "output_type": "display_data"
    }
   ],
   "source": [
    "plt.scatter(p_ex_obs_2, d_ex_obs_2)\n",
    "plt.scatter(p_h_obs_2, d_h_obs_2, c = 'red')\n",
    "plt.legend(['Expedia', 'Hotels'])"
   ]
  },
  {
   "cell_type": "code",
   "execution_count": 37,
   "metadata": {},
   "outputs": [],
   "source": [
    "from itertools import chain\n",
    "d_ex_obs = list(chain(*[d_ex_obs_1, d_ex_obs_2]))\n",
    "d_h_obs = list(chain(*[d_h_obs_1, d_h_obs_2]))\n",
    "p_ex_obs = list(chain(*[p_ex_obs_1, p_ex_obs_2]))\n",
    "p_h_obs = list(chain(*[p_h_obs_1, p_h_obs_2]))\n",
    "t = range(len(d_ex_obs))"
   ]
  },
  {
   "cell_type": "code",
   "execution_count": 38,
   "metadata": {},
   "outputs": [
    {
     "data": {
      "text/plain": [
       "<matplotlib.legend.Legend at 0x1045a470>"
      ]
     },
     "execution_count": 38,
     "metadata": {},
     "output_type": "execute_result"
    },
    {
     "data": {
      "image/png": "[encoded data removed]",
      "text/plain": [
       "<matplotlib.figure.Figure at 0xdd9c438>"
      ]
     },
     "metadata": {},
     "output_type": "display_data"
    }
   ],
   "source": [
    "plt.plot(t, d_ex_obs)\n",
    "plt.plot(t, d_h_obs)\n",
    "plt.axvline(x=periods, c='r')\n",
    "plt.title('Prices over Time')\n",
    "plt.legend(['Expedia', 'Hotels.com'])"
   ]
  },
  {
   "cell_type": "code",
   "execution_count": 39,
   "metadata": {},
   "outputs": [
    {
     "data": {
      "text/plain": [
       "<matplotlib.legend.Legend at 0x10765f98>"
      ]
     },
     "execution_count": 39,
     "metadata": {},
     "output_type": "execute_result"
    },
    {
     "data": {
      "image/png": "[encoded data removed]",
      "text/plain": [
       "<matplotlib.figure.Figure at 0xdd9cfd0>"
      ]
     },
     "metadata": {},
     "output_type": "display_data"
    }
   ],
   "source": [
    "plt.plot(t, p_ex_obs)\n",
    "plt.plot(t, p_h_obs)\n",
    "plt.axvline(x=periods, c='r')\n",
    "plt.title('Prices over Time')\n",
    "plt.legend(['Expedia', 'Hotels.com'])"
   ]
  },
  {
   "cell_type": "code",
   "execution_count": 40,
   "metadata": {},
   "outputs": [],
   "source": [
    "After = len(t)/2*[0]+len(t)/2*[1] \n",
    "# creates the dummy variable where After=0 is before increase in cost and After=1 is after increase in cost"
   ]
  },
  {
   "cell_type": "code",
   "execution_count": 41,
   "metadata": {},
   "outputs": [
    {
     "data": {
      "text/html": [
       "<table class=\"simpletable\">\n",
       "<caption>OLS Regression Results</caption>\n",
       "<tr>\n",
       "  <th>Dep. Variable:</th>            <td>y</td>        <th>  R-squared:         </th> <td>   0.853</td> \n",
       "</tr>\n",
       "<tr>\n",
       "  <th>Model:</th>                   <td>OLS</td>       <th>  Adj. R-squared:    </th> <td>   0.853</td> \n",
       "</tr>\n",
       "<tr>\n",
       "  <th>Method:</th>             <td>Least Squares</td>  <th>  F-statistic:       </th> <td>   2315.</td> \n",
       "</tr>\n",
       "<tr>\n",
       "  <th>Date:</th>             <td>Wed, 04 Apr 2018</td> <th>  Prob (F-statistic):</th> <td>5.67e-168</td>\n",
       "</tr>\n",
       "<tr>\n",
       "  <th>Time:</th>                 <td>15:02:57</td>     <th>  Log-Likelihood:    </th> <td> -2881.3</td> \n",
       "</tr>\n",
       "<tr>\n",
       "  <th>No. Observations:</th>      <td>   400</td>      <th>  AIC:               </th> <td>   5767.</td> \n",
       "</tr>\n",
       "<tr>\n",
       "  <th>Df Residuals:</th>          <td>   398</td>      <th>  BIC:               </th> <td>   5775.</td> \n",
       "</tr>\n",
       "<tr>\n",
       "  <th>Df Model:</th>              <td>     1</td>      <th>                     </th>     <td> </td>    \n",
       "</tr>\n",
       "<tr>\n",
       "  <th>Covariance Type:</th>      <td>nonrobust</td>    <th>                     </th>     <td> </td>    \n",
       "</tr>\n",
       "</table>\n",
       "<table class=\"simpletable\">\n",
       "<tr>\n",
       "    <td></td>       <th>coef</th>     <th>std err</th>      <th>t</th>      <th>P>|t|</th>  <th>[0.025</th>    <th>0.975]</th>  \n",
       "</tr>\n",
       "<tr>\n",
       "  <th>const</th> <td> 9629.8993</td> <td>  120.867</td> <td>   79.674</td> <td> 0.000</td> <td> 9392.283</td> <td> 9867.516</td>\n",
       "</tr>\n",
       "<tr>\n",
       "  <th>x1</th>    <td> -140.7833</td> <td>    2.926</td> <td>  -48.115</td> <td> 0.000</td> <td> -146.536</td> <td> -135.031</td>\n",
       "</tr>\n",
       "</table>\n",
       "<table class=\"simpletable\">\n",
       "<tr>\n",
       "  <th>Omnibus:</th>       <td> 0.456</td> <th>  Durbin-Watson:     </th> <td>   2.040</td>\n",
       "</tr>\n",
       "<tr>\n",
       "  <th>Prob(Omnibus):</th> <td> 0.796</td> <th>  Jarque-Bera (JB):  </th> <td>   0.283</td>\n",
       "</tr>\n",
       "<tr>\n",
       "  <th>Skew:</th>          <td> 0.039</td> <th>  Prob(JB):          </th> <td>   0.868</td>\n",
       "</tr>\n",
       "<tr>\n",
       "  <th>Kurtosis:</th>      <td> 3.105</td> <th>  Cond. No.          </th> <td>    306.</td>\n",
       "</tr>\n",
       "</table>"
      ],
      "text/plain": [
       "<class 'statsmodels.iolib.summary.Summary'>\n",
       "\"\"\"\n",
       "                            OLS Regression Results                            \n",
       "==============================================================================\n",
       "Dep. Variable:                      y   R-squared:                       0.853\n",
       "Model:                            OLS   Adj. R-squared:                  0.853\n",
       "Method:                 Least Squares   F-statistic:                     2315.\n",
       "Date:                Wed, 04 Apr 2018   Prob (F-statistic):          5.67e-168\n",
       "Time:                        15:02:57   Log-Likelihood:                -2881.3\n",
       "No. Observations:                 400   AIC:                             5767.\n",
       "Df Residuals:                     398   BIC:                             5775.\n",
       "Df Model:                           1                                         \n",
       "Covariance Type:            nonrobust                                         \n",
       "==============================================================================\n",
       "                 coef    std err          t      P>|t|      [0.025      0.975]\n",
       "------------------------------------------------------------------------------\n",
       "const       9629.8993    120.867     79.674      0.000    9392.283    9867.516\n",
       "x1          -140.7833      2.926    -48.115      0.000    -146.536    -135.031\n",
       "==============================================================================\n",
       "Omnibus:                        0.456   Durbin-Watson:                   2.040\n",
       "Prob(Omnibus):                  0.796   Jarque-Bera (JB):                0.283\n",
       "Skew:                           0.039   Prob(JB):                        0.868\n",
       "Kurtosis:                       3.105   Cond. No.                         306.\n",
       "==============================================================================\n",
       "\n",
       "Warnings:\n",
       "[1] Standard Errors assume that the covariance matrix of the errors is correctly specified.\n",
       "\"\"\""
      ]
     },
     "execution_count": 41,
     "metadata": {},
     "output_type": "execute_result"
    }
   ],
   "source": [
    "\n",
    "results_ex = OLS(d_ex_obs, sm.add_constant(p_ex_obs)).fit()\n",
    "results_ex.summary()"
   ]
  },
  {
   "cell_type": "code",
   "execution_count": 42,
   "metadata": {},
   "outputs": [
    {
     "name": "stdout",
     "output_type": "stream",
     "text": [
      "Parameter Results A = 9629.899298287302 B=-140.78328981333732\n"
     ]
    }
   ],
   "source": [
    "print \"Parameter Results A = \" +str(results_ex.params[0])+' B='+str(results_ex.params[1])"
   ]
  },
  {
   "cell_type": "code",
   "execution_count": 43,
   "metadata": {},
   "outputs": [],
   "source": [
    "d = d_ex_obs + d_h_obs # stacks demand from 2 sites\n",
    "p = p_ex_obs + p_h_obs # stacks prices from two sites \n",
    "site = len(p_ex_obs)*[1]+len(p_h_obs)*[0] # creates dummy for site \n",
    "t = t*2 # Stacks time variable\n",
    "After_all = 2*After # stacks 2 after vectors together"
   ]
  },
  {
   "cell_type": "code",
   "execution_count": 44,
   "metadata": {},
   "outputs": [
    {
     "data": {
      "text/html": [
       "<div>\n",
       "<style scoped>\n",
       "    .dataframe tbody tr th:only-of-type {\n",
       "        vertical-align: middle;\n",
       "    }\n",
       "\n",
       "    .dataframe tbody tr th {\n",
       "        vertical-align: top;\n",
       "    }\n",
       "\n",
       "    .dataframe thead th {\n",
       "        text-align: right;\n",
       "    }\n",
       "</style>\n",
       "<table border=\"1\" class=\"dataframe\">\n",
       "  <thead>\n",
       "    <tr style=\"text-align: right;\">\n",
       "      <th></th>\n",
       "      <th>Demand</th>\n",
       "      <th>Price</th>\n",
       "      <th>Site</th>\n",
       "      <th>After</th>\n",
       "      <th>t</th>\n",
       "    </tr>\n",
       "  </thead>\n",
       "  <tbody>\n",
       "    <tr>\n",
       "      <th>0</th>\n",
       "      <td>4465.125324</td>\n",
       "      <td>38.325341</td>\n",
       "      <td>1</td>\n",
       "      <td>0</td>\n",
       "      <td>0</td>\n",
       "    </tr>\n",
       "    <tr>\n",
       "      <th>1</th>\n",
       "      <td>3062.431053</td>\n",
       "      <td>45.039559</td>\n",
       "      <td>1</td>\n",
       "      <td>0</td>\n",
       "      <td>1</td>\n",
       "    </tr>\n",
       "    <tr>\n",
       "      <th>2</th>\n",
       "      <td>4166.866020</td>\n",
       "      <td>35.709563</td>\n",
       "      <td>1</td>\n",
       "      <td>0</td>\n",
       "      <td>2</td>\n",
       "    </tr>\n",
       "    <tr>\n",
       "      <th>3</th>\n",
       "      <td>4278.581410</td>\n",
       "      <td>36.208643</td>\n",
       "      <td>1</td>\n",
       "      <td>0</td>\n",
       "      <td>3</td>\n",
       "    </tr>\n",
       "    <tr>\n",
       "      <th>4</th>\n",
       "      <td>4254.389229</td>\n",
       "      <td>36.233049</td>\n",
       "      <td>1</td>\n",
       "      <td>0</td>\n",
       "      <td>4</td>\n",
       "    </tr>\n",
       "  </tbody>\n",
       "</table>\n",
       "</div>"
      ],
      "text/plain": [
       "        Demand      Price  Site  After  t\n",
       "0  4465.125324  38.325341     1      0  0\n",
       "1  3062.431053  45.039559     1      0  1\n",
       "2  4166.866020  35.709563     1      0  2\n",
       "3  4278.581410  36.208643     1      0  3\n",
       "4  4254.389229  36.233049     1      0  4"
      ]
     },
     "execution_count": 44,
     "metadata": {},
     "output_type": "execute_result"
    }
   ],
   "source": [
    "import pandas as pd\n",
    "df = pd.DataFrame(list(zip(d,p,site,After_all,t)), columns = ['Demand', 'Price', 'Site', 'After', 't' ])\n",
    "df.head()"
   ]
  },
  {
   "cell_type": "code",
   "execution_count": 45,
   "metadata": {},
   "outputs": [
    {
     "data": {
      "text/html": [
       "<table class=\"simpletable\">\n",
       "<caption>OLS Regression Results</caption>\n",
       "<tr>\n",
       "  <th>Dep. Variable:</th>          <td>Price</td>      <th>  R-squared:         </th> <td>   0.132</td>\n",
       "</tr>\n",
       "<tr>\n",
       "  <th>Model:</th>                   <td>OLS</td>       <th>  Adj. R-squared:    </th> <td>   0.128</td>\n",
       "</tr>\n",
       "<tr>\n",
       "  <th>Method:</th>             <td>Least Squares</td>  <th>  F-statistic:       </th> <td>   30.32</td>\n",
       "</tr>\n",
       "<tr>\n",
       "  <th>Date:</th>             <td>Wed, 04 Apr 2018</td> <th>  Prob (F-statistic):</th> <td>1.64e-23</td>\n",
       "</tr>\n",
       "<tr>\n",
       "  <th>Time:</th>                 <td>15:02:59</td>     <th>  Log-Likelihood:    </th> <td> -2441.9</td>\n",
       "</tr>\n",
       "<tr>\n",
       "  <th>No. Observations:</th>      <td>   800</td>      <th>  AIC:               </th> <td>   4894.</td>\n",
       "</tr>\n",
       "<tr>\n",
       "  <th>Df Residuals:</th>          <td>   795</td>      <th>  BIC:               </th> <td>   4917.</td>\n",
       "</tr>\n",
       "<tr>\n",
       "  <th>Df Model:</th>              <td>     4</td>      <th>                     </th>     <td> </td>   \n",
       "</tr>\n",
       "<tr>\n",
       "  <th>Covariance Type:</th>      <td>nonrobust</td>    <th>                     </th>     <td> </td>   \n",
       "</tr>\n",
       "</table>\n",
       "<table class=\"simpletable\">\n",
       "<tr>\n",
       "       <td></td>         <th>coef</th>     <th>std err</th>      <th>t</th>      <th>P>|t|</th>  <th>[0.025</th>    <th>0.975]</th>  \n",
       "</tr>\n",
       "<tr>\n",
       "  <th>Intercept</th>  <td>   40.1522</td> <td>    0.480</td> <td>   83.727</td> <td> 0.000</td> <td>   39.211</td> <td>   41.094</td>\n",
       "</tr>\n",
       "<tr>\n",
       "  <th>Site</th>       <td>   -2.1324</td> <td>    0.514</td> <td>   -4.151</td> <td> 0.000</td> <td>   -3.141</td> <td>   -1.124</td>\n",
       "</tr>\n",
       "<tr>\n",
       "  <th>After</th>      <td>   -0.6733</td> <td>    0.812</td> <td>   -0.829</td> <td> 0.407</td> <td>   -2.268</td> <td>    0.921</td>\n",
       "</tr>\n",
       "<tr>\n",
       "  <th>Site:After</th> <td>    5.8933</td> <td>    0.727</td> <td>    8.111</td> <td> 0.000</td> <td>    4.467</td> <td>    7.320</td>\n",
       "</tr>\n",
       "<tr>\n",
       "  <th>t</th>          <td>    0.0015</td> <td>    0.003</td> <td>    0.480</td> <td> 0.631</td> <td>   -0.005</td> <td>    0.008</td>\n",
       "</tr>\n",
       "</table>\n",
       "<table class=\"simpletable\">\n",
       "<tr>\n",
       "  <th>Omnibus:</th>       <td> 2.123</td> <th>  Durbin-Watson:     </th> <td>   2.128</td>\n",
       "</tr>\n",
       "<tr>\n",
       "  <th>Prob(Omnibus):</th> <td> 0.346</td> <th>  Jarque-Bera (JB):  </th> <td>   1.958</td>\n",
       "</tr>\n",
       "<tr>\n",
       "  <th>Skew:</th>          <td>-0.103</td> <th>  Prob(JB):          </th> <td>   0.376</td>\n",
       "</tr>\n",
       "<tr>\n",
       "  <th>Kurtosis:</th>      <td> 3.126</td> <th>  Cond. No.          </th> <td>1.26e+03</td>\n",
       "</tr>\n",
       "</table>"
      ],
      "text/plain": [
       "<class 'statsmodels.iolib.summary.Summary'>\n",
       "\"\"\"\n",
       "                            OLS Regression Results                            \n",
       "==============================================================================\n",
       "Dep. Variable:                  Price   R-squared:                       0.132\n",
       "Model:                            OLS   Adj. R-squared:                  0.128\n",
       "Method:                 Least Squares   F-statistic:                     30.32\n",
       "Date:                Wed, 04 Apr 2018   Prob (F-statistic):           1.64e-23\n",
       "Time:                        15:02:59   Log-Likelihood:                -2441.9\n",
       "No. Observations:                 800   AIC:                             4894.\n",
       "Df Residuals:                     795   BIC:                             4917.\n",
       "Df Model:                           4                                         \n",
       "Covariance Type:            nonrobust                                         \n",
       "==============================================================================\n",
       "                 coef    std err          t      P>|t|      [0.025      0.975]\n",
       "------------------------------------------------------------------------------\n",
       "Intercept     40.1522      0.480     83.727      0.000      39.211      41.094\n",
       "Site          -2.1324      0.514     -4.151      0.000      -3.141      -1.124\n",
       "After         -0.6733      0.812     -0.829      0.407      -2.268       0.921\n",
       "Site:After     5.8933      0.727      8.111      0.000       4.467       7.320\n",
       "t              0.0015      0.003      0.480      0.631      -0.005       0.008\n",
       "==============================================================================\n",
       "Omnibus:                        2.123   Durbin-Watson:                   2.128\n",
       "Prob(Omnibus):                  0.346   Jarque-Bera (JB):                1.958\n",
       "Skew:                          -0.103   Prob(JB):                        0.376\n",
       "Kurtosis:                       3.126   Cond. No.                     1.26e+03\n",
       "==============================================================================\n",
       "\n",
       "Warnings:\n",
       "[1] Standard Errors assume that the covariance matrix of the errors is correctly specified.\n",
       "[2] The condition number is large, 1.26e+03. This might indicate that there are\n",
       "strong multicollinearity or other numerical problems.\n",
       "\"\"\""
      ]
     },
     "execution_count": 45,
     "metadata": {},
     "output_type": "execute_result"
    }
   ],
   "source": [
    "import statsmodels.formula.api as smf\n",
    "results = smf.ols(formula='Price ~ Site*After+t', data=df).fit()\n",
    "results.summary()"
   ]
  },
  {
   "cell_type": "code",
   "execution_count": 46,
   "metadata": {},
   "outputs": [
    {
     "name": "stdout",
     "output_type": "stream",
     "text": [
      "Estimated Change in Cost: 11.786602949635412\n"
     ]
    }
   ],
   "source": [
    "delta_p = results.params['Site:After']\n",
    "delta_c = delta_p*2\n",
    "print 'Estimated Change in Cost: ' + str(delta_c)"
   ]
  },
  {
   "cell_type": "code",
   "execution_count": 47,
   "metadata": {},
   "outputs": [
    {
     "data": {
      "text/html": [
       "<table class=\"simpletable\">\n",
       "<caption>OLS Regression Results</caption>\n",
       "<tr>\n",
       "  <th>Dep. Variable:</th>         <td>Demand</td>      <th>  R-squared:         </th> <td>   0.397</td> \n",
       "</tr>\n",
       "<tr>\n",
       "  <th>Model:</th>                   <td>OLS</td>       <th>  Adj. R-squared:    </th> <td>   0.393</td> \n",
       "</tr>\n",
       "<tr>\n",
       "  <th>Method:</th>             <td>Least Squares</td>  <th>  F-statistic:       </th> <td>   104.4</td> \n",
       "</tr>\n",
       "<tr>\n",
       "  <th>Date:</th>             <td>Wed, 04 Apr 2018</td> <th>  Prob (F-statistic):</th> <td>1.10e-84</td> \n",
       "</tr>\n",
       "<tr>\n",
       "  <th>Time:</th>                 <td>15:03:01</td>     <th>  Log-Likelihood:    </th> <td> -6319.9</td> \n",
       "</tr>\n",
       "<tr>\n",
       "  <th>No. Observations:</th>      <td>   800</td>      <th>  AIC:               </th> <td>1.265e+04</td>\n",
       "</tr>\n",
       "<tr>\n",
       "  <th>Df Residuals:</th>          <td>   794</td>      <th>  BIC:               </th> <td>1.268e+04</td>\n",
       "</tr>\n",
       "<tr>\n",
       "  <th>Df Model:</th>              <td>     5</td>      <th>                     </th>     <td> </td>    \n",
       "</tr>\n",
       "<tr>\n",
       "  <th>Covariance Type:</th>      <td>nonrobust</td>    <th>                     </th>     <td> </td>    \n",
       "</tr>\n",
       "</table>\n",
       "<table class=\"simpletable\">\n",
       "<tr>\n",
       "       <td></td>         <th>coef</th>     <th>std err</th>      <th>t</th>      <th>P>|t|</th>  <th>[0.025</th>    <th>0.975]</th>  \n",
       "</tr>\n",
       "<tr>\n",
       "  <th>Intercept</th>  <td> 2909.6127</td> <td>   73.016</td> <td>   39.849</td> <td> 0.000</td> <td> 2766.286</td> <td> 3052.940</td>\n",
       "</tr>\n",
       "<tr>\n",
       "  <th>Site</th>       <td> 1320.8416</td> <td>   65.503</td> <td>   20.165</td> <td> 0.000</td> <td> 1192.262</td> <td> 1449.422</td>\n",
       "</tr>\n",
       "<tr>\n",
       "  <th>After</th>      <td>  227.9881</td> <td>  190.638</td> <td>    1.196</td> <td> 0.232</td> <td> -146.227</td> <td>  602.203</td>\n",
       "</tr>\n",
       "<tr>\n",
       "  <th>Site:After</th> <td> -881.5313</td> <td>   92.636</td> <td>   -9.516</td> <td> 0.000</td> <td>-1063.371</td> <td> -699.692</td>\n",
       "</tr>\n",
       "<tr>\n",
       "  <th>t</th>          <td>    0.5041</td> <td>    0.567</td> <td>    0.889</td> <td> 0.374</td> <td>   -0.609</td> <td>    1.618</td>\n",
       "</tr>\n",
       "<tr>\n",
       "  <th>t:After</th>    <td>   -0.9133</td> <td>    0.802</td> <td>   -1.138</td> <td> 0.255</td> <td>   -2.488</td> <td>    0.662</td>\n",
       "</tr>\n",
       "</table>\n",
       "<table class=\"simpletable\">\n",
       "<tr>\n",
       "  <th>Omnibus:</th>       <td> 4.562</td> <th>  Durbin-Watson:     </th> <td>   2.165</td>\n",
       "</tr>\n",
       "<tr>\n",
       "  <th>Prob(Omnibus):</th> <td> 0.102</td> <th>  Jarque-Bera (JB):  </th> <td>   5.602</td>\n",
       "</tr>\n",
       "<tr>\n",
       "  <th>Skew:</th>          <td> 0.006</td> <th>  Prob(JB):          </th> <td>  0.0608</td>\n",
       "</tr>\n",
       "<tr>\n",
       "  <th>Kurtosis:</th>      <td> 3.410</td> <th>  Cond. No.          </th> <td>2.62e+03</td>\n",
       "</tr>\n",
       "</table>"
      ],
      "text/plain": [
       "<class 'statsmodels.iolib.summary.Summary'>\n",
       "\"\"\"\n",
       "                            OLS Regression Results                            \n",
       "==============================================================================\n",
       "Dep. Variable:                 Demand   R-squared:                       0.397\n",
       "Model:                            OLS   Adj. R-squared:                  0.393\n",
       "Method:                 Least Squares   F-statistic:                     104.4\n",
       "Date:                Wed, 04 Apr 2018   Prob (F-statistic):           1.10e-84\n",
       "Time:                        15:03:01   Log-Likelihood:                -6319.9\n",
       "No. Observations:                 800   AIC:                         1.265e+04\n",
       "Df Residuals:                     794   BIC:                         1.268e+04\n",
       "Df Model:                           5                                         \n",
       "Covariance Type:            nonrobust                                         \n",
       "==============================================================================\n",
       "                 coef    std err          t      P>|t|      [0.025      0.975]\n",
       "------------------------------------------------------------------------------\n",
       "Intercept   2909.6127     73.016     39.849      0.000    2766.286    3052.940\n",
       "Site        1320.8416     65.503     20.165      0.000    1192.262    1449.422\n",
       "After        227.9881    190.638      1.196      0.232    -146.227     602.203\n",
       "Site:After  -881.5313     92.636     -9.516      0.000   -1063.371    -699.692\n",
       "t              0.5041      0.567      0.889      0.374      -0.609       1.618\n",
       "t:After       -0.9133      0.802     -1.138      0.255      -2.488       0.662\n",
       "==============================================================================\n",
       "Omnibus:                        4.562   Durbin-Watson:                   2.165\n",
       "Prob(Omnibus):                  0.102   Jarque-Bera (JB):                5.602\n",
       "Skew:                           0.006   Prob(JB):                       0.0608\n",
       "Kurtosis:                       3.410   Cond. No.                     2.62e+03\n",
       "==============================================================================\n",
       "\n",
       "Warnings:\n",
       "[1] Standard Errors assume that the covariance matrix of the errors is correctly specified.\n",
       "[2] The condition number is large, 2.62e+03. This might indicate that there are\n",
       "strong multicollinearity or other numerical problems.\n",
       "\"\"\""
      ]
     },
     "execution_count": 47,
     "metadata": {},
     "output_type": "execute_result"
    }
   ],
   "source": [
    "results = smf.ols(formula='Demand ~ Site*After+t*After', data=df).fit()\n",
    "results.summary()"
   ]
  },
  {
   "cell_type": "markdown",
   "metadata": {},
   "source": [
    "### Calculate structural demand parameters"
   ]
  },
  {
   "cell_type": "code",
   "execution_count": 48,
   "metadata": {},
   "outputs": [
    {
     "data": {
      "text/plain": [
       "-149.5819098248502"
      ]
     },
     "execution_count": 48,
     "metadata": {},
     "output_type": "execute_result"
    }
   ],
   "source": [
    "b_param = results.params['Site:After']*2/delta_c\n",
    "b_param"
   ]
  },
  {
   "cell_type": "code",
   "execution_count": 49,
   "metadata": {},
   "outputs": [
    {
     "data": {
      "text/plain": [
       "9990.156291719906"
      ]
     },
     "execution_count": 49,
     "metadata": {},
     "output_type": "execute_result"
    }
   ],
   "source": [
    "# A parameter using only first half data\n",
    "a_param_1 = np.mean(np.array(d_ex_obs_1)-np.array(p_ex_obs_1)*b_param)\n",
    "a_param_1"
   ]
  },
  {
   "cell_type": "code",
   "execution_count": 50,
   "metadata": {},
   "outputs": [
    {
     "data": {
      "text/plain": [
       "9989.91472448858"
      ]
     },
     "execution_count": 50,
     "metadata": {},
     "output_type": "execute_result"
    }
   ],
   "source": [
    "# A parameter using only second half data\n",
    "a_param_2 = np.mean(np.array(d_ex_obs_2)-np.array(p_ex_obs_2)*b_param)\n",
    "a_param_2"
   ]
  },
  {
   "cell_type": "code",
   "execution_count": 51,
   "metadata": {},
   "outputs": [
    {
     "data": {
      "text/plain": [
       "9990.035508104243"
      ]
     },
     "execution_count": 51,
     "metadata": {},
     "output_type": "execute_result"
    }
   ],
   "source": [
    "# A parameter using all the data, notice that the A parameter is just the average of demand - b_parameter*prices.\n",
    "a_param = np.mean(np.array(d_ex_obs)-np.array(p_ex_obs)*b_param)\n",
    "a_param"
   ]
  },
  {
   "cell_type": "code",
   "execution_count": 52,
   "metadata": {},
   "outputs": [],
   "source": [
    "from itertools import chain\n",
    "periods = 200\n",
    "params1 = 10000, 150,7000, 100, 10,10, 2000 # True demand and cost parameters\n",
    "params2 = 10000, 150,7000, 100, 20,10, 2000 # True demand and cost parameters\n",
    "shockparams = 300,100,100,5,5\n",
    "params = [periods, params1, params2, shockparams]\n",
    "def simulate_a_bunch(numsims, params):\n",
    "    periods, params1, params2, shockparams = params\n",
    "    A_ols = list()\n",
    "    b_ols = list()\n",
    "    A_dd = list()\n",
    "    b_dd = list()\n",
    "    for s in range(numsims):\n",
    "        data = _simulate_(periods, params1, params2, shockparams)\n",
    "        d_ex_obs_1,d_h_obs_1,p_ex_obs_1,p_h_obs_1,d_ex_obs_2,d_h_obs_2,p_ex_obs_2,p_h_obs_2 = data\n",
    "        d_ex_obs = list(chain(*[d_ex_obs_1, d_ex_obs_2]))\n",
    "        d_h_obs = list(chain(*[d_h_obs_1, d_h_obs_2]))\n",
    "        p_ex_obs = list(chain(*[p_ex_obs_1, p_ex_obs_2]))\n",
    "        p_h_obs = list(chain(*[p_h_obs_1, p_h_obs_2]))\n",
    "        t = range(len(d_ex_obs))\n",
    "        results_ex = OLS(d_ex_obs, sm.add_constant(p_ex_obs)).fit()\n",
    "        A_ols.append(results_ex.params[0])\n",
    "        b_ols.append(-results_ex.params[1])\n",
    "        d = d_ex_obs + d_h_obs # stacks demand from 2 sites\n",
    "        p = p_ex_obs + p_h_obs # stacks prices from two sites \n",
    "        site = len(p_ex_obs)*[1]+len(p_h_obs)*[0] # creates dummy for site \n",
    "        t = t*2 # Stacks time variable\n",
    "        After = periods*[0]+periods*[1] \n",
    "        After_all = 2*After # stacks 2 after vectors together\n",
    "        df = pd.DataFrame(list(zip(d,p,site,After_all,t)), columns = ['Demand', 'Price', 'Site', 'After', 't' ])\n",
    "        results = smf.ols(formula='Price ~ Site*After+t', data=df).fit()\n",
    "        delta_p = results.params['Site:After']\n",
    "        delta_c = delta_p*2\n",
    "        results = smf.ols(formula='Demand ~ Site*After+t*After', data=df).fit()\n",
    "        b_param = results.params['Site:After']*2/delta_c\n",
    "        A_param = np.mean(np.array(d_ex_obs)-np.array(p_ex_obs)*b_param)\n",
    "        A_dd.append(A_param)\n",
    "        b_dd.append(-b_param)\n",
    "    return pd.DataFrame(zip(A_ols, b_ols, A_dd, b_dd), columns = ['A_ols', 'b_ols', 'A_dd', 'b_dd'])"
   ]
  },
  {
   "cell_type": "code",
   "execution_count": 53,
   "metadata": {},
   "outputs": [],
   "source": [
    "simulations = simulate_a_bunch(3000, params) # Simulate this 1000 times"
   ]
  },
  {
   "cell_type": "code",
   "execution_count": 54,
   "metadata": {},
   "outputs": [
    {
     "data": {
      "image/png": "[encoded data removed]",
      "text/plain": [
       "<matplotlib.figure.Figure at 0x10b75b70>"
      ]
     },
     "metadata": {},
     "output_type": "display_data"
    }
   ],
   "source": [
    "f, axes = plt.subplots(2,2, figsize = (15,10))\n",
    "f.suptitle('OLS vs. DD Structural Parameters. \\nTrue parameters:A=10000, b=150')\n",
    "axes[(0,0)].hist(simulations.A_ols)\n",
    "axes[(0,1)].hist(simulations.b_ols)\n",
    "axes[(1,0)].hist(simulations.A_dd)\n",
    "axes[(1,1)].hist(simulations.b_dd)\n",
    "for i in range(2):\n",
    "    t = ['ols', 'dd'][i]\n",
    "    for j in range(2):\n",
    "        p = ['A', 'b'][j]\n",
    "        axes[(i,j)].set_title(p+'_'+t)"
   ]
  },
  {
   "cell_type": "code",
   "execution_count": 55,
   "metadata": {},
   "outputs": [
    {
     "data": {
      "text/plain": [
       "A_ols     9617.666204\n",
       "b_ols      140.630624\n",
       "A_dd     10013.963326\n",
       "b_dd       150.337067\n",
       "dtype: float64"
      ]
     },
     "execution_count": 55,
     "metadata": {},
     "output_type": "execute_result"
    }
   ],
   "source": [
    "simulations.mean()"
   ]
  },
  {
   "cell_type": "markdown",
   "metadata": {},
   "source": [
    "#### Think of how you can use diff-in-diff to solve the following endogeneity issues\n",
    "\n",
    "1. [Effect of online reviews on sales](http://journals.ama.org/doi/abs/10.1509/jmkr.43.3.345)\n",
    "2. Effect of a sales promotion on sales\n",
    "3. Effect of pay structure on performance\n",
    "4. [Effect of responding to online reviews on subsequent reviews](http://journals.ama.org/doi/abs/10.1509/jmr.15.0511)\n",
    "5. [Do managers write fake online reviews?](http://www.jstor.org/stable/pdf/42920894.pdf)"
   ]
  },
  {
   "cell_type": "markdown",
   "metadata": {},
   "source": [
    "### Natural Experiment Strategy 2. Regression Discontinuity Design (This is great if you can find it)\n",
    "\n",
    "Let's start with a demand unrelated question, does getting a scholarship improve student performance?\n",
    "\n",
    "On face value, we may think that there is probably a correlation between GPA and scholarship. However, what causes what? On the one hand, individuals who are more likely to receive a scholarship are likely to be better students, and more likely to get a scholarship. On the other hand, individuals who get scholarships are less likely to need to work/ have stress of taking out student loans, etc...\n",
    "\n",
    "So how do we resolve this issue?\n",
    "\n",
    "Let's think of a simple (perhaps naive) strategy to estimate effect of scholarships on student performance:\n",
    "\n",
    "$$\\text{GPA} = \\beta_0+\\delta \\text{Scholarship}+e$$\n",
    "\n",
    "Let $e$ represents the characteristic that is unobserved in the data, but observed by the scholarship committee (say written essays) and that this error is correlated with SAT performance.\n",
    "\n",
    "$$ e\\sim N(0,.2) $$\n",
    "\n",
    "Simultaneously, let's say scholarships are awarded as follows:\n",
    "\n",
    "\n",
    "\\begin{equation}\n",
    "  \\text{Scholarship} =\n",
    "  \\begin{cases}\n",
    "    1 & \\text{if SAT>1800} \\\\\n",
    "    0 & \\text{otherwise}\n",
    "  \\end{cases}\n",
    "\\end{equation}\n",
    "\n"
   ]
  },
  {
   "cell_type": "code",
   "execution_count": 68,
   "metadata": {},
   "outputs": [
    {
     "data": {
      "text/plain": [
       "Text(0.5,1,u'GPA vs SAT')"
      ]
     },
     "execution_count": 68,
     "metadata": {},
     "output_type": "execute_result"
    },
    {
     "data": {
      "image/png": "[encoded data removed]",
      "text/plain": [
       "<matplotlib.figure.Figure at 0x10f91c88>"
      ]
     },
     "metadata": {},
     "output_type": "display_data"
    }
   ],
   "source": [
    "obs = 100000\n",
    "b0 = 2.3\n",
    "d = .1\n",
    "b1 = .0015\n",
    "b2  = -.0000005\n",
    "cutoff = 1800\n",
    "e = np.random.normal(0,.2, obs)\n",
    "SAT = np.array([np.round(s/10)*10 for s in (1100*e+1500)])\n",
    "Scholarship = [int(max(min(np.round((np.sign(s-cutoff)+1)/2+e[i]/10), 1), 0))for i,s in enumerate(SAT)]\n",
    "GPA = b0+d*np.array(Scholarship)+b1*SAT+b2*np.square(SAT)+e\n",
    "df = pd.DataFrame(zip(GPA, Scholarship, SAT), columns = ['GPA', 'Scholarship', 'SAT'])\n",
    "f, axes = plt.subplots(2,2, figsize = (18,9))\n",
    "axes[(0,0)].hist(SAT)\n",
    "axes[(0,0)].axvline(x=cutoff, c='r')\n",
    "axes[(0,0)].set_title('SAT Scores')\n",
    "axes[(0,1)].hist(Scholarship)\n",
    "axes[(0,1)].set_title('Scholarship Assignment')\n",
    "axes[(1,0)].hist(GPA)\n",
    "axes[(1,0)].set_title('GPA')\n",
    "axes[(1,1)].scatter([SAT[i] for i,s in enumerate(Scholarship) if s==1], [GPA[i] for i,s in enumerate(Scholarship) if s==1], s=.01, alpha = .2)\n",
    "axes[(1,1)].scatter([SAT[i] for i,s in enumerate(Scholarship) if s==0], [GPA[i] for i,s in enumerate(Scholarship) if s==0], s =.01, alpha =.2)\n",
    "axes[(1,1)].set_title('GPA vs SAT')"
   ]
  },
  {
   "cell_type": "code",
   "execution_count": null,
   "metadata": {},
   "outputs": [],
   "source": []
  },
  {
   "cell_type": "code",
   "execution_count": 57,
   "metadata": {},
   "outputs": [
    {
     "data": {
      "text/html": [
       "<table class=\"simpletable\">\n",
       "<caption>OLS Regression Results</caption>\n",
       "<tr>\n",
       "  <th>Dep. Variable:</th>           <td>GPA</td>       <th>  R-squared:         </th>  <td>   0.320</td> \n",
       "</tr>\n",
       "<tr>\n",
       "  <th>Model:</th>                   <td>OLS</td>       <th>  Adj. R-squared:    </th>  <td>   0.320</td> \n",
       "</tr>\n",
       "<tr>\n",
       "  <th>Method:</th>             <td>Least Squares</td>  <th>  F-statistic:       </th>  <td>4.696e+04</td>\n",
       "</tr>\n",
       "<tr>\n",
       "  <th>Date:</th>             <td>Wed, 04 Apr 2018</td> <th>  Prob (F-statistic):</th>   <td>  0.00</td>  \n",
       "</tr>\n",
       "<tr>\n",
       "  <th>Time:</th>                 <td>15:04:06</td>     <th>  Log-Likelihood:    </th>  <td>  30268.</td> \n",
       "</tr>\n",
       "<tr>\n",
       "  <th>No. Observations:</th>      <td>100000</td>      <th>  AIC:               </th> <td>-6.053e+04</td>\n",
       "</tr>\n",
       "<tr>\n",
       "  <th>Df Residuals:</th>          <td> 99998</td>      <th>  BIC:               </th> <td>-6.051e+04</td>\n",
       "</tr>\n",
       "<tr>\n",
       "  <th>Df Model:</th>              <td>     1</td>      <th>                     </th>      <td> </td>    \n",
       "</tr>\n",
       "<tr>\n",
       "  <th>Covariance Type:</th>      <td>nonrobust</td>    <th>                     </th>      <td> </td>    \n",
       "</tr>\n",
       "</table>\n",
       "<table class=\"simpletable\">\n",
       "<tr>\n",
       "       <td></td>          <th>coef</th>     <th>std err</th>      <th>t</th>      <th>P>|t|</th>  <th>[0.025</th>    <th>0.975]</th>  \n",
       "</tr>\n",
       "<tr>\n",
       "  <th>Intercept</th>   <td>    3.3711</td> <td>    0.001</td> <td> 5693.765</td> <td> 0.000</td> <td>    3.370</td> <td>    3.372</td>\n",
       "</tr>\n",
       "<tr>\n",
       "  <th>Scholarship</th> <td>    0.4320</td> <td>    0.002</td> <td>  216.707</td> <td> 0.000</td> <td>    0.428</td> <td>    0.436</td>\n",
       "</tr>\n",
       "</table>\n",
       "<table class=\"simpletable\">\n",
       "<tr>\n",
       "  <th>Omnibus:</th>       <td>13930.177</td> <th>  Durbin-Watson:     </th> <td>   2.002</td> \n",
       "</tr>\n",
       "<tr>\n",
       "  <th>Prob(Omnibus):</th>  <td> 0.000</td>   <th>  Jarque-Bera (JB):  </th> <td>22521.602</td>\n",
       "</tr>\n",
       "<tr>\n",
       "  <th>Skew:</th>           <td>-0.963</td>   <th>  Prob(JB):          </th> <td>    0.00</td> \n",
       "</tr>\n",
       "<tr>\n",
       "  <th>Kurtosis:</th>       <td> 4.302</td>   <th>  Cond. No.          </th> <td>    3.56</td> \n",
       "</tr>\n",
       "</table>"
      ],
      "text/plain": [
       "<class 'statsmodels.iolib.summary.Summary'>\n",
       "\"\"\"\n",
       "                            OLS Regression Results                            \n",
       "==============================================================================\n",
       "Dep. Variable:                    GPA   R-squared:                       0.320\n",
       "Model:                            OLS   Adj. R-squared:                  0.320\n",
       "Method:                 Least Squares   F-statistic:                 4.696e+04\n",
       "Date:                Wed, 04 Apr 2018   Prob (F-statistic):               0.00\n",
       "Time:                        15:04:06   Log-Likelihood:                 30268.\n",
       "No. Observations:              100000   AIC:                        -6.053e+04\n",
       "Df Residuals:                   99998   BIC:                        -6.051e+04\n",
       "Df Model:                           1                                         \n",
       "Covariance Type:            nonrobust                                         \n",
       "===============================================================================\n",
       "                  coef    std err          t      P>|t|      [0.025      0.975]\n",
       "-------------------------------------------------------------------------------\n",
       "Intercept       3.3711      0.001   5693.765      0.000       3.370       3.372\n",
       "Scholarship     0.4320      0.002    216.707      0.000       0.428       0.436\n",
       "==============================================================================\n",
       "Omnibus:                    13930.177   Durbin-Watson:                   2.002\n",
       "Prob(Omnibus):                  0.000   Jarque-Bera (JB):            22521.602\n",
       "Skew:                          -0.963   Prob(JB):                         0.00\n",
       "Kurtosis:                       4.302   Cond. No.                         3.56\n",
       "==============================================================================\n",
       "\n",
       "Warnings:\n",
       "[1] Standard Errors assume that the covariance matrix of the errors is correctly specified.\n",
       "\"\"\""
      ]
     },
     "execution_count": 57,
     "metadata": {},
     "output_type": "execute_result"
    }
   ],
   "source": [
    "results = smf.ols(formula = 'GPA~Scholarship', data = df).fit()\n",
    "results.summary()"
   ]
  },
  {
   "cell_type": "code",
   "execution_count": 58,
   "metadata": {},
   "outputs": [
    {
     "name": "stdout",
     "output_type": "stream",
     "text": [
      "We overestimate the effect of the scholarship to be: 0.4319741431181099\n"
     ]
    }
   ],
   "source": [
    "print 'We overestimate the effect of the scholarship to be: ' + str(results.params[1])"
   ]
  },
  {
   "cell_type": "code",
   "execution_count": 59,
   "metadata": {},
   "outputs": [
    {
     "data": {
      "text/html": [
       "<table class=\"simpletable\">\n",
       "<caption>OLS Regression Results</caption>\n",
       "<tr>\n",
       "  <th>Dep. Variable:</th>           <td>GPA</td>       <th>  R-squared:         </th>  <td>   0.986</td> \n",
       "</tr>\n",
       "<tr>\n",
       "  <th>Model:</th>                   <td>OLS</td>       <th>  Adj. R-squared:    </th>  <td>   0.986</td> \n",
       "</tr>\n",
       "<tr>\n",
       "  <th>Method:</th>             <td>Least Squares</td>  <th>  F-statistic:       </th>  <td>3.502e+06</td>\n",
       "</tr>\n",
       "<tr>\n",
       "  <th>Date:</th>             <td>Wed, 04 Apr 2018</td> <th>  Prob (F-statistic):</th>   <td>  0.00</td>  \n",
       "</tr>\n",
       "<tr>\n",
       "  <th>Time:</th>                 <td>15:04:06</td>     <th>  Log-Likelihood:    </th> <td>2.2418e+05</td>\n",
       "</tr>\n",
       "<tr>\n",
       "  <th>No. Observations:</th>      <td>100000</td>      <th>  AIC:               </th> <td>-4.483e+05</td>\n",
       "</tr>\n",
       "<tr>\n",
       "  <th>Df Residuals:</th>          <td> 99997</td>      <th>  BIC:               </th> <td>-4.483e+05</td>\n",
       "</tr>\n",
       "<tr>\n",
       "  <th>Df Model:</th>              <td>     2</td>      <th>                     </th>      <td> </td>    \n",
       "</tr>\n",
       "<tr>\n",
       "  <th>Covariance Type:</th>      <td>nonrobust</td>    <th>                     </th>      <td> </td>    \n",
       "</tr>\n",
       "</table>\n",
       "<table class=\"simpletable\">\n",
       "<tr>\n",
       "       <td></td>          <th>coef</th>     <th>std err</th>      <th>t</th>      <th>P>|t|</th>  <th>[0.025</th>    <th>0.975]</th>  \n",
       "</tr>\n",
       "<tr>\n",
       "  <th>Intercept</th>   <td>    1.9419</td> <td>    0.001</td> <td> 2931.570</td> <td> 0.000</td> <td>    1.941</td> <td>    1.943</td>\n",
       "</tr>\n",
       "<tr>\n",
       "  <th>Scholarship</th> <td>    0.0055</td> <td>    0.000</td> <td>   15.822</td> <td> 0.000</td> <td>    0.005</td> <td>    0.006</td>\n",
       "</tr>\n",
       "<tr>\n",
       "  <th>SAT</th>         <td>    0.0010</td> <td>  4.5e-07</td> <td> 2175.625</td> <td> 0.000</td> <td>    0.001</td> <td>    0.001</td>\n",
       "</tr>\n",
       "</table>\n",
       "<table class=\"simpletable\">\n",
       "<tr>\n",
       "  <th>Omnibus:</th>       <td>61811.616</td> <th>  Durbin-Watson:     </th>  <td>   2.001</td> \n",
       "</tr>\n",
       "<tr>\n",
       "  <th>Prob(Omnibus):</th>  <td> 0.000</td>   <th>  Jarque-Bera (JB):  </th> <td>992761.103</td>\n",
       "</tr>\n",
       "<tr>\n",
       "  <th>Skew:</th>           <td>-2.713</td>   <th>  Prob(JB):          </th>  <td>    0.00</td> \n",
       "</tr>\n",
       "<tr>\n",
       "  <th>Kurtosis:</th>       <td>17.450</td>   <th>  Cond. No.          </th>  <td>1.29e+04</td> \n",
       "</tr>\n",
       "</table>"
      ],
      "text/plain": [
       "<class 'statsmodels.iolib.summary.Summary'>\n",
       "\"\"\"\n",
       "                            OLS Regression Results                            \n",
       "==============================================================================\n",
       "Dep. Variable:                    GPA   R-squared:                       0.986\n",
       "Model:                            OLS   Adj. R-squared:                  0.986\n",
       "Method:                 Least Squares   F-statistic:                 3.502e+06\n",
       "Date:                Wed, 04 Apr 2018   Prob (F-statistic):               0.00\n",
       "Time:                        15:04:06   Log-Likelihood:             2.2418e+05\n",
       "No. Observations:              100000   AIC:                        -4.483e+05\n",
       "Df Residuals:                   99997   BIC:                        -4.483e+05\n",
       "Df Model:                           2                                         \n",
       "Covariance Type:            nonrobust                                         \n",
       "===============================================================================\n",
       "                  coef    std err          t      P>|t|      [0.025      0.975]\n",
       "-------------------------------------------------------------------------------\n",
       "Intercept       1.9419      0.001   2931.570      0.000       1.941       1.943\n",
       "Scholarship     0.0055      0.000     15.822      0.000       0.005       0.006\n",
       "SAT             0.0010    4.5e-07   2175.625      0.000       0.001       0.001\n",
       "==============================================================================\n",
       "Omnibus:                    61811.616   Durbin-Watson:                   2.001\n",
       "Prob(Omnibus):                  0.000   Jarque-Bera (JB):           992761.103\n",
       "Skew:                          -2.713   Prob(JB):                         0.00\n",
       "Kurtosis:                      17.450   Cond. No.                     1.29e+04\n",
       "==============================================================================\n",
       "\n",
       "Warnings:\n",
       "[1] Standard Errors assume that the covariance matrix of the errors is correctly specified.\n",
       "[2] The condition number is large, 1.29e+04. This might indicate that there are\n",
       "strong multicollinearity or other numerical problems.\n",
       "\"\"\""
      ]
     },
     "execution_count": 59,
     "metadata": {},
     "output_type": "execute_result"
    }
   ],
   "source": [
    "results = smf.ols(formula = 'GPA~Scholarship + SAT', data = df).fit()\n",
    "results.summary()"
   ]
  },
  {
   "cell_type": "code",
   "execution_count": 60,
   "metadata": {},
   "outputs": [
    {
     "name": "stdout",
     "output_type": "stream",
     "text": [
      "Merely controlling for SAT is not enough unless we know the exact functional form of the relationship.\n",
      "The estimated effect is now : 0.005495447470698454\n"
     ]
    }
   ],
   "source": [
    "print 'Merely controlling for SAT is not enough unless we know the exact functional form of the relationship.'\n",
    "print 'The estimated effect is now : '+str(results.params['Scholarship'])"
   ]
  },
  {
   "cell_type": "markdown",
   "metadata": {},
   "source": [
    "In order to properly estimate this, we roughly need 2 things.\n",
    "1. We should limit the window of data around the point of scholarship assignment.\n",
    "2. We should try to estimate the effect of scholarship on top of the underlying continuous determinant of scholarship, SAT.\n",
    "\n",
    "The idea is that the performance between someone with just under the scholarship cutoff and just above the scholarship cutoff should be similar in the absence of scholarships, so that any difference between the 2 groups should be due to the scholarship."
   ]
  },
  {
   "cell_type": "code",
   "execution_count": 70,
   "metadata": {},
   "outputs": [
    {
     "data": {
      "text/html": [
       "<div>\n",
       "<style scoped>\n",
       "    .dataframe tbody tr th:only-of-type {\n",
       "        vertical-align: middle;\n",
       "    }\n",
       "\n",
       "    .dataframe tbody tr th {\n",
       "        vertical-align: top;\n",
       "    }\n",
       "\n",
       "    .dataframe thead th {\n",
       "        text-align: right;\n",
       "    }\n",
       "</style>\n",
       "<table border=\"1\" class=\"dataframe\">\n",
       "  <thead>\n",
       "    <tr style=\"text-align: right;\">\n",
       "      <th></th>\n",
       "      <th>GPA</th>\n",
       "      <th>Scholarship</th>\n",
       "      <th>SAT</th>\n",
       "      <th>Window</th>\n",
       "    </tr>\n",
       "  </thead>\n",
       "  <tbody>\n",
       "    <tr>\n",
       "      <th>0</th>\n",
       "      <td>3.360908</td>\n",
       "      <td>0</td>\n",
       "      <td>1430.0</td>\n",
       "      <td>365.0</td>\n",
       "    </tr>\n",
       "    <tr>\n",
       "      <th>1</th>\n",
       "      <td>2.608936</td>\n",
       "      <td>0</td>\n",
       "      <td>840.0</td>\n",
       "      <td>955.0</td>\n",
       "    </tr>\n",
       "    <tr>\n",
       "      <th>2</th>\n",
       "      <td>3.476776</td>\n",
       "      <td>0</td>\n",
       "      <td>1560.0</td>\n",
       "      <td>235.0</td>\n",
       "    </tr>\n",
       "    <tr>\n",
       "      <th>3</th>\n",
       "      <td>3.436840</td>\n",
       "      <td>0</td>\n",
       "      <td>1510.0</td>\n",
       "      <td>285.0</td>\n",
       "    </tr>\n",
       "    <tr>\n",
       "      <th>4</th>\n",
       "      <td>3.337532</td>\n",
       "      <td>0</td>\n",
       "      <td>1410.0</td>\n",
       "      <td>385.0</td>\n",
       "    </tr>\n",
       "  </tbody>\n",
       "</table>\n",
       "</div>"
      ],
      "text/plain": [
       "        GPA  Scholarship     SAT  Window\n",
       "0  3.360908            0  1430.0   365.0\n",
       "1  2.608936            0   840.0   955.0\n",
       "2  3.476776            0  1560.0   235.0\n",
       "3  3.436840            0  1510.0   285.0\n",
       "4  3.337532            0  1410.0   385.0"
      ]
     },
     "execution_count": 70,
     "metadata": {},
     "output_type": "execute_result"
    }
   ],
   "source": [
    "df['Window'] = df.SAT.apply(lambda x: np.abs(x-cutoff+5))\n",
    "df.head()"
   ]
  },
  {
   "cell_type": "markdown",
   "metadata": {},
   "source": [
    "#### First, let's look at a strict window (within 20 points of cutoff)"
   ]
  },
  {
   "cell_type": "code",
   "execution_count": 71,
   "metadata": {},
   "outputs": [
    {
     "data": {
      "text/plain": [
       "Text(0.5,1,u'GPA vs SAT')"
      ]
     },
     "execution_count": 71,
     "metadata": {},
     "output_type": "execute_result"
    },
    {
     "data": {
      "image/png": "[encoded data removed]",
      "text/plain": [
       "<matplotlib.figure.Figure at 0x28ac15c0>"
      ]
     },
     "metadata": {},
     "output_type": "display_data"
    }
   ],
   "source": [
    "temp = df[df.Window<=20]  # let's restrict it to those within 20 points of the scholarship threshold\n",
    "f, axes = plt.subplots(2,2, figsize = (18,9))\n",
    "axes[(0,0)].hist(temp.SAT)\n",
    "axes[(0,0)].axvline(x=cutoff-5, c='r')\n",
    "axes[(0,0)].set_title('SAT Scores')\n",
    "axes[(0,1)].hist(temp.Scholarship)\n",
    "axes[(0,1)].set_title('Scholarship Assignment')\n",
    "axes[(1,0)].hist(temp.GPA)\n",
    "axes[(1,0)].set_title('GPA')\n",
    "axes[(1,1)].scatter(temp.SAT[temp.Scholarship==1], temp.GPA[temp.Scholarship==1], s=.1, alpha = .3)\n",
    "axes[(1,1)].scatter(temp.SAT[temp.Scholarship==0], temp.GPA[temp.Scholarship==0], s = .1, alpha = .3)\n",
    "axes[(1,1)].axvline(x=cutoff-5, c='r')\n",
    "axes[(1,1)].set_title('GPA vs SAT')"
   ]
  },
  {
   "cell_type": "code",
   "execution_count": 73,
   "metadata": {},
   "outputs": [
    {
     "data": {
      "text/plain": [
       "Text(0.5,1,u'RDD Trend Comparisons')"
      ]
     },
     "execution_count": 73,
     "metadata": {},
     "output_type": "execute_result"
    },
    {
     "data": {
      "image/png": "[encoded data removed]",
      "text/plain": [
       "<matplotlib.figure.Figure at 0x2ade93c8>"
      ]
     },
     "metadata": {},
     "output_type": "display_data"
    }
   ],
   "source": [
    "plt.figure(figsize=(15,10))\n",
    "plt.scatter(temp.SAT[temp.Scholarship==1], temp.GPA[temp.Scholarship==1], s=.1, alpha = .3)\n",
    "plt.scatter(temp.SAT[temp.Scholarship==0], temp.GPA[temp.Scholarship==0], s = .1, alpha = .3)\n",
    "params = smf.ols(formula = 'GPA~SAT', data = temp).fit().params\n",
    "pred = temp.SAT.apply(lambda x: x*params['SAT']+params['Intercept'])\n",
    "params = smf.ols(formula = 'GPA~Scholarship', data = temp).fit().params\n",
    "pred2a = temp[temp.Scholarship == 1].apply(lambda x: x.Scholarship*params['Scholarship']+params['Intercept'], axis =1)\n",
    "pred2b = temp[temp.Scholarship == 0].apply(lambda x: x.Scholarship*params['Scholarship']+params['Intercept'], axis =1)\n",
    "params = smf.ols(formula = 'GPA~SAT*Scholarship', data = temp).fit().params\n",
    "pred3a = temp[temp.Scholarship == 1].apply(lambda x: x.SAT*params['SAT']+x.Scholarship*params['Scholarship']+params['Intercept']+x.Scholarship*x.SAT*params['SAT:Scholarship'], axis =1)\n",
    "pred3b = temp[temp.Scholarship == 0].apply(lambda x: x.SAT*params['SAT']+x.Scholarship*params['Scholarship']+params['Intercept']+x.Scholarship*x.SAT*params['SAT:Scholarship'], axis =1)\n",
    "plt.plot(temp.SAT, pred, c='g', alpha = .5)\n",
    "plt.plot(temp[temp.Scholarship==1].SAT, pred2a, c = 'b', alpha = .5)\n",
    "plt.plot(temp[temp.Scholarship==0].SAT, pred2b, c = 'b', alpha = .5)\n",
    "plt.plot(temp[temp.Scholarship==1].SAT, pred3a, c = 'r', alpha = .5)\n",
    "plt.plot(temp[temp.Scholarship==0].SAT, pred3b, c = 'r', alpha = .5)\n",
    "plt.axvline(x=cutoff-5, c = 'purple', linestyle = 'dashed')\n",
    "plt.title('RDD Trend Comparisons')"
   ]
  },
  {
   "cell_type": "markdown",
   "metadata": {},
   "source": [
    "#### Let's look at a window with 100 of the cutoff"
   ]
  },
  {
   "cell_type": "code",
   "execution_count": 74,
   "metadata": {},
   "outputs": [
    {
     "data": {
      "text/plain": [
       "Text(0.5,1,u'GPA vs SAT')"
      ]
     },
     "execution_count": 74,
     "metadata": {},
     "output_type": "execute_result"
    },
    {
     "data": {
      "image/png": "[encoded data removed]",
      "text/plain": [
       "<matplotlib.figure.Figure at 0x28ac1588>"
      ]
     },
     "metadata": {},
     "output_type": "display_data"
    }
   ],
   "source": [
    "temp = df[df.Window<=100]  # let's restrict it to those within 20 points of the scholarship threshold\n",
    "len(temp)\n",
    "f, axes = plt.subplots(2,2, figsize = (18,9))\n",
    "axes[(0,0)].hist(temp.SAT)\n",
    "axes[(0,0)].axvline(x=cutoff, c='r')\n",
    "axes[(0,0)].set_title('SAT Scores')\n",
    "axes[(0,1)].hist(temp.Scholarship)\n",
    "axes[(0,1)].set_title('Scholarship Assignment')\n",
    "axes[(1,0)].hist(temp.GPA)\n",
    "axes[(1,0)].set_title('GPA')\n",
    "axes[(1,1)].scatter(temp.SAT[temp.Scholarship==1], temp.GPA[temp.Scholarship==1], s=.1, alpha = .3)\n",
    "axes[(1,1)].scatter(temp.SAT[temp.Scholarship==0], temp.GPA[temp.Scholarship==0], s=.1, alpha = .3)\n",
    "axes[(1,1)].set_title('GPA vs SAT')"
   ]
  },
  {
   "cell_type": "code",
   "execution_count": 65,
   "metadata": {},
   "outputs": [
    {
     "data": {
      "text/plain": [
       "Text(0.5,1,u'RDD Trend Comparisons')"
      ]
     },
     "execution_count": 65,
     "metadata": {},
     "output_type": "execute_result"
    },
    {
     "data": {
      "image/png": "[encoded data removed]",
      "text/plain": [
       "<matplotlib.figure.Figure at 0x12ae2f60>"
      ]
     },
     "metadata": {},
     "output_type": "display_data"
    }
   ],
   "source": [
    "plt.figure(figsize=(12,8))\n",
    "plt.scatter(temp.SAT[temp.Scholarship==1], temp.GPA[temp.Scholarship==1], s=.1, alpha = .3)\n",
    "plt.scatter(temp.SAT[temp.Scholarship==0], temp.GPA[temp.Scholarship==0], s = .1, alpha = .3)\n",
    "# Regression with just underlying continuous covariate\n",
    "params = smf.ols(formula = 'GPA~SAT', data = temp).fit().params\n",
    "pred = temp.SAT.apply(lambda x: x*params['SAT']+params['Intercept'])\n",
    "# Naive regression\n",
    "params = smf.ols(formula = 'GPA~Scholarship', data = temp).fit().params\n",
    "pred2a = temp[temp.Scholarship == 1].apply(lambda x: x.Scholarship*params['Scholarship']+params['Intercept'], axis =1)\n",
    "pred2b = temp[temp.Scholarship == 0].apply(lambda x: x.Scholarship*params['Scholarship']+params['Intercept'], axis =1)\n",
    "# Linear RDD\n",
    "params = smf.ols(formula = 'GPA~Scholarship+SAT', data = temp).fit().params\n",
    "pred3a = temp[temp.Scholarship == 1].apply(lambda x: x.SAT*params['SAT']+x.Scholarship*params['Scholarship']+params['Intercept'], axis =1)\n",
    "pred3b = temp[temp.Scholarship == 0].apply(lambda x: x.SAT*params['SAT']+x.Scholarship*params['Scholarship']+params['Intercept'], axis =1)\n",
    "# RDD w/ polynomial expansion\n",
    "params = smf.ols(formula = 'GPA~Scholarship+SAT+np.square(SAT)+np.power(SAT,3)+np.power(SAT,4)', data = temp).fit().params\n",
    "pred4a = temp[temp.Scholarship == 1].apply(lambda x: x.SAT*params['SAT']\n",
    "                                           +x.Scholarship*params['Scholarship']\n",
    "                                           +params['Intercept']\n",
    "                                           +params['np.square(SAT)']*np.square(x.SAT)\n",
    "                                           +params['np.power(SAT, 3)']*np.power(x.SAT,3)\n",
    "                                           +params['np.power(SAT, 4)']*np.power(x.SAT,4), axis =1)\n",
    "pred4b = temp[temp.Scholarship == 0].apply(lambda x: x.SAT*params['SAT']\n",
    "                                           +x.Scholarship*params['Scholarship']\n",
    "                                           +params['Intercept']\n",
    "                                           +params['np.square(SAT)']*np.square(x.SAT)\n",
    "                                           +params['np.power(SAT, 3)']*np.power(x.SAT,3)\n",
    "                                           +params['np.power(SAT, 4)']*np.power(x.SAT,4), axis =1)\n",
    "plt.plot(temp.SAT, pred, c='g', alpha = .3)\n",
    "plt.plot(temp[temp.Scholarship==1].SAT, pred2a, c = 'y', alpha = 1)\n",
    "plt.plot(temp[temp.Scholarship==0].SAT, pred2b, c = 'y', alpha = 1)\n",
    "plt.plot(temp[temp.Scholarship==1].SAT, pred3a, c = 'r', alpha = .3)\n",
    "plt.plot(temp[temp.Scholarship==0].SAT, pred3b, c = 'r', alpha = .3)\n",
    "plt.plot(temp[temp.Scholarship==1].SAT, pred4a, c = 'black', alpha = .2)\n",
    "plt.plot(temp[temp.Scholarship==0].SAT, pred4b, c = 'black', alpha = .2)\n",
    "plt.axvline(x=cutoff-5, c = 'purple', linestyle = 'dashed')\n",
    "plt.title('RDD Trend Comparisons')"
   ]
  },
  {
   "cell_type": "markdown",
   "metadata": {},
   "source": [
    "**The equation we want to estimate to calculate $\\delta$ is (The Orange lines):**\n",
    "\n",
    "$$\\text{GPA}=\\beta_0+\\delta \\text{Scholarship} +\\beta_1\\text{SAT}+e$$"
   ]
  },
  {
   "cell_type": "code",
   "execution_count": 76,
   "metadata": {},
   "outputs": [
    {
     "data": {
      "text/plain": [
       "Text(0.5,1,u'Delta Parameters vs. Window\\nSmaller Windows lead to less biased estimates!')"
      ]
     },
     "execution_count": 76,
     "metadata": {},
     "output_type": "execute_result"
    },
    {
     "data": {
      "image/png": "[encoded data removed]",
      "text/plain": [
       "<matplotlib.figure.Figure at 0x2fc2c2b0>"
      ]
     },
     "metadata": {},
     "output_type": "display_data"
    }
   ],
   "source": [
    "Results = list()\n",
    "delta = list()\n",
    "windows = range(20, 800, 10)\n",
    "for w in windows:\n",
    "    temp = df[df.Window<=w]\n",
    "    results = smf.ols(formula = 'GPA~Scholarship+SAT', data = temp).fit()\n",
    "    Results.append(results)\n",
    "    delta.append(results.params['Scholarship'])\n",
    "plt.figure(figsize = (15,10))\n",
    "plt.scatter(windows, delta)\n",
    "plt.axhline(y=.1, c='r', linestyle = 'dashed')\n",
    "plt.title('Delta Parameters vs. Window\\nSmaller Windows lead to less biased estimates!')"
   ]
  },
  {
   "cell_type": "markdown",
   "metadata": {},
   "source": [
    "**We can also add polynomial trends to capture any nonlinearities in the effects of the underlying continuous covarite, in this case SAT score:**\n",
    "\n",
    "$$\\text{GPA}=\\beta_0+\\delta \\text{Scholarship} +\\beta_1\\text{SAT}+\\beta_2\\text{SAT}^2+...+\\beta_n\\text{SAT}^n+e$$\n",
    "\n",
    "We show the $\\delta$ parameters when including higher order polynomials (up to 4th degree) below"
   ]
  },
  {
   "cell_type": "code",
   "execution_count": null,
   "metadata": {},
   "outputs": [],
   "source": []
  },
  {
   "cell_type": "code",
   "execution_count": 77,
   "metadata": {},
   "outputs": [
    {
     "data": {
      "text/plain": [
       "Text(0.5,1,u'Delta Parameters vs. Window\\nThe bias does not escalate as quickly!')"
      ]
     },
     "execution_count": 77,
     "metadata": {},
     "output_type": "execute_result"
    },
    {
     "data": {
      "image/png": "[encoded data removed]",
      "text/plain": [
       "<matplotlib.figure.Figure at 0x2fbf8cc0>"
      ]
     },
     "metadata": {},
     "output_type": "display_data"
    }
   ],
   "source": [
    "Results = list()\n",
    "delta = list()\n",
    "windows = range(20, 800, 10)\n",
    "for w in windows:\n",
    "    temp = df[df.Window<=w]\n",
    "    results = smf.ols(formula = 'GPA~Scholarship+SAT+np.square(SAT)+np.power(SAT,3)+np.power(SAT,4)', data = temp).fit()\n",
    "    Results.append(results)\n",
    "    delta.append(results.params['Scholarship'])\n",
    "plt.figure(figsize = (15,10))\n",
    "plt.scatter(windows, delta)\n",
    "plt.axhline(y=.1, c='r', linestyle = 'dashed')\n",
    "plt.title('Delta Parameters vs. Window\\nThe bias does not escalate as quickly!')"
   ]
  },
  {
   "cell_type": "markdown",
   "metadata": {
    "collapsed": true
   },
   "source": [
    "#### How can RDD be applied?\n",
    "\n",
    "1. [Effect of online reviews on sales](http://www.hbs.edu/faculty/Publication%20Files/12-016_a7e4a5a2-03f9-490d-b093-8f951238dba2.pdf)\n",
    "2. [Effect of manager response to online reviews on subsequent reviews](http://journals.ama.org/doi/abs/10.1509/jmr.15.0511)\n",
    "3. [Effect of customer loyalty programs on customer profitability](http://pubsonline.informs.org/doi/abs/10.1287/mksc.1110.0670)\n",
    "4. Effect of American made label on sales.\n",
    "5. Effects of college rankings on applications."
   ]
  },
  {
   "cell_type": "code",
   "execution_count": null,
   "metadata": {},
   "outputs": [],
   "source": []
  }
 ],
 "metadata": {
  "anaconda-cloud": {},
  "kernelspec": {
   "display_name": "Python 2",
   "language": "python",
   "name": "python2"
  },
  "language_info": {
   "codemirror_mode": {
    "name": "ipython",
    "version": 2
   },
   "file_extension": ".py",
   "mimetype": "text/x-python",
   "name": "python",
   "nbconvert_exporter": "python",
   "pygments_lexer": "ipython2",
   "version": "2.7.14"
  }
 },
 "nbformat": 4,
 "nbformat_minor": 2
}
