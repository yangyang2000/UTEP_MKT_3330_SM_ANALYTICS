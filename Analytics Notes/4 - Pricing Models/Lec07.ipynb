{
 "cells": [
  {
   "cell_type": "markdown",
   "metadata": {},
   "source": [
    "\n",
    "# Calculus, a brief intro (this is basically what you will learn/ have learned in Calc-1)\n",
    "\n",
    "Calculus is the study of changes. For example, we are often interested in the \"derivative\" of functions, such as the derivative of a profit function. The derivative is just the direction of change of a function. The fundamental idea in calculus is the extension of the concept of a slope to non-linear functions.\n",
    "\n",
    "### Start with a linear function\n",
    "If we think about it, a slope is the rate of change of a linear function. Say, the demand function is $D=A-bp$, the slope is -b. How do we know this?\n",
    "\n",
    "We can pick 2 points on the Demand curve $(D(p_1+h), p_1+h)$ and $(D(p_1+h), p_1+h)$, and compute $\\frac{D(p_1+h)-D(p_1)}{p_1+h-p_1}$. Regardless of which 2 points we pick, we will always get $\\frac{(A-b(p_1+h))-(A-b(p_1))}{h}=\\frac{b(p_1-p_1-h)}{h}=-b$.\n",
    "\n",
    "### Now let's apply this concept of a \"slope\" to a nonlinear function, say the profit function associated with linear demand.\n",
    "\n",
    "$\\Pi=(A-bp)(p-c_m)-c_f=Ap-Ac_m-bp^2+bpc_m-c_f=-bp^2+(A+bc_m)p-Ac_m-c_f$\n",
    "\n",
    "Let's pick an arbitrary price, $p_1$, and find a slope by picking another price that is $h$ away from $p$.\n",
    "\n",
    "The slope is: $\\frac{\\Pi(p_1+h)-\\Pi(p_1)}{p_1+h-p_1}$\n",
    "\n",
    "Equivalently, we can expand out the profit expression to get:\n",
    "\n",
    "$$\\frac{(b(p_1+h)^2+(A+bc_m)(p_1+h)-Ac_m-c_f)-(bp_1^2+(A+bc_m)p_1-Ac_m-c_f)}{p_1+h-p_1}$$\n",
    "\n",
    "We can cancel out a bunch of terms and regroup:\n",
    "$$\\frac{b((p_1+h)^2-p_1^2)+(A+bc_m)h}{h}=\\frac{b((p_1^2+2p_1h+h^2)-p_1^2)+(A+bc_m)h}{h}=\\frac{bh(2p_1+h)+(A+bc_m)h}{h}$$\n",
    "\n",
    "Note that we can cancel out an h...\n",
    "\n",
    "Slope$= b(2p_1+h)+(A+bc_m)$\n",
    "\n",
    "Notice that the slope we compute on the profit function depends on both the $p_1$ and $h$, the 2 variables we set in order to determine the 2 points on the profit function on which to evaluate the slope. In other words, the slope is different depending on which 2 points we pick.\n",
    "\n",
    "### From slope to derivative\n",
    "The concept of the derivative is an extension of the idea of the slope. What we want is to compute the \"instantaneous slope.\" Or the slope as we move the 2 points closer and closer together. In other words, we want to compute the slope as $h\\rightarrow 0$.\n",
    "\n",
    "Let's look at our slope expression:\n",
    "Slope$= b(2p+h)+(A+bc_m)$\n",
    "\n",
    "What happens when h goes to 0? The slope becomes $2bp+A+bc_m$.\n",
    "\n",
    "Mathematically, we write this as $\\lim_{h\\rightarrow 0}b(2p+h)+(A+bc_m)=2bp+A+bc_m$\n",
    "\n",
    "### Definition of a derivative \n",
    "Thinking back at all of our steps, we can formally state, a derivative for a function, $f(x)$, is as follows.\n",
    "\n",
    "$$f'(x)=\\frac{df(x)}{d{x}}=\\lim_{h\\rightarrow 0}\\frac{f(x+h)-f(x)}{h}$$\n"
   ]
  },
  {
   "cell_type": "markdown",
   "metadata": {},
   "source": [
    "\n",
    "### Let's compute some derivatives for general functions\n",
    "Suppose we have a polynomial function,$f$, of degree n, i.e. a function that looks like this:\n",
    "\n",
    "$$f(x)=\\beta_nx^n+\\beta_{n-1}x^{n-1}+...+\\beta_{1}x+K$$\n",
    "\n",
    "$$f'(x)=\\lim_{h\\rightarrow 0}\\frac{f(x+h)-f(x)}{h}$$\n",
    "$$f'(x)=\\lim_{h\\rightarrow 0}\\frac{\\beta_n(x+h)^n+\\beta_{n-1}(x+h)^{n-1}+...+\\beta_{1}(x+h)+K-(\\beta_nx^n+\\beta_{n-1}x^{n-1}+...+\\beta_{1}x+K)}{h}$$\n",
    "$$f'(x)=\\lim_{h\\rightarrow 0}\\frac{\\beta_n((x+h)^n-x^n)+\\beta_{n-1}((x+h)^{n-1}-x^{n-1})+...+\\beta_{1}((x+h)-x)}{h}$$\n",
    "\n",
    "This looks ugly... but, recall binomial expansions from algebra!\n",
    "\n",
    "Binomial expansion: $$(x+h)^n={{n}\\choose{0}}x^nh^0+{{n}\\choose{1}}x^{n-1}h^1+...+{{n}\\choose{n-1}}x^{1}h^{n-1}+{{n}\\choose{n}}x^{0}h^{n}$$\n",
    "\n",
    "Where ${{n}\\choose{k}}$ is $n$ choose $k$, the number of ways to choose k elements from a set of n total elements.\n",
    "\n",
    "Recall $${{n}\\choose{k}}=\\frac{n!}{(n-k)!k!}$$\n",
    "\n",
    "For example:\n",
    "$${{n}\\choose{0}}=\\frac{n!}{n!0!}=1$$\n",
    "\n",
    "In summation notation for some $0\\le m\\le n$ of the binomial expansion, we have:\n",
    "$$(x+h)^m=\\sum_{k=0}^{m}{{m}\\choose{k}}x^{k}h^{m-k}$$\n",
    "We can rewrite this summation in 2 parts by taking out the highest power of $x$ from the summation (we'll see below why this is useful).\n",
    "$$(x+h)^m=x^mh^0\\sum_{k=0}^{m-1}{{m}\\choose{k}}x^{k}h^{m-k}=(x+h)^m=x^m+\\sum_{k=0}^{m-1}{{m}\\choose{k}}x^{k}h^{m-k}$$\n",
    "\n",
    "\n",
    "\n",
    "\n",
    "So... back to the derivative. We can then rewrite our derivate as follows:\n",
    "$$\\lim_{h\\rightarrow 0}\\beta_n\\frac{x^n+\\sum_{k=0}^{n-1}{{n}\\choose{k}}x^{k}h^{n-k}-x^{n}}{h}+\\beta_{n-1}\\frac{x^{n-1}+\\sum_{k=0}^{n-2}{{n-1}\\choose{k}}x^{k}h^{n-1-k}-x^{n-1}}{h}+...+\\beta_1 \\frac{h}{h}$$\n",
    "$$\\lim_{h\\rightarrow 0}\\beta_n\\frac{\\sum_{k=0}^{n-1}{{n}\\choose{k}}x^{k}h^{n-k}}{h}+\\beta_{n-1}\\frac{\\sum_{k=0}^{n-2}{{n-1}\\choose{k}}x^{k}h^{n-1-k}}{h}+...+\\beta_1$$\n",
    "$$\\lim_{h\\rightarrow 0}\\beta_n \\sum_{k=0}^{n-1}{{n}\\choose{k}}x^{k}h^{n-k-1}+\\beta_{n-1}\\sum_{k=0}^{n-2}{{n-1}\\choose{k}}x^{k}h^{n-1-k-1}+...+\\beta_1$$\n",
    "$$\\lim_{h\\rightarrow 0}\\beta_n \\bigg( {{n}\\choose{n-1}}x^{n-1}h^{n-(n-1)-1}+\\sum_{k=0}^{n-2}{{n}\\choose{k}}x^{k}h^{n-k-1}\\bigg)+\\beta_{n-1} \\bigg({{n-1}\\choose{n-2}}x^{n-2}h^{n-1-(n-2)-1}+\\sum_{k=0}^{n-2}{{n-1}\\choose{k}}x^{k}h^{n-1-k-1}\\bigg)+...+\\beta_1$$\n",
    "\n",
    "Let us observe here, when we take the limits for the expressions inside the summations, we will get 0, since everything is multiplied by h to some positive power, and 0 to a positive power is 0.\n",
    "\n",
    "We can then simplify to the below:\n",
    "$$\\lim_{h\\rightarrow 0}\\beta_n \\bigg( {{n}\\choose{n-1}}x^{n-1}h^{n-(n-1)-1}\\bigg)+\\beta_{n-1} \\bigg({{n-1}\\choose{n-2}}x^{n-2}h^{n-1-(n-2)-1}\\bigg)+...+\\beta_1$$\n",
    "\n",
    "Note that the remaining $h$'s we have all reduce to 1 as they are all raised to $0^{th}$ power.\n",
    "\n",
    "$$\\lim_{h\\rightarrow 0}\\beta_n \\bigg( {{n}\\choose{n-1}}x^{n-1}h^{0}\\bigg)+\\beta_{n-1} \\bigg({{n-1}\\choose{n-2}}x^{n-2}h^{0}\\bigg)+...+\\beta_1$$\n",
    "$$\\lim_{h\\rightarrow 0}\\beta_n {{n}\\choose{n-1}}x^{n-1}+\\beta_{n-1} {{n-1}\\choose{n-2}}x^{n-2}+...+\\beta_1$$\n",
    "\n",
    "We can then drop the limits since all the $h$'s are gone.\n",
    "$$\\beta_n {{n}\\choose{n-1}}x^{n-1}+\\beta_{n-1} {{n-1}\\choose{n-2}}x^{n-2}+...+\\beta_1$$\n",
    "\n",
    "For the last part, we just need to look at ${{m}\\choose{m-1}}$, since all the coefficients can be written as m choose 1 less than m. Going back to the definition of nCk:\n",
    "$${{m}\\choose{m-1}}=\\frac{m!}{(m-(m-1))!(m-1)!}=\\frac{m!}{1!(m-1)!}=\\frac{m}{1}=m$$\n",
    "\n",
    "We can finally rewrite the derivative of the polynomial as follows:\n",
    "\n",
    "$$\\beta_n nx^{n-1}+\\beta_{n-1} (n-1)x^{n-2}+...+\\beta_1$$\n",
    "\n",
    "Intuitively, to find the derivative of any polynomial, we take the power, multiply the expression by that number, and subtract 1 from the power of the expression. For example:\n",
    "$$\\frac{d3x^2}{dx} = 2\\times 3x^{2-1}=6x$$\n",
    "\n",
    "Another example:\n",
    "$$f(x)=6x^4+3x^2-7x+5$$\n",
    "$$\\frac{df(x)}{dx}=24x^3+6x-7$$\n",
    "\n",
    "##### What about the derivative of $f(x)=11x^{10}+7x^{3}-2x^2$?\n"
   ]
  },
  {
   "cell_type": "markdown",
   "metadata": {},
   "source": [
    "## Other useful derivatives.\n",
    "We won't go over these in detail, but you can look them up if you'd like.\n",
    "\n",
    "For proofs, see: http://tutorial.math.lamar.edu/Classes/CalcI/DiffExpLogFcns.aspx\n",
    "\n",
    "$$\\frac{d}{du}e^u=e^u$$\n",
    "\n",
    "$$\\frac{d}{du}ln(u)=\\frac{1}{u}$$\n",
    "# Constant multipliers can be taken out of the derivative\n",
    "$$\\frac{d}{dx}Kf(x)=K\\frac{d}{dx}f(x)$$\n",
    "\n",
    "\n",
    "# The All Important Chain rule: $\\frac{d}{dx}f(g(x))=g'(x)f'(g(x))$\n",
    "\n",
    "### Example 1:\n",
    "$$\\frac{d}{dx}e^{6x^2}=12xe^{6x^2}$$\n",
    "### Example 2:\n",
    "$$\\frac{d}{dx}ln({6x^2})=\\frac{12x}{6x^2}$$"
   ]
  },
  {
   "cell_type": "markdown",
   "metadata": {},
   "source": [
    "# The antiderivative (indefinite integral):\n",
    "So we can go from a function to its derivative, can we go from a derivative to a function? Just like addition's inverse is subtraction, the derivative's inverse is the integral... almost. We won't really go into the integral too much, we only need it for one step in our discussion of price sensitivity.\n",
    "\n",
    "Let's look at the simplest example, the linear function $d=A-bp$, its derivative is $-b$. However, the derivative of $C-bp$ is also $-b$. The parts of the function that doesn't depend on the variable get dropped in computing the derivative, so when we do the inverse of the derivative, we have to add the constant back in.\n",
    "\n",
    "### Example 1\n",
    "$$\\int{x^2}dx = \\frac{x^3}{3}+K$$\n",
    "\n",
    "### Example 2\n",
    "$$\\int{\\frac{3}{x}}dx = 3{ln(x)}+K$$"
   ]
  },
  {
   "cell_type": "markdown",
   "metadata": {},
   "source": [
    "# Alright... So what's this got to do with pricing?"
   ]
  },
  {
   "cell_type": "markdown",
   "metadata": {
    "collapsed": true
   },
   "source": [
    "# \"Price Sensitivity\"\n",
    "So far we have been using linear demand functions, and calling the b parameter the price sensitivity parameter. While in some sense, it is true that price sensitivity is being measured, it isn't a very good way of describing price sensitivity because of changes of its changing interpretation as a function of price and quantity levels. For example, a 1 unit decrease in price leads to 1 unit increase in sales is interpreted differently depending on the whether that unit decrase in price is from \\$1000 to \\$999 or from \\$2 to \\$1. SImilary, a unit decrease in sales from 499 units to 500 units is very different than a change from 4 units to 4 units. It would be nice that we cann somehow normalize this concept of price sensitivity..."
   ]
  },
  {
   "cell_type": "markdown",
   "metadata": {},
   "source": [
    "## Elasticity to the rescue!\n"
   ]
  },
  {
   "cell_type": "code",
   "execution_count": 1,
   "metadata": {},
   "outputs": [
    {
     "ename": "NameError",
     "evalue": "name 'YouTubeVideo' is not defined",
     "output_type": "error",
     "traceback": [
      "\u001b[1;31m---------------------------------------------------------------------------\u001b[0m",
      "\u001b[1;31mNameError\u001b[0m                                 Traceback (most recent call last)",
      "\u001b[1;32m<ipython-input-1-cc3f48d3e2f7>\u001b[0m in \u001b[0;36m<module>\u001b[1;34m()\u001b[0m\n\u001b[1;32m----> 1\u001b[1;33m \u001b[0mYouTubeVideo\u001b[0m\u001b[1;33m(\u001b[0m\u001b[1;34m\"eYWYgTjMQh4\"\u001b[0m\u001b[1;33m)\u001b[0m\u001b[1;33m\u001b[0m\u001b[0m\n\u001b[0m",
      "\u001b[1;31mNameError\u001b[0m: name 'YouTubeVideo' is not defined"
     ]
    }
   ],
   "source": [
    "YouTubeVideo(\"eYWYgTjMQh4\")"
   ]
  },
  {
   "cell_type": "markdown",
   "metadata": {
    "collapsed": true
   },
   "source": [
    "Generally, elasticity is defined as % change in an out come divided by % change in an input. Or in math...\n",
    "\n",
    "the x-elasticity of y is:\n",
    "\n",
    "$\\frac{\\Delta y(x)}{y(x)}/\\frac{\\Delta x}{x}$\n",
    "\n",
    "What we are interested in is the price-elasticity of demand:\n",
    "$\\frac{\\Delta D(p)}{D(p)}/\\frac{\\Delta p}{p}=\\frac{\\Delta D(p)}{\\Delta p}\\frac{p}{D(p)}$\n",
    "\n",
    "Recall, from calculus, that when $\\Delta\\rightarrow0$ $\\frac{\\Delta y}{\\Delta x}\\rightarrow \\frac{dy}{dx}=y'\\implies$ point price-elasticity of demand is $D'(p)\\frac{p}{D(p)}$\n",
    "\n",
    "Now, let's look at what is the price elasticity function for linear demand?\n",
    "\n",
    "$D'(p) = -b$\n",
    "\n",
    "$e(p) = -b\\frac{p}{A-bp}$\n",
    "\n",
    "What does this function look like?"
   ]
  },
  {
   "cell_type": "code",
   "execution_count": 2,
   "metadata": {},
   "outputs": [
    {
     "data": {
      "text/plain": [
       "Text(35,-25,u'elastic demand')"
      ]
     },
     "execution_count": 2,
     "metadata": {},
     "output_type": "execute_result"
    },
    {
     "data": {
      "image/png": "[encoded data removed]",
      "text/plain": [
       "<matplotlib.figure.Figure at 0xd551f60>"
      ]
     },
     "metadata": {},
     "output_type": "display_data"
    }
   ],
   "source": [
    "import numpy as np, pandas as pd\n",
    "% matplotlib inline\n",
    "import matplotlib.pyplot as plt\n",
    "def _Demand_(price, A, b): # Define a linear demand function D = A-b*price\n",
    "    try:\n",
    "        if len(price)>0:\n",
    "            return np.maximum(np.array(A-b*price), np.array([0]*len(price)))\n",
    "    except:\n",
    "        return max(A-b*price, 0)\n",
    "def _elasticity_linear_(prices, A, b):\n",
    "    try:\n",
    "        if len(prices)>0:\n",
    "            if (type(prices)!=np.array):\n",
    "                prices = np.array(prices)\n",
    "        return -b*prices/_Demand_(prices, A,b)\n",
    "    except:\n",
    "        return -b*prices/_Demand_(prices, A,b)\n",
    "prices = range(1,40)\n",
    "A,b = 200, 5\n",
    "elasticities = _elasticity_linear_(prices, A, b)\n",
    "plt.figure(figsize=(15,7)) # specify figure characteristics, here just the figure size.\n",
    "plt.scatter(prices, elasticities) # plot demand and prices (first profit function)\n",
    "plt.legend(['Elasticity= -5*p/(200-5*p)']) # label data series in legend\n",
    "plt.xlabel('Prices') # label axis\n",
    "plt.ylabel('Elasticities') # label axis\n",
    "plt.axhline(y=0, color='k') # draw origin x axis\n",
    "plt.axvline(x=0, color='k') # draw origin y axis\n",
    "plt.axhline(y=-1, color='r') # draw origin y axis\n",
    "plt.xlim(0,60)\n",
    "plt.title('Price Elasticity of Demand')\n",
    "plt.annotate('unit elasticity', xy=(45, -1), xytext=(45, -10),\n",
    "            arrowprops=dict(facecolor='black', shrink=0.05))\n",
    "plt.text(2, 6, 'inelastic demand', fontsize=15)\n",
    "plt.text(35, -25, 'elastic demand', fontsize=15)"
   ]
  },
  {
   "cell_type": "markdown",
   "metadata": {
    "collapsed": true
   },
   "source": [
    "# Constant price-elastic demand\n",
    "Linear demand has both elastic and inelastic regions as shown above. Can we write a demand function that has constant own price elasticity?\n",
    "\n",
    "Yes...\n",
    "\n",
    "Reminder that elasticity of demand is $e=D'(p)\\frac{p}{D(p)}$. We want to find a $D(p)$ such that $e$ does not depend on $p$.\n",
    "\n",
    "Let:\n",
    "$\\beta=D'(p)\\frac{p}{D(p)}$\n",
    "\n",
    "Note that this is a homogeneous first order differential equation (easy to solve!)\n",
    "\n",
    "$\\frac{D'}{D}=\\frac{\\beta}{p}$\n",
    "\n",
    "$\\int\\frac{D'}{D}dp=\\int\\frac{\\beta}{p}dp$\n",
    "\n",
    "$log(D(p))+K_2=\\beta log(p)+K_1$\n",
    "\n",
    "$log(D(p))=\\beta log(p)+K_1-K_2=\\beta log(p)+K$\n",
    "\n",
    "### Let's remember this form of the demand function:\n",
    "$$log(D(p))=\\beta log(p)+K$$\n",
    "\n",
    "Next we save for $D(p)$: $D(p)=e^{\\beta log(p)+K}=e^ke^{log(p)^{\\beta}}=p^{\\beta}e^k$\n",
    "\n",
    "### Consequently, our demand function is:\n",
    "\n",
    "$$D(p)=p^{\\beta}e^{K}$$\n",
    "\n",
    "### Alternatively, let's start with this demand function and show that it is constant price elastic\n",
    "\n",
    "$$D(p)=p^{\\beta}e^{K}$$\n",
    "\n",
    "$$D'(p)\\frac{p}{D(p)}=\\beta p^{\\beta-1}e^{k}\\frac{p}{p^\\beta e^{k}}==\\beta \\frac{p^{\\beta}e^{k}}{p^\\beta e^{k}}=\\beta$$\n",
    "\n",
    "Let's look at how this constant elasticity demand function looks graphically..\n"
   ]
  },
  {
   "cell_type": "code",
   "execution_count": 3,
   "metadata": {
    "collapsed": true
   },
   "outputs": [],
   "source": [
    "def _demand_constant_e_(prices,Beta, K):\n",
    "    if (type(prices)!=float) & (type(prices)!=int):\n",
    "        if type(prices)!=np.array:\n",
    "            prices = np.array(prices)\n",
    "        return np.power(prices,Beta)*np.exp(K)\n",
    "    else:\n",
    "        return np.power(prices,Beta)*np.exp(K)"
   ]
  },
  {
   "cell_type": "code",
   "execution_count": 4,
   "metadata": {},
   "outputs": [
    {
     "data": {
      "text/plain": [
       "<matplotlib.lines.Line2D at 0xd8cdcf8>"
      ]
     },
     "execution_count": 4,
     "metadata": {},
     "output_type": "execute_result"
    },
    {
     "data": {
      "image/png": "[encoded data removed]",
      "text/plain": [
       "<matplotlib.figure.Figure at 0x9019198>"
      ]
     },
     "metadata": {},
     "output_type": "display_data"
    }
   ],
   "source": [
    "Beta = -1.0 #let's let elasticity = -1, we have a perfectly inelastic good\n",
    "demands1 = _demand_constant_e_(prices,Beta, 0)\n",
    "demands2 = _demand_constant_e_(prices,Beta, 1)\n",
    "demands3 = _demand_constant_e_(prices,Beta, 2)\n",
    "demands4 = _demand_constant_e_(prices,Beta, 3)\n",
    "plt.figure(figsize=(15,10))\n",
    "plt.title('Change in K')\n",
    "plt.scatter(prices, demands1)\n",
    "plt.scatter(prices, demands2, c = 'Yellow')\n",
    "plt.scatter(prices, demands3, c = 'Green')\n",
    "plt.scatter(prices, demands4, c = 'Red')\n",
    "plt.legend(['D1=p^-1*e^0', 'D2=p^-1*e^1', 'D3=p^-1*e^2', 'D4=p^-1*e^3'])\n",
    "plt.xlabel('Prices')\n",
    "plt.ylabel('Quantity')\n",
    "plt.axhline(y=0, color='k')\n",
    "plt.axvline(x=0, color='k')"
   ]
  },
  {
   "cell_type": "code",
   "execution_count": 5,
   "metadata": {},
   "outputs": [
    {
     "data": {
      "text/plain": [
       "<matplotlib.lines.Line2D at 0xdb56630>"
      ]
     },
     "execution_count": 5,
     "metadata": {},
     "output_type": "execute_result"
    },
    {
     "data": {
      "image/png": "[encoded data removed]",
      "text/plain": [
       "<matplotlib.figure.Figure at 0xd9986d8>"
      ]
     },
     "metadata": {},
     "output_type": "display_data"
    }
   ],
   "source": [
    "K=0\n",
    "Beta = -.2 #let's let elasticity = -.2, we have an inelastic good\n",
    "demands1 = _demand_constant_e_(prices,Beta, K)\n",
    "Beta = -.8 #let's let elasticity = -.8, we have an inelastic good\n",
    "demands2 = _demand_constant_e_(prices,Beta, K)\n",
    "Beta = -1.2 #let's let elasticity = -1.2, we have an elastic good\n",
    "demands3 = _demand_constant_e_(prices,Beta, K)\n",
    "Beta = -1.8 #let's let elasticity = -1.8, we have an elastic good\n",
    "demands4 = _demand_constant_e_(prices,Beta, K)\n",
    "Beta = -1.0 #let's let elasticity = -1, we have a unit elastic good\n",
    "demands5 = _demand_constant_e_(prices,Beta, K)\n",
    "plt.figure(figsize=(12,8))\n",
    "plt.title('Change in Beta for K=0')\n",
    "plt.scatter(prices, demands1)\n",
    "plt.scatter(prices, demands2, c = 'Yellow')\n",
    "plt.scatter(prices, demands3, c='red')\n",
    "plt.scatter(prices, demands4, c='green')\n",
    "plt.scatter(prices, demands5, c='purple')\n",
    "plt.legend(['b=-.2', 'b=-.8', 'b=-1.2', 'b=-1.8', 'b=-1'])\n",
    "plt.xlabel('Prices')\n",
    "plt.ylabel('Quantity')\n",
    "plt.axhline(y=0, color='k')\n",
    "plt.axvline(x=0, color='k')"
   ]
  },
  {
   "cell_type": "markdown",
   "metadata": {
    "collapsed": true
   },
   "source": [
    "# We have constant elasticity demands, now what do the profits look like?"
   ]
  },
  {
   "cell_type": "markdown",
   "metadata": {},
   "source": [
    "Let's assume that costs are still additively separable into $c_m$ and $c_f$. We would just have $D(p-c_m)-c_f$, so all we need to do is substitute in demand.\n",
    "\n",
    "$p^{\\beta}e^{K}(p-c_m)-c_f$\n",
    "\n",
    "Let's assume some numbers for costs:\n",
    "$c_m=2, c_f=100$\n",
    "\n",
    "Let's assume K = 5. How does elasticity change the profit function?"
   ]
  },
  {
   "cell_type": "code",
   "execution_count": 6,
   "metadata": {},
   "outputs": [
    {
     "name": "stderr",
     "output_type": "stream",
     "text": [
      "C:\\Users\\yangy\\AppData\\Local\\conda\\conda\\envs\\py27\\lib\\site-packages\\ipykernel_launcher.py:5: RuntimeWarning: divide by zero encountered in power\n",
      "  \"\"\"\n"
     ]
    },
    {
     "data": {
      "text/plain": [
       "<matplotlib.lines.Line2D at 0xec80390>"
      ]
     },
     "execution_count": 6,
     "metadata": {},
     "output_type": "execute_result"
    },
    {
     "data": {
      "image/png": "[encoded data removed]",
      "text/plain": [
       "<matplotlib.figure.Figure at 0xdb64940>"
      ]
     },
     "metadata": {},
     "output_type": "display_data"
    }
   ],
   "source": [
    "def _profit_(demands, prices, c_fixed, c_marginal): # define the profit function\n",
    "    return np.array(demands)*(np.array(prices)-c_marginal)-c_fixed\n",
    "cm,cf,K=2,10,5\n",
    "prices = range(0,100)\n",
    "Beta = -.2 #let's let elasticity = -.2, we have an inelastic good\n",
    "demands1 = _demand_constant_e_(prices,Beta, K)\n",
    "Beta = -.8 #let's let elasticity = -.8, we have an inelastic good\n",
    "demands2 = _demand_constant_e_(prices,Beta, K)\n",
    "Beta = -1.2 #let's let elasticity = -1.2, we have an elastic good\n",
    "demands3 = _demand_constant_e_(prices,Beta, K)\n",
    "Beta = -1.8 #let's let elasticity = -1.8, we have an elastic good\n",
    "demands4 = _demand_constant_e_(prices,Beta, K)\n",
    "Beta = -1.0 #let's let elasticity = -1, we have a unit elastic good\n",
    "demands5 = _demand_constant_e_(prices,Beta, K)\n",
    "profits1 = _profit_(demands1, prices, cf, cm)\n",
    "profits2 = _profit_(demands2, prices, cf, cm)\n",
    "profits3 = _profit_(demands3, prices, cf, cm)\n",
    "profits4 = _profit_(demands4, prices, cf, cm)\n",
    "profits5 = _profit_(demands5, prices, cf, cm)\n",
    "plt.figure(figsize=(12,8))\n",
    "plt.title('Profits by change in Beta for K='+ str(K)+', cm= ' +str(cm)+', cf=' +str(cf))\n",
    "# plt.scatter(prices, profits1)\n",
    "plt.scatter(prices, profits2, c = 'Yellow')\n",
    "plt.scatter(prices, profits3, c='red')\n",
    "# plt.scatter(prices, profits4, c='green')\n",
    "plt.scatter(prices, profits5, c='purple')\n",
    "plt.legend(['Inelastic: b=-.8', 'Elastic: b=-1.2', 'Unit elastic: b=-1'])\n",
    "plt.xlabel('Prices')\n",
    "plt.ylabel('Profit')\n",
    "plt.axhline(y=0, color='k')\n",
    "plt.axvline(x=0, color='k')"
   ]
  },
  {
   "cell_type": "markdown",
   "metadata": {
    "collapsed": true
   },
   "source": [
    "# Oh no! What happened to our well-behaved concave profits that have a peak?\n",
    "\n",
    "Let's look at the first derivative of the constant elasticity profit function.\n",
    "\n",
    "$\\Pi=p^{\\beta}e^{K}(p-c_m)-c_f$\n",
    "\n",
    "$\\frac{d\\Pi}{dp}=e^Kp^{\\beta-1}(p+\\beta p-\\beta c_m)$\n",
    "\n",
    "Let's examine this derivative to see if we can \"sign\" the derivative.\n",
    "\n",
    "$e^K>0,p^{\\beta-1}>0$ What about $p+\\beta p-\\beta c_m$?\n",
    "\n",
    "We know $b\\leq0$ therefore, the sign of  $p+\\beta (p-c_m)$ determines whether profit is inceasing or decreasing in prices. Suppose we never choose a price less than marginal cost, i.e. $p>c_m$, are there $\\beta$'s that make this expression always $>0$?\n",
    "\n",
    "Remember that $\\beta<0$. \n",
    "\n",
    "If $-1<\\beta<0$, which means demand is inelastic, then $p+\\beta(p-c_m)>0$. This means demand that is constantly inelastic implies profits always increase in price - although this increase begins to get smaller.\n",
    "\n",
    "If $\\beta=-1$ and $c_m=0$, then $p+\\beta(p-c_m)=0$. And if $p$ is relatively large compared to $c_m$, and demand is unit elastic, the change in profits is positive, but gets close to 0 for large values of $p$. This means there is a limit to profits as prices go to $\\infty$.\n",
    "\n",
    "If $\\beta<-1$, then there exists a p for which $p+\\beta(p-c_m)<0$ and a p for which $p+\\beta(p-c_m)>0$. The price that maximizes profit can be computed by setting $p+\\beta p-\\beta c_m=0$ and solving for $p$. \n",
    "\n",
    "# We get profit maximizing price for constant elastic demand as: \n",
    "\n",
    "## $$p^*=\\frac{\\beta c_m}{1+\\beta}$$"
   ]
  },
  {
   "cell_type": "code",
   "execution_count": 7,
   "metadata": {
    "collapsed": true
   },
   "outputs": [],
   "source": [
    "def _p_star_constant_e_(Beta, cm):\n",
    "    return (Beta*cm)/(1+Beta)"
   ]
  },
  {
   "cell_type": "markdown",
   "metadata": {
    "collapsed": true
   },
   "source": [
    "# Takeaways:\n",
    "1. Constant elasticity is probably not a good assumption across all price ranges, especially for inelastic demand. At some point, increases in prices will lead to a disproportionate decrease in demand.\n",
    "2. There is only a finite global maximums in profits for elastic demand.\n",
    "3. If the elasticity is constant, we only need that and the marginal cost to compute the optimal price.\n",
    "4. Regardless of elasticity, the constant elasticity demand at \\$1 is the same if the K parameter is the same."
   ]
  },
  {
   "cell_type": "code",
   "execution_count": null,
   "metadata": {
    "collapsed": true
   },
   "outputs": [],
   "source": []
  },
  {
   "cell_type": "code",
   "execution_count": null,
   "metadata": {
    "collapsed": true
   },
   "outputs": [],
   "source": []
  },
  {
   "cell_type": "markdown",
   "metadata": {
    "collapsed": true
   },
   "source": [
    "# Let's assume we ran  a few price experiments\n",
    "In 4 equivalent test markets, we have the following sales for prices:\n",
    "\n",
    "Market 1: 4250 units @ \\$3\n",
    "\n",
    "Market 2: 1975 units @ \\$5\n",
    "\n",
    "Market 3: 950 units @ \\$8\n",
    "\n",
    "Market 4: 530 units @ \\$12"
   ]
  },
  {
   "cell_type": "code",
   "execution_count": 21,
   "metadata": {},
   "outputs": [
    {
     "data": {
      "text/plain": [
       "Text(0.5,0,u'Prices')"
      ]
     },
     "execution_count": 21,
     "metadata": {},
     "output_type": "execute_result"
    },
    {
     "data": {
      "image/png": "[encoded data removed]",
      "text/plain": [
       "<matplotlib.figure.Figure at 0x117e5898>"
      ]
     },
     "metadata": {},
     "output_type": "display_data"
    }
   ],
   "source": [
    "import pandas as pd\n",
    "sales = [4250,1950,1000,500]\n",
    "prices = [3, 5, 8, 12]\n",
    "data = pd.DataFrame(list(zip(prices, sales)), columns = ['Prices', 'Units'])\n",
    "plt.scatter(prices, sales)\n",
    "plt.ylabel('Units')\n",
    "plt.xlabel('Prices')"
   ]
  },
  {
   "cell_type": "code",
   "execution_count": 22,
   "metadata": {},
   "outputs": [
    {
     "data": {
      "text/html": [
       "<div>\n",
       "<style>\n",
       "    .dataframe thead tr:only-child th {\n",
       "        text-align: right;\n",
       "    }\n",
       "\n",
       "    .dataframe thead th {\n",
       "        text-align: left;\n",
       "    }\n",
       "\n",
       "    .dataframe tbody tr th {\n",
       "        vertical-align: top;\n",
       "    }\n",
       "</style>\n",
       "<table border=\"1\" class=\"dataframe\">\n",
       "  <thead>\n",
       "    <tr style=\"text-align: right;\">\n",
       "      <th></th>\n",
       "      <th>Prices</th>\n",
       "      <th>Units</th>\n",
       "    </tr>\n",
       "  </thead>\n",
       "  <tbody>\n",
       "    <tr>\n",
       "      <th>0</th>\n",
       "      <td>3</td>\n",
       "      <td>4250</td>\n",
       "    </tr>\n",
       "    <tr>\n",
       "      <th>1</th>\n",
       "      <td>5</td>\n",
       "      <td>1950</td>\n",
       "    </tr>\n",
       "    <tr>\n",
       "      <th>2</th>\n",
       "      <td>8</td>\n",
       "      <td>1000</td>\n",
       "    </tr>\n",
       "    <tr>\n",
       "      <th>3</th>\n",
       "      <td>12</td>\n",
       "      <td>500</td>\n",
       "    </tr>\n",
       "  </tbody>\n",
       "</table>\n",
       "</div>"
      ],
      "text/plain": [
       "   Prices  Units\n",
       "0       3   4250\n",
       "1       5   1950\n",
       "2       8   1000\n",
       "3      12    500"
      ]
     },
     "execution_count": 22,
     "metadata": {},
     "output_type": "execute_result"
    }
   ],
   "source": [
    "data"
   ]
  },
  {
   "cell_type": "markdown",
   "metadata": {},
   "source": [
    "### Recall that an alternative form of the constant elasticity demand function is:\n",
    "$$log(D(p))=\\beta log(p)+K$$\n",
    "\n",
    "This form of the function suggests that if we take the log of the prices and the quantities, and plot the transformed data, we should roughly have a straight line (quantity and prices are linear in logs). So, let's see if our data looks like this:"
   ]
  },
  {
   "cell_type": "code",
   "execution_count": 23,
   "metadata": {},
   "outputs": [
    {
     "data": {
      "text/plain": [
       "Text(0,0.5,u'log units')"
      ]
     },
     "execution_count": 23,
     "metadata": {},
     "output_type": "execute_result"
    },
    {
     "data": {
      "image/png": "[encoded data removed]",
      "text/plain": [
       "<matplotlib.figure.Figure at 0xee2da90>"
      ]
     },
     "metadata": {},
     "output_type": "display_data"
    }
   ],
   "source": [
    "data['logUnits'] = np.log(data.Units) # take the log of units sold\n",
    "data['logPrices'] = np.log(data.Prices) # take the log of prices\n",
    "plt.scatter(data.logPrices, data.logUnits) # Plot log units vs. log prices\n",
    "plt.title('Does the log quantity vs. log price look linear?')\n",
    "plt.xlabel('log prices')\n",
    "plt.ylabel('log units')"
   ]
  },
  {
   "cell_type": "code",
   "execution_count": 24,
   "metadata": {},
   "outputs": [
    {
     "data": {
      "text/html": [
       "<div>\n",
       "<style>\n",
       "    .dataframe thead tr:only-child th {\n",
       "        text-align: right;\n",
       "    }\n",
       "\n",
       "    .dataframe thead th {\n",
       "        text-align: left;\n",
       "    }\n",
       "\n",
       "    .dataframe tbody tr th {\n",
       "        vertical-align: top;\n",
       "    }\n",
       "</style>\n",
       "<table border=\"1\" class=\"dataframe\">\n",
       "  <thead>\n",
       "    <tr style=\"text-align: right;\">\n",
       "      <th></th>\n",
       "      <th>Prices</th>\n",
       "      <th>Units</th>\n",
       "      <th>logUnits</th>\n",
       "      <th>logPrices</th>\n",
       "    </tr>\n",
       "  </thead>\n",
       "  <tbody>\n",
       "    <tr>\n",
       "      <th>0</th>\n",
       "      <td>3</td>\n",
       "      <td>4250</td>\n",
       "      <td>8.354674</td>\n",
       "      <td>1.098612</td>\n",
       "    </tr>\n",
       "    <tr>\n",
       "      <th>1</th>\n",
       "      <td>5</td>\n",
       "      <td>1950</td>\n",
       "      <td>7.575585</td>\n",
       "      <td>1.609438</td>\n",
       "    </tr>\n",
       "    <tr>\n",
       "      <th>2</th>\n",
       "      <td>8</td>\n",
       "      <td>1000</td>\n",
       "      <td>6.907755</td>\n",
       "      <td>2.079442</td>\n",
       "    </tr>\n",
       "    <tr>\n",
       "      <th>3</th>\n",
       "      <td>12</td>\n",
       "      <td>500</td>\n",
       "      <td>6.214608</td>\n",
       "      <td>2.484907</td>\n",
       "    </tr>\n",
       "  </tbody>\n",
       "</table>\n",
       "</div>"
      ],
      "text/plain": [
       "   Prices  Units  logUnits  logPrices\n",
       "0       3   4250  8.354674   1.098612\n",
       "1       5   1950  7.575585   1.609438\n",
       "2       8   1000  6.907755   2.079442\n",
       "3      12    500  6.214608   2.484907"
      ]
     },
     "execution_count": 24,
     "metadata": {},
     "output_type": "execute_result"
    }
   ],
   "source": [
    "data"
   ]
  },
  {
   "cell_type": "markdown",
   "metadata": {},
   "source": [
    "# Why is this observation important?\n",
    "\n",
    "## If the data looks linear, we can fit a line through it!\n",
    "\n"
   ]
  },
  {
   "cell_type": "code",
   "execution_count": 25,
   "metadata": {},
   "outputs": [
    {
     "data": {
      "text/html": [
       "<table class=\"simpletable\">\n",
       "<caption>OLS Regression Results</caption>\n",
       "<tr>\n",
       "  <th>Dep. Variable:</th>        <td>logUnits</td>     <th>  R-squared:         </th> <td>   0.999</td>\n",
       "</tr>\n",
       "<tr>\n",
       "  <th>Model:</th>                   <td>OLS</td>       <th>  Adj. R-squared:    </th> <td>   0.998</td>\n",
       "</tr>\n",
       "<tr>\n",
       "  <th>Method:</th>             <td>Least Squares</td>  <th>  F-statistic:       </th> <td>   1726.</td>\n",
       "</tr>\n",
       "<tr>\n",
       "  <th>Date:</th>             <td>Wed, 07 Mar 2018</td> <th>  Prob (F-statistic):</th> <td>0.000579</td>\n",
       "</tr>\n",
       "<tr>\n",
       "  <th>Time:</th>                 <td>15:27:27</td>     <th>  Log-Likelihood:    </th> <td>  8.7753</td>\n",
       "</tr>\n",
       "<tr>\n",
       "  <th>No. Observations:</th>      <td>     4</td>      <th>  AIC:               </th> <td>  -13.55</td>\n",
       "</tr>\n",
       "<tr>\n",
       "  <th>Df Residuals:</th>          <td>     2</td>      <th>  BIC:               </th> <td>  -14.78</td>\n",
       "</tr>\n",
       "<tr>\n",
       "  <th>Df Model:</th>              <td>     1</td>      <th>                     </th>     <td> </td>   \n",
       "</tr>\n",
       "<tr>\n",
       "  <th>Covariance Type:</th>      <td>nonrobust</td>    <th>                     </th>     <td> </td>   \n",
       "</tr>\n",
       "</table>\n",
       "<table class=\"simpletable\">\n",
       "<tr>\n",
       "      <td></td>         <th>coef</th>     <th>std err</th>      <th>t</th>      <th>P>|t|</th>  <th>[0.025</th>    <th>0.975]</th>  \n",
       "</tr>\n",
       "<tr>\n",
       "  <th>Intercept</th> <td>   10.0434</td> <td>    0.070</td> <td>  144.317</td> <td> 0.000</td> <td>    9.744</td> <td>   10.343</td>\n",
       "</tr>\n",
       "<tr>\n",
       "  <th>logPrices</th> <td>   -1.5292</td> <td>    0.037</td> <td>  -41.542</td> <td> 0.001</td> <td>   -1.688</td> <td>   -1.371</td>\n",
       "</tr>\n",
       "</table>\n",
       "<table class=\"simpletable\">\n",
       "<tr>\n",
       "  <th>Omnibus:</th>       <td>   nan</td> <th>  Durbin-Watson:     </th> <td>   2.727</td>\n",
       "</tr>\n",
       "<tr>\n",
       "  <th>Prob(Omnibus):</th> <td>   nan</td> <th>  Jarque-Bera (JB):  </th> <td>   0.534</td>\n",
       "</tr>\n",
       "<tr>\n",
       "  <th>Skew:</th>          <td> 0.785</td> <th>  Prob(JB):          </th> <td>   0.766</td>\n",
       "</tr>\n",
       "<tr>\n",
       "  <th>Kurtosis:</th>      <td> 2.140</td> <th>  Cond. No.          </th> <td>    8.71</td>\n",
       "</tr>\n",
       "</table>"
      ],
      "text/plain": [
       "<class 'statsmodels.iolib.summary.Summary'>\n",
       "\"\"\"\n",
       "                            OLS Regression Results                            \n",
       "==============================================================================\n",
       "Dep. Variable:               logUnits   R-squared:                       0.999\n",
       "Model:                            OLS   Adj. R-squared:                  0.998\n",
       "Method:                 Least Squares   F-statistic:                     1726.\n",
       "Date:                Wed, 07 Mar 2018   Prob (F-statistic):           0.000579\n",
       "Time:                        15:27:27   Log-Likelihood:                 8.7753\n",
       "No. Observations:                   4   AIC:                            -13.55\n",
       "Df Residuals:                       2   BIC:                            -14.78\n",
       "Df Model:                           1                                         \n",
       "Covariance Type:            nonrobust                                         \n",
       "==============================================================================\n",
       "                 coef    std err          t      P>|t|      [0.025      0.975]\n",
       "------------------------------------------------------------------------------\n",
       "Intercept     10.0434      0.070    144.317      0.000       9.744      10.343\n",
       "logPrices     -1.5292      0.037    -41.542      0.001      -1.688      -1.371\n",
       "==============================================================================\n",
       "Omnibus:                          nan   Durbin-Watson:                   2.727\n",
       "Prob(Omnibus):                    nan   Jarque-Bera (JB):                0.534\n",
       "Skew:                           0.785   Prob(JB):                        0.766\n",
       "Kurtosis:                       2.140   Cond. No.                         8.71\n",
       "==============================================================================\n",
       "\n",
       "Warnings:\n",
       "[1] Standard Errors assume that the covariance matrix of the errors is correctly specified.\n",
       "\"\"\""
      ]
     },
     "execution_count": 25,
     "metadata": {},
     "output_type": "execute_result"
    }
   ],
   "source": [
    "data['constant']=1\n",
    "import statsmodels.formula.api as smf ## Let's use ordinary least squares to estimate the line of best fit\n",
    "results = smf.ols(formula='logUnits~logPrices', data=data).fit()\n",
    "data['logUnits_predict'] = np.dot(data[['logPrices', 'constant']],results.params[::-1])\n",
    "data['Units_predict'] = data.logUnits_predict.apply(np.exp)\n",
    "results.summary() # Look at the coef column"
   ]
  },
  {
   "cell_type": "markdown",
   "metadata": {},
   "source": [
    "## Our estimated demand function is this:\n",
    "### $log(D(p))=-1.529 log(p)+10.04$\n",
    "#### We can rewrite this as:\n",
    "### $D(P)=p^{-1.529}e^{10.04}$\n",
    "\n",
    "### We can use this to predict demand, let's see how close this is compared to our data."
   ]
  },
  {
   "cell_type": "code",
   "execution_count": 13,
   "metadata": {},
   "outputs": [
    {
     "data": {
      "text/html": [
       "<div>\n",
       "<style>\n",
       "    .dataframe thead tr:only-child th {\n",
       "        text-align: right;\n",
       "    }\n",
       "\n",
       "    .dataframe thead th {\n",
       "        text-align: left;\n",
       "    }\n",
       "\n",
       "    .dataframe tbody tr th {\n",
       "        vertical-align: top;\n",
       "    }\n",
       "</style>\n",
       "<table border=\"1\" class=\"dataframe\">\n",
       "  <thead>\n",
       "    <tr style=\"text-align: right;\">\n",
       "      <th></th>\n",
       "      <th>Prices</th>\n",
       "      <th>Units</th>\n",
       "      <th>logUnits</th>\n",
       "      <th>logPrices</th>\n",
       "      <th>constant</th>\n",
       "      <th>logUnits_predict</th>\n",
       "      <th>Units_predict</th>\n",
       "    </tr>\n",
       "  </thead>\n",
       "  <tbody>\n",
       "    <tr>\n",
       "      <th>0</th>\n",
       "      <td>3</td>\n",
       "      <td>4250</td>\n",
       "      <td>8.354674</td>\n",
       "      <td>1.098612</td>\n",
       "      <td>1</td>\n",
       "      <td>9.504616</td>\n",
       "      <td>1.342153e+04</td>\n",
       "    </tr>\n",
       "    <tr>\n",
       "      <th>1</th>\n",
       "      <td>5</td>\n",
       "      <td>1950</td>\n",
       "      <td>7.575585</td>\n",
       "      <td>1.609438</td>\n",
       "      <td>1</td>\n",
       "      <td>14.635057</td>\n",
       "      <td>2.269470e+06</td>\n",
       "    </tr>\n",
       "    <tr>\n",
       "      <th>2</th>\n",
       "      <td>8</td>\n",
       "      <td>1000</td>\n",
       "      <td>6.907755</td>\n",
       "      <td>2.079442</td>\n",
       "      <td>1</td>\n",
       "      <td>19.355505</td>\n",
       "      <td>2.546767e+08</td>\n",
       "    </tr>\n",
       "    <tr>\n",
       "      <th>3</th>\n",
       "      <td>12</td>\n",
       "      <td>500</td>\n",
       "      <td>6.214608</td>\n",
       "      <td>2.484907</td>\n",
       "      <td>1</td>\n",
       "      <td>23.427766</td>\n",
       "      <td>1.494684e+10</td>\n",
       "    </tr>\n",
       "  </tbody>\n",
       "</table>\n",
       "</div>"
      ],
      "text/plain": [
       "   Prices  Units  logUnits  logPrices  constant  logUnits_predict  \\\n",
       "0       3   4250  8.354674   1.098612         1          9.504616   \n",
       "1       5   1950  7.575585   1.609438         1         14.635057   \n",
       "2       8   1000  6.907755   2.079442         1         19.355505   \n",
       "3      12    500  6.214608   2.484907         1         23.427766   \n",
       "\n",
       "   Units_predict  \n",
       "0   1.342153e+04  \n",
       "1   2.269470e+06  \n",
       "2   2.546767e+08  \n",
       "3   1.494684e+10  "
      ]
     },
     "execution_count": 13,
     "metadata": {},
     "output_type": "execute_result"
    }
   ],
   "source": [
    "# Predict back demand\n",
    "data['logUnits_predict'] = np.dot(data[['logPrices', 'constant']],results.params) # predict log units\n",
    "data['Units_predict'] = data.logUnits_predict.apply(np.exp) # transform predicted log units to regular units by exponentiating \n",
    "data"
   ]
  },
  {
   "cell_type": "markdown",
   "metadata": {},
   "source": [
    "### We can now use the estimated demand function to find a profit maximizing price"
   ]
  },
  {
   "cell_type": "markdown",
   "metadata": {},
   "source": [
    "#### First, let's look at the estimated demand curve and profit functions\n",
    "#### Let's assume the marginal costs are \\$2 per unit and fixed costs are \\$1000"
   ]
  },
  {
   "cell_type": "code",
   "execution_count": 14,
   "metadata": {
    "collapsed": true
   },
   "outputs": [],
   "source": [
    "Beta = results.params['logPrices'] # get the estimated Beta parameter\n",
    "K = results.params['Intercept'] # get the estimated K parameter\n",
    "c_f = 1000 # fixed costs\n",
    "c_m = 2 # marginal costs\n",
    "prices = np.array(range(0,140))/10+1 # price grid from $1-$15\n",
    "demands = _demand_constant_e_(prices,Beta, K) # compute demand for each price\n",
    "profits = _profit_(demands, prices, c_f, c_m) # profits"
   ]
  },
  {
   "cell_type": "code",
   "execution_count": 15,
   "metadata": {},
   "outputs": [
    {
     "data": {
      "text/plain": [
       "<matplotlib.lines.Line2D at 0x11167550>"
      ]
     },
     "execution_count": 15,
     "metadata": {},
     "output_type": "execute_result"
    },
    {
     "data": {
      "image/png": "[encoded data removed]",
      "text/plain": [
       "<matplotlib.figure.Figure at 0x111675c0>"
      ]
     },
     "metadata": {},
     "output_type": "display_data"
    }
   ],
   "source": [
    "# Plot demand function\n",
    "plt.scatter(prices, demands, s=1)\n",
    "plt.title('Demand function')\n",
    "plt.xlabel('Price')\n",
    "plt.ylabel('Units')\n",
    "plt.axvline(x=0, color='k')\n",
    "plt.axhline(y=0, color='k')"
   ]
  },
  {
   "cell_type": "code",
   "execution_count": 16,
   "metadata": {},
   "outputs": [
    {
     "data": {
      "text/plain": [
       "<matplotlib.lines.Line2D at 0x11221278>"
      ]
     },
     "execution_count": 16,
     "metadata": {},
     "output_type": "execute_result"
    },
    {
     "data": {
      "image/png": "[encoded data removed]",
      "text/plain": [
       "<matplotlib.figure.Figure at 0x111f4fd0>"
      ]
     },
     "metadata": {},
     "output_type": "display_data"
    }
   ],
   "source": [
    "# Plot profit function\n",
    "plt.scatter(prices, profits, s = 1)\n",
    "plt.title('Profit function')\n",
    "plt.xlabel('Price')\n",
    "plt.ylabel('Profit')\n",
    "plt.axvline(x=0, color='k')\n",
    "plt.axhline(y=0, color='k')"
   ]
  },
  {
   "cell_type": "code",
   "execution_count": 17,
   "metadata": {},
   "outputs": [
    {
     "name": "stdout",
     "output_type": "stream",
     "text": [
      "Our expected profit maximizing price is 5.77914602246and the maximum profit is 4944.87429824\n",
      "The units sold as a result is 1573.07345705.\n"
     ]
    },
    {
     "data": {
      "image/png": "[encoded data removed]",
      "text/plain": [
       "<matplotlib.figure.Figure at 0x114365c0>"
      ]
     },
     "metadata": {},
     "output_type": "display_data"
    }
   ],
   "source": [
    "p_star = _p_star_constant_e_(Beta, c_m)\n",
    "units_star = _demand_constant_e_(p_star,Beta, K)\n",
    "prof_star = _profit_(units_star, p_star, c_f, c_m)\n",
    "plt.scatter(prices, profits, s=1)\n",
    "plt.title('Profit function')\n",
    "plt.xlabel('Price')\n",
    "plt.ylabel('Profit')\n",
    "plt.axvline(x=0, color='k')\n",
    "plt.axhline(y=0, color='k')\n",
    "plt.axvline(x=p_star, color='r')\n",
    "plt.axhline(y=prof_star, color='r')\n",
    "print \"Our expected profit maximizing price is \"+str(p_star)+ 'and the maximum profit is '+str(prof_star)\n",
    "print 'The units sold as a result is '+str(units_star)+'.'"
   ]
  },
  {
   "cell_type": "code",
   "execution_count": null,
   "metadata": {
    "collapsed": true
   },
   "outputs": [],
   "source": []
  }
 ],
 "metadata": {
  "anaconda-cloud": {},
  "kernelspec": {
   "display_name": "Python 2",
   "language": "python",
   "name": "python2"
  },
  "language_info": {
   "codemirror_mode": {
    "name": "ipython",
    "version": 2
   },
   "file_extension": ".py",
   "mimetype": "text/x-python",
   "name": "python",
   "nbconvert_exporter": "python",
   "pygments_lexer": "ipython2",
   "version": "2.7.14"
  },
  "nbpresent": {
   "slides": {},
   "themes": {}
  }
 },
 "nbformat": 4,
 "nbformat_minor": 1
}
