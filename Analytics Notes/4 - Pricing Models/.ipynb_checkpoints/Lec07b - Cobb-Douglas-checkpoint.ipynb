{
 "cells": [
  {
   "cell_type": "markdown",
   "metadata": {},
   "source": [
    "# So far we have looked at demand functions where only 1 price matters\n",
    "\n",
    "But we hardly make decisions in a vacuum. Prices of several goods can affect each other's demand. For example, when hotdogs are on sale, what other items' demand might go up? What items' sales might go down?\n",
    "\n",
    "Perhaps buns sell better - this is known as a complementary product. Spam might sell worse, this is known as a substitute product.\n",
    "\n",
    "How can we use our current simple demand models to incorporate substitutes and complements?\n",
    "\n",
    "If we use the simple constant-elasticity model, we can modify it slightly to have multiple goods with constant cross price elasticity.\n",
    "\n",
    "Recall own price elasticity is the percent change in demand over percent change in own supply. What do you think cross price elasticity is?"
   ]
  },
  {
   "cell_type": "markdown",
   "metadata": {},
   "source": [
    "## Cross price elasticity\n",
    "\n",
    "As you might have guessed, this is just the percent change in demand over percent change in another product's price, or mathematically:\n",
    "\n",
    "$$\n",
    "e_{ij} = \\frac{D_i'(p_j|p_{k\\ne j})}{D(\\cdot)}p, \\text{ } \\forall k\\ne j, \\text{ where }i,j,k \\in \\{1,...,N\\}\\text{ products.}\n",
    "$$\n",
    "\n",
    "If you solve (which we won't) the system of differential equations where each cross-price and own-price elasticity is constant, you will end up with a demand function that looks like:\n",
    "\n",
    "$$\n",
    "D_{i\\ne j}(\\cdot)=e^{K^{i}}\\prod_{j=1}^{N}p_j^{\\beta_j^i}\n",
    "$$\n",
    "\n",
    "For example, for the case that i=1,j=2 and we have only 2 products.\n",
    "\n",
    "$$\n",
    "D_{1}(p_1,p_2)=e^{K^{1}}p_1^{\\beta_1^1}p_2^{\\beta_2^1} \\\\\n",
    "D_{2}(p_1,p_2)=e^{K^{2}}p_1^{\\beta_1^2}p_2^{\\beta_2^2}\n",
    "$$\n",
    "\n",
    "Notice that the cross price elasticities here do not have to be symmetric. We can have 2 separate demand functions, one for each product."
   ]
  },
  {
   "cell_type": "markdown",
   "metadata": {},
   "source": [
    "# Estimating the price elasticities of Cobb-Douglas demand\n",
    "\n",
    "If prices are randomly chosen (i.e. experiment), we can estimate bothd emand functions in a straightforward way.\n",
    "\n",
    "First note that the constants, K^i, are implicitly assumed to be one thing, but we can actually have constants be the sum of individual fixed effects. For example, let $K = \\kappa+\\alpha_{mth}+\\alpha_{ad}+\\epsilon$, we can write the demand function as (we drop the superscript for simplicity):\n",
    "\n",
    "$$\n",
    "\\begin{split}\n",
    "D_{1}(p_1,p_2)&=e^{\\kappa+\\alpha_{mth}+\\alpha_{ad}+\\epsilon}p_1^{\\beta_1}p_2^{\\beta_2}\\\\\n",
    "&=e^{\\kappa}e^{\\alpha_{mth}}e^{\\alpha_{ad}}e^{\\epsilon}p_1^{\\beta_1}p_2^{\\beta_2}\n",
    "\\end{split}\n",
    "$$\n",
    "\n",
    "Taking this example, we can write the log-log form by taking logs of both sides of the equation.\n",
    "\n",
    "$$\n",
    "\\begin{split}\n",
    "log(D_1)&=log(e^{\\kappa}e^{\\alpha_{mth}}e^{\\alpha_{ad}}e^{\\epsilon}p_1^{\\beta_1}p_2^{\\beta_2})\\\\\n",
    "&=\\kappa+\\alpha_{mth}+\\alpha_{ad}+\\beta_1log(p_1)+\\beta_2log(p_2)+\\epsilon\n",
    "\\end{split}\n",
    "$$\n",
    "\n",
    "### Hmm... this kind of looks like a linear regression equation... 🤔\n",
    "\n",
    "You can just run a regression by taking logs of demand and prices and including factor variables as dummies. Your regression parameters map 1:1 onto the demand function parameters."
   ]
  },
  {
   "cell_type": "markdown",
   "metadata": {},
   "source": [
    "# How can we find optimal prices\n",
    "\n",
    "## Monopolist\n",
    "\n",
    "If I am a monopolist, meaning that I own all 3 products and want to maximize my joint profit, my profit function, with 2 products, should be:\n",
    "\n",
    "$$\n",
    "\\Pi_{monopolist}=D_1(p_1-c_{m1}))+D_2(p_2-c_{m2}))-c_f\n",
    "$$\n",
    "\n",
    "This has an anaytical solution, but we might as well make use of Python's numerical optimization capabilities. To do this, we need the function minimize from scipy.optimize\n",
    "\n",
    "```Python\n",
    "from scipy.optimize import minimize\n",
    "```\n",
    "\n",
    "Note that `minimize` \"minimizes\"... but we want to find the maximum profit. Why isn't there a maximize function? Because it's unnecessary. Minimizing the negative profit function is equivalent to maximizing the profit function. The engineering way of doing things is usually to pose a minimization problem (find the shortest path, find the most energy efficient movement, etc.).\n",
    "\n",
    "Below we implement an example for joint profit maximization.\n",
    "\n",
    "Suppose we have the following 2 demand functions:\n",
    "\n",
    "$$\n",
    "D_{1}(p_1,p_2)=e^{K^{1}}p_1^{\\beta_1^1}p_2^{\\beta_2^1} \\\\\n",
    "D_{2}(p_1,p_2)=e^{K^{2}}p_1^{\\beta_1^2}p_2^{\\beta_2^2}\n",
    "$$\n",
    "\n",
    "Where $K^1,\\beta_1^1,\\beta_2^1=3,-1.4,.05$ and $K^2,\\beta_1^2,\\beta_2^2=4,.15,-2.9$ \n",
    "$c_{m1},c_{m2},c_{f} = 1.5,1.99,0$"
   ]
  },
  {
   "cell_type": "code",
   "execution_count": 2,
   "metadata": {
    "collapsed": true
   },
   "outputs": [],
   "source": [
    "import numpy as np\n",
    "from __future__ import division\n",
    "params = dict()\n",
    "params['1']=k1, b11, b21 = 3,-1.4,.05 # own price elastic, cross price inelastic, but marginal substitutes\n",
    "params['2']=k2, b12, b22 = 4,.15,-2.9 # own price elastic, cross price inelastic, but marginal substitutes\n",
    "cm1,cm2,cf = 1.5, 1.99,0 # Cost parameters\n"
   ]
  },
  {
   "cell_type": "code",
   "execution_count": 3,
   "metadata": {
    "collapsed": true
   },
   "outputs": [],
   "source": [
    "def demand_1(p1,p2,k1=k1,b11=b11,b21=b21):\n",
    "    return np.exp(k1)*p1**b11*p2**b21\n",
    "def demand_2(p1,p2,k2=k2,b12=b12,b22=b22):\n",
    "    return np.exp(k2)*p1**b12*p2**b22"
   ]
  },
  {
   "cell_type": "code",
   "execution_count": 4,
   "metadata": {
    "collapsed": true
   },
   "outputs": [],
   "source": [
    "def prof_monopolist(p1,p2,cm1,cm2,cf,params):\n",
    "    k1, b11, b21 = params['1']\n",
    "    k2, b12, b22 = params['2']\n",
    "    d1 = demand_1(p1,p2,k1=k1,b11=b11,b21=b21)\n",
    "    d2 = demand_2(p1,p2,k2=k2,b12=b12,b22=b22)\n",
    "    return d1*(p1-cm1)+d2*(p2-cm2)-cf"
   ]
  },
  {
   "cell_type": "code",
   "execution_count": 5,
   "metadata": {
    "collapsed": true
   },
   "outputs": [],
   "source": [
    "from scipy.optimize import minimize"
   ]
  },
  {
   "cell_type": "code",
   "execution_count": 6,
   "metadata": {
    "collapsed": true
   },
   "outputs": [],
   "source": [
    "res = minimize(lambda x: -prof_monopolist(x[0],x[1],cm1,cm2,cf,params), x0=[cm1, cm2], \n",
    "               bounds = [(cm1,1000),(cm2,1000)],method='SLSQP', options={'maxiter':10000})"
   ]
  },
  {
   "cell_type": "code",
   "execution_count": 7,
   "metadata": {},
   "outputs": [
    {
     "data": {
      "text/plain": [
       "     fun: -10.766220084188852\n",
       "     jac: array([ 0.00028336,  0.00117314])\n",
       " message: 'Optimization terminated successfully.'\n",
       "    nfev: 58\n",
       "     nit: 13\n",
       "    njev: 13\n",
       "  status: 0\n",
       " success: True\n",
       "       x: array([ 5.87539406,  3.11515208])"
      ]
     },
     "execution_count": 7,
     "metadata": {},
     "output_type": "execute_result"
    }
   ],
   "source": [
    "res"
   ]
  },
  {
   "cell_type": "code",
   "execution_count": 8,
   "metadata": {},
   "outputs": [
    {
     "data": {
      "text/plain": [
       "     fun: -10.766220084188852\n",
       "     jac: array([ 0.00028336,  0.00117314])\n",
       " message: 'Optimization terminated successfully.'\n",
       "    nfev: 58\n",
       "     nit: 13\n",
       "    njev: 13\n",
       "  status: 0\n",
       " success: True\n",
       "       x: array([ 5.87539406,  3.11515208])"
      ]
     },
     "execution_count": 8,
     "metadata": {},
     "output_type": "execute_result"
    }
   ],
   "source": [
    "pricestar = res.x\n",
    "pricestar1, pricestar2 = pricestar[0], pricestar[1]\n",
    "profstar = -res.fun\n",
    "res # optimization results, be sure that success: True is flagged. Otherwise, local optimal profits could not be found."
   ]
  },
  {
   "cell_type": "code",
   "execution_count": 9,
   "metadata": {},
   "outputs": [
    {
     "name": "stdout",
     "output_type": "stream",
     "text": [
      "Optimal price 1: $5.88, price 2: $3.12, profit: $10.77\n",
      "Optimal demand 1: 1.78, demand 2: 2.64\n"
     ]
    }
   ],
   "source": [
    "print 'Optimal price 1: ${:0.2f}, price 2: ${:0.2f}, profit: ${:0.2f}'.format(pricestar1, pricestar2, profstar) # optimal prices, optimal profits\n",
    "print 'Optimal demand 1: {:0.2f}, demand 2: {:0.2f}'.format(demand_1(pricestar[0],pricestar[1]),demand_2(pricestar[0],pricestar[1]))"
   ]
  },
  {
   "cell_type": "markdown",
   "metadata": {},
   "source": [
    "## Competitive Pricing\n",
    "\n",
    "Note that above, we maximized the joint profits of the 2 products. What if 2 products are owned by competitors and both competitors want to maximize their individual profits?\n",
    "\n",
    "Here, we need to introduce the concept of an equilibirum in a game theoretic sense.\n",
    "\n",
    "### What is a game?\n",
    "\n",
    "A game is any scenario that is defined by a set of players, each player has a set of actions, and every combination of actions across players has a unique payoff. Players' objectives is to maximize their individual payoffs.\n",
    "\n",
    "### How do we solve a game?\n",
    "\n",
    "A solution to a game is a set of {(player, action)} pairs that is stable, or \"in equilibrium.\" This means we must find the set of players/actions such that no individual player has an incentive to change his/her action.\n",
    "\n",
    "### A simple example:\n",
    "\n",
    "Imagine you and your accomplice are arrested by the police and they want to get a confession out of you.\n",
    "\n",
    "|        | Deny 'til you die | Snitch |\n",
    "|--------|-------|--------|\n",
    "| **Deny 'til you die**   | -1/-1 | -3/0   |\n",
    "| **Snitch** | 0/-3  | -2/-2  |\n",
    "\n",
    "What would you do if you and your accomplise are put in separate interrogation rooms?\n",
    "\n",
    "#### Solution 1: Find the best response functions\n",
    "\n",
    "##### Player 1's best response function (a mapping from competitor's strategy to my own strategy:\n",
    "\n",
    "1. If player 2 denies, I should snitch (payoff to deny is -1, payoff to snitch is 0).\n",
    "\n",
    "2. If player 2 snitches, I should also snitch (payoff to deny is -3, payoff to snitching is -1).\n",
    "\n",
    "##### Player' 2's best response is symmetric:\n",
    "\n",
    "1. If player 1 denies, I should snitch (payoff to deny is -1, payoff to snitch is 0).\n",
    "\n",
    "2. If player 1 snitches, I should also snitch (payoff to deny is -3, payoff to snitching is -1).\n",
    "\n",
    "Both players have a dominant strategy - this is the easiest kind of game to solve. So clearly, both players should snitch.\n",
    "\n",
    "A dominant strategy is a strategy that is optimal irregardless of what competitors do.\n",
    "\n",
    "#### Solution 2: Find iterative best responses (only works for some games with unique equilibrium)\n",
    "\n",
    "1. Pick a starting point. Say player 1 picks Deny.\n",
    "2. Player 2 should then pick Snitch.\n",
    "3. Given player 2 picks Snitch, player 1 should also pick Snitch.\n",
    "4. Player 2 has no incentive to change strategy, therefore an equilibrium is found."
   ]
  },
  {
   "cell_type": "markdown",
   "metadata": {},
   "source": [
    "### Another simple/sexist example:\n",
    "\n",
    "Imagine a couple have tickets to the opera and football. One partner (let's be sexist and say husband) would prefer to go the game. The other partner would prefer to go to the opera. Both would prefer to go somewhere together. Unfortunately, the husband lost his phone, so they cannot communicate on where to go. What is the equilibrium of this game? (the husband is the columns (second payoff).\n",
    "\n",
    "|        | Opera | Football |\n",
    "|--------|-------|--------|\n",
    "| **Opera**  | 3/2 | 1/1   |\n",
    "| **Football**  | 0/0  | 2/3  |\n",
    "\n",
    "** What would be the desired outcome if the husband didn't lose his phone? **\n",
    "\n",
    "#### Solution 1: Find the best response functions\n",
    "\n",
    "##### Wife's best response function:\n",
    "\n",
    "1. If the husband goes to the opera, the wife wants to go to the opera.\n",
    "\n",
    "2. If the husband goes to football, the wife wants to go to football.\n",
    "\n",
    "##### Husband's best response is symmetric:\n",
    "\n",
    "1. If the wife goes to the opera, the husband wants to go to the opera.\n",
    "\n",
    "2. If the wife goes to the football game, the husband goes to the football game.\n",
    "\n",
    "#### Solution 2:\n",
    "\n",
    "Therefore, if the wife and husband both go to the opera, that is an equilibrium. If the wife and husband both go to the football game, that is also an equilbirium.\n",
    "\n",
    "Not such a satisfactory solution, right?\n",
    "\n",
    "There's also an idea of mixed strategy equilibrium. The wife and husband would each randomize their choice such that their randomization makes the other indifferent.\n",
    "\n",
    "So we need to solve for 2 probabilities for each partner. $P_o^w, P_f^w$ for the wife and $P_o^h, P_f^h$ for the husband.\n",
    "\n",
    "First we compute the man's payoffs for some probability weights the woman chooses.\n",
    "\n",
    "$$\n",
    "M_o = 2P_o^w+0P_f^w\\\\\n",
    "M_f = 1P_o^w+3P_f^w\\\\\n",
    "$$\n",
    "\n",
    "Next, we solve for the probability weights that makes the man indifferent between operan and football.\n",
    "\n",
    "$$\n",
    "2P_o^w+0P_f^w=1P_o^w+3P_f^w\\\\\n",
    "1P_o^w=3P_f^w\n",
    "$$\n",
    "\n",
    "Note that the sum of the 2 probabilities must equal 1, so we have:\n",
    "\n",
    "$$\n",
    "1P_o^w=3P_f^w \\text{ and } P_o^w+P_f^w=1\\\\\n",
    "\\implies P_f^w=(1-P_o^w)\\\\\n",
    "\\implies 1P_o^w=3(1-P_o^w)\\\\\n",
    "\\implies 1P_o^w=3-3P_o^w\\\\\n",
    "\\implies 4P_o^w=3\\\\\n",
    "\\implies P_o^w=\\frac{3}{4} \\text{ and }P_f^w=\\frac{1}{4}\n",
    "$$\n",
    "\n",
    "We next need to do a similar exercise for the husband, he needs to choose a probabilistic pair of actions to make the wife indifferent.\n",
    "\n",
    "$$\n",
    "W_o = 3P_o^h+1P_f^h\\\\\n",
    "W_f = 0P_o^b+2P_f^h\\\\\n",
    "2P_f^h=3P_o^h+1P_f^h\\\\\n",
    "\\text{ and recall that probabilities have to sum to 1} \\\\\n",
    "P_o^h+P_f^h=1 \\\\\n",
    "\\implies P_o^h=(1-P_f^h)\\\\\n",
    "\\implies P_f^h=3-3P_f^h\\\\\n",
    "\\implies 4P_f^h=3\\\\\n",
    "\\implies P_f^h=\\frac{3}{4} \\text{  and  } P_o^h=\\frac{1}{4}\\\\\n",
    "$$\n",
    "\n",
    "\n",
    "So the 3rd equilibrium is that the wife would go to the opera with probability $\\frac{3}{4}$ and go to the football game with probability $\\frac{1}{4}$. Meanwhile, the husband would go to the opera with probability $\\frac{1}{4}$ and go to the football game with probability $\\frac{3}{4}$.\n",
    "\n",
    "In equilibrium, $\\frac{3}{16}$ of the time, both will go to the opera, $\\frac{3}{16}$ of the time, both will go to football. Each will do their individually preferred activity alone $\\frac{9}{16}$ the time. Each will individually do their least preferred activity with probability $\\frac{1}{16}$.\n",
    "\n",
    "The expected payoff for the wife in equilibrium is:\n",
    "\n",
    "$$\n",
    "3\\times\\frac{3}{16}+2\\frac{3}{16}+1\\times\\frac{9}{16}+0\\times\\frac{1}{16}=1.5\n",
    "$$\n",
    "\n",
    "The expected payoff for the husband in equilibrium is:\n",
    "\n",
    "$$\n",
    "2\\times\\frac{3}{16}+3\\frac{3}{16}+1\\times\\frac{9}{16}+0\\times\\frac{1}{16}=1.5\n",
    "$$\n",
    "\n",
    "#### Notice that if we iteratively applied best response functions like in the prisoner's dilemma, we would end up at both going to the opera or both going to the football game, but it would completely depend on which activity we started with.\n",
    "\n",
    "\n",
    "#### A note on John Nash and Nash equilibrium\n",
    "\n",
    "If you've watched a Beautiful Mind (recommended, good movie), you might be familiar with the name John Nash. He is the mathematician who is often credited with the \"discovery\" of game theory. In fact, the concept of equilibrium has existed long before in economics (Cournot) and mathematics (John von Neumann). What [Nash did do](https://webspace.princeton.edu/users/mudd/Digitization/AC105/AC105_Nash_John_Forbes_1950.pdf), was apply [Kakutani's fixed point](https://www.youtube.com/watch?v=csInNn6pfT4) theorem to the finite game setting. Nash proved the existence of an equilibrium for every finite (in players and strategy) game. This was later expanded upon to show that there exists an [odd number of equilibria](https://www.quora.com/Why-is-there-always-an-odd-number-of-solutions-for-a-nash-equilibrium), and existence for [infinite but convex & compact strategy sets](http://www.ams.org/journals/proc/1952-003-01/S0002-9939-1952-0046638-5/S0002-9939-1952-0046638-5.pdf). Nash's contemporary, von Neumann, criticized his dissertation essay that proved existence of Nash equilbirium as a trivial application of a fixed point theorem, something that he would give as a homework assignment to his grad students.\n",
    "\n",
    "Alas, Nash's trivial theorem changed the world."
   ]
  },
  {
   "cell_type": "code",
   "execution_count": 10,
   "metadata": {},
   "outputs": [
    {
     "data": {
      "image/jpeg": "[encoded data removed]",
      "text/html": [
       "\n",
       "        <iframe\n",
       "            width=\"400\"\n",
       "            height=\"300\"\n",
       "            src=\"https://www.youtube.com/embed/2d_dtTZQyUM\"\n",
       "            frameborder=\"0\"\n",
       "            allowfullscreen\n",
       "        ></iframe>\n",
       "        "
      ],
      "text/plain": [
       "<IPython.lib.display.YouTubeVideo at 0x9d9fa20>"
      ]
     },
     "execution_count": 10,
     "metadata": {},
     "output_type": "execute_result"
    }
   ],
   "source": [
    "from IPython.display import YouTubeVideo\n",
    "# a talk about IPython at Sage Days at U. Washington, Seattle.\n",
    "# Video credit: William Stein.\n",
    "YouTubeVideo('2d_dtTZQyUM')"
   ]
  },
  {
   "cell_type": "markdown",
   "metadata": {},
   "source": [
    "# Why isn't this Nash equilbirium? Hint: Is there a deviating strategy?\n",
    "\n",
    "|        | Blonde | Friend |\n",
    "|--------|-------|--------|\n",
    "| **Blonde**  | 0/0 | 2/1   |\n",
    "| **Friend**  | 1/2  | 1/1  |\n",
    "\n",
    "It's a coordination game just like the battle of the sexes game above.\n",
    "\n",
    "Solve for probability that playa 1 and playa 2 go for the blonde.\n",
    "\n",
    "It turns out, both you and your friend will go for the blonde w/ probability in equilibrium $\\frac{1}{2}$. So $\\frac{1}{4}$ of the time you both strike out."
   ]
  },
  {
   "cell_type": "markdown",
   "metadata": {},
   "source": [
    "# In class game - testing limits of game theory\n",
    "\n",
    "#### Everyone pick a number between 0 and 100 such that the person whose number is closest to 2/3 of the class average wins (a giftcard to Alamo Drafthouse).\n"
   ]
  },
  {
   "cell_type": "markdown",
   "metadata": {},
   "source": [
    "# How does this relate to pricing?\n",
    "\n",
    "We can think of competitive pricing as a game:\n",
    "\n",
    "1. Players: All the firms that get to choose prices.\n",
    "2. Actions: The set of possible prices.\n",
    "3. Payoffs: The resulting profit due to all players' actions.\n",
    "4. Equilibirum: The set of actions where payoffs cannot be improved unilaterally.\n",
    "\n",
    "### 2 player Cobb-Douglas pricing games\n",
    "\n",
    "$$\n",
    "\\Pi_{1}=D_1(p_1-c_{m1}) \\\\\n",
    "\\Pi_{2}=D_2(p_2-c_{m2})\n",
    "$$\n",
    "\n",
    "#### First compute the best response function for player 1, i.e. maximize $\\Pi_1$ wrt some arbitrary $p_2$\n",
    "\n",
    "##### Maximum can be found by finding the derivative, setting to 0.\n",
    "\n",
    "Recall the following definitions of a duopoly Cobb-Douglas demand system:\n",
    "$$\n",
    "D_{1}(p_1,p_2)=e^{K^{1}}p_1^{\\beta_1^1}p_2^{\\beta_2^1} \\\\\n",
    "D_{2}(p_1,p_2)=e^{K^{2}}p_1^{\\beta_1^2}p_2^{\\beta_2^2}\n",
    "$$\n",
    "\n",
    "We will have the following profit function for firm 1:\n",
    "$$\n",
    "\\Pi_{1}=D_1'(p_1-c_{m1})-c_f\n",
    "$$\n",
    "\n",
    "\n",
    "Compute derivate wrt own price and solve for 0.\n",
    "$$\n",
    "\\begin{split}\n",
    "\\Pi_{1}'&=D_1'(p_1-c_{m1})+D_1 \\\\\n",
    "&=(\\beta_{1}^{1}e^{K^{1}}p_1^{\\beta_1^1-1}p_2^{\\beta_2^1})(p_1-c_{m1})+e^{K^{1}}p_1^{\\beta_1^1}p_2^{\\beta_2^1}\\\\\n",
    "&=\\beta_{1}^{1}e^{K^{1}}p_1^{\\beta_1^1}p_2^{\\beta_2^1}-c_{m1}\\beta_{1}^{1}e^{K^{1}}p_1^{\\beta_1^1-1}p_2^{\\beta_2^1}+e^{K^{1}}p_1^{\\beta_1^1}p_2^{\\beta_2^1}\\\\\n",
    "&=(1+\\beta_{1}^{1})e^{K^{1}}p_1^{\\beta_1^1}p_2^{\\beta_2^1}-c_{m1}\\beta_{1}^{1}e^{K^{1}}p_1^{\\beta_1^1-1}p_2^{\\beta_2^1}\\\\\n",
    "&=(e^{K^{1}}p_2^{\\beta_2^1})\\big((1+\\beta_{1}^{1})p_1^{\\beta_1^1}-c_{m1}\\beta_{1}^{1}p_1^{\\beta_1^1-1}\\big)\n",
    "\\end{split}\n",
    "$$\n",
    "\n",
    "We can set to equal 0 and solve for $p_1$:\n",
    "$$\n",
    "\\begin{split}\n",
    "0=(e^{K^{1}}p_2^{\\beta_2^1})\\big((1+\\beta_{1}^{1})p_1^{\\beta_1^1}-c_{m1}\\beta_{1}^{1}p_1^{\\beta_1^1-1}\\big)\\\\\n",
    "0=(1+\\beta_{1}^{1})p_1^{\\beta_1^1}-c_{m1}\\beta_{1}^{1}p_1^{\\beta_1^1-1}\\\\\n",
    "c_{m1}\\beta_{1}^{1}p_1^{\\beta_1^1-1}=(1+\\beta_{1}^{1})p_1^{\\beta_1^1} \\\\\n",
    "\\frac{c_{m1}\\beta_{1}^{1}}{(1+\\beta_{1}^{1})}=\\frac{p_1^{\\beta_1^1}}{p_1^{\\beta_1^1-1}}\\\\\n",
    "p_1=\\frac{c_{m1}\\beta_{1}^{1}}{1+\\beta_{1}^{1}}\n",
    "\\end{split}\n",
    "$$\n",
    "\n",
    "Note that this last expression is a best response function, because we have isolated the price for firm 1 to one side of the equation. Note also that this is a dominant strategy, why?\n",
    "\n",
    "Firm 1's best response to firm 2's price does not depend on firm 2's price.\n",
    "\n",
    "We can compute firm 2's best response similarly to get a symmetric result\n",
    "\n",
    "$$\n",
    "p_2=\\frac{c_{m2}\\beta_{2}^{2}}{(1+\\beta_{2}^{2})}\n",
    "$$\n",
    "\n",
    "Let's drop the superscripts and call an elasticity an elasticity...\n",
    "\n",
    "$$\n",
    "p_1^*=\\frac{c_{m1}\\beta_{1}}{1+\\beta_{1}} \\\\\n",
    "p_2^*=\\frac{c_{m2}\\beta_{2}}{1+\\beta_{2}}\n",
    "$$\n",
    "\n",
    "Where $\\beta_1$ is firm 1's own price elasticity and $\\beta_2$ is firm 2's own price elasticity\n"
   ]
  },
  {
   "cell_type": "markdown",
   "metadata": {},
   "source": [
    "## Let's get back to our example"
   ]
  },
  {
   "cell_type": "code",
   "execution_count": 11,
   "metadata": {
    "collapsed": true
   },
   "outputs": [],
   "source": [
    "cf1, cf2 = 0,0"
   ]
  },
  {
   "cell_type": "code",
   "execution_count": 12,
   "metadata": {
    "collapsed": true
   },
   "outputs": [],
   "source": [
    "def prof_1(p1,p2,cm1,cf1,params):\n",
    "    k1, b11, b21 = params['1']\n",
    "    d1 = demand_1(p1,p2,k1=k1,b11=b11,b21=b21)\n",
    "    return d1*(p1-cm1)-cf1\n",
    "def prof_2(p1,p2,cm2,cf2,params):\n",
    "    k2, b12, b22 = params['2']\n",
    "    d2 = demand_2(p1,p2,k2=k2,b12=b12,b22=b22)\n",
    "    return d2*(p2-cm2)-cf2"
   ]
  },
  {
   "cell_type": "markdown",
   "metadata": {},
   "source": [
    "### Solution 1: Use closed form solutions provided above (easy)"
   ]
  },
  {
   "cell_type": "code",
   "execution_count": 13,
   "metadata": {},
   "outputs": [
    {
     "name": "stdout",
     "output_type": "stream",
     "text": [
      "Price 1 is $5.25 and Price 2 is $3.04\n",
      "Profit 1 is $7.81 and profit 2 is $2.92\n",
      "Joint profit is $10.74\n",
      "Recall that monopolist's profit is $10.77\n"
     ]
    }
   ],
   "source": [
    "p1star = cm1*b11/(1+b11) # Eq. p1\n",
    "p2star = cm2*b22/(1+b22) # Eq. p2\n",
    "prof1star = prof_1(p1star,p2star,cm1,cf2,params)# Eq. Profit 1\n",
    "prof2star = prof_2(p1star,p2star,cm2,cf2,params)# Eq. Profit 2\n",
    "\n",
    "print \"Price 1 is ${:0.2f} and Price 2 is ${:0.2f}\".format(p1star, p2star)\n",
    "print \"Profit 1 is ${:0.2f} and profit 2 is ${:0.2f}\".format(prof1star, prof2star)\n",
    "print \"Joint profit is ${:0.2f}\".format(prof1star+prof2star)\n",
    "print \"Recall that monopolist's profit is ${:0.2f}\".format(profstar)"
   ]
  },
  {
   "cell_type": "markdown",
   "metadata": {},
   "source": [
    "## Solution 2: We can solve this numerically via iterative maximization"
   ]
  },
  {
   "cell_type": "code",
   "execution_count": 15,
   "metadata": {
    "scrolled": false
   },
   "outputs": [
    {
     "name": "stdout",
     "output_type": "stream",
     "text": [
      "The solution here: price 1: $5.25, price 2: $3.04, profit 1: $7.81, profit 2: $2.92, total profit: $10.74\n",
      "Compare to above: price 1: $5.25, price 2: $3.04, profit 1: $7.81, profit2: $2.92, total profit: $10.74\n",
      "Compare to monopolist: price 1: $5.88, price 2: $3.12, profit: $10.77\n"
     ]
    }
   ],
   "source": [
    "p10,p20=cm1, cm2\n",
    "p1, p2 = cm1+2,cm2+2 # initialize first prices\n",
    "cf1,cf2=0,0 # Fixed costs/ doesn't really matter\n",
    "maxiter = 1000\n",
    "it = 0\n",
    "while (abs(p1-p10)>1e-16)|(abs(p2-p20)>1e-16):\n",
    "    # Find profit maximizing price for firm 1 given p2\n",
    "    res1 = minimize(lambda x: -prof_1(x,p2,cm1,cf1,params), x0=p10,\n",
    "                    bounds = [(cm1,10000)],method='SLSQP',\n",
    "                    options={'maxiter':100000, 'ftol': 1e-16, 'eps':1e-12}) \n",
    "    # update \"previous iteration's price\"\n",
    "    p10=p1\n",
    "    # update newest optimal price\n",
    "    p1 = res1.x[0]\n",
    "    \n",
    "    # Find profit maximizing price for firm 2 given p1\n",
    "    res2 = minimize(lambda x: -prof_2(p1,x,cm2,cf2,params), x0=p20,\n",
    "                    bounds = [(cm2,10000)],method='SLSQP',\n",
    "                    options={'maxiter':100000, 'ftol': 1e-16, 'eps':1e-12}) \n",
    "    # update \"previous iteration's price\"\n",
    "    p20=p2\n",
    "    # update new price\n",
    "    p2 = res2.x[0]\n",
    "    \n",
    "    # Keep track of iteration\n",
    "    it += 1\n",
    "#     print p1, p2\n",
    "    if it>maxiter: # stopping condition for maximum iterations\n",
    "        break # break out of enclosing loop (the while loop)  \n",
    "print 'The solution here: price 1: ${:0.2f}, price 2: ${:0.2f}, profit 1: ${:0.2f}, profit 2: ${:0.2f}, total profit: ${:0.2f}'.format(p1, p2, -res1.fun, -res2.fun,-res1.fun+-res2.fun )\n",
    "\n",
    "print 'Compare to above: price 1: ${:0.2f}, price 2: ${:0.2f}, profit 1: ${:0.2f}, profit2: ${:0.2f}, total profit: ${:0.2f}'.format(p1star, p2star, prof1star, prof2star, prof1star+prof2star)\n",
    "\n",
    "print 'Compare to monopolist: price 1: ${:0.2f}, price 2: ${:0.2f}, profit: ${:0.2f}'.format(pricestar1, pricestar2, profstar)\n"
   ]
  },
  {
   "cell_type": "code",
   "execution_count": null,
   "metadata": {
    "collapsed": true
   },
   "outputs": [],
   "source": []
  }
 ],
 "metadata": {
  "kernelspec": {
   "display_name": "Python 2",
   "language": "python",
   "name": "python2"
  },
  "language_info": {
   "codemirror_mode": {
    "name": "ipython",
    "version": 2
   },
   "file_extension": ".py",
   "mimetype": "text/x-python",
   "name": "python",
   "nbconvert_exporter": "python",
   "pygments_lexer": "ipython2",
   "version": "2.7.14"
  }
 },
 "nbformat": 4,
 "nbformat_minor": 2
}
