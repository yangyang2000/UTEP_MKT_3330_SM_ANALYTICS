{
 "cells": [
  {
   "cell_type": "markdown",
   "metadata": {
    "nbpresent": {
     "id": "364b2f1f-cad2-4a28-a049-74aea7168013"
    }
   },
   "source": [
    "# Relationship between demand and profit"
   ]
  },
  {
   "cell_type": "markdown",
   "metadata": {
    "nbpresent": {
     "id": "db88744e-1c27-4a55-b905-90fb62fff3b3"
    },
    "slideshow": {
     "slide_type": "slide"
    }
   },
   "source": [
    "One of the core marketing functions is setting the right price. Prices are set with respect to some objective, typically this objective for businesses is profit maximization. We will explore a few simple pricing examples in this notebook.\n",
    "\n",
    "First we should understand what are the forces that drives price. To do this we begin with a simple linear demand example. Assume Demand follows the following form, where A is the amount demanded when price is 0 and b is the coefficient of price (unit sales lost per dollar increase in price):\n",
    "\n",
    "$d=A-bp$\n",
    "\n",
    "Typically demand curve is downard sloping, which means $b>0$. (Can you think of any upward sloping demand curves?) Another generally true assumption is that $A>0$, or in other words, if the price is 0, there would be positive demand for the product. If $A<0$, we would have a bad instead of a good. Let's take a look at what this demand function looks like."
   ]
  },
  {
   "cell_type": "code",
   "execution_count": 1,
   "metadata": {
    "collapsed": true,
    "nbpresent": {
     "id": "3803dad4-d917-4326-9820-b9a754aa5d2d"
    },
    "slideshow": {
     "slide_type": "skip"
    }
   },
   "outputs": [],
   "source": [
    "import numpy as np\n",
    "import matplotlib.pyplot as plt\n",
    "%matplotlib inline"
   ]
  },
  {
   "cell_type": "code",
   "execution_count": 3,
   "metadata": {
    "collapsed": true,
    "nbpresent": {
     "id": "464d14d2-a4ee-4e00-b691-035015489b9c"
    },
    "slideshow": {
     "slide_type": "slide"
    }
   },
   "outputs": [],
   "source": [
    "def _Demand_(price, A, b): # Define a linear demand function D = A-b*price\n",
    "    try:\n",
    "        if len(price)>0:\n",
    "            return np.maximum(np.array(A-b*price), np.array([0]*len(price)))\n",
    "    except:\n",
    "        return max(A-b*price, 0)"
   ]
  },
  {
   "cell_type": "markdown",
   "metadata": {
    "nbpresent": {
     "id": "932ba8de-9566-42d5-88e2-62eaae88f1f8"
    },
    "slideshow": {
     "slide_type": "fragment"
    }
   },
   "source": [
    "We will plot the demand for price between 0 and 20 with A = 100 and b = 2. \n",
    "#### Important disclaimer\n",
    "**Note that we go against economics convention and plot prices on the x-axis.** This is arbitrary, but more consistent with the mathematical convention of plotting function outputs on the y-axis. Economists swap axes because these plots typically involve firm's supply curve as well, in which case price is the variable that is \"determined\" by the 2 curves."
   ]
  },
  {
   "cell_type": "code",
   "execution_count": 4,
   "metadata": {
    "nbpresent": {
     "id": "7b8f6a85-e719-483b-9a61-53e48052c62a"
    },
    "slideshow": {
     "slide_type": "fragment"
    }
   },
   "outputs": [
    {
     "data": {
      "text/plain": [
       "<matplotlib.lines.Line2D at 0xc2defd0>"
      ]
     },
     "execution_count": 4,
     "metadata": {},
     "output_type": "execute_result"
    },
    {
     "data": {
      "image/png": "[encoded data removed]",
      "text/plain": [
       "<matplotlib.figure.Figure at 0xc229748>"
      ]
     },
     "metadata": {},
     "output_type": "display_data"
    }
   ],
   "source": [
    "A = 100 # set parameter A\n",
    "b = 2 # set parameter b\n",
    "prices = np.array(range(0, 61)) # generate a vector of prices from 0 to 60 (61 is is the length of the vector) \n",
    "demands1 = _Demand_(prices, A,b)\n",
    "plt.figure(figsize=(10,7)) # specify figure characteristics, here just the figure size.\n",
    "plt.scatter(prices, demands1) # plot demand and prices\n",
    "plt.legend(['Demand 1: D=100-2p']) # label data series in legend\n",
    "plt.xlabel('Prices') # label axis\n",
    "plt.ylabel('Quantity Demanded') # label axis\n",
    "plt.axhline(y=0, color='k') # draw origin x axis\n",
    "plt.axvline(x=0, color='k') # draw origin y axis"
   ]
  },
  {
   "cell_type": "markdown",
   "metadata": {
    "nbpresent": {
     "id": "38497d3c-9957-41de-a5ca-3da50dc03313"
    },
    "slideshow": {
     "slide_type": "slide"
    }
   },
   "source": [
    "## What happens when we change A or b?"
   ]
  },
  {
   "cell_type": "code",
   "execution_count": 5,
   "metadata": {
    "nbpresent": {
     "id": "e98e13cb-e7bf-4115-bf4b-f40c3a408293"
    },
    "slideshow": {
     "slide_type": "subslide"
    }
   },
   "outputs": [
    {
     "data": {
      "text/plain": [
       "<matplotlib.lines.Line2D at 0xc49aa20>"
      ]
     },
     "execution_count": 5,
     "metadata": {},
     "output_type": "execute_result"
    },
    {
     "data": {
      "image/png": "[encoded data removed]",
      "text/plain": [
       "<matplotlib.figure.Figure at 0xc3768d0>"
      ]
     },
     "metadata": {},
     "output_type": "display_data"
    }
   ],
   "source": [
    "A = 200 # let's change A from 100 to 200\n",
    "b = 2\n",
    "demands2 = _Demand_(prices, A,b)\n",
    "plt.figure(figsize=(10,7))\n",
    "plt.title('Change in A')\n",
    "plt.scatter(prices, demands1)\n",
    "plt.scatter(prices, demands2, c = 'Yellow')\n",
    "plt.legend(['D1=100-2p', 'D2=200-2p'])\n",
    "plt.xlabel('Prices')\n",
    "plt.ylabel('Quantity')\n",
    "plt.axhline(y=0, color='k')\n",
    "plt.axvline(x=0, color='k')"
   ]
  },
  {
   "cell_type": "code",
   "execution_count": 7,
   "metadata": {
    "nbpresent": {
     "id": "ce6da61b-7d33-437c-88f3-a7a3952fb008"
    },
    "slideshow": {
     "slide_type": "slide"
    }
   },
   "outputs": [
    {
     "data": {
      "text/plain": [
       "<matplotlib.lines.Line2D at 0xc807fd0>"
      ]
     },
     "execution_count": 7,
     "metadata": {},
     "output_type": "execute_result"
    },
    {
     "data": {
      "image/png": "[encoded data removed]",
      "text/plain": [
       "<matplotlib.figure.Figure at 0xc7344a8>"
      ]
     },
     "metadata": {},
     "output_type": "display_data"
    }
   ],
   "source": [
    "A = 100\n",
    "b = 1\n",
    "demands3 = _Demand_(prices, A,b)\n",
    "b=3\n",
    "demands4 = _Demand_(prices, A,b)\n",
    "plt.figure(figsize=(10,8))\n",
    "plt.title('Change in b')\n",
    "plt.scatter(prices, demands1)\n",
    "plt.scatter(prices, demands2, c = 'Yellow')\n",
    "plt.scatter(prices, demands3, c = 'Green')\n",
    "plt.scatter(prices, demands4, c = 'Red')\n",
    "plt.legend(['D1=100-2p', 'D2=200-2p', 'D3=100-p', 'D4=100-3p'])\n",
    "plt.xlabel('Prices')\n",
    "plt.ylabel('Quantity')\n",
    "plt.axhline(y=0, color='k')\n",
    "plt.axvline(x=0, color='k')"
   ]
  },
  {
   "cell_type": "markdown",
   "metadata": {
    "nbpresent": {
     "id": "b57ca27e-1543-4ce4-a7c4-032944ef34b6"
    },
    "slideshow": {
     "slide_type": "subslide"
    }
   },
   "source": [
    "# Next, we plot revenue for All 4 of our demand functions. Note that revenue is just price X demand"
   ]
  },
  {
   "cell_type": "code",
   "execution_count": 10,
   "metadata": {
    "nbpresent": {
     "id": "ef437713-5f3c-4eef-8b57-bcaac7071a51"
    },
    "slideshow": {
     "slide_type": "subslide"
    }
   },
   "outputs": [
    {
     "data": {
      "text/plain": [
       "<matplotlib.lines.Line2D at 0xcd87940>"
      ]
     },
     "execution_count": 10,
     "metadata": {},
     "output_type": "execute_result"
    },
    {
     "data": {
      "image/png": "[encoded data removed]",
      "text/plain": [
       "<matplotlib.figure.Figure at 0xcbbfa58>"
      ]
     },
     "metadata": {},
     "output_type": "display_data"
    }
   ],
   "source": [
    "plt.figure(figsize=(10,8))\n",
    "plt.scatter(prices, demands1*prices)\n",
    "plt.scatter(prices, demands2*prices, c = 'Yellow')\n",
    "plt.scatter(prices, demands3*prices, c = 'Green')\n",
    "plt.scatter(prices, demands4*prices, c = 'Red')\n",
    "plt.legend(['Rev1=(100-2p)*p', 'Rev2=(200-2p)*p', 'Rev3=(100-p)*p', 'Rev4=(100-3p)*p'])\n",
    "plt.xlabel('Prices')\n",
    "plt.ylabel('Revenues')\n",
    "plt.axhline(y=0, color='k')\n",
    "plt.axvline(x=0, color='k')"
   ]
  },
  {
   "cell_type": "markdown",
   "metadata": {
    "nbpresent": {
     "id": "68f6aaf9-8382-4338-a5e6-4ac8a5a1e7db"
    },
    "slideshow": {
     "slide_type": "slide"
    }
   },
   "source": [
    "Note that with linear demand, all revenue functions are parabolic and concave. This means that there is a uniue global maximum in the revenue. Is this the point we want to price at? No, because we haven't looked at costs yet. There are 2 components to cost, fixed and marginal. Fixed cost is applied regardless of how many units are made/sold. Marginal cost is a per unit cost of production/sale (assuming no waste).\n",
    "Notice that the fixed costs shift profit down from revenue since the same quantity is subtracted from the revenue. "
   ]
  },
  {
   "cell_type": "code",
   "execution_count": 12,
   "metadata": {
    "collapsed": true,
    "nbpresent": {
     "id": "e83c7ce5-c409-4cab-a263-c0486924360f"
    },
    "slideshow": {
     "slide_type": "slide"
    }
   },
   "outputs": [],
   "source": [
    "def _profit_(demands, prices, c_fixed, c_marginal): # define the profit function\n",
    "    return demands*(prices-c_marginal)-c_fixed"
   ]
  },
  {
   "cell_type": "code",
   "execution_count": 14,
   "metadata": {
    "nbpresent": {
     "id": "11c5effe-3c58-4cf4-a9fc-e46a61f6d91a"
    },
    "slideshow": {
     "slide_type": "subslide"
    }
   },
   "outputs": [
    {
     "data": {
      "text/plain": [
       "<matplotlib.lines.Line2D at 0xd35ceb8>"
      ]
     },
     "execution_count": 14,
     "metadata": {},
     "output_type": "execute_result"
    },
    {
     "data": {
      "image/png": "[encoded data removed]",
      "text/plain": [
       "<matplotlib.figure.Figure at 0xd20beb8>"
      ]
     },
     "metadata": {},
     "output_type": "display_data"
    }
   ],
   "source": [
    "plt.figure(figsize = (10,7))\n",
    "plt.scatter(prices, demands1*prices)\n",
    "plt.scatter(prices, _profit_(demands1, prices, 200, 10), c='Yellow')\n",
    "plt.legend(['Rev1=(100-2p)*p', 'Prof1=(100-2p)*(p-mc)-fc'])\n",
    "plt.xlabel('Prices')\n",
    "plt.ylabel('$')\n",
    "plt.axhline(y=0, color='k')\n",
    "plt.axvline(x=0, color='k')"
   ]
  },
  {
   "cell_type": "markdown",
   "metadata": {
    "nbpresent": {
     "id": "6aa99366-8662-4604-96fb-c953e6b657a6"
    },
    "slideshow": {
     "slide_type": "slide"
    }
   },
   "source": [
    "# Compute a break even price / quantity\n",
    "If we know the demand function (the amount we sell at a given price), and the costs of production, we can figure out what is the price that gets us to breakeven. Alternatively, given the cost structure, we can compute the quantity that we would need to sell to break even at any given price."
   ]
  },
  {
   "cell_type": "markdown",
   "metadata": {},
   "source": [
    "### First, let's assume we know demand and costs and compute the break even price\n",
    "We know demand is this:\n",
    "$D=100-2p$\n",
    "\n",
    "So the profit function is this:\n",
    "$\\Pi=(100-2p)(p-c_m)-c_f$\n",
    "\n",
    "Let's say the marginal cost, $c_m$, is 10, and fixed costs, $c_f$, is 200. We substitute these numbers into the profit function and get: $\\Pi=(100-2p)(p-10)-200$\n",
    "\n",
    "If we want to solve for breakeven price, what do we do next?\n",
    "\n",
    "Set $\\Pi=0$\n",
    "\n",
    "$0=(100-2p)(p-10)-200$\n",
    "\n",
    "$0=-2p^2+120p-1200$\n",
    "\n",
    "\n",
    "Recall the quadratic formula: for $0=ax^2+bx+c$, we can solve for x using \n",
    "$\\frac{-b\\pm\\sqrt{b^2-4ac}}{2a}$\n",
    "\n",
    "Applied to our problem: $a=-2$, $b=120$, $c=-1200$\n",
    "\n",
    "What is the solution? (note we only want positive solutions)\n",
    "$10(3\\pm\\sqrt{3})$"
   ]
  },
  {
   "cell_type": "code",
   "execution_count": 15,
   "metadata": {},
   "outputs": [
    {
     "data": {
      "text/plain": [
       "47.320508075688764"
      ]
     },
     "execution_count": 15,
     "metadata": {},
     "output_type": "execute_result"
    }
   ],
   "source": [
    "10*(3+np.sqrt(3)) # compute the first 0"
   ]
  },
  {
   "cell_type": "code",
   "execution_count": 16,
   "metadata": {},
   "outputs": [
    {
     "data": {
      "text/plain": [
       "12.679491924311229"
      ]
     },
     "execution_count": 16,
     "metadata": {},
     "output_type": "execute_result"
    }
   ],
   "source": [
    "10*(3-np.sqrt(3)) # compute the second 0"
   ]
  },
  {
   "cell_type": "markdown",
   "metadata": {},
   "source": [
    "### Next, let's compute the break even quantity for each price level\n",
    "We know only the cost structure, so our profit function looks like this:\n",
    "$\\Pi=D(p-c_m)-c_f=D(p-10)-200$\n",
    "\n",
    "Next, we set profit to be 0 and solve for Demand:\n",
    "$0=D(p-10)-200$\n",
    "\n",
    "$D=\\frac{200}{p-10}$\n",
    "\n",
    "Obviously, it is impossible to have a positive demand if $p<10$. \n",
    "\n",
    "##### What is the break even quantity at price = 12? 14?\n",
    "\n",
    "##### We plot the break even quantity must be for each level of p>10 below."
   ]
  },
  {
   "cell_type": "code",
   "execution_count": 18,
   "metadata": {},
   "outputs": [
    {
     "name": "stderr",
     "output_type": "stream",
     "text": [
      "C:\\Users\\yangy\\AppData\\Local\\conda\\conda\\envs\\py27\\lib\\site-packages\\ipykernel_launcher.py:3: RuntimeWarning: divide by zero encountered in true_divide\n",
      "  This is separate from the ipykernel package so we can avoid doing imports until\n"
     ]
    },
    {
     "data": {
      "text/plain": [
       "<matplotlib.lines.Line2D at 0xd67fc18>"
      ]
     },
     "execution_count": 18,
     "metadata": {},
     "output_type": "execute_result"
    },
    {
     "data": {
      "image/png": "[encoded data removed]",
      "text/plain": [
       "<matplotlib.figure.Figure at 0xcf6fc88>"
      ]
     },
     "metadata": {},
     "output_type": "display_data"
    }
   ],
   "source": [
    "from __future__ import division\n",
    "P = np.array(range(10, 100))\n",
    "D = 200/(P-10)\n",
    "plt.figure(figsize=(10,7))\n",
    "plt.scatter(P, D)\n",
    "plt.legend(['Break Even Quantity'])\n",
    "plt.xlabel('Prices')\n",
    "plt.ylabel('Quantity')\n",
    "plt.axhline(y=0, color='k')\n",
    "plt.axvline(x=0, color='k')"
   ]
  },
  {
   "cell_type": "markdown",
   "metadata": {},
   "source": [
    "### Finally, we can compute the break even price for every level of demand given a cost structure.\n",
    "We know only the cost structure, so our profit function looks like this:\n",
    "$\\Pi=D(p-c_m)-c_f=D(p-10)-200$\n",
    "\n",
    "Next, we set profit to be 0 and solve for price:\n",
    "$0=D(p-10)-200$\n",
    "\n",
    "$p=\\frac{200}{D}+10$\n",
    "\n",
    "#### What's the break even price if demand is 100? 200?\n",
    "\n",
    "#### We plot the break even price curve for this cost structure below at each level of demand."
   ]
  },
  {
   "cell_type": "code",
   "execution_count": 19,
   "metadata": {},
   "outputs": [
    {
     "data": {
      "text/plain": [
       "<matplotlib.lines.Line2D at 0xd856710>"
      ]
     },
     "execution_count": 19,
     "metadata": {},
     "output_type": "execute_result"
    },
    {
     "data": {
      "image/png": "[encoded data removed]",
      "text/plain": [
       "<matplotlib.figure.Figure at 0xd661128>"
      ]
     },
     "metadata": {},
     "output_type": "display_data"
    }
   ],
   "source": [
    "D = np.array(range(1,101))\n",
    "P = 200/D+10\n",
    "plt.figure(figsize=(10,7))\n",
    "plt.scatter(D, P)\n",
    "plt.legend(['Break Even Prices'])\n",
    "plt.xlabel('Quantity')\n",
    "plt.ylabel('Prices')\n",
    "plt.axhline(y=0, color='k')\n",
    "plt.axvline(x=0, color='k')"
   ]
  },
  {
   "cell_type": "markdown",
   "metadata": {},
   "source": [
    "# Maximizing profit for a generic demand function\n",
    "For some marginal cost and fixed cost, we can express profit as follows:\n",
    "$\\Pi=D(p)(p-c_m)-c_f$\n",
    "\n",
    "where $D(p)$ is some demand that is a function of price.\n",
    "\n",
    "As long as this profit function is concave (opens down, also second derivative is negative), we can solve for the price that gives us maximum profit by calculating the first order condition (FOC), $\\Pi'=0$ (where derivative is with respect to price).\n",
    "\n",
    "Using the product rule, we get:\n",
    "$\\Pi'=D'(p)(p-c_m)+D(p)$, which we set to equal 0 and solve for p. Note that the profit maximizing price does not depend on fixed costs.\n",
    "\n",
    "### Example: linear demand. \n",
    "\n",
    "Let $D(p)=A-bp$. Then $\\Pi=(A-bp)(p-c_m)-c_f$ and $\\Pi'=-b(p-c_m)+A-bp=A-2bp+bc_m=0$\n",
    "\n",
    "Solving for p, we get $p=\\frac{A+bc_m}{2b}$\n",
    "\n",
    "For our previous cost structure, $c_m=10$, $b=2$, $A=100$, we have $p^*=\\frac{100+2\\times10}{2\\times2}=30$\n",
    "\n",
    "Plug in 30 for p, and we find that the profit, $\\Pi^*=600$\n"
   ]
  },
  {
   "cell_type": "code",
   "execution_count": 22,
   "metadata": {
    "collapsed": true
   },
   "outputs": [],
   "source": [
    "def _pstar_linear_(A,b,c_m):\n",
    "    return (A+b*c_m)/(2*b)"
   ]
  },
  {
   "cell_type": "code",
   "execution_count": 23,
   "metadata": {},
   "outputs": [
    {
     "data": {
      "text/plain": [
       "(30.0, 600.0)"
      ]
     },
     "execution_count": 23,
     "metadata": {},
     "output_type": "execute_result"
    }
   ],
   "source": [
    "pstar = _pstar_linear_(100,2,10)\n",
    "profstar = _profit_(_Demand_(pstar,100,2), pstar, 200, 10)\n",
    "pstar, profstar"
   ]
  },
  {
   "cell_type": "code",
   "execution_count": null,
   "metadata": {
    "collapsed": true
   },
   "outputs": [],
   "source": []
  },
  {
   "cell_type": "code",
   "execution_count": 24,
   "metadata": {},
   "outputs": [
    {
     "data": {
      "text/plain": [
       "<matplotlib.lines.Line2D at 0xd9de198>"
      ]
     },
     "execution_count": 24,
     "metadata": {},
     "output_type": "execute_result"
    },
    {
     "data": {
      "image/png": "[encoded data removed]",
      "text/plain": [
       "<matplotlib.figure.Figure at 0xd661860>"
      ]
     },
     "metadata": {},
     "output_type": "display_data"
    }
   ],
   "source": [
    "plt.figure(figsize = (10,7))\n",
    "plt.scatter(prices, _profit_(demands1, prices, 200, 10), c='Yellow')\n",
    "plt.legend(['Prof1=(100-2p)*(p-10)-200'])\n",
    "plt.xlabel('Prices')\n",
    "plt.ylabel('$')\n",
    "plt.axhline(y=0, color='k')\n",
    "plt.axvline(x=0, color='k')\n",
    "pstar = _pstar_linear_(100,2,10)\n",
    "plt.axvline(x=pstar, color='r')\n",
    "plt.axhline(y=_profit_(_Demand_(pstar,100,2), pstar, 200, 10), color='r')"
   ]
  },
  {
   "cell_type": "markdown",
   "metadata": {},
   "source": [
    "# Profit Maximization with data"
   ]
  },
  {
   "cell_type": "markdown",
   "metadata": {},
   "source": [
    "In 4 equivalent test markets, we have the following sales for prices:\n",
    "\n",
    "Market 1: 400 units @ \\$3\n",
    "\n",
    "Market 2: 300 units @ \\$5\n",
    "\n",
    "Market 3: 200 units @ \\$8\n",
    "\n",
    "Market 4: 100 units @ \\$9\n",
    "\n",
    "The marginal cost is $2.50, what is the profit maximizing price?"
   ]
  },
  {
   "cell_type": "code",
   "execution_count": 25,
   "metadata": {},
   "outputs": [
    {
     "data": {
      "text/plain": [
       "Text(0.5,0,u'Prices')"
      ]
     },
     "execution_count": 25,
     "metadata": {},
     "output_type": "execute_result"
    },
    {
     "data": {
      "image/png": "[encoded data removed]",
      "text/plain": [
       "<matplotlib.figure.Figure at 0xd5e2e48>"
      ]
     },
     "metadata": {},
     "output_type": "display_data"
    }
   ],
   "source": [
    "import pandas as pd\n",
    "sales = [400,300,200,100]\n",
    "prices = [3, 5, 8, 9]\n",
    "data = pd.DataFrame(list(zip(prices, sales)), columns = ['Prices', 'Units'])\n",
    "data['constant'] = 1\n",
    "plt.scatter(prices, sales)\n",
    "plt.ylabel('Units')\n",
    "plt.xlabel('Prices')"
   ]
  },
  {
   "cell_type": "code",
   "execution_count": 26,
   "metadata": {},
   "outputs": [
    {
     "name": "stderr",
     "output_type": "stream",
     "text": [
      "C:\\Users\\yangy\\AppData\\Local\\conda\\conda\\envs\\py27\\lib\\site-packages\\statsmodels\\stats\\stattools.py:72: ValueWarning: omni_normtest is not valid with less than 8 observations; 4 samples were given.\n",
      "  \"samples were given.\" % int(n), ValueWarning)\n"
     ]
    },
    {
     "data": {
      "text/html": [
       "<table class=\"simpletable\">\n",
       "<caption>OLS Regression Results</caption>\n",
       "<tr>\n",
       "  <th>Dep. Variable:</th>          <td>Units</td>      <th>  R-squared:         </th> <td>   0.969</td>\n",
       "</tr>\n",
       "<tr>\n",
       "  <th>Model:</th>                   <td>OLS</td>       <th>  Adj. R-squared:    </th> <td>   0.954</td>\n",
       "</tr>\n",
       "<tr>\n",
       "  <th>Method:</th>             <td>Least Squares</td>  <th>  F-statistic:       </th> <td>   63.00</td>\n",
       "</tr>\n",
       "<tr>\n",
       "  <th>Date:</th>             <td>Mon, 26 Feb 2018</td> <th>  Prob (F-statistic):</th>  <td>0.0155</td> \n",
       "</tr>\n",
       "<tr>\n",
       "  <th>Time:</th>                 <td>16:00:29</td>     <th>  Log-Likelihood:    </th> <td> -17.580</td>\n",
       "</tr>\n",
       "<tr>\n",
       "  <th>No. Observations:</th>      <td>     4</td>      <th>  AIC:               </th> <td>   39.16</td>\n",
       "</tr>\n",
       "<tr>\n",
       "  <th>Df Residuals:</th>          <td>     2</td>      <th>  BIC:               </th> <td>   37.93</td>\n",
       "</tr>\n",
       "<tr>\n",
       "  <th>Df Model:</th>              <td>     1</td>      <th>                     </th>     <td> </td>   \n",
       "</tr>\n",
       "<tr>\n",
       "  <th>Covariance Type:</th>      <td>nonrobust</td>    <th>                     </th>     <td> </td>   \n",
       "</tr>\n",
       "</table>\n",
       "<table class=\"simpletable\">\n",
       "<tr>\n",
       "      <td></td>         <th>coef</th>     <th>std err</th>      <th>t</th>      <th>P>|t|</th>  <th>[0.025</th>    <th>0.975]</th>  \n",
       "</tr>\n",
       "<tr>\n",
       "  <th>Intercept</th> <td>  538.4615</td> <td>   38.899</td> <td>   13.843</td> <td> 0.005</td> <td>  371.094</td> <td>  705.829</td>\n",
       "</tr>\n",
       "<tr>\n",
       "  <th>Prices</th>    <td>  -46.1538</td> <td>    5.815</td> <td>   -7.937</td> <td> 0.016</td> <td>  -71.173</td> <td>  -21.135</td>\n",
       "</tr>\n",
       "</table>\n",
       "<table class=\"simpletable\">\n",
       "<tr>\n",
       "  <th>Omnibus:</th>       <td>   nan</td> <th>  Durbin-Watson:     </th> <td>   2.885</td>\n",
       "</tr>\n",
       "<tr>\n",
       "  <th>Prob(Omnibus):</th> <td>   nan</td> <th>  Jarque-Bera (JB):  </th> <td>   0.363</td>\n",
       "</tr>\n",
       "<tr>\n",
       "  <th>Skew:</th>          <td> 0.543</td> <th>  Prob(JB):          </th> <td>   0.834</td>\n",
       "</tr>\n",
       "<tr>\n",
       "  <th>Kurtosis:</th>      <td> 2.000</td> <th>  Cond. No.          </th> <td>    19.1</td>\n",
       "</tr>\n",
       "</table>"
      ],
      "text/plain": [
       "<class 'statsmodels.iolib.summary.Summary'>\n",
       "\"\"\"\n",
       "                            OLS Regression Results                            \n",
       "==============================================================================\n",
       "Dep. Variable:                  Units   R-squared:                       0.969\n",
       "Model:                            OLS   Adj. R-squared:                  0.954\n",
       "Method:                 Least Squares   F-statistic:                     63.00\n",
       "Date:                Mon, 26 Feb 2018   Prob (F-statistic):             0.0155\n",
       "Time:                        16:00:29   Log-Likelihood:                -17.580\n",
       "No. Observations:                   4   AIC:                             39.16\n",
       "Df Residuals:                       2   BIC:                             37.93\n",
       "Df Model:                           1                                         \n",
       "Covariance Type:            nonrobust                                         \n",
       "==============================================================================\n",
       "                 coef    std err          t      P>|t|      [0.025      0.975]\n",
       "------------------------------------------------------------------------------\n",
       "Intercept    538.4615     38.899     13.843      0.005     371.094     705.829\n",
       "Prices       -46.1538      5.815     -7.937      0.016     -71.173     -21.135\n",
       "==============================================================================\n",
       "Omnibus:                          nan   Durbin-Watson:                   2.885\n",
       "Prob(Omnibus):                    nan   Jarque-Bera (JB):                0.363\n",
       "Skew:                           0.543   Prob(JB):                        0.834\n",
       "Kurtosis:                       2.000   Cond. No.                         19.1\n",
       "==============================================================================\n",
       "\n",
       "Warnings:\n",
       "[1] Standard Errors assume that the covariance matrix of the errors is correctly specified.\n",
       "\"\"\""
      ]
     },
     "execution_count": 26,
     "metadata": {},
     "output_type": "execute_result"
    }
   ],
   "source": [
    "import statsmodels.formula.api as smf\n",
    "results = smf.ols(formula = 'Units~Prices', data = data).fit()\n",
    "results.summary()"
   ]
  },
  {
   "cell_type": "code",
   "execution_count": 27,
   "metadata": {},
   "outputs": [
    {
     "data": {
      "text/html": [
       "<div>\n",
       "<style>\n",
       "    .dataframe thead tr:only-child th {\n",
       "        text-align: right;\n",
       "    }\n",
       "\n",
       "    .dataframe thead th {\n",
       "        text-align: left;\n",
       "    }\n",
       "\n",
       "    .dataframe tbody tr th {\n",
       "        vertical-align: top;\n",
       "    }\n",
       "</style>\n",
       "<table border=\"1\" class=\"dataframe\">\n",
       "  <thead>\n",
       "    <tr style=\"text-align: right;\">\n",
       "      <th></th>\n",
       "      <th>Prices</th>\n",
       "      <th>Units</th>\n",
       "      <th>constant</th>\n",
       "      <th>Units_predicted</th>\n",
       "    </tr>\n",
       "  </thead>\n",
       "  <tbody>\n",
       "    <tr>\n",
       "      <th>0</th>\n",
       "      <td>3</td>\n",
       "      <td>400</td>\n",
       "      <td>1</td>\n",
       "      <td>400.000000</td>\n",
       "    </tr>\n",
       "    <tr>\n",
       "      <th>1</th>\n",
       "      <td>5</td>\n",
       "      <td>300</td>\n",
       "      <td>1</td>\n",
       "      <td>307.692308</td>\n",
       "    </tr>\n",
       "    <tr>\n",
       "      <th>2</th>\n",
       "      <td>8</td>\n",
       "      <td>200</td>\n",
       "      <td>1</td>\n",
       "      <td>169.230769</td>\n",
       "    </tr>\n",
       "    <tr>\n",
       "      <th>3</th>\n",
       "      <td>9</td>\n",
       "      <td>100</td>\n",
       "      <td>1</td>\n",
       "      <td>123.076923</td>\n",
       "    </tr>\n",
       "  </tbody>\n",
       "</table>\n",
       "</div>"
      ],
      "text/plain": [
       "   Prices  Units  constant  Units_predicted\n",
       "0       3    400         1       400.000000\n",
       "1       5    300         1       307.692308\n",
       "2       8    200         1       169.230769\n",
       "3       9    100         1       123.076923"
      ]
     },
     "execution_count": 27,
     "metadata": {},
     "output_type": "execute_result"
    }
   ],
   "source": [
    "data['Units_predicted'] = np.dot(data[['Prices', 'constant']],results.params[::-1])\n",
    "data"
   ]
  },
  {
   "cell_type": "code",
   "execution_count": 28,
   "metadata": {},
   "outputs": [
    {
     "data": {
      "text/plain": [
       "[<matplotlib.lines.Line2D at 0x12e52748>]"
      ]
     },
     "execution_count": 28,
     "metadata": {},
     "output_type": "execute_result"
    },
    {
     "data": {
      "image/png": "[encoded data removed]",
      "text/plain": [
       "<matplotlib.figure.Figure at 0x12d97860>"
      ]
     },
     "metadata": {},
     "output_type": "display_data"
    }
   ],
   "source": [
    "plt.scatter(data.Prices, data.Units)\n",
    "plt.ylabel('Units')\n",
    "plt.xlabel('Prices')\n",
    "plt.plot(data.Prices, data.Units_predicted)"
   ]
  },
  {
   "cell_type": "code",
   "execution_count": 29,
   "metadata": {},
   "outputs": [
    {
     "data": {
      "text/plain": [
       "Intercept    538.461538\n",
       "Prices       -46.153846\n",
       "dtype: float64"
      ]
     },
     "execution_count": 29,
     "metadata": {},
     "output_type": "execute_result"
    }
   ],
   "source": [
    "results.params"
   ]
  },
  {
   "cell_type": "code",
   "execution_count": 30,
   "metadata": {},
   "outputs": [
    {
     "data": {
      "text/plain": [
       "(7.083333333333333, 769.55128205128176)"
      ]
     },
     "execution_count": 30,
     "metadata": {},
     "output_type": "execute_result"
    }
   ],
   "source": [
    "A = results.params['Intercept']\n",
    "b = -results.params['Prices']\n",
    "c_m = 2.5\n",
    "c_f = 200\n",
    "pstar = _pstar_linear_(A,b,c_m)\n",
    "profstar = _profit_(_Demand_(pstar, A,b), pstar, c_f, c_m)\n",
    "pstar, profstar"
   ]
  },
  {
   "cell_type": "code",
   "execution_count": 31,
   "metadata": {
    "collapsed": true
   },
   "outputs": [],
   "source": [
    "prices = np.array([v/2 for v in range(0,25)])\n",
    "demands_est = _Demand_(prices, A,b)\n",
    "prof_est = _profit_(demands_est, prices, c_f, c_m)"
   ]
  },
  {
   "cell_type": "code",
   "execution_count": 32,
   "metadata": {},
   "outputs": [
    {
     "data": {
      "text/plain": [
       "<matplotlib.lines.Line2D at 0x130c2ac8>"
      ]
     },
     "execution_count": 32,
     "metadata": {},
     "output_type": "execute_result"
    },
    {
     "data": {
      "image/png": "[encoded data removed]",
      "text/plain": [
       "<matplotlib.figure.Figure at 0x12dc3be0>"
      ]
     },
     "metadata": {},
     "output_type": "display_data"
    }
   ],
   "source": [
    "plt.figure(figsize = (10,7))\n",
    "# plt.scatter(data.Prices, data.Units)\n",
    "plt.scatter(prices, prof_est, c='Yellow')\n",
    "plt.xlabel('Prices')\n",
    "plt.ylabel('$')\n",
    "plt.axhline(y=0, color='k')\n",
    "plt.axvline(x=0, color='k')\n",
    "plt.axvline(x=pstar, color='r')\n",
    "plt.axhline(y=_profit_(_Demand_(pstar,A,b), pstar, c_f, c_m), color='r')"
   ]
  },
  {
   "cell_type": "code",
   "execution_count": null,
   "metadata": {
    "collapsed": true
   },
   "outputs": [],
   "source": []
  }
 ],
 "metadata": {
  "anaconda-cloud": {},
  "kernelspec": {
   "display_name": "Python 2",
   "language": "python",
   "name": "python2"
  },
  "language_info": {
   "codemirror_mode": {
    "name": "ipython",
    "version": 2
   },
   "file_extension": ".py",
   "mimetype": "text/x-python",
   "name": "python",
   "nbconvert_exporter": "python",
   "pygments_lexer": "ipython2",
   "version": "2.7.14"
  },
  "nbpresent": {
   "slides": {},
   "themes": {}
  }
 },
 "nbformat": 4,
 "nbformat_minor": 2
}
