{
 "cells": [
  {
   "cell_type": "code",
   "execution_count": 1,
   "metadata": {
    "collapsed": true
   },
   "outputs": [],
   "source": [
    "from urllib2 import urlopen as URL # Access internet resources\n",
    "from bs4 import BeautifulSoup as BS # Parse HTML pages\n",
    "import pandas as pd, numpy as np, re # importing some other packages"
   ]
  },
  {
   "cell_type": "markdown",
   "metadata": {},
   "source": [
    "# Let's get some data for LaLa Land"
   ]
  },
  {
   "cell_type": "code",
   "execution_count": 2,
   "metadata": {},
   "outputs": [
    {
     "name": "stderr",
     "output_type": "stream",
     "text": [
      "C:\\Users\\yangy\\AppData\\Local\\conda\\conda\\envs\\py27\\lib\\site-packages\\bs4\\__init__.py:181: UserWarning: No parser was explicitly specified, so I'm using the best available HTML parser for this system (\"lxml\"). This usually isn't a problem, but if you run this code on another system, or in a different virtual environment, it may use a different parser and behave differently.\n",
      "\n",
      "The code that caused this warning is on line 174 of the file C:\\Users\\yangy\\AppData\\Local\\conda\\conda\\envs\\py27\\lib\\runpy.py. To get rid of this warning, change code that looks like this:\n",
      "\n",
      " BeautifulSoup(YOUR_MARKUP})\n",
      "\n",
      "to this:\n",
      "\n",
      " BeautifulSoup(YOUR_MARKUP, \"lxml\")\n",
      "\n",
      "  markup_type=markup_type))\n"
     ]
    }
   ],
   "source": [
    "# Open page\n",
    "pg = 'http://www.imdb.com/title/' # This is the root of the url for movies\n",
    "tt = 'tt3783958' # this is the imdb id for a movie (this one is lalaland)\n",
    "sc = URL(pg+tt).read() # read the page source\n",
    "soup = BS(sc) # create soup object"
   ]
  },
  {
   "cell_type": "markdown",
   "metadata": {},
   "source": [
    "# Let's go to chrome to inspect this page\n",
    "![lalaland](./figures/lalaland.png)"
   ]
  },
  {
   "cell_type": "markdown",
   "metadata": {},
   "source": [
    "# Getting average aggregate rating"
   ]
  },
  {
   "cell_type": "code",
   "execution_count": 3,
   "metadata": {},
   "outputs": [
    {
     "data": {
      "text/plain": [
       "1"
      ]
     },
     "execution_count": 3,
     "metadata": {},
     "output_type": "execute_result"
    }
   ],
   "source": [
    "rating = soup.find_all('div', {'class':'imdbRating'}) # Find div tags with class as imdbRating\n",
    "len(rating)"
   ]
  },
  {
   "cell_type": "code",
   "execution_count": 4,
   "metadata": {
    "collapsed": true
   },
   "outputs": [],
   "source": [
    "rating = rating[0] # since we know we only get one that fits this description, let's keep the first item"
   ]
  },
  {
   "cell_type": "code",
   "execution_count": 5,
   "metadata": {},
   "outputs": [
    {
     "data": {
      "text/plain": [
       "<div class=\"imdbRating\" itemprop=\"aggregateRating\" itemscope=\"\" itemtype=\"http://schema.org/AggregateRating\">\\n<div class=\"ratingValue\">\\n<strong title=\"8.1 based on 348,146 user ratings\"><span itemprop=\"ratingValue\">8.1</span></strong><span class=\"grey\">/</span><span class=\"grey\" itemprop=\"bestRating\">10</span> </div>\\n<a href=\"/title/tt3783958/ratings?ref_=tt_ov_rt\"><span class=\"small\" itemprop=\"ratingCount\">348,146</span></a>\\n<div class=\"hiddenImportant\">\\n<span itemprop=\"reviewCount\">1,296 user</span>\\n<span itemprop=\"reviewCount\">639 critic</span>\\n</div>\\n</div>"
      ]
     },
     "execution_count": 5,
     "metadata": {},
     "output_type": "execute_result"
    }
   ],
   "source": [
    "rating # this is what the HTML code looks like\n",
    "# notice there are several places where the data wa want is located\n",
    "# also, span tags a bunch of the data we want"
   ]
  },
  {
   "cell_type": "code",
   "execution_count": 6,
   "metadata": {},
   "outputs": [
    {
     "data": {
      "text/plain": [
       "[<span itemprop=\"ratingValue\">8.1</span>,\n",
       " <span class=\"grey\">/</span>,\n",
       " <span class=\"grey\" itemprop=\"bestRating\">10</span>,\n",
       " <span class=\"small\" itemprop=\"ratingCount\">348,146</span>,\n",
       " <span itemprop=\"reviewCount\">1,296 user</span>,\n",
       " <span itemprop=\"reviewCount\">639 critic</span>]"
      ]
     },
     "execution_count": 6,
     "metadata": {},
     "output_type": "execute_result"
    }
   ],
   "source": [
    "rating.find_all('span')"
   ]
  },
  {
   "cell_type": "code",
   "execution_count": 7,
   "metadata": {},
   "outputs": [
    {
     "data": {
      "text/plain": [
       "u'8.1'"
      ]
     },
     "execution_count": 7,
     "metadata": {},
     "output_type": "execute_result"
    }
   ],
   "source": [
    "rating.find_all('span')[0].text"
   ]
  },
  {
   "cell_type": "code",
   "execution_count": 8,
   "metadata": {},
   "outputs": [
    {
     "data": {
      "text/plain": [
       "[u'8.1', u'/', u'10', u'348,146', u'1,296 user', u'639 critic']"
      ]
     },
     "execution_count": 8,
     "metadata": {},
     "output_type": "execute_result"
    }
   ],
   "source": [
    "ratingdata = [s.text for s in rating.find_all('span')] # seems to get all the data we need\n",
    "ratingdata"
   ]
  },
  {
   "cell_type": "code",
   "execution_count": 9,
   "metadata": {},
   "outputs": [
    {
     "data": {
      "text/plain": [
       "[u'8.1', u'10', u'348,146', u'1,296 user', u'639 critic']"
      ]
     },
     "execution_count": 9,
     "metadata": {},
     "output_type": "execute_result"
    }
   ],
   "source": [
    "ratingdata = [r for r in ratingdata if ('/' not in r)] # let's just get rid of the entry we don't want\n",
    "ratingdata"
   ]
  },
  {
   "cell_type": "code",
   "execution_count": 10,
   "metadata": {},
   "outputs": [
    {
     "data": {
      "text/plain": [
       "34412.0"
      ]
     },
     "execution_count": 10,
     "metadata": {},
     "output_type": "execute_result"
    }
   ],
   "source": [
    "# How can we extract  numbers only from a blob of text?\n",
    "float(re.findall('[0-9.,]+','asfdjla34,412rqupoieqr31431.,341231r3')[0].replace(',', ''))"
   ]
  },
  {
   "cell_type": "code",
   "execution_count": 11,
   "metadata": {},
   "outputs": [
    {
     "data": {
      "text/plain": [
       "[8.1, 10.0, 348146.0, 1296.0, 639.0]"
      ]
     },
     "execution_count": 11,
     "metadata": {},
     "output_type": "execute_result"
    }
   ],
   "source": [
    "ratingdata = [float(re.findall('[0-9.,]+',r)[0].replace(',', '')) for r in ratingdata] # why does this work?\n",
    "ratingdata"
   ]
  },
  {
   "cell_type": "code",
   "execution_count": 12,
   "metadata": {
    "collapsed": true
   },
   "outputs": [],
   "source": [
    "labels = ['rating','out_of', 'volume', 'userreviews', 'criticreviews']"
   ]
  },
  {
   "cell_type": "code",
   "execution_count": 13,
   "metadata": {},
   "outputs": [
    {
     "data": {
      "text/plain": [
       "{'criticreviews': 639.0,\n",
       " 'out_of': 10.0,\n",
       " 'rating': 8.1,\n",
       " 'userreviews': 1296.0,\n",
       " 'volume': 348146.0}"
      ]
     },
     "execution_count": 13,
     "metadata": {},
     "output_type": "execute_result"
    }
   ],
   "source": [
    "moviedata = dict(zip(labels, ratingdata))\n",
    "moviedata"
   ]
  },
  {
   "cell_type": "markdown",
   "metadata": {},
   "source": [
    "# Make this into a function "
   ]
  },
  {
   "cell_type": "code",
   "execution_count": 14,
   "metadata": {
    "collapsed": true
   },
   "outputs": [],
   "source": [
    "def imdb_rating_test(tt='tt3315342'):\n",
    "    pg = 'http://www.imdb.com/title/' # This is the root of the url for movies\n",
    "    sc = URL(pg+tt).read() # read the page source\n",
    "    soup = BS(sc)\n",
    "    rating = soup.find_all('div', {'class':'imdbRating'})[0] # Find div tags with class as imdbRating\n",
    "    ratingdata = [s.text for s in rating.find_all('span')] # seems to get all the data we need\n",
    "    ratingdata = [r for r in ratingdata if ('/' not in r)] # let's just get rid of the entry we don't want\n",
    "    ratingdata = [float(re.findall('[0-9.,]+',r)[0].replace(',', '')) for r in ratingdata] # why does this work?\n",
    "    labels = ['rating','out_of', 'volume', 'userreviews', 'criticreviews']\n",
    "    moviedata = dict(zip(labels, ratingdata))\n",
    "    return moviedata"
   ]
  },
  {
   "cell_type": "code",
   "execution_count": 15,
   "metadata": {},
   "outputs": [
    {
     "data": {
      "text/plain": [
       "{'criticreviews': 639.0,\n",
       " 'out_of': 10.0,\n",
       " 'rating': 8.1,\n",
       " 'userreviews': 1296.0,\n",
       " 'volume': 348146.0}"
      ]
     },
     "execution_count": 15,
     "metadata": {},
     "output_type": "execute_result"
    }
   ],
   "source": [
    "moviedata = imdb_rating_test(tt='tt3783958')\n",
    "moviedata"
   ]
  },
  {
   "cell_type": "markdown",
   "metadata": {},
   "source": [
    "# Ok, we got the aggregate review data, what else can we get?"
   ]
  },
  {
   "cell_type": "markdown",
   "metadata": {},
   "source": [
    "## Metacritic score?\n",
    "![MetaCritic](./figures/lalaland_metacritic.png)"
   ]
  },
  {
   "cell_type": "code",
   "execution_count": 16,
   "metadata": {},
   "outputs": [
    {
     "data": {
      "text/plain": [
       "[<div class=\"metacriticScore score_favorable titleReviewBarSubItem\">\\n<span>93</span>\\n</div>]"
      ]
     },
     "execution_count": 16,
     "metadata": {},
     "output_type": "execute_result"
    }
   ],
   "source": [
    "soup.find_all('div', {'class':'metacriticScore'}) # looks like there's only one of these on the page"
   ]
  },
  {
   "cell_type": "code",
   "execution_count": 17,
   "metadata": {},
   "outputs": [
    {
     "data": {
      "text/plain": [
       "u'\\n93\\n'"
      ]
     },
     "execution_count": 17,
     "metadata": {},
     "output_type": "execute_result"
    }
   ],
   "source": [
    "soup.find_all('div', {'class':'metacriticScore'})[0].text # we can get the text like this"
   ]
  },
  {
   "cell_type": "code",
   "execution_count": 18,
   "metadata": {},
   "outputs": [
    {
     "data": {
      "text/plain": [
       "u'93'"
      ]
     },
     "execution_count": 18,
     "metadata": {},
     "output_type": "execute_result"
    }
   ],
   "source": [
    "soup.find_all('div', {'class':'metacriticScore'})[0].text.strip() # we can strip the extra stuff"
   ]
  },
  {
   "cell_type": "code",
   "execution_count": 19,
   "metadata": {},
   "outputs": [
    {
     "data": {
      "text/plain": [
       "{'criticreviews': 639.0,\n",
       " 'metacritic': 93.0,\n",
       " 'out_of': 10.0,\n",
       " 'rating': 8.1,\n",
       " 'userreviews': 1296.0,\n",
       " 'volume': 348146.0}"
      ]
     },
     "execution_count": 19,
     "metadata": {},
     "output_type": "execute_result"
    }
   ],
   "source": [
    "moviedata['metacritic'] = float(soup.find_all('div', {'class':'metacriticScore'})[0].text.strip()) \n",
    "# strip the line breaks (\\n) and convert to float\n",
    "# insert into moviedata dictionary\n",
    "moviedata"
   ]
  },
  {
   "cell_type": "markdown",
   "metadata": {},
   "source": [
    "# Your turn\n",
    "### First get box office data (budget, opening weekend, gross)\n",
    "![BoxOffice](./figures/lalaland_boxoffice.png)"
   ]
  },
  {
   "cell_type": "code",
   "execution_count": 20,
   "metadata": {
    "collapsed": true
   },
   "outputs": [],
   "source": [
    "txtblock = soup.find_all('div', {'class':'txt-block'})"
   ]
  },
  {
   "cell_type": "code",
   "execution_count": 21,
   "metadata": {
    "collapsed": true
   },
   "outputs": [],
   "source": [
    "header = txtblock[0].find_all('h4')[0].text"
   ]
  },
  {
   "cell_type": "code",
   "execution_count": 22,
   "metadata": {},
   "outputs": [
    {
     "data": {
      "text/plain": [
       "u\"Here's to the fools who dream.\""
      ]
     },
     "execution_count": 22,
     "metadata": {},
     "output_type": "execute_result"
    }
   ],
   "source": [
    "txtblock[0].text.replace(header+u'\\n', '').strip()"
   ]
  },
  {
   "cell_type": "code",
   "execution_count": 23,
   "metadata": {
    "collapsed": true
   },
   "outputs": [],
   "source": [
    "out = list() # creating empty list\n",
    "for r in txtblock: # loop through txtblock\n",
    "    try:\n",
    "        header = r.find_all('h4')[0].text\n",
    "        dat = r.text.replace(header+u'\\n', '').strip()\n",
    "        out.append((header, dat))\n",
    "    except:\n",
    "        pass"
   ]
  },
  {
   "cell_type": "code",
   "execution_count": 24,
   "metadata": {},
   "outputs": [
    {
     "data": {
      "text/plain": [
       "[(u'Taglines:', u\"Here's to the fools who dream.\"),\n",
       " (u'Motion Picture Rating\\n                    (MPAA)\\n                ',\n",
       "  u'Rated PG-13 for some language\\n| \\n See all certifications\\xa0\\xbb'),\n",
       " (u'Parents Guide:', u'View content advisory\\xa0\\xbb'),\n",
       " (u'Official Sites:',\n",
       "  u'Official Facebook Page\\n|\\nOfficial site\\n|\\n\\nSee more\\xa0\\xbb'),\n",
       " (u'Country:', u'USA\\n|\\nHong Kong'),\n",
       " (u'Language:', u'English'),\n",
       " (u'Release Date:',\n",
       "  u'Release Date: 25 December 2016 (USA)\\n    \\nSee more\\xa0\\xbb'),\n",
       " (u'Also Known As:', u'Also Known As: LaLa Land\\n      \\nSee more\\xa0\\xbb'),\n",
       " (u'Filming Locations:', u'Los Angeles, California, USA\\n\\nSee more\\xa0\\xbb'),\n",
       " (u'Budget:', u'Budget:$30,000,000\\n            (estimated)'),\n",
       " (u'Opening Weekend USA:',\n",
       "  u'Opening Weekend USA: $881,104,\\n9 December 2016, Limited Release'),\n",
       " (u'Gross USA:', u'Gross USA: $151,101,803'),\n",
       " (u'Cumulative Worldwide Gross:', u'Cumulative Worldwide Gross: $445,636,919'),\n",
       " (u'Production Co:',\n",
       "  u'Summit Entertainment,        \\nBlack Label Media,        \\nTIK Films \\nSee more\\xa0\\xbb'),\n",
       " (u'Runtime:', u'128 min'),\n",
       " (u'Sound Mix:', u'Dolby Digital\\n| DTS\\n(DTS: X)| Dolby Atmos'),\n",
       " (u'Color:', u'Color'),\n",
       " (u'Aspect Ratio:', u'Aspect Ratio: 2.55 : 1'),\n",
       " (u'Trivia',\n",
       "  u'In both La La Land and Gangster Squad (2013), Emma Stone and Ryan Gosling have scenes involving the Griffith Observatory.        See more  \\xbb'),\n",
       " (u'Goofs',\n",
       "  u'In the opening sequence (Another Day of Sun) the cars on both sides of the freeway are facing the same way.        See more  \\xbb'),\n",
       " (u'Crazy Credits',\n",
       "  u'There is a title card at the very beginning that says \"Filmed in CinemaScope.\"        See more  \\xbb')]"
      ]
     },
     "execution_count": 24,
     "metadata": {},
     "output_type": "execute_result"
    }
   ],
   "source": [
    "out"
   ]
  },
  {
   "cell_type": "code",
   "execution_count": null,
   "metadata": {
    "collapsed": true
   },
   "outputs": [],
   "source": []
  },
  {
   "cell_type": "code",
   "execution_count": null,
   "metadata": {
    "collapsed": true
   },
   "outputs": [],
   "source": []
  },
  {
   "cell_type": "code",
   "execution_count": null,
   "metadata": {
    "collapsed": true
   },
   "outputs": [],
   "source": []
  }
 ],
 "metadata": {
  "kernelspec": {
   "display_name": "Python 2",
   "language": "python",
   "name": "python2"
  },
  "language_info": {
   "codemirror_mode": {
    "name": "ipython",
    "version": 2
   },
   "file_extension": ".py",
   "mimetype": "text/x-python",
   "name": "python",
   "nbconvert_exporter": "python",
   "pygments_lexer": "ipython2",
   "version": "2.7.14"
  }
 },
 "nbformat": 4,
 "nbformat_minor": 2
}
