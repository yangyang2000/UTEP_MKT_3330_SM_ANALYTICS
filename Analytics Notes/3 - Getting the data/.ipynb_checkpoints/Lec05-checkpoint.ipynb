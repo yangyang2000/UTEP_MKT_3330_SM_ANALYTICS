{
 "cells": [
  {
   "cell_type": "markdown",
   "metadata": {},
   "source": [
    "# Web scraping (ESPN NBA example)"
   ]
  },
  {
   "cell_type": "markdown",
   "metadata": {},
   "source": [
    "Web scraping is the technique of collecting publicly available information on websites through an automated program. There isn't one \"way\" to do web scraping, it is a collection of techniques that include: accessing a public resources, parsing the resource into bits of data to be collected, and automatically iterating through the public resources to collect the data systematically. **The tools and techinques used to do these things are highly contextual**. You will need to write different code using different packages depending on the data you are trying to collect and the website you're collecting it from."
   ]
  },
  {
   "cell_type": "markdown",
   "metadata": {},
   "source": [
    "# Accessing"
   ]
  },
  {
   "cell_type": "markdown",
   "metadata": {},
   "source": [
    "One of the easiest way of accessing internet resources is through the library urllib2."
   ]
  },
  {
   "cell_type": "code",
   "execution_count": 1,
   "metadata": {
    "collapsed": true
   },
   "outputs": [],
   "source": [
    "from urllib2 import urlopen as URL # the urlopen function takes care of all the networking\n",
    "# stuff that you need to do to get \n",
    "% matplotlib inline\n",
    "from matplotlib import pyplot as plt"
   ]
  },
  {
   "cell_type": "code",
   "execution_count": 2,
   "metadata": {
    "collapsed": true
   },
   "outputs": [],
   "source": [
    "url = 'http://www.espn.com/nba/team/schedule/_/name/LAL/year/2017/seasontype/2'\n",
    "uopen = URL(url)"
   ]
  },
  {
   "cell_type": "code",
   "execution_count": 3,
   "metadata": {},
   "outputs": [
    {
     "data": {
      "text/plain": [
       "instance"
      ]
     },
     "execution_count": 3,
     "metadata": {},
     "output_type": "execute_result"
    }
   ],
   "source": [
    "type(uopen) # it's an urlopen instance type"
   ]
  },
  {
   "cell_type": "code",
   "execution_count": 4,
   "metadata": {},
   "outputs": [
    {
     "data": {
      "text/plain": [
       "str"
      ]
     },
     "execution_count": 4,
     "metadata": {},
     "output_type": "execute_result"
    }
   ],
   "source": [
    "sc = uopen.read() # the thing we want to do with instance is to read it\n",
    "type(sc) # this gives you a str type"
   ]
  },
  {
   "cell_type": "code",
   "execution_count": 5,
   "metadata": {},
   "outputs": [
    {
     "data": {
      "text/plain": [
       "'<!DOCTYPE html>\\n<html xmlns:fb=\"http://www.facebook.com/2008/fbml\">\\n<head><script src=\"http://cdn.espn.com/sports/optimizely.js\"></script><meta charset=\"iso-8859-1\">\\n<meta http-equiv=\"X-UA-Compatible\" content=\"IE=edge,chrome=1\">\\n<link rel=\"icon\" sizes=\"any\" mask href=\"http://a.espncdn.com/favicon.ico\">\\n<meta name=\"theme-color\" content=\"#CC0000\">\\n<script type=\"text/javascript\">\\n    if(true && navigator && navigator.userAgent.toLowerCase().indexOf(\"teamstream\") >= 0) {\\n        window.location = \\'http://m.espn.com/mobilecache/general/apps/sc\\';\\n    }\\n</script>\\n\\t<script>(function(){function r(a){a=a.replace(/[\\\\[]/,\"\\\\\\\\[\").replace(/[\\\\]]/,\"\\\\\\\\]\");var c=new RegExp(\"[\\\\\\\\?&]\"+a+\"=([^&#]*)\"),b=c.exec(location.search);return b==null?\"\":decodeURIComponent(b[1].replace(/\\\\+/g,\" \"));}var p=navigator.userAgent,o=window.location,l=document.cookie,f=document.referrer,n=(f===\"\"||f.indexOf(\"www.espn.com\")!==-1),d=(n)?\"http://m.espn.go.com/nba/teamschedule?teamId=13&src=desktop\":\"http://m.espn.go.com/nba/teams'"
      ]
     },
     "execution_count": 5,
     "metadata": {},
     "output_type": "execute_result"
    }
   ],
   "source": [
    "sc[:1000] # this is a preview of the first 1000 characters\n",
    "# this is the page source"
   ]
  },
  {
   "cell_type": "markdown",
   "metadata": {},
   "source": [
    "#### To see what this looks like in a browser, browse to this page and view page source in Chrome.\n",
    "As you can see, behind the webpage is a bunchg of code that creates what you see on your page. If the data is directly embeded into the html source, then you will be able to grab the data easily. This method of web scraping is designed to deal with sites that use mostly html code."
   ]
  },
  {
   "cell_type": "markdown",
   "metadata": {},
   "source": [
    "### All this HTML code looks really messy, but it actually helps us collect the data because it's quite well structured\n",
    "\n",
    "One way of \"traversing\" HTML code is to use BeautifulSoup"
   ]
  },
  {
   "cell_type": "code",
   "execution_count": 6,
   "metadata": {
    "collapsed": true
   },
   "outputs": [],
   "source": [
    "from bs4 import BeautifulSoup as BS"
   ]
  },
  {
   "cell_type": "code",
   "execution_count": 7,
   "metadata": {},
   "outputs": [
    {
     "name": "stderr",
     "output_type": "stream",
     "text": [
      "C:\\Users\\yangy\\AppData\\Local\\conda\\conda\\envs\\py27\\lib\\site-packages\\bs4\\__init__.py:181: UserWarning: No parser was explicitly specified, so I'm using the best available HTML parser for this system (\"lxml\"). This usually isn't a problem, but if you run this code on another system, or in a different virtual environment, it may use a different parser and behave differently.\n",
      "\n",
      "The code that caused this warning is on line 174 of the file C:\\Users\\yangy\\AppData\\Local\\conda\\conda\\envs\\py27\\lib\\runpy.py. To get rid of this warning, change code that looks like this:\n",
      "\n",
      " BeautifulSoup(YOUR_MARKUP})\n",
      "\n",
      "to this:\n",
      "\n",
      " BeautifulSoup(YOUR_MARKUP, \"lxml\")\n",
      "\n",
      "  markup_type=markup_type))\n"
     ]
    }
   ],
   "source": [
    "soup = BS(sc) # This may give you a warning, ignore it."
   ]
  },
  {
   "cell_type": "code",
   "execution_count": 8,
   "metadata": {},
   "outputs": [
    {
     "data": {
      "text/plain": [
       "bs4.BeautifulSoup"
      ]
     },
     "execution_count": 8,
     "metadata": {},
     "output_type": "execute_result"
    }
   ],
   "source": [
    "type(soup) # soup is now a bs4 object, that lets you find particular elements by \n",
    "# referencing their tags."
   ]
  },
  {
   "cell_type": "markdown",
   "metadata": {},
   "source": [
    "# Parsing the data"
   ]
  },
  {
   "cell_type": "markdown",
   "metadata": {},
   "source": [
    "At this point, it is useful to look at the browser to figure out where in the source code your data lies, and how the data is marked up. Right click on the data you want and then click inspect to bring up the inspection panel. It should look something like this:\n",
    "![alt text](./figures/espn.png)"
   ]
  },
  {
   "cell_type": "markdown",
   "metadata": {},
   "source": [
    "#### Notice that the whole table is included in the table tag with the class='tablehead'"
   ]
  },
  {
   "cell_type": "code",
   "execution_count": 9,
   "metadata": {},
   "outputs": [
    {
     "data": {
      "text/plain": [
       "1"
      ]
     },
     "execution_count": 9,
     "metadata": {},
     "output_type": "execute_result"
    }
   ],
   "source": [
    "len(soup.find_all('table', {'class':'tablehead'}))"
   ]
  },
  {
   "cell_type": "code",
   "execution_count": 10,
   "metadata": {
    "collapsed": true
   },
   "outputs": [],
   "source": [
    "tab = soup.find_all('table', {'class':'tablehead'})[0] # we can use this information to parse out \n",
    "# just the table that contains all of the data from the rest of our source code. [0] gets us the first result\n",
    "# In this case find_all found just one result, since there's just one of these tables.\n",
    "# So we know the first one must be the right one."
   ]
  },
  {
   "cell_type": "code",
   "execution_count": 11,
   "metadata": {},
   "outputs": [
    {
     "data": {
      "text/plain": [
       "7"
      ]
     },
     "execution_count": 11,
     "metadata": {},
     "output_type": "execute_result"
    }
   ],
   "source": [
    "cols = tab.find_all('tr', {'class':'colhead'}) # this gives us all the column headers\n",
    "len(cols) # there are 8 of them!"
   ]
  },
  {
   "cell_type": "code",
   "execution_count": 12,
   "metadata": {},
   "outputs": [
    {
     "data": {
      "text/plain": [
       "<tr class=\"colhead\"><td>OCTOBER</td><td>OPPONENT</td><td>RESULT</td><td>W-L</td><td align=\"left\" title=\"Points Leader\">HI POINTS</td><td align=\"left\" title=\"Rebounds Leader\">HI REBOUNDS</td><td align=\"left\" title=\"Assists Leader\">HI ASSISTS</td></tr>"
      ]
     },
     "execution_count": 12,
     "metadata": {},
     "output_type": "execute_result"
    }
   ],
   "source": [
    "cols[0]"
   ]
  },
  {
   "cell_type": "code",
   "execution_count": 13,
   "metadata": {},
   "outputs": [
    {
     "data": {
      "text/plain": [
       "[<td>OCTOBER</td>,\n",
       " <td>OPPONENT</td>,\n",
       " <td>RESULT</td>,\n",
       " <td>W-L</td>,\n",
       " <td align=\"left\" title=\"Points Leader\">HI POINTS</td>,\n",
       " <td align=\"left\" title=\"Rebounds Leader\">HI REBOUNDS</td>,\n",
       " <td align=\"left\" title=\"Assists Leader\">HI ASSISTS</td>]"
      ]
     },
     "execution_count": 13,
     "metadata": {},
     "output_type": "execute_result"
    }
   ],
   "source": [
    "cols[0].find_all('td') # this further parses the row into td-or table data"
   ]
  },
  {
   "cell_type": "code",
   "execution_count": 14,
   "metadata": {},
   "outputs": [
    {
     "data": {
      "text/plain": [
       "[u'OCTOBER',\n",
       " u'OPPONENT',\n",
       " u'RESULT',\n",
       " u'W-L',\n",
       " u'HI POINTS',\n",
       " u'HI REBOUNDS',\n",
       " u'HI ASSISTS']"
      ]
     },
     "execution_count": 14,
     "metadata": {},
     "output_type": "execute_result"
    }
   ],
   "source": [
    "[c.text for c in cols[0].find_all('td')]# but what we want is the text from this data\n",
    "# each entry is another soup object, which has the attribute 'text'"
   ]
  },
  {
   "cell_type": "code",
   "execution_count": 15,
   "metadata": {},
   "outputs": [
    {
     "data": {
      "text/plain": [
       "[[u'OCTOBER',\n",
       "  u'OPPONENT',\n",
       "  u'RESULT',\n",
       "  u'W-L',\n",
       "  u'HI POINTS',\n",
       "  u'HI REBOUNDS',\n",
       "  u'HI ASSISTS'],\n",
       " [u'NOVEMBER',\n",
       "  u'OPPONENT',\n",
       "  u'RESULT',\n",
       "  u'W-L',\n",
       "  u'HI POINTS',\n",
       "  u'HI REBOUNDS',\n",
       "  u'HI ASSISTS'],\n",
       " [u'DECEMBER',\n",
       "  u'OPPONENT',\n",
       "  u'RESULT',\n",
       "  u'W-L',\n",
       "  u'HI POINTS',\n",
       "  u'HI REBOUNDS',\n",
       "  u'HI ASSISTS'],\n",
       " [u'JANUARY',\n",
       "  u'OPPONENT',\n",
       "  u'RESULT',\n",
       "  u'W-L',\n",
       "  u'HI POINTS',\n",
       "  u'HI REBOUNDS',\n",
       "  u'HI ASSISTS'],\n",
       " [u'FEBRUARY',\n",
       "  u'OPPONENT',\n",
       "  u'RESULT',\n",
       "  u'W-L',\n",
       "  u'HI POINTS',\n",
       "  u'HI REBOUNDS',\n",
       "  u'HI ASSISTS'],\n",
       " [u'MARCH',\n",
       "  u'OPPONENT',\n",
       "  u'RESULT',\n",
       "  u'W-L',\n",
       "  u'HI POINTS',\n",
       "  u'HI REBOUNDS',\n",
       "  u'HI ASSISTS'],\n",
       " [u'APRIL',\n",
       "  u'OPPONENT',\n",
       "  u'RESULT',\n",
       "  u'W-L',\n",
       "  u'HI POINTS',\n",
       "  u'HI REBOUNDS',\n",
       "  u'HI ASSISTS']]"
      ]
     },
     "execution_count": 15,
     "metadata": {},
     "output_type": "execute_result"
    }
   ],
   "source": [
    "# let's use another list compreshension to do this for each of our column header rows\n",
    "headers = [[c.text for c in col.find_all('td')] for col in cols]\n",
    "headers"
   ]
  },
  {
   "cell_type": "markdown",
   "metadata": {},
   "source": [
    "#### You can see that the only thing that changes is the month header, because the table is split by month"
   ]
  },
  {
   "cell_type": "code",
   "execution_count": 16,
   "metadata": {
    "collapsed": true
   },
   "outputs": [],
   "source": [
    "even = tab.find_all('tr', {'class':'evenrow'}) # notice that you can give soup a partial class name\n",
    "odd = tab.find_all('tr', {'class':'oddrow'})\n",
    "\n",
    "# the site used even and odd rows for alternating shading of the rows"
   ]
  },
  {
   "cell_type": "code",
   "execution_count": 17,
   "metadata": {},
   "outputs": [
    {
     "data": {
      "text/plain": [
       "<tr class=\"evenrow team-46-26\"><td>Fri, Oct 28</td><td><ul class=\"game-schedule\"><li class=\"game-status\">@</li><li class=\"team-logo-small logo-nba-small\"><a href=\"http://www.espn.com/nba/team/_/name/utah/utah-jazz\"><img src=\"http://a.espncdn.com/combiner/i?img=/i/teamlogos/nba/500/scoreboard/UTAH.png&amp;h=80&amp;w=80\"/></a></li><li class=\"team-name\"><a href=\"http://www.espn.com/nba/team/_/name/utah/utah-jazz\">Utah</a></li></ul></td><td><ul class=\"game-schedule\"><li class=\"game-status loss\"><span class=\"redfont\">L</span></li><li class=\"score\"><a href=\"//www.espn.com/nba/recap/_/id/400899458\">96-89</a></li></ul></td><td>1-1</td><td colspan=\"1\"><a href=\"http://www.espn.com/nba/player/_/id/3438/george-hill\">G. Hill</a> 23</td><td colspan=\"1\"><a href=\"http://www.espn.com/nba/player/_/id/3032976/rudy-gobert\">R. Gobert</a> 13</td><td colspan=\"1\"><a href=\"http://www.espn.com/nba/player/_/id/2799/lou-williams\">L. Williams</a> 6</td></tr>"
      ]
     },
     "execution_count": 17,
     "metadata": {},
     "output_type": "execute_result"
    }
   ],
   "source": [
    "even[0] # each entry kinda looks like this\n",
    "# notice all the data is tagged by <td>"
   ]
  },
  {
   "cell_type": "code",
   "execution_count": 18,
   "metadata": {},
   "outputs": [
    {
     "data": {
      "text/plain": [
       "[u'Fri, Oct 28',\n",
       " u'@Utah',\n",
       " u'L96-89',\n",
       " u'1-1',\n",
       " u'G. Hill 23',\n",
       " u'R. Gobert 13',\n",
       " u'L. Williams 6']"
      ]
     },
     "execution_count": 18,
     "metadata": {},
     "output_type": "execute_result"
    }
   ],
   "source": [
    "[v.text for v in even[0].find_all('td')]\n",
    "# so we can use each row to find all the 'td' tags\n",
    "# and then get the text from each"
   ]
  },
  {
   "cell_type": "code",
   "execution_count": 19,
   "metadata": {},
   "outputs": [
    {
     "data": {
      "text/plain": [
       "82"
      ]
     },
     "execution_count": 19,
     "metadata": {},
     "output_type": "execute_result"
    }
   ],
   "source": [
    "# Let's loop through all the even and odd rows to get the text data\n",
    "d1 = [[v.text for v in r.find_all('td')] for r in even]\n",
    "d2 = [[v.text for v in r.find_all('td')] for r in odd]\n",
    "# and join them together\n",
    "d = d1+d2\n",
    "\n",
    "len(d) # have 82 entries - NBA season has 82 games per team"
   ]
  },
  {
   "cell_type": "code",
   "execution_count": 20,
   "metadata": {
    "collapsed": true
   },
   "outputs": [],
   "source": [
    "import pandas as pd \n",
    "df = pd.DataFrame(d)\n",
    "df.columns = headers[0] # let's use the first header, we can change the month name later"
   ]
  },
  {
   "cell_type": "code",
   "execution_count": 21,
   "metadata": {},
   "outputs": [
    {
     "data": {
      "text/html": [
       "<div>\n",
       "<style>\n",
       "    .dataframe thead tr:only-child th {\n",
       "        text-align: right;\n",
       "    }\n",
       "\n",
       "    .dataframe thead th {\n",
       "        text-align: left;\n",
       "    }\n",
       "\n",
       "    .dataframe tbody tr th {\n",
       "        vertical-align: top;\n",
       "    }\n",
       "</style>\n",
       "<table border=\"1\" class=\"dataframe\">\n",
       "  <thead>\n",
       "    <tr style=\"text-align: right;\">\n",
       "      <th></th>\n",
       "      <th>OCTOBER</th>\n",
       "      <th>OPPONENT</th>\n",
       "      <th>RESULT</th>\n",
       "      <th>W-L</th>\n",
       "      <th>HI POINTS</th>\n",
       "      <th>HI REBOUNDS</th>\n",
       "      <th>HI ASSISTS</th>\n",
       "    </tr>\n",
       "  </thead>\n",
       "  <tbody>\n",
       "    <tr>\n",
       "      <th>0</th>\n",
       "      <td>Fri, Oct 28</td>\n",
       "      <td>@Utah</td>\n",
       "      <td>L96-89</td>\n",
       "      <td>1-1</td>\n",
       "      <td>G. Hill 23</td>\n",
       "      <td>R. Gobert 13</td>\n",
       "      <td>L. Williams 6</td>\n",
       "    </tr>\n",
       "    <tr>\n",
       "      <th>1</th>\n",
       "      <td>Wed, Nov 2</td>\n",
       "      <td>@Atlanta</td>\n",
       "      <td>W123-116</td>\n",
       "      <td>2-3</td>\n",
       "      <td>D. Howard 31</td>\n",
       "      <td>D. Howard 11</td>\n",
       "      <td>D. Russell 8</td>\n",
       "    </tr>\n",
       "    <tr>\n",
       "      <th>2</th>\n",
       "      <td>Sun, Nov 6</td>\n",
       "      <td>vsPhoenix</td>\n",
       "      <td>W119-108</td>\n",
       "      <td>4-3</td>\n",
       "      <td>D. Booker 39</td>\n",
       "      <td>T. Chandler 12</td>\n",
       "      <td>D. Booker 7</td>\n",
       "    </tr>\n",
       "    <tr>\n",
       "      <th>3</th>\n",
       "      <td>Thu, Nov 10</td>\n",
       "      <td>@Sacramento</td>\n",
       "      <td>W101-91</td>\n",
       "      <td>5-4</td>\n",
       "      <td>D. Cousins 28</td>\n",
       "      <td>D. Cousins 9</td>\n",
       "      <td>D. Collison 9</td>\n",
       "    </tr>\n",
       "    <tr>\n",
       "      <th>4</th>\n",
       "      <td>Sun, Nov 13</td>\n",
       "      <td>@Minnesota</td>\n",
       "      <td>L125-99</td>\n",
       "      <td>6-5</td>\n",
       "      <td>A. Wiggins 47</td>\n",
       "      <td>K. Towns 12</td>\n",
       "      <td>R. Rubio 10</td>\n",
       "    </tr>\n",
       "  </tbody>\n",
       "</table>\n",
       "</div>"
      ],
      "text/plain": [
       "       OCTOBER     OPPONENT    RESULT  W-L      HI POINTS     HI REBOUNDS  \\\n",
       "0  Fri, Oct 28        @Utah    L96-89  1-1     G. Hill 23    R. Gobert 13   \n",
       "1   Wed, Nov 2     @Atlanta  W123-116  2-3   D. Howard 31    D. Howard 11   \n",
       "2   Sun, Nov 6    vsPhoenix  W119-108  4-3   D. Booker 39  T. Chandler 12   \n",
       "3  Thu, Nov 10  @Sacramento   W101-91  5-4  D. Cousins 28    D. Cousins 9   \n",
       "4  Sun, Nov 13   @Minnesota   L125-99  6-5  A. Wiggins 47     K. Towns 12   \n",
       "\n",
       "      HI ASSISTS  \n",
       "0  L. Williams 6  \n",
       "1   D. Russell 8  \n",
       "2    D. Booker 7  \n",
       "3  D. Collison 9  \n",
       "4    R. Rubio 10  "
      ]
     },
     "execution_count": 21,
     "metadata": {},
     "output_type": "execute_result"
    }
   ],
   "source": [
    "df.head()# Looks pretty good, we just need to change October to Date"
   ]
  },
  {
   "cell_type": "code",
   "execution_count": 22,
   "metadata": {
    "collapsed": true
   },
   "outputs": [],
   "source": [
    "df.rename(columns = {'OCTOBER':'DATE'}, inplace = True) \n",
    "# Rename takes a dictionary from old names to new names\n",
    "# Inplace = True means we replace the old df with the new df (with new col headers)"
   ]
  },
  {
   "cell_type": "code",
   "execution_count": 23,
   "metadata": {},
   "outputs": [
    {
     "data": {
      "text/html": [
       "<div>\n",
       "<style>\n",
       "    .dataframe thead tr:only-child th {\n",
       "        text-align: right;\n",
       "    }\n",
       "\n",
       "    .dataframe thead th {\n",
       "        text-align: left;\n",
       "    }\n",
       "\n",
       "    .dataframe tbody tr th {\n",
       "        vertical-align: top;\n",
       "    }\n",
       "</style>\n",
       "<table border=\"1\" class=\"dataframe\">\n",
       "  <thead>\n",
       "    <tr style=\"text-align: right;\">\n",
       "      <th></th>\n",
       "      <th>DATE</th>\n",
       "      <th>OPPONENT</th>\n",
       "      <th>RESULT</th>\n",
       "      <th>W-L</th>\n",
       "      <th>HI POINTS</th>\n",
       "      <th>HI REBOUNDS</th>\n",
       "      <th>HI ASSISTS</th>\n",
       "    </tr>\n",
       "  </thead>\n",
       "  <tbody>\n",
       "    <tr>\n",
       "      <th>0</th>\n",
       "      <td>Fri, Oct 28</td>\n",
       "      <td>@Utah</td>\n",
       "      <td>L96-89</td>\n",
       "      <td>1-1</td>\n",
       "      <td>G. Hill 23</td>\n",
       "      <td>R. Gobert 13</td>\n",
       "      <td>L. Williams 6</td>\n",
       "    </tr>\n",
       "    <tr>\n",
       "      <th>1</th>\n",
       "      <td>Wed, Nov 2</td>\n",
       "      <td>@Atlanta</td>\n",
       "      <td>W123-116</td>\n",
       "      <td>2-3</td>\n",
       "      <td>D. Howard 31</td>\n",
       "      <td>D. Howard 11</td>\n",
       "      <td>D. Russell 8</td>\n",
       "    </tr>\n",
       "    <tr>\n",
       "      <th>2</th>\n",
       "      <td>Sun, Nov 6</td>\n",
       "      <td>vsPhoenix</td>\n",
       "      <td>W119-108</td>\n",
       "      <td>4-3</td>\n",
       "      <td>D. Booker 39</td>\n",
       "      <td>T. Chandler 12</td>\n",
       "      <td>D. Booker 7</td>\n",
       "    </tr>\n",
       "    <tr>\n",
       "      <th>3</th>\n",
       "      <td>Thu, Nov 10</td>\n",
       "      <td>@Sacramento</td>\n",
       "      <td>W101-91</td>\n",
       "      <td>5-4</td>\n",
       "      <td>D. Cousins 28</td>\n",
       "      <td>D. Cousins 9</td>\n",
       "      <td>D. Collison 9</td>\n",
       "    </tr>\n",
       "    <tr>\n",
       "      <th>4</th>\n",
       "      <td>Sun, Nov 13</td>\n",
       "      <td>@Minnesota</td>\n",
       "      <td>L125-99</td>\n",
       "      <td>6-5</td>\n",
       "      <td>A. Wiggins 47</td>\n",
       "      <td>K. Towns 12</td>\n",
       "      <td>R. Rubio 10</td>\n",
       "    </tr>\n",
       "  </tbody>\n",
       "</table>\n",
       "</div>"
      ],
      "text/plain": [
       "          DATE     OPPONENT    RESULT  W-L      HI POINTS     HI REBOUNDS  \\\n",
       "0  Fri, Oct 28        @Utah    L96-89  1-1     G. Hill 23    R. Gobert 13   \n",
       "1   Wed, Nov 2     @Atlanta  W123-116  2-3   D. Howard 31    D. Howard 11   \n",
       "2   Sun, Nov 6    vsPhoenix  W119-108  4-3   D. Booker 39  T. Chandler 12   \n",
       "3  Thu, Nov 10  @Sacramento   W101-91  5-4  D. Cousins 28    D. Cousins 9   \n",
       "4  Sun, Nov 13   @Minnesota   L125-99  6-5  A. Wiggins 47     K. Towns 12   \n",
       "\n",
       "      HI ASSISTS  \n",
       "0  L. Williams 6  \n",
       "1   D. Russell 8  \n",
       "2    D. Booker 7  \n",
       "3  D. Collison 9  \n",
       "4    R. Rubio 10  "
      ]
     },
     "execution_count": 23,
     "metadata": {},
     "output_type": "execute_result"
    }
   ],
   "source": [
    "df.head()"
   ]
  },
  {
   "cell_type": "code",
   "execution_count": 25,
   "metadata": {},
   "outputs": [
    {
     "data": {
      "text/html": [
       "<div>\n",
       "<style>\n",
       "    .dataframe thead tr:only-child th {\n",
       "        text-align: right;\n",
       "    }\n",
       "\n",
       "    .dataframe thead th {\n",
       "        text-align: left;\n",
       "    }\n",
       "\n",
       "    .dataframe tbody tr th {\n",
       "        vertical-align: top;\n",
       "    }\n",
       "</style>\n",
       "<table border=\"1\" class=\"dataframe\">\n",
       "  <thead>\n",
       "    <tr style=\"text-align: right;\">\n",
       "      <th></th>\n",
       "      <th>DATE</th>\n",
       "      <th>OPPONENT</th>\n",
       "      <th>RESULT</th>\n",
       "      <th>W-L</th>\n",
       "      <th>HI POINTS</th>\n",
       "      <th>HI REBOUNDS</th>\n",
       "      <th>HI ASSISTS</th>\n",
       "    </tr>\n",
       "  </thead>\n",
       "  <tbody>\n",
       "    <tr>\n",
       "      <th>37</th>\n",
       "      <td>Fri, Apr 7</td>\n",
       "      <td>vsSacramento</td>\n",
       "      <td>W98-94</td>\n",
       "      <td>24-55</td>\n",
       "      <td>J. Randle 25</td>\n",
       "      <td>L. Nance Jr. 11</td>\n",
       "      <td>D. Collison 10</td>\n",
       "    </tr>\n",
       "    <tr>\n",
       "      <th>54</th>\n",
       "      <td>Fri, Dec 16</td>\n",
       "      <td>@Philadelphia</td>\n",
       "      <td>W100-89</td>\n",
       "      <td>11-18</td>\n",
       "      <td>J. Randle 25</td>\n",
       "      <td>L. Nance Jr. 11</td>\n",
       "      <td>T. McConnell 9</td>\n",
       "    </tr>\n",
       "    <tr>\n",
       "      <th>50</th>\n",
       "      <td>Fri, Dec 2</td>\n",
       "      <td>@Toronto</td>\n",
       "      <td>L113-80</td>\n",
       "      <td>10-11</td>\n",
       "      <td>K. Lowry 24</td>\n",
       "      <td>J. Randle 8</td>\n",
       "      <td>K. Lowry 7</td>\n",
       "    </tr>\n",
       "    <tr>\n",
       "      <th>56</th>\n",
       "      <td>Fri, Dec 23</td>\n",
       "      <td>@Orlando</td>\n",
       "      <td>L109-90</td>\n",
       "      <td>11-22</td>\n",
       "      <td>E. Payton 25</td>\n",
       "      <td>S. Ibaka 11</td>\n",
       "      <td>E. Payton 9</td>\n",
       "    </tr>\n",
       "    <tr>\n",
       "      <th>52</th>\n",
       "      <td>Fri, Dec 9</td>\n",
       "      <td>vsPhoenix</td>\n",
       "      <td>L119-115</td>\n",
       "      <td>10-15</td>\n",
       "      <td>L. Williams 35</td>\n",
       "      <td>A. Len 14</td>\n",
       "      <td>E. Bledsoe 9</td>\n",
       "    </tr>\n",
       "    <tr>\n",
       "      <th>68</th>\n",
       "      <td>Fri, Feb 10</td>\n",
       "      <td>@Milwaukee</td>\n",
       "      <td>W122-114</td>\n",
       "      <td>19-37</td>\n",
       "      <td>G. Antetokounmpo 41</td>\n",
       "      <td>G. Antetokounmpo 8</td>\n",
       "      <td>K. Middleton 6</td>\n",
       "    </tr>\n",
       "    <tr>\n",
       "      <th>27</th>\n",
       "      <td>Fri, Feb 24</td>\n",
       "      <td>@Oklahoma City</td>\n",
       "      <td>L110-93</td>\n",
       "      <td>19-40</td>\n",
       "      <td>D. Russell 29</td>\n",
       "      <td>R. Westbrook 18</td>\n",
       "      <td>R. Westbrook 17</td>\n",
       "    </tr>\n",
       "    <tr>\n",
       "      <th>24</th>\n",
       "      <td>Fri, Feb 3</td>\n",
       "      <td>@Boston</td>\n",
       "      <td>L113-107</td>\n",
       "      <td>17-36</td>\n",
       "      <td>I. Thomas 38</td>\n",
       "      <td>L. Nance Jr. 11</td>\n",
       "      <td>A. Horford 8</td>\n",
       "    </tr>\n",
       "    <tr>\n",
       "      <th>63</th>\n",
       "      <td>Fri, Jan 20</td>\n",
       "      <td>vsIndiana</td>\n",
       "      <td>W108-95</td>\n",
       "      <td>16-31</td>\n",
       "      <td>L. Williams 27</td>\n",
       "      <td>T. Black 13</td>\n",
       "      <td>J. Teague 7</td>\n",
       "    </tr>\n",
       "    <tr>\n",
       "      <th>18</th>\n",
       "      <td>Fri, Jan 6</td>\n",
       "      <td>vsMiami</td>\n",
       "      <td>W127-100</td>\n",
       "      <td>14-26</td>\n",
       "      <td>L. Williams 24</td>\n",
       "      <td>L. Deng 14</td>\n",
       "      <td>D. Russell 5</td>\n",
       "    </tr>\n",
       "    <tr>\n",
       "      <th>32</th>\n",
       "      <td>Fri, Mar 17</td>\n",
       "      <td>vsMilwaukee</td>\n",
       "      <td>L107-103</td>\n",
       "      <td>20-49</td>\n",
       "      <td>K. Middleton 30</td>\n",
       "      <td>J. Randle 12</td>\n",
       "      <td>J. Randle 8</td>\n",
       "    </tr>\n",
       "    <tr>\n",
       "      <th>76</th>\n",
       "      <td>Fri, Mar 24</td>\n",
       "      <td>vsMinnesota</td>\n",
       "      <td>W130-119 OT</td>\n",
       "      <td>21-51</td>\n",
       "      <td>A. Wiggins 36</td>\n",
       "      <td>K. Towns 14</td>\n",
       "      <td>R. Rubio 15</td>\n",
       "    </tr>\n",
       "    <tr>\n",
       "      <th>71</th>\n",
       "      <td>Fri, Mar 3</td>\n",
       "      <td>vsBoston</td>\n",
       "      <td>L115-95</td>\n",
       "      <td>19-43</td>\n",
       "      <td>J. Clarkson 20</td>\n",
       "      <td>J. Brown 8</td>\n",
       "      <td>I. Thomas 8</td>\n",
       "    </tr>\n",
       "    <tr>\n",
       "      <th>5</th>\n",
       "      <td>Fri, Nov 18</td>\n",
       "      <td>vsSan Antonio</td>\n",
       "      <td>L116-107</td>\n",
       "      <td>7-6</td>\n",
       "      <td>L. Williams 24</td>\n",
       "      <td>K. Leonard 12</td>\n",
       "      <td>T. Parker 7</td>\n",
       "    </tr>\n",
       "    <tr>\n",
       "      <th>7</th>\n",
       "      <td>Fri, Nov 25</td>\n",
       "      <td>vsGolden State</td>\n",
       "      <td>L109-85</td>\n",
       "      <td>8-9</td>\n",
       "      <td>K. Durant 29</td>\n",
       "      <td>T. Robinson 10</td>\n",
       "      <td>K. Durant 9</td>\n",
       "    </tr>\n",
       "    <tr>\n",
       "      <th>42</th>\n",
       "      <td>Fri, Nov 4</td>\n",
       "      <td>vsGolden State</td>\n",
       "      <td>W117-97</td>\n",
       "      <td>3-3</td>\n",
       "      <td>K. Durant 27</td>\n",
       "      <td>J. Randle 14</td>\n",
       "      <td>S. Curry 10</td>\n",
       "    </tr>\n",
       "    <tr>\n",
       "      <th>0</th>\n",
       "      <td>Fri, Oct 28</td>\n",
       "      <td>@Utah</td>\n",
       "      <td>L96-89</td>\n",
       "      <td>1-1</td>\n",
       "      <td>G. Hill 23</td>\n",
       "      <td>R. Gobert 13</td>\n",
       "      <td>L. Williams 6</td>\n",
       "    </tr>\n",
       "    <tr>\n",
       "      <th>53</th>\n",
       "      <td>Mon, Dec 12</td>\n",
       "      <td>@Sacramento</td>\n",
       "      <td>L116-92</td>\n",
       "      <td>10-17</td>\n",
       "      <td>D. Cousins 31</td>\n",
       "      <td>D. Cousins 17</td>\n",
       "      <td>T. Lawson 5</td>\n",
       "    </tr>\n",
       "    <tr>\n",
       "      <th>51</th>\n",
       "      <td>Mon, Dec 5</td>\n",
       "      <td>vsUtah</td>\n",
       "      <td>L107-101</td>\n",
       "      <td>10-13</td>\n",
       "      <td>L. Williams 38</td>\n",
       "      <td>R. Gobert 17</td>\n",
       "      <td>L. Williams 7</td>\n",
       "    </tr>\n",
       "    <tr>\n",
       "      <th>67</th>\n",
       "      <td>Mon, Feb 6</td>\n",
       "      <td>@NY Knicks</td>\n",
       "      <td>W121-107</td>\n",
       "      <td>18-36</td>\n",
       "      <td>C. Anthony 26</td>\n",
       "      <td>W. Hernangomez 13</td>\n",
       "      <td>D. Russell 6</td>\n",
       "    </tr>\n",
       "    <tr>\n",
       "      <th>31</th>\n",
       "      <td>Mon, Mar 13</td>\n",
       "      <td>@Denver</td>\n",
       "      <td>L129-101</td>\n",
       "      <td>20-47</td>\n",
       "      <td>I. Zubac 25</td>\n",
       "      <td>I. Zubac 11</td>\n",
       "      <td>G. Harris 7</td>\n",
       "    </tr>\n",
       "    <tr>\n",
       "      <th>78</th>\n",
       "      <td>Sat, Apr 1</td>\n",
       "      <td>@LA</td>\n",
       "      <td>L115-104</td>\n",
       "      <td>21-55</td>\n",
       "      <td>B. Griffin 36</td>\n",
       "      <td>D. Jordan 12</td>\n",
       "      <td>C. Paul 12</td>\n",
       "    </tr>\n",
       "    <tr>\n",
       "      <th>13</th>\n",
       "      <td>Sat, Dec 17</td>\n",
       "      <td>@Cleveland</td>\n",
       "      <td>L119-108</td>\n",
       "      <td>11-19</td>\n",
       "      <td>N. Young 32</td>\n",
       "      <td>K. Love 17</td>\n",
       "      <td>K. Irving 12</td>\n",
       "    </tr>\n",
       "    <tr>\n",
       "      <th>9</th>\n",
       "      <td>Sat, Dec 3</td>\n",
       "      <td>@Memphis</td>\n",
       "      <td>L103-100</td>\n",
       "      <td>10-12</td>\n",
       "      <td>L. Williams 40</td>\n",
       "      <td>J. Green 13</td>\n",
       "      <td>W. Baldwin IV 9</td>\n",
       "    </tr>\n",
       "    <tr>\n",
       "      <th>20</th>\n",
       "      <td>Sat, Jan 14</td>\n",
       "      <td>@LA</td>\n",
       "      <td>L113-97</td>\n",
       "      <td>15-29</td>\n",
       "      <td>D. Jordan 24</td>\n",
       "      <td>D. Jordan 21</td>\n",
       "      <td>C. Paul 13</td>\n",
       "    </tr>\n",
       "    <tr>\n",
       "      <th>44</th>\n",
       "      <td>Sat, Nov 12</td>\n",
       "      <td>@New Orleans</td>\n",
       "      <td>W126-99</td>\n",
       "      <td>6-4</td>\n",
       "      <td>A. Davis 34</td>\n",
       "      <td>J. Randle 11</td>\n",
       "      <td>T. Frazier 10</td>\n",
       "    </tr>\n",
       "    <tr>\n",
       "      <th>36</th>\n",
       "      <td>Sun, Apr 2</td>\n",
       "      <td>vsMemphis</td>\n",
       "      <td>W108-103</td>\n",
       "      <td>22-55</td>\n",
       "      <td>D. Russell 28</td>\n",
       "      <td>L. Nance Jr. 14</td>\n",
       "      <td>M. Conley 12</td>\n",
       "    </tr>\n",
       "    <tr>\n",
       "      <th>80</th>\n",
       "      <td>Sun, Apr 9</td>\n",
       "      <td>vsMinnesota</td>\n",
       "      <td>W110-109</td>\n",
       "      <td>25-55</td>\n",
       "      <td>A. Wiggins 41</td>\n",
       "      <td>K. Towns 21</td>\n",
       "      <td>R. Rubio 11</td>\n",
       "    </tr>\n",
       "    <tr>\n",
       "      <th>11</th>\n",
       "      <td>Sun, Dec 11</td>\n",
       "      <td>vsNY Knicks</td>\n",
       "      <td>L118-112</td>\n",
       "      <td>10-16</td>\n",
       "      <td>K. Porzingis 26</td>\n",
       "      <td>K. Porzingis 13</td>\n",
       "      <td>C. Anthony 7</td>\n",
       "    </tr>\n",
       "    <tr>\n",
       "      <th>15</th>\n",
       "      <td>Sun, Dec 25</td>\n",
       "      <td>vsLA</td>\n",
       "      <td>W111-102</td>\n",
       "      <td>12-22</td>\n",
       "      <td>J. Crawford 22</td>\n",
       "      <td>L. Deng 12</td>\n",
       "      <td>J. Randle 8</td>\n",
       "    </tr>\n",
       "    <tr>\n",
       "      <th>...</th>\n",
       "      <td>...</td>\n",
       "      <td>...</td>\n",
       "      <td>...</td>\n",
       "      <td>...</td>\n",
       "      <td>...</td>\n",
       "      <td>...</td>\n",
       "      <td>...</td>\n",
       "    </tr>\n",
       "    <tr>\n",
       "      <th>3</th>\n",
       "      <td>Thu, Nov 10</td>\n",
       "      <td>@Sacramento</td>\n",
       "      <td>W101-91</td>\n",
       "      <td>5-4</td>\n",
       "      <td>D. Cousins 28</td>\n",
       "      <td>D. Cousins 9</td>\n",
       "      <td>D. Collison 9</td>\n",
       "    </tr>\n",
       "    <tr>\n",
       "      <th>38</th>\n",
       "      <td>Tue, Apr 11</td>\n",
       "      <td>vsNew Orleans</td>\n",
       "      <td>W108-96</td>\n",
       "      <td>26-55</td>\n",
       "      <td>C. Diallo 19</td>\n",
       "      <td>C. Diallo 11</td>\n",
       "      <td>J. Holiday 7</td>\n",
       "    </tr>\n",
       "    <tr>\n",
       "      <th>55</th>\n",
       "      <td>Tue, Dec 20</td>\n",
       "      <td>@Charlotte</td>\n",
       "      <td>L117-113</td>\n",
       "      <td>11-20</td>\n",
       "      <td>K. Walker 28</td>\n",
       "      <td>M. Kidd-Gilchrist 11</td>\n",
       "      <td>N. Batum 10</td>\n",
       "    </tr>\n",
       "    <tr>\n",
       "      <th>57</th>\n",
       "      <td>Tue, Dec 27</td>\n",
       "      <td>vsUtah</td>\n",
       "      <td>L102-100</td>\n",
       "      <td>12-23</td>\n",
       "      <td>G. Hayward 31</td>\n",
       "      <td>J. Randle 12</td>\n",
       "      <td>D. Russell 4</td>\n",
       "    </tr>\n",
       "    <tr>\n",
       "      <th>26</th>\n",
       "      <td>Tue, Feb 14</td>\n",
       "      <td>vsSacramento</td>\n",
       "      <td>L97-96</td>\n",
       "      <td>19-38</td>\n",
       "      <td>D. Cousins 40</td>\n",
       "      <td>D. Cousins 12</td>\n",
       "      <td>D. Collison 8</td>\n",
       "    </tr>\n",
       "    <tr>\n",
       "      <th>28</th>\n",
       "      <td>Tue, Feb 28</td>\n",
       "      <td>vsCharlotte</td>\n",
       "      <td>L109-104</td>\n",
       "      <td>19-42</td>\n",
       "      <td>K. Walker 30</td>\n",
       "      <td>J. Randle 19</td>\n",
       "      <td>D. Russell 9</td>\n",
       "    </tr>\n",
       "    <tr>\n",
       "      <th>19</th>\n",
       "      <td>Tue, Jan 10</td>\n",
       "      <td>vsPortland</td>\n",
       "      <td>L108-87</td>\n",
       "      <td>15-27</td>\n",
       "      <td>C. McCollum 25</td>\n",
       "      <td>A. Aminu 15</td>\n",
       "      <td>E. Turner 7</td>\n",
       "    </tr>\n",
       "    <tr>\n",
       "      <th>21</th>\n",
       "      <td>Tue, Jan 17</td>\n",
       "      <td>vsDenver</td>\n",
       "      <td>L127-121</td>\n",
       "      <td>15-31</td>\n",
       "      <td>N. Jokic 29</td>\n",
       "      <td>N. Jokic 15</td>\n",
       "      <td>W. Barton 8</td>\n",
       "    </tr>\n",
       "    <tr>\n",
       "      <th>17</th>\n",
       "      <td>Tue, Jan 3</td>\n",
       "      <td>vsMemphis</td>\n",
       "      <td>W116-102</td>\n",
       "      <td>13-25</td>\n",
       "      <td>M. Gasol 22</td>\n",
       "      <td>J. Randle 14</td>\n",
       "      <td>J. Randle 11</td>\n",
       "    </tr>\n",
       "    <tr>\n",
       "      <th>65</th>\n",
       "      <td>Tue, Jan 31</td>\n",
       "      <td>vsDenver</td>\n",
       "      <td>W120-116</td>\n",
       "      <td>17-34</td>\n",
       "      <td>W. Chandler 26</td>\n",
       "      <td>K. Faried 17</td>\n",
       "      <td>D. Russell 10</td>\n",
       "    </tr>\n",
       "    <tr>\n",
       "      <th>33</th>\n",
       "      <td>Tue, Mar 21</td>\n",
       "      <td>vsLA</td>\n",
       "      <td>L133-109</td>\n",
       "      <td>20-51</td>\n",
       "      <td>C. Paul 27</td>\n",
       "      <td>D. Jordan 11</td>\n",
       "      <td>B. Griffin 8</td>\n",
       "    </tr>\n",
       "    <tr>\n",
       "      <th>77</th>\n",
       "      <td>Tue, Mar 28</td>\n",
       "      <td>vsWashington</td>\n",
       "      <td>L119-108</td>\n",
       "      <td>21-53</td>\n",
       "      <td>J. Wall 34</td>\n",
       "      <td>M. Gortat 11</td>\n",
       "      <td>J. Wall 14</td>\n",
       "    </tr>\n",
       "    <tr>\n",
       "      <th>72</th>\n",
       "      <td>Tue, Mar 7</td>\n",
       "      <td>@Dallas</td>\n",
       "      <td>L122-111</td>\n",
       "      <td>19-45</td>\n",
       "      <td>D. Nowitzki 25</td>\n",
       "      <td>J. Randle 18</td>\n",
       "      <td>J. Randle 10</td>\n",
       "    </tr>\n",
       "    <tr>\n",
       "      <th>41</th>\n",
       "      <td>Tue, Nov 1</td>\n",
       "      <td>@Indiana</td>\n",
       "      <td>L115-108</td>\n",
       "      <td>1-3</td>\n",
       "      <td>P. George 30</td>\n",
       "      <td>J. Randle 10</td>\n",
       "      <td>J. Teague 6</td>\n",
       "    </tr>\n",
       "    <tr>\n",
       "      <th>45</th>\n",
       "      <td>Tue, Nov 15</td>\n",
       "      <td>vsBrooklyn</td>\n",
       "      <td>W125-118</td>\n",
       "      <td>7-5</td>\n",
       "      <td>D. Russell 32</td>\n",
       "      <td>J. Randle 14</td>\n",
       "      <td>J. Randle 10</td>\n",
       "    </tr>\n",
       "    <tr>\n",
       "      <th>6</th>\n",
       "      <td>Tue, Nov 22</td>\n",
       "      <td>vsOklahoma City</td>\n",
       "      <td>W111-109</td>\n",
       "      <td>8-7</td>\n",
       "      <td>R. Westbrook 34</td>\n",
       "      <td>R. Westbrook 8</td>\n",
       "      <td>R. Westbrook 13</td>\n",
       "    </tr>\n",
       "    <tr>\n",
       "      <th>8</th>\n",
       "      <td>Tue, Nov 29</td>\n",
       "      <td>@New Orleans</td>\n",
       "      <td>L105-88</td>\n",
       "      <td>9-10</td>\n",
       "      <td>A. Davis 41</td>\n",
       "      <td>A. Davis 16</td>\n",
       "      <td>J. Calderon 6</td>\n",
       "    </tr>\n",
       "    <tr>\n",
       "      <th>43</th>\n",
       "      <td>Tue, Nov 8</td>\n",
       "      <td>vsDallas</td>\n",
       "      <td>L109-97</td>\n",
       "      <td>4-4</td>\n",
       "      <td>H. Barnes 31</td>\n",
       "      <td>J. Randle 10</td>\n",
       "      <td>J. Barea 8</td>\n",
       "    </tr>\n",
       "    <tr>\n",
       "      <th>81</th>\n",
       "      <td>Wed, Apr 12</td>\n",
       "      <td>@Golden State</td>\n",
       "      <td>L109-94</td>\n",
       "      <td>26-56</td>\n",
       "      <td>K. Durant 29</td>\n",
       "      <td>L. Nance Jr. 11</td>\n",
       "      <td>S. Curry 8</td>\n",
       "    </tr>\n",
       "    <tr>\n",
       "      <th>79</th>\n",
       "      <td>Wed, Apr 5</td>\n",
       "      <td>@San Antonio</td>\n",
       "      <td>W102-95</td>\n",
       "      <td>23-55</td>\n",
       "      <td>T. Ennis 19</td>\n",
       "      <td>L. Nance Jr. 9</td>\n",
       "      <td>D. Lee 6</td>\n",
       "    </tr>\n",
       "    <tr>\n",
       "      <th>12</th>\n",
       "      <td>Wed, Dec 14</td>\n",
       "      <td>@Brooklyn</td>\n",
       "      <td>L107-97</td>\n",
       "      <td>10-18</td>\n",
       "      <td>B. Bogdanovic 23</td>\n",
       "      <td>T. Booker 18</td>\n",
       "      <td>S. Kilpatrick 5</td>\n",
       "    </tr>\n",
       "    <tr>\n",
       "      <th>10</th>\n",
       "      <td>Wed, Dec 7</td>\n",
       "      <td>@Houston</td>\n",
       "      <td>L134-95</td>\n",
       "      <td>10-14</td>\n",
       "      <td>E. Gordon 26</td>\n",
       "      <td>J. Randle 10</td>\n",
       "      <td>P. Beverley 12</td>\n",
       "    </tr>\n",
       "    <tr>\n",
       "      <th>69</th>\n",
       "      <td>Wed, Feb 15</td>\n",
       "      <td>@Phoenix</td>\n",
       "      <td>L137-101</td>\n",
       "      <td>19-39</td>\n",
       "      <td>E. Bledsoe 25</td>\n",
       "      <td>E. Bledsoe 10</td>\n",
       "      <td>E. Bledsoe 13</td>\n",
       "    </tr>\n",
       "    <tr>\n",
       "      <th>25</th>\n",
       "      <td>Wed, Feb 8</td>\n",
       "      <td>@Detroit</td>\n",
       "      <td>L121-102</td>\n",
       "      <td>18-37</td>\n",
       "      <td>A. Drummond 24</td>\n",
       "      <td>A. Drummond 17</td>\n",
       "      <td>R. Jackson 8</td>\n",
       "    </tr>\n",
       "    <tr>\n",
       "      <th>64</th>\n",
       "      <td>Wed, Jan 25</td>\n",
       "      <td>@Portland</td>\n",
       "      <td>L105-98</td>\n",
       "      <td>16-33</td>\n",
       "      <td>L. Williams 31</td>\n",
       "      <td>M. Plumlee 13</td>\n",
       "      <td>L. Williams 5</td>\n",
       "    </tr>\n",
       "    <tr>\n",
       "      <th>74</th>\n",
       "      <td>Wed, Mar 15</td>\n",
       "      <td>@Houston</td>\n",
       "      <td>L139-100</td>\n",
       "      <td>20-48</td>\n",
       "      <td>J. Randle 32</td>\n",
       "      <td>J. Harden 12</td>\n",
       "      <td>J. Harden 13</td>\n",
       "    </tr>\n",
       "    <tr>\n",
       "      <th>1</th>\n",
       "      <td>Wed, Nov 2</td>\n",
       "      <td>@Atlanta</td>\n",
       "      <td>W123-116</td>\n",
       "      <td>2-3</td>\n",
       "      <td>D. Howard 31</td>\n",
       "      <td>D. Howard 11</td>\n",
       "      <td>D. Russell 8</td>\n",
       "    </tr>\n",
       "    <tr>\n",
       "      <th>47</th>\n",
       "      <td>Wed, Nov 23</td>\n",
       "      <td>@Golden State</td>\n",
       "      <td>L149-106</td>\n",
       "      <td>8-8</td>\n",
       "      <td>S. Curry 31</td>\n",
       "      <td>D. Green 9</td>\n",
       "      <td>D. Green 11</td>\n",
       "    </tr>\n",
       "    <tr>\n",
       "      <th>49</th>\n",
       "      <td>Wed, Nov 30</td>\n",
       "      <td>@Chicago</td>\n",
       "      <td>W96-90</td>\n",
       "      <td>10-10</td>\n",
       "      <td>J. Butler 22</td>\n",
       "      <td>J. Randle 20</td>\n",
       "      <td>D. Wade 6</td>\n",
       "    </tr>\n",
       "    <tr>\n",
       "      <th>39</th>\n",
       "      <td>Wed, Oct 26</td>\n",
       "      <td>vsHouston</td>\n",
       "      <td>W120-114</td>\n",
       "      <td>1-0</td>\n",
       "      <td>J. Harden 34</td>\n",
       "      <td>C. Capela 9</td>\n",
       "      <td>J. Harden 17</td>\n",
       "    </tr>\n",
       "  </tbody>\n",
       "</table>\n",
       "<p>82 rows × 7 columns</p>\n",
       "</div>"
      ],
      "text/plain": [
       "           DATE         OPPONENT       RESULT    W-L            HI POINTS  \\\n",
       "37   Fri, Apr 7     vsSacramento       W98-94  24-55         J. Randle 25   \n",
       "54  Fri, Dec 16    @Philadelphia      W100-89  11-18         J. Randle 25   \n",
       "50   Fri, Dec 2         @Toronto      L113-80  10-11          K. Lowry 24   \n",
       "56  Fri, Dec 23         @Orlando      L109-90  11-22         E. Payton 25   \n",
       "52   Fri, Dec 9        vsPhoenix     L119-115  10-15       L. Williams 35   \n",
       "68  Fri, Feb 10       @Milwaukee     W122-114  19-37  G. Antetokounmpo 41   \n",
       "27  Fri, Feb 24   @Oklahoma City      L110-93  19-40        D. Russell 29   \n",
       "24   Fri, Feb 3          @Boston     L113-107  17-36         I. Thomas 38   \n",
       "63  Fri, Jan 20        vsIndiana      W108-95  16-31       L. Williams 27   \n",
       "18   Fri, Jan 6          vsMiami     W127-100  14-26       L. Williams 24   \n",
       "32  Fri, Mar 17      vsMilwaukee     L107-103  20-49      K. Middleton 30   \n",
       "76  Fri, Mar 24      vsMinnesota  W130-119 OT  21-51        A. Wiggins 36   \n",
       "71   Fri, Mar 3         vsBoston      L115-95  19-43       J. Clarkson 20   \n",
       "5   Fri, Nov 18    vsSan Antonio     L116-107    7-6       L. Williams 24   \n",
       "7   Fri, Nov 25   vsGolden State      L109-85    8-9         K. Durant 29   \n",
       "42   Fri, Nov 4   vsGolden State      W117-97    3-3         K. Durant 27   \n",
       "0   Fri, Oct 28            @Utah       L96-89    1-1           G. Hill 23   \n",
       "53  Mon, Dec 12      @Sacramento      L116-92  10-17        D. Cousins 31   \n",
       "51   Mon, Dec 5           vsUtah     L107-101  10-13       L. Williams 38   \n",
       "67   Mon, Feb 6       @NY Knicks     W121-107  18-36        C. Anthony 26   \n",
       "31  Mon, Mar 13          @Denver     L129-101  20-47          I. Zubac 25   \n",
       "78   Sat, Apr 1              @LA     L115-104  21-55        B. Griffin 36   \n",
       "13  Sat, Dec 17       @Cleveland     L119-108  11-19          N. Young 32   \n",
       "9    Sat, Dec 3         @Memphis     L103-100  10-12       L. Williams 40   \n",
       "20  Sat, Jan 14              @LA      L113-97  15-29         D. Jordan 24   \n",
       "44  Sat, Nov 12     @New Orleans      W126-99    6-4          A. Davis 34   \n",
       "36   Sun, Apr 2        vsMemphis     W108-103  22-55        D. Russell 28   \n",
       "80   Sun, Apr 9      vsMinnesota     W110-109  25-55        A. Wiggins 41   \n",
       "11  Sun, Dec 11      vsNY Knicks     L118-112  10-16      K. Porzingis 26   \n",
       "15  Sun, Dec 25             vsLA     W111-102  12-22       J. Crawford 22   \n",
       "..          ...              ...          ...    ...                  ...   \n",
       "3   Thu, Nov 10      @Sacramento      W101-91    5-4        D. Cousins 28   \n",
       "38  Tue, Apr 11    vsNew Orleans      W108-96  26-55         C. Diallo 19   \n",
       "55  Tue, Dec 20       @Charlotte     L117-113  11-20         K. Walker 28   \n",
       "57  Tue, Dec 27           vsUtah     L102-100  12-23        G. Hayward 31   \n",
       "26  Tue, Feb 14     vsSacramento       L97-96  19-38        D. Cousins 40   \n",
       "28  Tue, Feb 28      vsCharlotte     L109-104  19-42         K. Walker 30   \n",
       "19  Tue, Jan 10       vsPortland      L108-87  15-27       C. McCollum 25   \n",
       "21  Tue, Jan 17         vsDenver     L127-121  15-31          N. Jokic 29   \n",
       "17   Tue, Jan 3        vsMemphis     W116-102  13-25          M. Gasol 22   \n",
       "65  Tue, Jan 31         vsDenver     W120-116  17-34       W. Chandler 26   \n",
       "33  Tue, Mar 21             vsLA     L133-109  20-51           C. Paul 27   \n",
       "77  Tue, Mar 28     vsWashington     L119-108  21-53           J. Wall 34   \n",
       "72   Tue, Mar 7          @Dallas     L122-111  19-45       D. Nowitzki 25   \n",
       "41   Tue, Nov 1         @Indiana     L115-108    1-3         P. George 30   \n",
       "45  Tue, Nov 15       vsBrooklyn     W125-118    7-5        D. Russell 32   \n",
       "6   Tue, Nov 22  vsOklahoma City     W111-109    8-7      R. Westbrook 34   \n",
       "8   Tue, Nov 29     @New Orleans      L105-88   9-10          A. Davis 41   \n",
       "43   Tue, Nov 8         vsDallas      L109-97    4-4         H. Barnes 31   \n",
       "81  Wed, Apr 12    @Golden State      L109-94  26-56         K. Durant 29   \n",
       "79   Wed, Apr 5     @San Antonio      W102-95  23-55          T. Ennis 19   \n",
       "12  Wed, Dec 14        @Brooklyn      L107-97  10-18     B. Bogdanovic 23   \n",
       "10   Wed, Dec 7         @Houston      L134-95  10-14         E. Gordon 26   \n",
       "69  Wed, Feb 15         @Phoenix     L137-101  19-39        E. Bledsoe 25   \n",
       "25   Wed, Feb 8         @Detroit     L121-102  18-37       A. Drummond 24   \n",
       "64  Wed, Jan 25        @Portland      L105-98  16-33       L. Williams 31   \n",
       "74  Wed, Mar 15         @Houston     L139-100  20-48         J. Randle 32   \n",
       "1    Wed, Nov 2         @Atlanta     W123-116    2-3         D. Howard 31   \n",
       "47  Wed, Nov 23    @Golden State     L149-106    8-8          S. Curry 31   \n",
       "49  Wed, Nov 30         @Chicago       W96-90  10-10         J. Butler 22   \n",
       "39  Wed, Oct 26        vsHouston     W120-114    1-0         J. Harden 34   \n",
       "\n",
       "             HI REBOUNDS       HI ASSISTS  \n",
       "37       L. Nance Jr. 11   D. Collison 10  \n",
       "54       L. Nance Jr. 11   T. McConnell 9  \n",
       "50           J. Randle 8       K. Lowry 7  \n",
       "56           S. Ibaka 11      E. Payton 9  \n",
       "52             A. Len 14     E. Bledsoe 9  \n",
       "68    G. Antetokounmpo 8   K. Middleton 6  \n",
       "27       R. Westbrook 18  R. Westbrook 17  \n",
       "24       L. Nance Jr. 11     A. Horford 8  \n",
       "63           T. Black 13      J. Teague 7  \n",
       "18            L. Deng 14     D. Russell 5  \n",
       "32          J. Randle 12      J. Randle 8  \n",
       "76           K. Towns 14      R. Rubio 15  \n",
       "71            J. Brown 8      I. Thomas 8  \n",
       "5          K. Leonard 12      T. Parker 7  \n",
       "7         T. Robinson 10      K. Durant 9  \n",
       "42          J. Randle 14      S. Curry 10  \n",
       "0           R. Gobert 13    L. Williams 6  \n",
       "53         D. Cousins 17      T. Lawson 5  \n",
       "51          R. Gobert 17    L. Williams 7  \n",
       "67     W. Hernangomez 13     D. Russell 6  \n",
       "31           I. Zubac 11      G. Harris 7  \n",
       "78          D. Jordan 12       C. Paul 12  \n",
       "13            K. Love 17     K. Irving 12  \n",
       "9            J. Green 13  W. Baldwin IV 9  \n",
       "20          D. Jordan 21       C. Paul 13  \n",
       "44          J. Randle 11    T. Frazier 10  \n",
       "36       L. Nance Jr. 14     M. Conley 12  \n",
       "80           K. Towns 21      R. Rubio 11  \n",
       "11       K. Porzingis 13     C. Anthony 7  \n",
       "15            L. Deng 12      J. Randle 8  \n",
       "..                   ...              ...  \n",
       "3           D. Cousins 9    D. Collison 9  \n",
       "38          C. Diallo 11     J. Holiday 7  \n",
       "55  M. Kidd-Gilchrist 11      N. Batum 10  \n",
       "57          J. Randle 12     D. Russell 4  \n",
       "26         D. Cousins 12    D. Collison 8  \n",
       "28          J. Randle 19     D. Russell 9  \n",
       "19           A. Aminu 15      E. Turner 7  \n",
       "21           N. Jokic 15      W. Barton 8  \n",
       "17          J. Randle 14     J. Randle 11  \n",
       "65          K. Faried 17    D. Russell 10  \n",
       "33          D. Jordan 11     B. Griffin 8  \n",
       "77          M. Gortat 11       J. Wall 14  \n",
       "72          J. Randle 18     J. Randle 10  \n",
       "41          J. Randle 10      J. Teague 6  \n",
       "45          J. Randle 14     J. Randle 10  \n",
       "6         R. Westbrook 8  R. Westbrook 13  \n",
       "8            A. Davis 16    J. Calderon 6  \n",
       "43          J. Randle 10       J. Barea 8  \n",
       "81       L. Nance Jr. 11       S. Curry 8  \n",
       "79        L. Nance Jr. 9         D. Lee 6  \n",
       "12          T. Booker 18  S. Kilpatrick 5  \n",
       "10          J. Randle 10   P. Beverley 12  \n",
       "69         E. Bledsoe 10    E. Bledsoe 13  \n",
       "25        A. Drummond 17     R. Jackson 8  \n",
       "64         M. Plumlee 13    L. Williams 5  \n",
       "74          J. Harden 12     J. Harden 13  \n",
       "1           D. Howard 11     D. Russell 8  \n",
       "47            D. Green 9      D. Green 11  \n",
       "49          J. Randle 20        D. Wade 6  \n",
       "39           C. Capela 9     J. Harden 17  \n",
       "\n",
       "[82 rows x 7 columns]"
      ]
     },
     "execution_count": 25,
     "metadata": {},
     "output_type": "execute_result"
    }
   ],
   "source": [
    "df.sort_values(by='DATE')"
   ]
  },
  {
   "cell_type": "markdown",
   "metadata": {},
   "source": [
    "#### We basically grabbed the table from the webpage, but the data is still in awkward formats"
   ]
  },
  {
   "cell_type": "markdown",
   "metadata": {},
   "source": [
    "### First let's parse the dates to make them \"datelike\"\n",
    "Notice that the edates are all formatted with Dow, Mth DD"
   ]
  },
  {
   "cell_type": "code",
   "execution_count": 27,
   "metadata": {
    "collapsed": true
   },
   "outputs": [],
   "source": [
    "import dateparser # pip install dateparser\n",
    "# you may need to restart the kernel for this import to work"
   ]
  },
  {
   "cell_type": "code",
   "execution_count": 28,
   "metadata": {},
   "outputs": [
    {
     "data": {
      "text/plain": [
       "u'Fri, Oct 28'"
      ]
     },
     "execution_count": 28,
     "metadata": {},
     "output_type": "execute_result"
    }
   ],
   "source": [
    "df.DATE[0]"
   ]
  },
  {
   "cell_type": "code",
   "execution_count": 29,
   "metadata": {},
   "outputs": [
    {
     "data": {
      "text/plain": [
       "datetime.datetime(2018, 10, 28, 0, 0)"
      ]
     },
     "execution_count": 29,
     "metadata": {},
     "output_type": "execute_result"
    }
   ],
   "source": [
    "dateparser.parse(df.DATE[0]) # yay it works! Except the year is wrong, booo\n",
    "# we'll worry about the year later"
   ]
  },
  {
   "cell_type": "code",
   "execution_count": 30,
   "metadata": {
    "collapsed": true
   },
   "outputs": [],
   "source": [
    "df.DATE=df.DATE.map(dateparser.parse)"
   ]
  },
  {
   "cell_type": "code",
   "execution_count": 31,
   "metadata": {},
   "outputs": [
    {
     "data": {
      "text/plain": [
       "0   2018-10-28\n",
       "1   2018-11-02\n",
       "2   2018-11-06\n",
       "3   2018-11-10\n",
       "4   2018-11-13\n",
       "Name: DATE, dtype: datetime64[ns]"
      ]
     },
     "execution_count": 31,
     "metadata": {},
     "output_type": "execute_result"
    }
   ],
   "source": [
    "df.DATE.head()"
   ]
  },
  {
   "cell_type": "code",
   "execution_count": 32,
   "metadata": {
    "collapsed": true
   },
   "outputs": [],
   "source": [
    "# how should the year look? for month is 10 or more, we should have 2016, else 2015?\n",
    "import datetime\n",
    "def _convert_year_(dt):\n",
    "    if dt.month>=10:\n",
    "        return datetime.date(2015, dt.month, dt.day)\n",
    "    else:\n",
    "        return datetime.date(2016, dt.month, dt.day)"
   ]
  },
  {
   "cell_type": "code",
   "execution_count": 33,
   "metadata": {
    "collapsed": true
   },
   "outputs": [],
   "source": [
    "df.DATE = df.DATE.map(_convert_year_)"
   ]
  },
  {
   "cell_type": "code",
   "execution_count": 34,
   "metadata": {},
   "outputs": [
    {
     "data": {
      "text/plain": [
       "0    2015-10-28\n",
       "1    2015-11-02\n",
       "2    2015-11-06\n",
       "3    2015-11-10\n",
       "4    2015-11-13\n",
       "Name: DATE, dtype: object"
      ]
     },
     "execution_count": 34,
     "metadata": {},
     "output_type": "execute_result"
    }
   ],
   "source": [
    "df.DATE.head() #YAY"
   ]
  },
  {
   "cell_type": "code",
   "execution_count": 36,
   "metadata": {},
   "outputs": [
    {
     "data": {
      "text/html": [
       "<div>\n",
       "<style>\n",
       "    .dataframe thead tr:only-child th {\n",
       "        text-align: right;\n",
       "    }\n",
       "\n",
       "    .dataframe thead th {\n",
       "        text-align: left;\n",
       "    }\n",
       "\n",
       "    .dataframe tbody tr th {\n",
       "        vertical-align: top;\n",
       "    }\n",
       "</style>\n",
       "<table border=\"1\" class=\"dataframe\">\n",
       "  <thead>\n",
       "    <tr style=\"text-align: right;\">\n",
       "      <th></th>\n",
       "      <th>DATE</th>\n",
       "      <th>OPPONENT</th>\n",
       "      <th>RESULT</th>\n",
       "      <th>W-L</th>\n",
       "      <th>HI POINTS</th>\n",
       "      <th>HI REBOUNDS</th>\n",
       "      <th>HI ASSISTS</th>\n",
       "    </tr>\n",
       "  </thead>\n",
       "  <tbody>\n",
       "    <tr>\n",
       "      <th>81</th>\n",
       "      <td>2016-04-12</td>\n",
       "      <td>@Golden State</td>\n",
       "      <td>L109-94</td>\n",
       "      <td>26-56</td>\n",
       "      <td>K. Durant 29</td>\n",
       "      <td>L. Nance Jr. 11</td>\n",
       "      <td>S. Curry 8</td>\n",
       "    </tr>\n",
       "    <tr>\n",
       "      <th>38</th>\n",
       "      <td>2016-04-11</td>\n",
       "      <td>vsNew Orleans</td>\n",
       "      <td>W108-96</td>\n",
       "      <td>26-55</td>\n",
       "      <td>C. Diallo 19</td>\n",
       "      <td>C. Diallo 11</td>\n",
       "      <td>J. Holiday 7</td>\n",
       "    </tr>\n",
       "    <tr>\n",
       "      <th>80</th>\n",
       "      <td>2016-04-09</td>\n",
       "      <td>vsMinnesota</td>\n",
       "      <td>W110-109</td>\n",
       "      <td>25-55</td>\n",
       "      <td>A. Wiggins 41</td>\n",
       "      <td>K. Towns 21</td>\n",
       "      <td>R. Rubio 11</td>\n",
       "    </tr>\n",
       "    <tr>\n",
       "      <th>37</th>\n",
       "      <td>2016-04-07</td>\n",
       "      <td>vsSacramento</td>\n",
       "      <td>W98-94</td>\n",
       "      <td>24-55</td>\n",
       "      <td>J. Randle 25</td>\n",
       "      <td>L. Nance Jr. 11</td>\n",
       "      <td>D. Collison 10</td>\n",
       "    </tr>\n",
       "    <tr>\n",
       "      <th>79</th>\n",
       "      <td>2016-04-05</td>\n",
       "      <td>@San Antonio</td>\n",
       "      <td>W102-95</td>\n",
       "      <td>23-55</td>\n",
       "      <td>T. Ennis 19</td>\n",
       "      <td>L. Nance Jr. 9</td>\n",
       "      <td>D. Lee 6</td>\n",
       "    </tr>\n",
       "  </tbody>\n",
       "</table>\n",
       "</div>"
      ],
      "text/plain": [
       "          DATE       OPPONENT    RESULT    W-L      HI POINTS  \\\n",
       "81  2016-04-12  @Golden State   L109-94  26-56   K. Durant 29   \n",
       "38  2016-04-11  vsNew Orleans   W108-96  26-55   C. Diallo 19   \n",
       "80  2016-04-09    vsMinnesota  W110-109  25-55  A. Wiggins 41   \n",
       "37  2016-04-07   vsSacramento    W98-94  24-55   J. Randle 25   \n",
       "79  2016-04-05   @San Antonio   W102-95  23-55    T. Ennis 19   \n",
       "\n",
       "        HI REBOUNDS      HI ASSISTS  \n",
       "81  L. Nance Jr. 11      S. Curry 8  \n",
       "38     C. Diallo 11    J. Holiday 7  \n",
       "80      K. Towns 21     R. Rubio 11  \n",
       "37  L. Nance Jr. 11  D. Collison 10  \n",
       "79   L. Nance Jr. 9        D. Lee 6  "
      ]
     },
     "execution_count": 36,
     "metadata": {},
     "output_type": "execute_result"
    }
   ],
   "source": [
    "df.sort_values(by='DATE', ascending = False,inplace = True)\n",
    "df.head()"
   ]
  },
  {
   "cell_type": "markdown",
   "metadata": {},
   "source": [
    "# Next, let's get rid of the @ and vs in the OPPONENT column, and create a new column for HOME (1 for home, 0 for away)"
   ]
  },
  {
   "cell_type": "code",
   "execution_count": 37,
   "metadata": {
    "collapsed": true
   },
   "outputs": [],
   "source": [
    "def _home_(opp):\n",
    "    if opp[0] == '@':\n",
    "        return 0\n",
    "    else:\n",
    "        return 1"
   ]
  },
  {
   "cell_type": "code",
   "execution_count": 38,
   "metadata": {
    "collapsed": true
   },
   "outputs": [],
   "source": [
    "df['HOME'] = df.OPPONENT.map(_home_)"
   ]
  },
  {
   "cell_type": "code",
   "execution_count": 39,
   "metadata": {},
   "outputs": [
    {
     "data": {
      "text/html": [
       "<div>\n",
       "<style>\n",
       "    .dataframe thead tr:only-child th {\n",
       "        text-align: right;\n",
       "    }\n",
       "\n",
       "    .dataframe thead th {\n",
       "        text-align: left;\n",
       "    }\n",
       "\n",
       "    .dataframe tbody tr th {\n",
       "        vertical-align: top;\n",
       "    }\n",
       "</style>\n",
       "<table border=\"1\" class=\"dataframe\">\n",
       "  <thead>\n",
       "    <tr style=\"text-align: right;\">\n",
       "      <th></th>\n",
       "      <th>DATE</th>\n",
       "      <th>OPPONENT</th>\n",
       "      <th>RESULT</th>\n",
       "      <th>W-L</th>\n",
       "      <th>HI POINTS</th>\n",
       "      <th>HI REBOUNDS</th>\n",
       "      <th>HI ASSISTS</th>\n",
       "      <th>HOME</th>\n",
       "    </tr>\n",
       "  </thead>\n",
       "  <tbody>\n",
       "    <tr>\n",
       "      <th>81</th>\n",
       "      <td>2016-04-12</td>\n",
       "      <td>@Golden State</td>\n",
       "      <td>L109-94</td>\n",
       "      <td>26-56</td>\n",
       "      <td>K. Durant 29</td>\n",
       "      <td>L. Nance Jr. 11</td>\n",
       "      <td>S. Curry 8</td>\n",
       "      <td>0</td>\n",
       "    </tr>\n",
       "    <tr>\n",
       "      <th>38</th>\n",
       "      <td>2016-04-11</td>\n",
       "      <td>vsNew Orleans</td>\n",
       "      <td>W108-96</td>\n",
       "      <td>26-55</td>\n",
       "      <td>C. Diallo 19</td>\n",
       "      <td>C. Diallo 11</td>\n",
       "      <td>J. Holiday 7</td>\n",
       "      <td>1</td>\n",
       "    </tr>\n",
       "    <tr>\n",
       "      <th>80</th>\n",
       "      <td>2016-04-09</td>\n",
       "      <td>vsMinnesota</td>\n",
       "      <td>W110-109</td>\n",
       "      <td>25-55</td>\n",
       "      <td>A. Wiggins 41</td>\n",
       "      <td>K. Towns 21</td>\n",
       "      <td>R. Rubio 11</td>\n",
       "      <td>1</td>\n",
       "    </tr>\n",
       "    <tr>\n",
       "      <th>37</th>\n",
       "      <td>2016-04-07</td>\n",
       "      <td>vsSacramento</td>\n",
       "      <td>W98-94</td>\n",
       "      <td>24-55</td>\n",
       "      <td>J. Randle 25</td>\n",
       "      <td>L. Nance Jr. 11</td>\n",
       "      <td>D. Collison 10</td>\n",
       "      <td>1</td>\n",
       "    </tr>\n",
       "    <tr>\n",
       "      <th>79</th>\n",
       "      <td>2016-04-05</td>\n",
       "      <td>@San Antonio</td>\n",
       "      <td>W102-95</td>\n",
       "      <td>23-55</td>\n",
       "      <td>T. Ennis 19</td>\n",
       "      <td>L. Nance Jr. 9</td>\n",
       "      <td>D. Lee 6</td>\n",
       "      <td>0</td>\n",
       "    </tr>\n",
       "  </tbody>\n",
       "</table>\n",
       "</div>"
      ],
      "text/plain": [
       "          DATE       OPPONENT    RESULT    W-L      HI POINTS  \\\n",
       "81  2016-04-12  @Golden State   L109-94  26-56   K. Durant 29   \n",
       "38  2016-04-11  vsNew Orleans   W108-96  26-55   C. Diallo 19   \n",
       "80  2016-04-09    vsMinnesota  W110-109  25-55  A. Wiggins 41   \n",
       "37  2016-04-07   vsSacramento    W98-94  24-55   J. Randle 25   \n",
       "79  2016-04-05   @San Antonio   W102-95  23-55    T. Ennis 19   \n",
       "\n",
       "        HI REBOUNDS      HI ASSISTS  HOME  \n",
       "81  L. Nance Jr. 11      S. Curry 8     0  \n",
       "38     C. Diallo 11    J. Holiday 7     1  \n",
       "80      K. Towns 21     R. Rubio 11     1  \n",
       "37  L. Nance Jr. 11  D. Collison 10     1  \n",
       "79   L. Nance Jr. 9        D. Lee 6     0  "
      ]
     },
     "execution_count": 39,
     "metadata": {},
     "output_type": "execute_result"
    }
   ],
   "source": [
    "df.head() # yay!"
   ]
  },
  {
   "cell_type": "code",
   "execution_count": 40,
   "metadata": {},
   "outputs": [
    {
     "data": {
      "text/html": [
       "<div>\n",
       "<style>\n",
       "    .dataframe thead tr:only-child th {\n",
       "        text-align: right;\n",
       "    }\n",
       "\n",
       "    .dataframe thead th {\n",
       "        text-align: left;\n",
       "    }\n",
       "\n",
       "    .dataframe tbody tr th {\n",
       "        vertical-align: top;\n",
       "    }\n",
       "</style>\n",
       "<table border=\"1\" class=\"dataframe\">\n",
       "  <thead>\n",
       "    <tr style=\"text-align: right;\">\n",
       "      <th></th>\n",
       "      <th>DATE</th>\n",
       "      <th>OPPONENT</th>\n",
       "      <th>RESULT</th>\n",
       "      <th>W-L</th>\n",
       "      <th>HI POINTS</th>\n",
       "      <th>HI REBOUNDS</th>\n",
       "      <th>HI ASSISTS</th>\n",
       "      <th>HOME</th>\n",
       "    </tr>\n",
       "  </thead>\n",
       "  <tbody>\n",
       "    <tr>\n",
       "      <th>81</th>\n",
       "      <td>2016-04-12</td>\n",
       "      <td>Golden State</td>\n",
       "      <td>L109-94</td>\n",
       "      <td>26-56</td>\n",
       "      <td>K. Durant 29</td>\n",
       "      <td>L. Nance Jr. 11</td>\n",
       "      <td>S. Curry 8</td>\n",
       "      <td>0</td>\n",
       "    </tr>\n",
       "    <tr>\n",
       "      <th>38</th>\n",
       "      <td>2016-04-11</td>\n",
       "      <td>New Orleans</td>\n",
       "      <td>W108-96</td>\n",
       "      <td>26-55</td>\n",
       "      <td>C. Diallo 19</td>\n",
       "      <td>C. Diallo 11</td>\n",
       "      <td>J. Holiday 7</td>\n",
       "      <td>1</td>\n",
       "    </tr>\n",
       "    <tr>\n",
       "      <th>80</th>\n",
       "      <td>2016-04-09</td>\n",
       "      <td>Minnesota</td>\n",
       "      <td>W110-109</td>\n",
       "      <td>25-55</td>\n",
       "      <td>A. Wiggins 41</td>\n",
       "      <td>K. Towns 21</td>\n",
       "      <td>R. Rubio 11</td>\n",
       "      <td>1</td>\n",
       "    </tr>\n",
       "    <tr>\n",
       "      <th>37</th>\n",
       "      <td>2016-04-07</td>\n",
       "      <td>Sacramento</td>\n",
       "      <td>W98-94</td>\n",
       "      <td>24-55</td>\n",
       "      <td>J. Randle 25</td>\n",
       "      <td>L. Nance Jr. 11</td>\n",
       "      <td>D. Collison 10</td>\n",
       "      <td>1</td>\n",
       "    </tr>\n",
       "    <tr>\n",
       "      <th>79</th>\n",
       "      <td>2016-04-05</td>\n",
       "      <td>San Antonio</td>\n",
       "      <td>W102-95</td>\n",
       "      <td>23-55</td>\n",
       "      <td>T. Ennis 19</td>\n",
       "      <td>L. Nance Jr. 9</td>\n",
       "      <td>D. Lee 6</td>\n",
       "      <td>0</td>\n",
       "    </tr>\n",
       "  </tbody>\n",
       "</table>\n",
       "</div>"
      ],
      "text/plain": [
       "          DATE      OPPONENT    RESULT    W-L      HI POINTS      HI REBOUNDS  \\\n",
       "81  2016-04-12  Golden State   L109-94  26-56   K. Durant 29  L. Nance Jr. 11   \n",
       "38  2016-04-11   New Orleans   W108-96  26-55   C. Diallo 19     C. Diallo 11   \n",
       "80  2016-04-09     Minnesota  W110-109  25-55  A. Wiggins 41      K. Towns 21   \n",
       "37  2016-04-07    Sacramento    W98-94  24-55   J. Randle 25  L. Nance Jr. 11   \n",
       "79  2016-04-05   San Antonio   W102-95  23-55    T. Ennis 19   L. Nance Jr. 9   \n",
       "\n",
       "        HI ASSISTS  HOME  \n",
       "81      S. Curry 8     0  \n",
       "38    J. Holiday 7     1  \n",
       "80     R. Rubio 11     1  \n",
       "37  D. Collison 10     1  \n",
       "79        D. Lee 6     0  "
      ]
     },
     "execution_count": 40,
     "metadata": {},
     "output_type": "execute_result"
    }
   ],
   "source": [
    "# get rid of the @'s and vs's\n",
    "df.loc[df.HOME==1, 'OPPONENT'] = df.loc[df.HOME==1, 'OPPONENT'].apply(lambda x: x[2:])\n",
    "df.loc[df.HOME==0, 'OPPONENT'] = df.loc[df.HOME==0, 'OPPONENT'].apply(lambda x: x[1:])\n",
    "df.head()"
   ]
  },
  {
   "cell_type": "markdown",
   "metadata": {},
   "source": [
    "# Next, we can get rid of all L's and W's, and create a new a column for Win (1=W, 0=L)"
   ]
  },
  {
   "cell_type": "code",
   "execution_count": 41,
   "metadata": {
    "collapsed": true
   },
   "outputs": [],
   "source": [
    "def _WL_(wl):\n",
    "    if wl[0] == 'W': # if the first character is W\n",
    "        return 1 # return 1\n",
    "    else:\n",
    "        return 0 # otherwise return 0"
   ]
  },
  {
   "cell_type": "code",
   "execution_count": 42,
   "metadata": {},
   "outputs": [
    {
     "data": {
      "text/html": [
       "<div>\n",
       "<style>\n",
       "    .dataframe thead tr:only-child th {\n",
       "        text-align: right;\n",
       "    }\n",
       "\n",
       "    .dataframe thead th {\n",
       "        text-align: left;\n",
       "    }\n",
       "\n",
       "    .dataframe tbody tr th {\n",
       "        vertical-align: top;\n",
       "    }\n",
       "</style>\n",
       "<table border=\"1\" class=\"dataframe\">\n",
       "  <thead>\n",
       "    <tr style=\"text-align: right;\">\n",
       "      <th></th>\n",
       "      <th>DATE</th>\n",
       "      <th>OPPONENT</th>\n",
       "      <th>RESULT</th>\n",
       "      <th>W-L</th>\n",
       "      <th>HI POINTS</th>\n",
       "      <th>HI REBOUNDS</th>\n",
       "      <th>HI ASSISTS</th>\n",
       "      <th>HOME</th>\n",
       "      <th>W</th>\n",
       "    </tr>\n",
       "  </thead>\n",
       "  <tbody>\n",
       "    <tr>\n",
       "      <th>81</th>\n",
       "      <td>2016-04-12</td>\n",
       "      <td>Golden State</td>\n",
       "      <td>L109-94</td>\n",
       "      <td>26-56</td>\n",
       "      <td>K. Durant 29</td>\n",
       "      <td>L. Nance Jr. 11</td>\n",
       "      <td>S. Curry 8</td>\n",
       "      <td>0</td>\n",
       "      <td>0</td>\n",
       "    </tr>\n",
       "    <tr>\n",
       "      <th>38</th>\n",
       "      <td>2016-04-11</td>\n",
       "      <td>New Orleans</td>\n",
       "      <td>W108-96</td>\n",
       "      <td>26-55</td>\n",
       "      <td>C. Diallo 19</td>\n",
       "      <td>C. Diallo 11</td>\n",
       "      <td>J. Holiday 7</td>\n",
       "      <td>1</td>\n",
       "      <td>1</td>\n",
       "    </tr>\n",
       "    <tr>\n",
       "      <th>80</th>\n",
       "      <td>2016-04-09</td>\n",
       "      <td>Minnesota</td>\n",
       "      <td>W110-109</td>\n",
       "      <td>25-55</td>\n",
       "      <td>A. Wiggins 41</td>\n",
       "      <td>K. Towns 21</td>\n",
       "      <td>R. Rubio 11</td>\n",
       "      <td>1</td>\n",
       "      <td>1</td>\n",
       "    </tr>\n",
       "    <tr>\n",
       "      <th>37</th>\n",
       "      <td>2016-04-07</td>\n",
       "      <td>Sacramento</td>\n",
       "      <td>W98-94</td>\n",
       "      <td>24-55</td>\n",
       "      <td>J. Randle 25</td>\n",
       "      <td>L. Nance Jr. 11</td>\n",
       "      <td>D. Collison 10</td>\n",
       "      <td>1</td>\n",
       "      <td>1</td>\n",
       "    </tr>\n",
       "    <tr>\n",
       "      <th>79</th>\n",
       "      <td>2016-04-05</td>\n",
       "      <td>San Antonio</td>\n",
       "      <td>W102-95</td>\n",
       "      <td>23-55</td>\n",
       "      <td>T. Ennis 19</td>\n",
       "      <td>L. Nance Jr. 9</td>\n",
       "      <td>D. Lee 6</td>\n",
       "      <td>0</td>\n",
       "      <td>1</td>\n",
       "    </tr>\n",
       "  </tbody>\n",
       "</table>\n",
       "</div>"
      ],
      "text/plain": [
       "          DATE      OPPONENT    RESULT    W-L      HI POINTS      HI REBOUNDS  \\\n",
       "81  2016-04-12  Golden State   L109-94  26-56   K. Durant 29  L. Nance Jr. 11   \n",
       "38  2016-04-11   New Orleans   W108-96  26-55   C. Diallo 19     C. Diallo 11   \n",
       "80  2016-04-09     Minnesota  W110-109  25-55  A. Wiggins 41      K. Towns 21   \n",
       "37  2016-04-07    Sacramento    W98-94  24-55   J. Randle 25  L. Nance Jr. 11   \n",
       "79  2016-04-05   San Antonio   W102-95  23-55    T. Ennis 19   L. Nance Jr. 9   \n",
       "\n",
       "        HI ASSISTS  HOME  W  \n",
       "81      S. Curry 8     0  0  \n",
       "38    J. Holiday 7     1  1  \n",
       "80     R. Rubio 11     1  1  \n",
       "37  D. Collison 10     1  1  \n",
       "79        D. Lee 6     0  1  "
      ]
     },
     "execution_count": 42,
     "metadata": {},
     "output_type": "execute_result"
    }
   ],
   "source": [
    "df['W'] = df.RESULT.map(_WL_)\n",
    "df.head()"
   ]
  },
  {
   "cell_type": "markdown",
   "metadata": {},
   "source": [
    "### Let's grab the scores and make one column for lakers and one column for opponent"
   ]
  },
  {
   "cell_type": "markdown",
   "metadata": {},
   "source": [
    "#### We can use regular expressions to do this\n",
    "A regular expression is a text manipulating tool that looks for patterns in text.\n",
    "Here, we want to extract from each result row the two sequences of numbers. "
   ]
  },
  {
   "cell_type": "code",
   "execution_count": 43,
   "metadata": {},
   "outputs": [
    {
     "data": {
      "text/plain": [
       "u'L96-89'"
      ]
     },
     "execution_count": 43,
     "metadata": {},
     "output_type": "execute_result"
    }
   ],
   "source": [
    "import re\n",
    "r = df.RESULT[0]\n",
    "r"
   ]
  },
  {
   "cell_type": "code",
   "execution_count": 44,
   "metadata": {},
   "outputs": [
    {
     "data": {
      "text/plain": [
       "[u'96', u'89']"
      ]
     },
     "execution_count": 44,
     "metadata": {},
     "output_type": "execute_result"
    }
   ],
   "source": [
    "import re\n",
    "r = df.RESULT[0]\n",
    "re.findall('[0-9]+', r) \n",
    "# What this says is look for patterns that contain the characters inside '[]'\n",
    "# 0-9 indicates characters from the range of 0 to 9, inclusive\n",
    "# The + outside the []'s means look for contiguous \n",
    "# patterns that contain at least 1 character that belongs in this set.\n",
    "# As a result, we are able to locate 2 groups of contiguous numeric characters, the 2 scores."
   ]
  },
  {
   "cell_type": "code",
   "execution_count": 45,
   "metadata": {},
   "outputs": [
    {
     "data": {
      "text/html": [
       "<div>\n",
       "<style>\n",
       "    .dataframe thead tr:only-child th {\n",
       "        text-align: right;\n",
       "    }\n",
       "\n",
       "    .dataframe thead th {\n",
       "        text-align: left;\n",
       "    }\n",
       "\n",
       "    .dataframe tbody tr th {\n",
       "        vertical-align: top;\n",
       "    }\n",
       "</style>\n",
       "<table border=\"1\" class=\"dataframe\">\n",
       "  <thead>\n",
       "    <tr style=\"text-align: right;\">\n",
       "      <th></th>\n",
       "      <th>DATE</th>\n",
       "      <th>OPPONENT</th>\n",
       "      <th>RESULT</th>\n",
       "      <th>W-L</th>\n",
       "      <th>HI POINTS</th>\n",
       "      <th>HI REBOUNDS</th>\n",
       "      <th>HI ASSISTS</th>\n",
       "      <th>HOME</th>\n",
       "      <th>W</th>\n",
       "      <th>Score</th>\n",
       "    </tr>\n",
       "  </thead>\n",
       "  <tbody>\n",
       "    <tr>\n",
       "      <th>81</th>\n",
       "      <td>2016-04-12</td>\n",
       "      <td>Golden State</td>\n",
       "      <td>L109-94</td>\n",
       "      <td>26-56</td>\n",
       "      <td>K. Durant 29</td>\n",
       "      <td>L. Nance Jr. 11</td>\n",
       "      <td>S. Curry 8</td>\n",
       "      <td>0</td>\n",
       "      <td>0</td>\n",
       "      <td>[109, 94]</td>\n",
       "    </tr>\n",
       "    <tr>\n",
       "      <th>38</th>\n",
       "      <td>2016-04-11</td>\n",
       "      <td>New Orleans</td>\n",
       "      <td>W108-96</td>\n",
       "      <td>26-55</td>\n",
       "      <td>C. Diallo 19</td>\n",
       "      <td>C. Diallo 11</td>\n",
       "      <td>J. Holiday 7</td>\n",
       "      <td>1</td>\n",
       "      <td>1</td>\n",
       "      <td>[108, 96]</td>\n",
       "    </tr>\n",
       "    <tr>\n",
       "      <th>80</th>\n",
       "      <td>2016-04-09</td>\n",
       "      <td>Minnesota</td>\n",
       "      <td>W110-109</td>\n",
       "      <td>25-55</td>\n",
       "      <td>A. Wiggins 41</td>\n",
       "      <td>K. Towns 21</td>\n",
       "      <td>R. Rubio 11</td>\n",
       "      <td>1</td>\n",
       "      <td>1</td>\n",
       "      <td>[110, 109]</td>\n",
       "    </tr>\n",
       "    <tr>\n",
       "      <th>37</th>\n",
       "      <td>2016-04-07</td>\n",
       "      <td>Sacramento</td>\n",
       "      <td>W98-94</td>\n",
       "      <td>24-55</td>\n",
       "      <td>J. Randle 25</td>\n",
       "      <td>L. Nance Jr. 11</td>\n",
       "      <td>D. Collison 10</td>\n",
       "      <td>1</td>\n",
       "      <td>1</td>\n",
       "      <td>[98, 94]</td>\n",
       "    </tr>\n",
       "    <tr>\n",
       "      <th>79</th>\n",
       "      <td>2016-04-05</td>\n",
       "      <td>San Antonio</td>\n",
       "      <td>W102-95</td>\n",
       "      <td>23-55</td>\n",
       "      <td>T. Ennis 19</td>\n",
       "      <td>L. Nance Jr. 9</td>\n",
       "      <td>D. Lee 6</td>\n",
       "      <td>0</td>\n",
       "      <td>1</td>\n",
       "      <td>[102, 95]</td>\n",
       "    </tr>\n",
       "  </tbody>\n",
       "</table>\n",
       "</div>"
      ],
      "text/plain": [
       "          DATE      OPPONENT    RESULT    W-L      HI POINTS      HI REBOUNDS  \\\n",
       "81  2016-04-12  Golden State   L109-94  26-56   K. Durant 29  L. Nance Jr. 11   \n",
       "38  2016-04-11   New Orleans   W108-96  26-55   C. Diallo 19     C. Diallo 11   \n",
       "80  2016-04-09     Minnesota  W110-109  25-55  A. Wiggins 41      K. Towns 21   \n",
       "37  2016-04-07    Sacramento    W98-94  24-55   J. Randle 25  L. Nance Jr. 11   \n",
       "79  2016-04-05   San Antonio   W102-95  23-55    T. Ennis 19   L. Nance Jr. 9   \n",
       "\n",
       "        HI ASSISTS  HOME  W       Score  \n",
       "81      S. Curry 8     0  0   [109, 94]  \n",
       "38    J. Holiday 7     1  1   [108, 96]  \n",
       "80     R. Rubio 11     1  1  [110, 109]  \n",
       "37  D. Collison 10     1  1    [98, 94]  \n",
       "79        D. Lee 6     0  1   [102, 95]  "
      ]
     },
     "execution_count": 45,
     "metadata": {},
     "output_type": "execute_result"
    }
   ],
   "source": [
    "df['Score'] = df.RESULT.apply(lambda x: re.findall('[0-9]+', x))\n",
    "df.head()"
   ]
  },
  {
   "cell_type": "code",
   "execution_count": 46,
   "metadata": {},
   "outputs": [
    {
     "data": {
      "text/html": [
       "<div>\n",
       "<style>\n",
       "    .dataframe thead tr:only-child th {\n",
       "        text-align: right;\n",
       "    }\n",
       "\n",
       "    .dataframe thead th {\n",
       "        text-align: left;\n",
       "    }\n",
       "\n",
       "    .dataframe tbody tr th {\n",
       "        vertical-align: top;\n",
       "    }\n",
       "</style>\n",
       "<table border=\"1\" class=\"dataframe\">\n",
       "  <thead>\n",
       "    <tr style=\"text-align: right;\">\n",
       "      <th></th>\n",
       "      <th>DATE</th>\n",
       "      <th>OPPONENT</th>\n",
       "      <th>RESULT</th>\n",
       "      <th>W-L</th>\n",
       "      <th>HI POINTS</th>\n",
       "      <th>HI REBOUNDS</th>\n",
       "      <th>HI ASSISTS</th>\n",
       "      <th>HOME</th>\n",
       "      <th>W</th>\n",
       "      <th>Score</th>\n",
       "      <th>Team_Score</th>\n",
       "      <th>Opponent_Score</th>\n",
       "    </tr>\n",
       "  </thead>\n",
       "  <tbody>\n",
       "    <tr>\n",
       "      <th>81</th>\n",
       "      <td>2016-04-12</td>\n",
       "      <td>Golden State</td>\n",
       "      <td>L109-94</td>\n",
       "      <td>26-56</td>\n",
       "      <td>K. Durant 29</td>\n",
       "      <td>L. Nance Jr. 11</td>\n",
       "      <td>S. Curry 8</td>\n",
       "      <td>0</td>\n",
       "      <td>0</td>\n",
       "      <td>[109, 94]</td>\n",
       "      <td>94</td>\n",
       "      <td>109</td>\n",
       "    </tr>\n",
       "    <tr>\n",
       "      <th>38</th>\n",
       "      <td>2016-04-11</td>\n",
       "      <td>New Orleans</td>\n",
       "      <td>W108-96</td>\n",
       "      <td>26-55</td>\n",
       "      <td>C. Diallo 19</td>\n",
       "      <td>C. Diallo 11</td>\n",
       "      <td>J. Holiday 7</td>\n",
       "      <td>1</td>\n",
       "      <td>1</td>\n",
       "      <td>[108, 96]</td>\n",
       "      <td>108</td>\n",
       "      <td>96</td>\n",
       "    </tr>\n",
       "    <tr>\n",
       "      <th>80</th>\n",
       "      <td>2016-04-09</td>\n",
       "      <td>Minnesota</td>\n",
       "      <td>W110-109</td>\n",
       "      <td>25-55</td>\n",
       "      <td>A. Wiggins 41</td>\n",
       "      <td>K. Towns 21</td>\n",
       "      <td>R. Rubio 11</td>\n",
       "      <td>1</td>\n",
       "      <td>1</td>\n",
       "      <td>[110, 109]</td>\n",
       "      <td>110</td>\n",
       "      <td>109</td>\n",
       "    </tr>\n",
       "    <tr>\n",
       "      <th>37</th>\n",
       "      <td>2016-04-07</td>\n",
       "      <td>Sacramento</td>\n",
       "      <td>W98-94</td>\n",
       "      <td>24-55</td>\n",
       "      <td>J. Randle 25</td>\n",
       "      <td>L. Nance Jr. 11</td>\n",
       "      <td>D. Collison 10</td>\n",
       "      <td>1</td>\n",
       "      <td>1</td>\n",
       "      <td>[98, 94]</td>\n",
       "      <td>98</td>\n",
       "      <td>94</td>\n",
       "    </tr>\n",
       "    <tr>\n",
       "      <th>79</th>\n",
       "      <td>2016-04-05</td>\n",
       "      <td>San Antonio</td>\n",
       "      <td>W102-95</td>\n",
       "      <td>23-55</td>\n",
       "      <td>T. Ennis 19</td>\n",
       "      <td>L. Nance Jr. 9</td>\n",
       "      <td>D. Lee 6</td>\n",
       "      <td>0</td>\n",
       "      <td>1</td>\n",
       "      <td>[102, 95]</td>\n",
       "      <td>102</td>\n",
       "      <td>95</td>\n",
       "    </tr>\n",
       "  </tbody>\n",
       "</table>\n",
       "</div>"
      ],
      "text/plain": [
       "          DATE      OPPONENT    RESULT    W-L      HI POINTS      HI REBOUNDS  \\\n",
       "81  2016-04-12  Golden State   L109-94  26-56   K. Durant 29  L. Nance Jr. 11   \n",
       "38  2016-04-11   New Orleans   W108-96  26-55   C. Diallo 19     C. Diallo 11   \n",
       "80  2016-04-09     Minnesota  W110-109  25-55  A. Wiggins 41      K. Towns 21   \n",
       "37  2016-04-07    Sacramento    W98-94  24-55   J. Randle 25  L. Nance Jr. 11   \n",
       "79  2016-04-05   San Antonio   W102-95  23-55    T. Ennis 19   L. Nance Jr. 9   \n",
       "\n",
       "        HI ASSISTS  HOME  W       Score  Team_Score  Opponent_Score  \n",
       "81      S. Curry 8     0  0   [109, 94]          94             109  \n",
       "38    J. Holiday 7     1  1   [108, 96]         108              96  \n",
       "80     R. Rubio 11     1  1  [110, 109]         110             109  \n",
       "37  D. Collison 10     1  1    [98, 94]          98              94  \n",
       "79        D. Lee 6     0  1   [102, 95]         102              95  "
      ]
     },
     "execution_count": 46,
     "metadata": {},
     "output_type": "execute_result"
    }
   ],
   "source": [
    "# If the team won, we want the maximum of this list\n",
    "# Otherwise, we want the minimum of this score\n",
    "# There are no ties in basketball\n",
    "def _sc_(w, sc):\n",
    "    sc = [int(s) for s in sc] # convert strings to integers\n",
    "    if w == 1:\n",
    "        return max(sc)\n",
    "    else: \n",
    "        return min(sc)\n",
    "df['Team_Score'] = df[['Score', 'W']].apply(lambda x: _sc_(x['W'], x['Score']), axis =1)\n",
    "df['Opponent_Score'] = df[['Score', 'W']].apply(lambda x: _sc_(-x['W']+1, x['Score']), axis =1)\n",
    "# Why did the opponent_score work using the same function?\n",
    "df.head()"
   ]
  },
  {
   "cell_type": "code",
   "execution_count": 47,
   "metadata": {
    "collapsed": true
   },
   "outputs": [],
   "source": [
    "df['point_diff'] = df.Team_Score-df.Opponent_Score"
   ]
  },
  {
   "cell_type": "code",
   "execution_count": 48,
   "metadata": {
    "collapsed": true
   },
   "outputs": [],
   "source": [
    "df['ym'] = df.DATE.apply(lambda x: datetime.date(x.year, x.month, 1))"
   ]
  },
  {
   "cell_type": "code",
   "execution_count": 49,
   "metadata": {},
   "outputs": [
    {
     "data": {
      "text/html": [
       "<div>\n",
       "<style>\n",
       "    .dataframe thead tr:only-child th {\n",
       "        text-align: right;\n",
       "    }\n",
       "\n",
       "    .dataframe thead th {\n",
       "        text-align: left;\n",
       "    }\n",
       "\n",
       "    .dataframe tbody tr th {\n",
       "        vertical-align: top;\n",
       "    }\n",
       "</style>\n",
       "<table border=\"1\" class=\"dataframe\">\n",
       "  <thead>\n",
       "    <tr style=\"text-align: right;\">\n",
       "      <th></th>\n",
       "      <th>DATE</th>\n",
       "      <th>OPPONENT</th>\n",
       "      <th>RESULT</th>\n",
       "      <th>W-L</th>\n",
       "      <th>HI POINTS</th>\n",
       "      <th>HI REBOUNDS</th>\n",
       "      <th>HI ASSISTS</th>\n",
       "      <th>HOME</th>\n",
       "      <th>W</th>\n",
       "      <th>Score</th>\n",
       "      <th>Team_Score</th>\n",
       "      <th>Opponent_Score</th>\n",
       "      <th>point_diff</th>\n",
       "      <th>ym</th>\n",
       "    </tr>\n",
       "  </thead>\n",
       "  <tbody>\n",
       "    <tr>\n",
       "      <th>81</th>\n",
       "      <td>2016-04-12</td>\n",
       "      <td>Golden State</td>\n",
       "      <td>L109-94</td>\n",
       "      <td>26-56</td>\n",
       "      <td>K. Durant 29</td>\n",
       "      <td>L. Nance Jr. 11</td>\n",
       "      <td>S. Curry 8</td>\n",
       "      <td>0</td>\n",
       "      <td>0</td>\n",
       "      <td>[109, 94]</td>\n",
       "      <td>94</td>\n",
       "      <td>109</td>\n",
       "      <td>-15</td>\n",
       "      <td>2016-04-01</td>\n",
       "    </tr>\n",
       "    <tr>\n",
       "      <th>38</th>\n",
       "      <td>2016-04-11</td>\n",
       "      <td>New Orleans</td>\n",
       "      <td>W108-96</td>\n",
       "      <td>26-55</td>\n",
       "      <td>C. Diallo 19</td>\n",
       "      <td>C. Diallo 11</td>\n",
       "      <td>J. Holiday 7</td>\n",
       "      <td>1</td>\n",
       "      <td>1</td>\n",
       "      <td>[108, 96]</td>\n",
       "      <td>108</td>\n",
       "      <td>96</td>\n",
       "      <td>12</td>\n",
       "      <td>2016-04-01</td>\n",
       "    </tr>\n",
       "    <tr>\n",
       "      <th>80</th>\n",
       "      <td>2016-04-09</td>\n",
       "      <td>Minnesota</td>\n",
       "      <td>W110-109</td>\n",
       "      <td>25-55</td>\n",
       "      <td>A. Wiggins 41</td>\n",
       "      <td>K. Towns 21</td>\n",
       "      <td>R. Rubio 11</td>\n",
       "      <td>1</td>\n",
       "      <td>1</td>\n",
       "      <td>[110, 109]</td>\n",
       "      <td>110</td>\n",
       "      <td>109</td>\n",
       "      <td>1</td>\n",
       "      <td>2016-04-01</td>\n",
       "    </tr>\n",
       "    <tr>\n",
       "      <th>37</th>\n",
       "      <td>2016-04-07</td>\n",
       "      <td>Sacramento</td>\n",
       "      <td>W98-94</td>\n",
       "      <td>24-55</td>\n",
       "      <td>J. Randle 25</td>\n",
       "      <td>L. Nance Jr. 11</td>\n",
       "      <td>D. Collison 10</td>\n",
       "      <td>1</td>\n",
       "      <td>1</td>\n",
       "      <td>[98, 94]</td>\n",
       "      <td>98</td>\n",
       "      <td>94</td>\n",
       "      <td>4</td>\n",
       "      <td>2016-04-01</td>\n",
       "    </tr>\n",
       "    <tr>\n",
       "      <th>79</th>\n",
       "      <td>2016-04-05</td>\n",
       "      <td>San Antonio</td>\n",
       "      <td>W102-95</td>\n",
       "      <td>23-55</td>\n",
       "      <td>T. Ennis 19</td>\n",
       "      <td>L. Nance Jr. 9</td>\n",
       "      <td>D. Lee 6</td>\n",
       "      <td>0</td>\n",
       "      <td>1</td>\n",
       "      <td>[102, 95]</td>\n",
       "      <td>102</td>\n",
       "      <td>95</td>\n",
       "      <td>7</td>\n",
       "      <td>2016-04-01</td>\n",
       "    </tr>\n",
       "  </tbody>\n",
       "</table>\n",
       "</div>"
      ],
      "text/plain": [
       "          DATE      OPPONENT    RESULT    W-L      HI POINTS      HI REBOUNDS  \\\n",
       "81  2016-04-12  Golden State   L109-94  26-56   K. Durant 29  L. Nance Jr. 11   \n",
       "38  2016-04-11   New Orleans   W108-96  26-55   C. Diallo 19     C. Diallo 11   \n",
       "80  2016-04-09     Minnesota  W110-109  25-55  A. Wiggins 41      K. Towns 21   \n",
       "37  2016-04-07    Sacramento    W98-94  24-55   J. Randle 25  L. Nance Jr. 11   \n",
       "79  2016-04-05   San Antonio   W102-95  23-55    T. Ennis 19   L. Nance Jr. 9   \n",
       "\n",
       "        HI ASSISTS  HOME  W       Score  Team_Score  Opponent_Score  \\\n",
       "81      S. Curry 8     0  0   [109, 94]          94             109   \n",
       "38    J. Holiday 7     1  1   [108, 96]         108              96   \n",
       "80     R. Rubio 11     1  1  [110, 109]         110             109   \n",
       "37  D. Collison 10     1  1    [98, 94]          98              94   \n",
       "79        D. Lee 6     0  1   [102, 95]         102              95   \n",
       "\n",
       "    point_diff          ym  \n",
       "81         -15  2016-04-01  \n",
       "38          12  2016-04-01  \n",
       "80           1  2016-04-01  \n",
       "37           4  2016-04-01  \n",
       "79           7  2016-04-01  "
      ]
     },
     "execution_count": 49,
     "metadata": {},
     "output_type": "execute_result"
    }
   ],
   "source": [
    "df.head()"
   ]
  },
  {
   "cell_type": "code",
   "execution_count": 51,
   "metadata": {},
   "outputs": [
    {
     "data": {
      "text/plain": [
       "<matplotlib.axes._subplots.AxesSubplot at 0xeb4ea90>"
      ]
     },
     "execution_count": 51,
     "metadata": {},
     "output_type": "execute_result"
    },
    {
     "data": {
      "image/png": "[encoded data removed]",
      "text/plain": [
       "<matplotlib.figure.Figure at 0xed601d0>"
      ]
     },
     "metadata": {},
     "output_type": "display_data"
    }
   ],
   "source": [
    "df.groupby('ym')['point_diff'].mean().plot()"
   ]
  },
  {
   "cell_type": "code",
   "execution_count": null,
   "metadata": {
    "collapsed": true
   },
   "outputs": [],
   "source": []
  }
 ],
 "metadata": {
  "kernelspec": {
   "display_name": "Python 2",
   "language": "python",
   "name": "python2"
  },
  "language_info": {
   "codemirror_mode": {
    "name": "ipython",
    "version": 2
   },
   "file_extension": ".py",
   "mimetype": "text/x-python",
   "name": "python",
   "nbconvert_exporter": "python",
   "pygments_lexer": "ipython2",
   "version": "2.7.14"
  }
 },
 "nbformat": 4,
 "nbformat_minor": 2
}
