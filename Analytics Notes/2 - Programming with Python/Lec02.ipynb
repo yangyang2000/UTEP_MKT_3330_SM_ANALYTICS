{
 "cells": [
  {
   "cell_type": "markdown",
   "metadata": {},
   "source": [
    "# Introduction to Programming"
   ]
  },
  {
   "cell_type": "markdown",
   "metadata": {},
   "source": [
    "# jupyter notebook"
   ]
  },
  {
   "cell_type": "markdown",
   "metadata": {},
   "source": [
    "This notebook will introduce you to programming in Python, and using the Jupyter Notebook environment.\n",
    "\n",
    "To begin, Python is what is known as an interpreted language. In other words, the Python program executes your code by interpreting it and translating it to machine language to be executed. This type of language is typically closer to human language, making it easier to learn, but is slower to execute than compiled languages like C and Fortran. Compiled languages takes the code, compiles it into executeble machine code, which can then be run much faster. There are some technologies to improve Python speed (Just in Time compiler), but we will forgo that for now. Speed really isn't an issue yet, we need to first learn how to write code.\n",
    "\n",
    "The power of Python comes from the large open source community of developers that have done the heavy lifting for many tasks by creating well documented easy to use libraries to help you write useful code quickly. There are particularly many libraries for data analytic functions, which is why Python is often the weapon of choice for data scientists, digital marketers, and data intensive businesses. "
   ]
  },
  {
   "cell_type": "markdown",
   "metadata": {},
   "source": [
    "# Download / Setup\n",
    "\n",
    "Please download Anaconda **with Python 2.7** from [https://www.anaconda.com/download/](https://www.anaconda.com/download/).\n",
    "\n",
    "Download the appropriate version for your computer.\n",
    "\n",
    "Once installed, open up command prompt in windows or terminal in OS X.\n",
    "\n",
    "Launch the jupyter notebook app with the command: `jupyter notebook`.\n",
    "\n",
    "<img src=\"./images/terminal.png\" alt=\"terminal\" style=\"width: 400px\"/>\n",
    "\n",
    "\n",
    "You should see a browser pop up launching the address: `loclahost:8888`\n",
    "\n",
    "<img src=\"./images/jupyter.png\" alt=\"jupyter\" style=\"width: 400px\"/>\n",
    "\n",
    "\n",
    "Basically, Jupyter opened a local server on the port 8888. This is how you will communicate with your Python."
   ]
  },
  {
   "cell_type": "markdown",
   "metadata": {},
   "source": [
    "# General features of the environment\n",
    "\n",
    "* Think of Jupyter notebooks as a notebook... duh. It is a place where you can play with code and document what you are doing in order to create a cohesive document with code that does stuff.\n",
    "* Cells. Each bit of code is confied to a cell. Cells can be independently executed. Once a bit of code is executed, a number indicating the order of execution will appear on the left. Cells are selected using the dropdown menu at the top of the notebook. <img src=\"./images/celltypes.png\" alt=\"jupyter\" style=\"width: 700px\"/>\n",
    "* To execute a cell, you can use the play button, or shift+enter (automatically goes to next cell or insert one if already last cell), or control+enter (executes without going to next cell).\n",
    "* There are basically 2 types of cells that you will be using. Code cells are the default, and markdown cells for notation. **Double click on this cell to see how markdown works**\n",
    "* We will get to code cells in just a bit. For now, a quick markdown tutorial.\n",
    "\n",
    "## Markdown tutorial (`#` indicates headers, the more you put, the smaller the header)\n",
    "Markdown is a type of markup language that allows you to write a document embedding images, code snippets, math equations, etc. It is super useful!\n",
    "\n",
    "1. Here's a list\n",
    "2. Part 2\n",
    "1. Look, it automatically keeps numbering even though I typed the wrong number.\n",
    "1. Oops I did it again.\n",
    "\n",
    "In the lines above the tutorial, I've used markdowns to do a bulleted list, and used HTML code to embed an image.\n",
    "\n",
    "**Everyone loves math!** (this is how you bold)\n",
    "\n",
    "For in line math, you can do something like this $y=3x^2 \\implies x = \\pm\\sqrt{\\frac{y}{3}}$. Note that math is typed using a flavor of LaTex (via Mathjax). This is a common typesetting language used by scientists to write professional looking equations.\n",
    "\n",
    "If you want to write a centered math block, you do this:\n",
    "\n",
    "$$\n",
    "y=3x^2 \\implies x = \\pm\\sqrt{\\frac{y}{3}} \\\\\n",
    "\\text{you can break lines and do more math! } \\sum_{i=1}^N{i}=(N+1)\\times\\frac{N}{/2}\n",
    "$$\n",
    "\n",
    "If you need to figure out how to do someting in LaTex, your best bet is just to google whatever it is you need to do + \"latex\". Just be careful what word you put before LaTeX.\n",
    "\n",
    "If you want to embed code, you just do this: `# this is a snippet of code`.\n",
    "\n",
    "Or, if you want Jupyter to auto highlight syntax for Python:\n",
    "\n",
    "```Python\n",
    "print \"hello world!\" # This code prints \"hello world\"\n",
    "```\n",
    "\n",
    "or Java if you're so inclined...\n",
    "\n",
    "```Java\n",
    "public class HelloWorld {\n",
    "   public static void main(String[] args) {\n",
    "      // Prints \"Hello, World\" in the terminal window.\n",
    "      System.out.println(\"Hello, World\");\n",
    "   }\n",
    "}```\n",
    "\n",
    "For more information about working with Mathjax please see [this cheatsheet](https://github.com/adam-p/markdown-here/wiki/Markdown-Cheatsheet#videos) $\\leftarrow$ this is how you do a hyperlink."
   ]
  },
  {
   "cell_type": "markdown",
   "metadata": {},
   "source": [
    "# Let's get programming\n",
    "\n",
    "## Hello World...right of passage"
   ]
  },
  {
   "cell_type": "code",
   "execution_count": 86,
   "metadata": {},
   "outputs": [
    {
     "name": "stdout",
     "output_type": "stream",
     "text": [
      "Hello world!\n"
     ]
    }
   ],
   "source": [
    "print('Hello world!') # print is a default python function that \"prints\" | \"hello world\" is just what print outputs..."
   ]
  },
  {
   "cell_type": "markdown",
   "metadata": {},
   "source": [
    "### Example\n",
    "Okay, now that \"Hello World\" is out of the way, let's first begin with a simple example. Python can do some basic arithmetic."
   ]
  },
  {
   "cell_type": "code",
   "execution_count": 87,
   "metadata": {},
   "outputs": [
    {
     "data": {
      "text/plain": [
       "5"
      ]
     },
     "execution_count": 87,
     "metadata": {},
     "output_type": "execute_result"
    }
   ],
   "source": [
    "# comments follow \"#\" sign\n",
    "3+2 # we can do addition! "
   ]
  },
  {
   "cell_type": "code",
   "execution_count": 91,
   "metadata": {},
   "outputs": [
    {
     "data": {
      "text/plain": [
       "2"
      ]
     },
     "execution_count": 91,
     "metadata": {},
     "output_type": "execute_result"
    }
   ],
   "source": [
    "3-2 # we can do subtraction!"
   ]
  },
  {
   "cell_type": "code",
   "execution_count": 89,
   "metadata": {},
   "outputs": [
    {
     "data": {
      "text/plain": [
       "6"
      ]
     },
     "execution_count": 89,
     "metadata": {},
     "output_type": "execute_result"
    }
   ],
   "source": [
    "3*2 # we can do multiplication!"
   ]
  },
  {
   "cell_type": "code",
   "execution_count": 90,
   "metadata": {},
   "outputs": [
    {
     "data": {
      "text/plain": [
       "1"
      ]
     },
     "execution_count": 90,
     "metadata": {},
     "output_type": "execute_result"
    }
   ],
   "source": [
    "3/2 # we can do division... kind of (it works in python 3 as expected)"
   ]
  },
  {
   "cell_type": "markdown",
   "metadata": {},
   "source": [
    "#### What happened here? \n",
    "This is a good time to introduce the concept of data types. 3 and 2 are both integers, so the default result of the division of 2 integers is to return another integer. In this case, it is the closest integer lower than the actual result. We can complete the operation as expected by changing one of the data types to \"float.\" A float is a decimal. This means the computer memory will keep track of as many digits as necessary up to a certain number (the machine limit)."
   ]
  },
  {
   "cell_type": "code",
   "execution_count": 5,
   "metadata": {},
   "outputs": [
    {
     "data": {
      "text/plain": [
       "1.5"
      ]
     },
     "execution_count": 5,
     "metadata": {},
     "output_type": "execute_result"
    }
   ],
   "source": [
    "3./2 # Look, now it worked! We can do division as expected because of the \".\" after the 3"
   ]
  },
  {
   "cell_type": "markdown",
   "metadata": {},
   "source": [
    "Alternatively, we can import the division from Python 3 that infers the proper data type."
   ]
  },
  {
   "cell_type": "code",
   "execution_count": 6,
   "metadata": {},
   "outputs": [
    {
     "data": {
      "text/plain": [
       "1.5"
      ]
     },
     "execution_count": 6,
     "metadata": {},
     "output_type": "execute_result"
    }
   ],
   "source": [
    "from __future__ import division # this means, from the __future__ module, import the function division\n",
    "3/2"
   ]
  },
  {
   "cell_type": "code",
   "execution_count": 7,
   "metadata": {
    "scrolled": true
   },
   "outputs": [
    {
     "data": {
      "text/plain": [
       "0.8333333333333334"
      ]
     },
     "execution_count": 7,
     "metadata": {},
     "output_type": "execute_result"
    }
   ],
   "source": [
    "5/6 # now all of our division works as expected, as long as the above cell has been executed"
   ]
  },
  {
   "cell_type": "markdown",
   "metadata": {},
   "source": [
    "### Example 2 - variables"
   ]
  },
  {
   "cell_type": "markdown",
   "metadata": {},
   "source": [
    "The concept of a variable is essential to programming. A variable is anything that can take on some value. Valid variable names begin with a letter in Python (or an underscore, \"_\"). Variables are case sensitive."
   ]
  },
  {
   "cell_type": "code",
   "execution_count": 92,
   "metadata": {},
   "outputs": [
    {
     "name": "stdout",
     "output_type": "stream",
     "text": [
      "11\n"
     ]
    }
   ],
   "source": [
    "x = 5 # assign x as 5, note in programming, = typically means set variable as target value\n",
    "y = 6\n",
    "z = x+y # assign a variable as a sum of 2 other variables\n",
    "print z # print is a reserved keyword function in Python that outputs the subsequent code"
   ]
  },
  {
   "cell_type": "code",
   "execution_count": 93,
   "metadata": {},
   "outputs": [
    {
     "ename": "NameError",
     "evalue": "name 'q' is not defined",
     "output_type": "error",
     "traceback": [
      "\u001b[0;31m---------------------------------------------------------------------------\u001b[0m",
      "\u001b[0;31mNameError\u001b[0m                                 Traceback (most recent call last)",
      "\u001b[0;32m<ipython-input-93-42d626a8c231>\u001b[0m in \u001b[0;36m<module>\u001b[0;34m()\u001b[0m\n\u001b[0;32m----> 1\u001b[0;31m \u001b[0mx\u001b[0m \u001b[0;34m+\u001b[0m \u001b[0mq\u001b[0m \u001b[0;31m# this won't work because we haven't assigned anything to q\u001b[0m\u001b[0;34m\u001b[0m\u001b[0m\n\u001b[0m",
      "\u001b[0;31mNameError\u001b[0m: name 'q' is not defined"
     ]
    }
   ],
   "source": [
    "x + q # this won't work because we haven't assigned anything to q"
   ]
  },
  {
   "cell_type": "code",
   "execution_count": 95,
   "metadata": {
    "collapsed": true
   },
   "outputs": [],
   "source": [
    "q = z\n",
    "answer = q+z"
   ]
  },
  {
   "cell_type": "code",
   "execution_count": 96,
   "metadata": {},
   "outputs": [
    {
     "data": {
      "text/plain": [
       "22"
      ]
     },
     "execution_count": 96,
     "metadata": {},
     "output_type": "execute_result"
    }
   ],
   "source": [
    "answer"
   ]
  },
  {
   "cell_type": "markdown",
   "metadata": {},
   "source": [
    "#### Variables don't have to be just numbers, they can also be words, or in programming lingo, \"strings\""
   ]
  },
  {
   "cell_type": "code",
   "execution_count": 98,
   "metadata": {},
   "outputs": [
    {
     "name": "stdout",
     "output_type": "stream",
     "text": [
      "this is a string!!!! l33t skill2\n"
     ]
    }
   ],
   "source": [
    "q = 'this is a string!!!! l33t skill2' #Note that strings are inside quotes. They can be single or double.\n",
    "print q"
   ]
  },
  {
   "cell_type": "code",
   "execution_count": 99,
   "metadata": {},
   "outputs": [
    {
     "ename": "TypeError",
     "evalue": "cannot concatenate 'str' and 'int' objects",
     "output_type": "error",
     "traceback": [
      "\u001b[0;31m---------------------------------------------------------------------------\u001b[0m",
      "\u001b[0;31mTypeError\u001b[0m                                 Traceback (most recent call last)",
      "\u001b[0;32m<ipython-input-99-08d2db7f6c15>\u001b[0m in \u001b[0;36m<module>\u001b[0;34m()\u001b[0m\n\u001b[0;32m----> 1\u001b[0;31m \u001b[0mq\u001b[0m \u001b[0;34m+\u001b[0m \u001b[0mz\u001b[0m \u001b[0;31m# you can't add strings with numbers... (remember q is defined as a string and z is defined as the sum of x and y which are integers)\u001b[0m\u001b[0;34m\u001b[0m\u001b[0m\n\u001b[0m",
      "\u001b[0;31mTypeError\u001b[0m: cannot concatenate 'str' and 'int' objects"
     ]
    }
   ],
   "source": [
    "q + z # you can't add strings with numbers... (remember q is defined as a string and z is defined as the sum of x and y which are integers)"
   ]
  },
  {
   "cell_type": "code",
   "execution_count": 100,
   "metadata": {},
   "outputs": [
    {
     "data": {
      "text/plain": [
       "'this is a string!!!! l33t skill2 oh this works!'"
      ]
     },
     "execution_count": 100,
     "metadata": {},
     "output_type": "execute_result"
    }
   ],
   "source": [
    "q + ' oh this works!' # You CAN \"add\" strings with strings, this is known as concatenation"
   ]
  },
  {
   "cell_type": "code",
   "execution_count": 101,
   "metadata": {},
   "outputs": [
    {
     "data": {
      "text/plain": [
       "'this is a string!!!! l33t skill211'"
      ]
     },
     "execution_count": 101,
     "metadata": {},
     "output_type": "execute_result"
    }
   ],
   "source": [
    "q + str(z)"
   ]
  },
  {
   "cell_type": "markdown",
   "metadata": {},
   "source": [
    "#### Variables can be any data type. Here are some useful native Python data types: lists, sets, dictionaries"
   ]
  },
  {
   "cell_type": "markdown",
   "metadata": {},
   "source": [
    "A list is a Python data type that is an ordered collection of objects."
   ]
  },
  {
   "cell_type": "code",
   "execution_count": 102,
   "metadata": {},
   "outputs": [
    {
     "name": "stdout",
     "output_type": "stream",
     "text": [
      "[2, 5, 6, 8, 100, -3.0, -2.1, -10]\n"
     ]
    }
   ],
   "source": [
    "list1 = [2, 5, 6, 8, 100, -3.0, -2.1, -10]\n",
    "print list1"
   ]
  },
  {
   "cell_type": "code",
   "execution_count": 103,
   "metadata": {},
   "outputs": [
    {
     "name": "stdout",
     "output_type": "stream",
     "text": [
      "8\n"
     ]
    }
   ],
   "source": [
    "# Lists have an attribute \"length\"\n",
    "print len(list1) # len is a default function in Python that computes how long an object is and returns an integer"
   ]
  },
  {
   "cell_type": "code",
   "execution_count": 108,
   "metadata": {},
   "outputs": [
    {
     "data": {
      "text/plain": [
       "2"
      ]
     },
     "execution_count": 108,
     "metadata": {},
     "output_type": "execute_result"
    }
   ],
   "source": [
    "# You can access a specific entry in a list, the entries start at 0.\n",
    "list1[0]"
   ]
  },
  {
   "cell_type": "code",
   "execution_count": 109,
   "metadata": {},
   "outputs": [
    {
     "data": {
      "text/plain": [
       "-10"
      ]
     },
     "execution_count": 109,
     "metadata": {},
     "output_type": "execute_result"
    }
   ],
   "source": [
    "list1[-1] # you can also use negative indices, where -1 is the last entry"
   ]
  },
  {
   "cell_type": "code",
   "execution_count": 110,
   "metadata": {},
   "outputs": [
    {
     "data": {
      "text/plain": [
       "[2,\n",
       " 5,\n",
       " 6,\n",
       " 8,\n",
       " 100,\n",
       " -3.0,\n",
       " -2.1,\n",
       " -10,\n",
       " 2,\n",
       " 5,\n",
       " 6,\n",
       " 8,\n",
       " 100,\n",
       " -3.0,\n",
       " -2.1,\n",
       " -10,\n",
       " 2,\n",
       " 5,\n",
       " 6,\n",
       " 8,\n",
       " 100,\n",
       " -3.0,\n",
       " -2.1,\n",
       " -10]"
      ]
     },
     "execution_count": 110,
     "metadata": {},
     "output_type": "execute_result"
    }
   ],
   "source": [
    "list1*3 # you can \"multiply\" lists, this appends (repeats) the same list to itself 3 times (or whatever you multiply by)."
   ]
  },
  {
   "cell_type": "code",
   "execution_count": 111,
   "metadata": {},
   "outputs": [
    {
     "data": {
      "text/plain": [
       "[2, 5, 6, 8, 100, -3.0, -2.1, -10, 2, 5, 6, 8, 100, -3.0, -2.1, -10]"
      ]
     },
     "execution_count": 111,
     "metadata": {},
     "output_type": "execute_result"
    }
   ],
   "source": [
    "list1+list1 # you can \"add\" lists"
   ]
  },
  {
   "cell_type": "code",
   "execution_count": 120,
   "metadata": {},
   "outputs": [
    {
     "name": "stdout",
     "output_type": "stream",
     "text": [
      "[3, 2, 'hello', [2, 5, 6, 8, 100, -3.0, -2.1, -10], [5, 6], -1]\n"
     ]
    }
   ],
   "source": [
    "# Lists can also include mixed data types, including other lists... what you put in a list is arbitrary\n",
    "list2 = [3, 2, 'hello', list1, [x, y], -1]\n",
    "print list2"
   ]
  },
  {
   "cell_type": "code",
   "execution_count": null,
   "metadata": {
    "collapsed": true
   },
   "outputs": [],
   "source": []
  },
  {
   "cell_type": "code",
   "execution_count": 124,
   "metadata": {},
   "outputs": [
    {
     "data": {
      "text/plain": [
       "6"
      ]
     },
     "execution_count": 124,
     "metadata": {},
     "output_type": "execute_result"
    }
   ],
   "source": [
    "list2[4][1]"
   ]
  },
  {
   "cell_type": "code",
   "execution_count": 128,
   "metadata": {},
   "outputs": [
    {
     "name": "stdout",
     "output_type": "stream",
     "text": [
      "[2, 5, 6, 8, 100, -3.0, -2.1, -10, [3, 2, 'hello', [...], [5, 6], -1], [3, 2, 'hello', [...], [5, 6], -1]]\n"
     ]
    }
   ],
   "source": [
    "# You can append lists (append is a functional attribute of a list), note that append replaces the list being appended with the new augmented list\n",
    "list1.append(list2)\n",
    "print list1 # the outtput is too big, so it omits some stuff as denoted by '...'"
   ]
  },
  {
   "cell_type": "code",
   "execution_count": 131,
   "metadata": {},
   "outputs": [
    {
     "data": {
      "text/plain": [
       "5"
      ]
     },
     "execution_count": 131,
     "metadata": {},
     "output_type": "execute_result"
    }
   ],
   "source": [
    "list1[-1][4][0]"
   ]
  },
  {
   "cell_type": "markdown",
   "metadata": {},
   "source": [
    "A set is a Python object that is similar to a list in that it is a collection of entries of objects. However, sets are unordered."
   ]
  },
  {
   "cell_type": "code",
   "execution_count": 132,
   "metadata": {},
   "outputs": [
    {
     "data": {
      "text/plain": [
       "{1, 2}"
      ]
     },
     "execution_count": 132,
     "metadata": {},
     "output_type": "execute_result"
    }
   ],
   "source": [
    "{1, 1, 1, 2}"
   ]
  },
  {
   "cell_type": "code",
   "execution_count": 134,
   "metadata": {
    "collapsed": true
   },
   "outputs": [],
   "source": [
    "set0 = set([1, 1, 1, 2])"
   ]
  },
  {
   "cell_type": "code",
   "execution_count": 135,
   "metadata": {},
   "outputs": [
    {
     "data": {
      "text/plain": [
       "{1, 2}"
      ]
     },
     "execution_count": 135,
     "metadata": {},
     "output_type": "execute_result"
    }
   ],
   "source": [
    "set0"
   ]
  },
  {
   "cell_type": "code",
   "execution_count": 136,
   "metadata": {},
   "outputs": [
    {
     "name": "stdout",
     "output_type": "stream",
     "text": [
      "set([2, 3, 4, 5, 9, -1])\n"
     ]
    }
   ],
   "source": [
    "set1 = {3,4,9,-1,5, 2} # sets are denoted by curly brackets with entries inside\n",
    "print set1"
   ]
  },
  {
   "cell_type": "code",
   "execution_count": 137,
   "metadata": {},
   "outputs": [
    {
     "data": {
      "text/plain": [
       "6"
      ]
     },
     "execution_count": 137,
     "metadata": {},
     "output_type": "execute_result"
    }
   ],
   "source": [
    "len(set1) #sets also have lengths"
   ]
  },
  {
   "cell_type": "code",
   "execution_count": 138,
   "metadata": {},
   "outputs": [
    {
     "ename": "TypeError",
     "evalue": "unsupported operand type(s) for *: 'set' and 'int'",
     "output_type": "error",
     "traceback": [
      "\u001b[0;31m---------------------------------------------------------------------------\u001b[0m",
      "\u001b[0;31mTypeError\u001b[0m                                 Traceback (most recent call last)",
      "\u001b[0;32m<ipython-input-138-6a2c4d2a9055>\u001b[0m in \u001b[0;36m<module>\u001b[0;34m()\u001b[0m\n\u001b[0;32m----> 1\u001b[0;31m \u001b[0mset1\u001b[0m\u001b[0;34m*\u001b[0m\u001b[0;36m2\u001b[0m \u001b[0;31m# you can't multiiply sets\u001b[0m\u001b[0;34m\u001b[0m\u001b[0m\n\u001b[0m",
      "\u001b[0;31mTypeError\u001b[0m: unsupported operand type(s) for *: 'set' and 'int'"
     ]
    }
   ],
   "source": [
    "set1*2 # you can't multiiply sets"
   ]
  },
  {
   "cell_type": "code",
   "execution_count": 139,
   "metadata": {},
   "outputs": [
    {
     "ename": "TypeError",
     "evalue": "'set' object does not support indexing",
     "output_type": "error",
     "traceback": [
      "\u001b[0;31m---------------------------------------------------------------------------\u001b[0m",
      "\u001b[0;31mTypeError\u001b[0m                                 Traceback (most recent call last)",
      "\u001b[0;32m<ipython-input-139-89e074f6ee46>\u001b[0m in \u001b[0;36m<module>\u001b[0;34m()\u001b[0m\n\u001b[1;32m      1\u001b[0m \u001b[0;31m# since sets are unordered, you can't access specific items\u001b[0m\u001b[0;34m\u001b[0m\u001b[0;34m\u001b[0m\u001b[0m\n\u001b[0;32m----> 2\u001b[0;31m \u001b[0mset1\u001b[0m\u001b[0;34m[\u001b[0m\u001b[0;36m0\u001b[0m\u001b[0;34m]\u001b[0m\u001b[0;34m\u001b[0m\u001b[0m\n\u001b[0m",
      "\u001b[0;31mTypeError\u001b[0m: 'set' object does not support indexing"
     ]
    }
   ],
   "source": [
    "# since sets are unordered, you can't access specific items\n",
    "set1[0]"
   ]
  },
  {
   "cell_type": "code",
   "execution_count": 140,
   "metadata": {},
   "outputs": [
    {
     "ename": "TypeError",
     "evalue": "unsupported operand type(s) for +: 'set' and 'set'",
     "output_type": "error",
     "traceback": [
      "\u001b[0;31m---------------------------------------------------------------------------\u001b[0m",
      "\u001b[0;31mTypeError\u001b[0m                                 Traceback (most recent call last)",
      "\u001b[0;32m<ipython-input-140-f5b94ec38ee7>\u001b[0m in \u001b[0;36m<module>\u001b[0;34m()\u001b[0m\n\u001b[1;32m      1\u001b[0m \u001b[0;31m# you can't add sets\u001b[0m\u001b[0;34m\u001b[0m\u001b[0;34m\u001b[0m\u001b[0m\n\u001b[0;32m----> 2\u001b[0;31m \u001b[0mset1\u001b[0m\u001b[0;34m+\u001b[0m\u001b[0mset1\u001b[0m\u001b[0;34m\u001b[0m\u001b[0m\n\u001b[0m",
      "\u001b[0;31mTypeError\u001b[0m: unsupported operand type(s) for +: 'set' and 'set'"
     ]
    }
   ],
   "source": [
    "# you can't add sets\n",
    "set1+set1"
   ]
  },
  {
   "cell_type": "code",
   "execution_count": 141,
   "metadata": {},
   "outputs": [
    {
     "data": {
      "text/plain": [
       "{-1, 2, 3, 4, 5, 9}"
      ]
     },
     "execution_count": 141,
     "metadata": {},
     "output_type": "execute_result"
    }
   ],
   "source": [
    "set1"
   ]
  },
  {
   "cell_type": "code",
   "execution_count": 142,
   "metadata": {},
   "outputs": [
    {
     "data": {
      "text/plain": [
       "{2, 4, 9}"
      ]
     },
     "execution_count": 142,
     "metadata": {},
     "output_type": "execute_result"
    }
   ],
   "source": [
    "# but you can subtract sets!\n",
    "set2 = {'a', 3, x, -1}\n",
    "set1 - set2 # finds only items in set1 but not set 2, note that 5 is in set1 and x, which = 5, is in set 2, is also omitted in this result"
   ]
  },
  {
   "cell_type": "code",
   "execution_count": 143,
   "metadata": {},
   "outputs": [
    {
     "name": "stdout",
     "output_type": "stream",
     "text": [
      "set([200, 1])\n"
     ]
    }
   ],
   "source": [
    "# sets only has unique objects\n",
    "set3 = {1,200,1,1,1}\n",
    "print set3"
   ]
  },
  {
   "cell_type": "code",
   "execution_count": 144,
   "metadata": {},
   "outputs": [
    {
     "name": "stdout",
     "output_type": "stream",
     "text": [
      "set(['a', 1, 2, 3, 4, 5, 200, 9, -1])\n"
     ]
    }
   ],
   "source": [
    "# You can get unions of sets, a union is all unique items in both sets.\n",
    "set4 = set1.union(set2).union(set3) # note you can chain these functions since the result of set1.union(set2) is a set, which also has the union property\n",
    "# unlike lists append function, you have to specify what to call the resulting union of sets\n",
    "print set4"
   ]
  },
  {
   "cell_type": "markdown",
   "metadata": {},
   "source": [
    "Why do we use sets? It is very useful for checking membership:"
   ]
  },
  {
   "cell_type": "code",
   "execution_count": 145,
   "metadata": {},
   "outputs": [
    {
     "name": "stdout",
     "output_type": "stream",
     "text": [
      "10000000 loops, best of 3: 45.9 ns per loop\n"
     ]
    }
   ],
   "source": [
    "# % is an ipythong magic indicator, they're \"magic\" commands that run only in iPython, not normal python % timeit times the code\n",
    "%timeit (-1 in set1)"
   ]
  },
  {
   "cell_type": "code",
   "execution_count": 146,
   "metadata": {},
   "outputs": [
    {
     "name": "stdout",
     "output_type": "stream",
     "text": [
      "[2, 3, 4, 5, 9, -1]\n"
     ]
    }
   ],
   "source": [
    "list_1 = list(set1) # we can convert the set to a list\n",
    "print list_1"
   ]
  },
  {
   "cell_type": "code",
   "execution_count": 147,
   "metadata": {},
   "outputs": [
    {
     "name": "stdout",
     "output_type": "stream",
     "text": [
      "The slowest run took 10.53 times longer than the fastest. This could mean that an intermediate result is being cached.\n",
      "10000000 loops, best of 3: 113 ns per loop\n"
     ]
    }
   ],
   "source": [
    "# it's a little bit slower because the list is small, this becomes a big problem when the list is huge.\n",
    "%timeit (-1 in list_1)"
   ]
  },
  {
   "cell_type": "markdown",
   "metadata": {},
   "source": [
    "Lastly, we will look at dictionaries. Dictionaries are objects that map keys to values."
   ]
  },
  {
   "cell_type": "code",
   "execution_count": 151,
   "metadata": {},
   "outputs": [
    {
     "name": "stdout",
     "output_type": "stream",
     "text": [
      "{'a': 4, 'c': set([2, 3, 4, 5, 9, -1]), 'b': 7}\n"
     ]
    }
   ],
   "source": [
    "dict1 = {'a':4, 'b':7, 'c':set1} # dictionaries are defined by curly brackets with pair sof keys:values separated by commas\n",
    "print dict1"
   ]
  },
  {
   "cell_type": "code",
   "execution_count": 152,
   "metadata": {},
   "outputs": [
    {
     "data": {
      "text/plain": [
       "{-1, 2, 3, 4, 5, 9}"
      ]
     },
     "execution_count": 152,
     "metadata": {},
     "output_type": "execute_result"
    }
   ],
   "source": [
    "dict1['c'] # we can look up the values associated with a key in a dictionary by usiing the indexing notation"
   ]
  },
  {
   "cell_type": "code",
   "execution_count": 153,
   "metadata": {},
   "outputs": [
    {
     "data": {
      "text/plain": [
       "7"
      ]
     },
     "execution_count": 153,
     "metadata": {},
     "output_type": "execute_result"
    }
   ],
   "source": [
    "dict1['b']"
   ]
  },
  {
   "cell_type": "code",
   "execution_count": 154,
   "metadata": {},
   "outputs": [
    {
     "data": {
      "text/plain": [
       "['a', 'c', 'b']"
      ]
     },
     "execution_count": 154,
     "metadata": {},
     "output_type": "execute_result"
    }
   ],
   "source": [
    "# we can extract both the keys and values from the dictionary\n",
    "dict1.keys() #.keys is a function"
   ]
  },
  {
   "cell_type": "code",
   "execution_count": 155,
   "metadata": {},
   "outputs": [
    {
     "data": {
      "text/plain": [
       "[4, {-1, 2, 3, 4, 5, 9}, 7]"
      ]
     },
     "execution_count": 155,
     "metadata": {},
     "output_type": "execute_result"
    }
   ],
   "source": [
    "dict1.values() #.values is a function"
   ]
  },
  {
   "cell_type": "code",
   "execution_count": 156,
   "metadata": {},
   "outputs": [
    {
     "data": {
      "text/plain": [
       "[('a', 4), ('c', {-1, 2, 3, 4, 5, 9}), ('b', 7)]"
      ]
     },
     "execution_count": 156,
     "metadata": {},
     "output_type": "execute_result"
    }
   ],
   "source": [
    "dict1.items() #we can get a list of tuples, another data type similar to lists, where each tuple is (key, value)"
   ]
  },
  {
   "cell_type": "markdown",
   "metadata": {},
   "source": [
    "# Programming principles: Loops, Booleans, and Functions\n",
    "\n",
    "A common thing that makes programming powerful is the ability to feed your system a sequence of generic instructions that are flexible enough to be computed over new data. To do this, we need to look at 3 things:\n",
    "\n",
    "1. Loops - repeating the same tasks for a specified duration or until a condition is met.\n",
    "1. Booleans - evaluating truth values, allows us to compute different things depending on some conditions\n",
    "1. Functions - a set of instructions that takes input data and maps on to some output.\n",
    "\n"
   ]
  },
  {
   "cell_type": "markdown",
   "metadata": {},
   "source": [
    "## Basic loops\n",
    "\n",
    "There are basically 2 kinds of loops. The first is to loop for a prespecified number of iterations, this is a \"for loop.\" The second is to loop until some conditions are met, a \"while loop.\"\n",
    "\n",
    "Let's begin with an example: add the numbers 1... 1000\n",
    "\n",
    "First we write a for loop."
   ]
  },
  {
   "cell_type": "code",
   "execution_count": 4,
   "metadata": {},
   "outputs": [
    {
     "data": {
      "text/plain": [
       "500500"
      ]
     },
     "execution_count": 4,
     "metadata": {},
     "output_type": "execute_result"
    }
   ],
   "source": [
    "s = 0 # Start with some s = 0\n",
    "for i in range(1, 1001): # this line tells Python, for each item, i, in the iterable range 1 to 1001,\n",
    "    #note this range function constructs a list from 1 to 1000 inclusive. Note the colon to signify an indented block.\n",
    "    s = s+i # add i to the previous total. Note that the instructions inside the loop are indented one level.\n",
    "s # this just displays the final value, this is not indented so it is outside of the loop."
   ]
  },
  {
   "cell_type": "markdown",
   "metadata": {},
   "source": [
    "Next we write a while loop."
   ]
  },
  {
   "cell_type": "code",
   "execution_count": 6,
   "metadata": {},
   "outputs": [
    {
     "data": {
      "text/plain": [
       "500500"
      ]
     },
     "execution_count": 6,
     "metadata": {},
     "output_type": "execute_result"
    }
   ],
   "source": [
    "i = 1 # initiate an i\n",
    "s = 0 # initiate an s\n",
    "while i<1001: # note this condition for the while loop\n",
    "    s = s+i # add to previous sum\n",
    "    i += 1 # This specifies the next i to add to s. The += 1 notation is the same as i = i+1\n",
    "s"
   ]
  },
  {
   "cell_type": "markdown",
   "metadata": {},
   "source": [
    "Every while loop can be written as a for loop and vice versa.\n",
    "\n",
    "Of course there's a simpler way to do this, we can also use the sum function on lists to do the same thing."
   ]
  },
  {
   "cell_type": "code",
   "execution_count": 9,
   "metadata": {},
   "outputs": [
    {
     "data": {
      "text/plain": [
       "500500"
      ]
     },
     "execution_count": 9,
     "metadata": {},
     "output_type": "execute_result"
    }
   ],
   "source": [
    "s = sum(range(1,1001)) # sums up the entire list of numbers to add up\n",
    "s"
   ]
  },
  {
   "cell_type": "markdown",
   "metadata": {},
   "source": [
    "## Basic Booleans\n",
    "\n",
    "Many times, we need to evaluate logical statements, these are statements that result in a truth value: True or False.\n",
    "\n",
    "Herea are some examples"
   ]
  },
  {
   "cell_type": "code",
   "execution_count": 157,
   "metadata": {},
   "outputs": [
    {
     "data": {
      "text/plain": [
       "True"
      ]
     },
     "execution_count": 157,
     "metadata": {},
     "output_type": "execute_result"
    }
   ],
   "source": [
    "3+2==5 # Note the double equal sign to evaluate equality"
   ]
  },
  {
   "cell_type": "code",
   "execution_count": 158,
   "metadata": {},
   "outputs": [
    {
     "data": {
      "text/plain": [
       "False"
      ]
     },
     "execution_count": 158,
     "metadata": {},
     "output_type": "execute_result"
    }
   ],
   "source": [
    "3+2<5"
   ]
  },
  {
   "cell_type": "code",
   "execution_count": 159,
   "metadata": {},
   "outputs": [
    {
     "data": {
      "text/plain": [
       "False"
      ]
     },
     "execution_count": 159,
     "metadata": {},
     "output_type": "execute_result"
    }
   ],
   "source": [
    "3+2>5"
   ]
  },
  {
   "cell_type": "code",
   "execution_count": 160,
   "metadata": {},
   "outputs": [
    {
     "data": {
      "text/plain": [
       "True"
      ]
     },
     "execution_count": 160,
     "metadata": {},
     "output_type": "execute_result"
    }
   ],
   "source": [
    "3+2<=5 # Note <= is less than or equal to"
   ]
  },
  {
   "cell_type": "code",
   "execution_count": 161,
   "metadata": {},
   "outputs": [
    {
     "data": {
      "text/plain": [
       "False"
      ]
     },
     "execution_count": 161,
     "metadata": {},
     "output_type": "execute_result"
    }
   ],
   "source": [
    "(3+2==5)&(3+2>5) # you can combine booleans, this is an \"and\" condition."
   ]
  },
  {
   "cell_type": "code",
   "execution_count": 162,
   "metadata": {},
   "outputs": [
    {
     "data": {
      "text/plain": [
       "True"
      ]
     },
     "execution_count": 162,
     "metadata": {},
     "output_type": "execute_result"
    }
   ],
   "source": [
    "(3+2==5)|(3+2>5) # This is an or condition"
   ]
  },
  {
   "cell_type": "markdown",
   "metadata": {},
   "source": [
    "We can insert booleans into loops"
   ]
  },
  {
   "cell_type": "code",
   "execution_count": 163,
   "metadata": {},
   "outputs": [
    {
     "data": {
      "text/plain": [
       "250500"
      ]
     },
     "execution_count": 163,
     "metadata": {},
     "output_type": "execute_result"
    }
   ],
   "source": [
    "s = 0\n",
    "for i in range(1,1001):\n",
    "    if i % 2 == 0: # This evaluates the remainder (or modulo) function\n",
    "        s = s+i # note a second indent, since this bit of code is evaluated when the if condition is satisfied\n",
    "s # this is sum of all the even numbers from 1 to 1000"
   ]
  },
  {
   "cell_type": "code",
   "execution_count": 164,
   "metadata": {},
   "outputs": [
    {
     "data": {
      "text/plain": [
       "250000"
      ]
     },
     "execution_count": 164,
     "metadata": {},
     "output_type": "execute_result"
    }
   ],
   "source": [
    "s = 0\n",
    "for i in range(1,1001):\n",
    "    if i % 2 != 0: # This evaluates the remainder (or modulo) function\n",
    "        s = s+i # note a second indent, since this bit of code is evaluated when the if condition is satisfied\n",
    "s # this is the sum of all the odd numbers from 1 to 1000"
   ]
  },
  {
   "cell_type": "markdown",
   "metadata": {},
   "source": [
    "Python allows us to write these simple loops more compactly using list literals"
   ]
  },
  {
   "cell_type": "code",
   "execution_count": 170,
   "metadata": {},
   "outputs": [
    {
     "data": {
      "text/plain": [
       "250000"
      ]
     },
     "execution_count": 170,
     "metadata": {},
     "output_type": "execute_result"
    }
   ],
   "source": [
    "sum([v for v in range(1,1001) if (v % 2 != 0)]) #sum all divisible by 2"
   ]
  },
  {
   "cell_type": "markdown",
   "metadata": {},
   "source": [
    "## Functions\n",
    "$f(x)=$do something with x and return the result\n",
    "\n",
    "Let's write a function that takes a beginning, $n$, and an end value, $m$, to evaluate a consecutive sum.\n"
   ]
  },
  {
   "cell_type": "code",
   "execution_count": 171,
   "metadata": {
    "collapsed": true
   },
   "outputs": [],
   "source": [
    "def add_consecutive(n,m): # This defines a function that takes n and m as inputs, also see the colon for indented block\n",
    "    s = 0 \n",
    "    for i in range(n, m+1): # note where n and m are being used inside the function.\n",
    "        s = s+i\n",
    "    return s"
   ]
  },
  {
   "cell_type": "markdown",
   "metadata": {},
   "source": [
    "So... what happened?"
   ]
  },
  {
   "cell_type": "code",
   "execution_count": 172,
   "metadata": {},
   "outputs": [
    {
     "data": {
      "text/plain": [
       "<function __main__.add_consecutive>"
      ]
     },
     "execution_count": 172,
     "metadata": {},
     "output_type": "execute_result"
    }
   ],
   "source": [
    "add_consecutive # we've defined a function that's now in the memory"
   ]
  },
  {
   "cell_type": "code",
   "execution_count": 174,
   "metadata": {},
   "outputs": [
    {
     "data": {
      "text/plain": [
       "4999950000"
      ]
     },
     "execution_count": 174,
     "metadata": {},
     "output_type": "execute_result"
    }
   ],
   "source": [
    "add_consecutive(0,99999) # we need to give it values for n and m to execute."
   ]
  },
  {
   "cell_type": "markdown",
   "metadata": {},
   "source": [
    "Python allows functions to have both ordered inputs (like the one above, where order matters) and named inputs. Let's write a function that allows us to add every $k^{\\text{th}}$ number in a list."
   ]
  },
  {
   "cell_type": "code",
   "execution_count": 38,
   "metadata": {
    "collapsed": true
   },
   "outputs": [],
   "source": [
    "def add_consecutive_k(n,m, k=1): # We initialize the kth input as 1, so that if it is not explicitly specified, \n",
    "    # the function assumes k=1\n",
    "    s = 0 \n",
    "    for i,j in enumerate(range(n, m+1)): # enumerate takes the list and returns the order, value pair\n",
    "        # here that pair is i (order) and j (value)\n",
    "        if (i+1)%k==0: # See how we used i and k here. Remember that Python is zero indexed. So the first item in an \n",
    "            # iterable is actually 0. THe first item in the range n to m is the 0th item. \n",
    "            s = s+j # note we add j to s not i, since j corresponds to the value in the list.\n",
    "    return s"
   ]
  },
  {
   "cell_type": "code",
   "execution_count": 176,
   "metadata": {},
   "outputs": [
    {
     "data": {
      "text/plain": [
       "(4977874531, 4977874531, 4977874531)"
      ]
     },
     "execution_count": 176,
     "metadata": {},
     "output_type": "execute_result"
    }
   ],
   "source": [
    "add_consecutive(0,99778), add_consecutive_k(0,99778), add_consecutive_k(0,99778, k=1) # we get the same answers, yay!"
   ]
  },
  {
   "cell_type": "code",
   "execution_count": 177,
   "metadata": {},
   "outputs": [
    {
     "data": {
      "text/plain": [
       "1659258251"
      ]
     },
     "execution_count": 177,
     "metadata": {},
     "output_type": "execute_result"
    }
   ],
   "source": [
    "add_consecutive_k(0,99778, k = 3) # now we can specify to only add every 3rd number. "
   ]
  },
  {
   "cell_type": "markdown",
   "metadata": {},
   "source": [
    "# Okay, we said that Python was super useful because it has lots of libraries. Let's look at one useful one, Pandas."
   ]
  },
  {
   "cell_type": "markdown",
   "metadata": {},
   "source": [
    "Pandas is a dataframe library that allows us to read in / save data and manipulate it in a tabular format."
   ]
  },
  {
   "cell_type": "code",
   "execution_count": 2,
   "metadata": {
    "collapsed": true
   },
   "outputs": [],
   "source": [
    "import pandas as pd # we are importing the entire module, and giving it a nickname \"pd\", conda installs this library by default\n",
    "# If you find a package that may be useful, it will generally tell you how to install it. Typically it involves opening command prompt in windows\n",
    "#or console in Mac and typing conda install package_name or pip install package_name "
   ]
  },
  {
   "cell_type": "markdown",
   "metadata": {},
   "source": [
    "#### Pandas has tons of functions and capaility to read lots of file formats. One of the most common is csv (or comma separated value)"
   ]
  },
  {
   "cell_type": "code",
   "execution_count": 178,
   "metadata": {},
   "outputs": [
    {
     "name": "stdout",
     "output_type": "stream",
     "text": [
      "This dataset has 181 entries.\n"
     ]
    }
   ],
   "source": [
    "# let's read in an example csv file\n",
    "df = pd.read_csv('https://www.dropbox.com/s/4bbkolouwwrt0dj/data_sales_intro_programming.csv?dl=1', sep = ',') \n",
    "# this function takes a bunch of options, one of them is the separator, sep =, it specifies comma by default.\n",
    "# however, depending on how the file structured, you can specify an appropriate separator\n",
    "print 'This dataset has ' + str(len(df)) + ' entries.'"
   ]
  },
  {
   "cell_type": "code",
   "execution_count": 222,
   "metadata": {},
   "outputs": [
    {
     "data": {
      "text/html": [
       "<div>\n",
       "<table border=\"1\" class=\"dataframe\">\n",
       "  <thead>\n",
       "    <tr style=\"text-align: right;\">\n",
       "      <th></th>\n",
       "      <th>date</th>\n",
       "      <th>sales</th>\n",
       "      <th>ad</th>\n",
       "      <th>dow</th>\n",
       "      <th>ym</th>\n",
       "    </tr>\n",
       "  </thead>\n",
       "  <tbody>\n",
       "    <tr>\n",
       "      <th>176</th>\n",
       "      <td>2017-06-26</td>\n",
       "      <td>587</td>\n",
       "      <td>0</td>\n",
       "      <td>Mon</td>\n",
       "      <td>2017-06-01</td>\n",
       "    </tr>\n",
       "    <tr>\n",
       "      <th>177</th>\n",
       "      <td>2017-06-27</td>\n",
       "      <td>813</td>\n",
       "      <td>0</td>\n",
       "      <td>Tue</td>\n",
       "      <td>2017-06-01</td>\n",
       "    </tr>\n",
       "    <tr>\n",
       "      <th>178</th>\n",
       "      <td>2017-06-28</td>\n",
       "      <td>799</td>\n",
       "      <td>1</td>\n",
       "      <td>Wed</td>\n",
       "      <td>2017-06-01</td>\n",
       "    </tr>\n",
       "    <tr>\n",
       "      <th>179</th>\n",
       "      <td>2017-06-29</td>\n",
       "      <td>623</td>\n",
       "      <td>0</td>\n",
       "      <td>Thu</td>\n",
       "      <td>2017-06-01</td>\n",
       "    </tr>\n",
       "    <tr>\n",
       "      <th>180</th>\n",
       "      <td>2017-06-30</td>\n",
       "      <td>1761</td>\n",
       "      <td>1</td>\n",
       "      <td>Fri</td>\n",
       "      <td>2017-06-01</td>\n",
       "    </tr>\n",
       "  </tbody>\n",
       "</table>\n",
       "</div>"
      ],
      "text/plain": [
       "          date  sales  ad  dow          ym\n",
       "176 2017-06-26    587   0  Mon  2017-06-01\n",
       "177 2017-06-27    813   0  Tue  2017-06-01\n",
       "178 2017-06-28    799   1  Wed  2017-06-01\n",
       "179 2017-06-29    623   0  Thu  2017-06-01\n",
       "180 2017-06-30   1761   1  Fri  2017-06-01"
      ]
     },
     "execution_count": 222,
     "metadata": {},
     "output_type": "execute_result"
    }
   ],
   "source": [
    "df.tail()"
   ]
  },
  {
   "cell_type": "markdown",
   "metadata": {},
   "source": [
    "# Try reading in some datasets from Texas comptroller (Tax data)\n",
    "https://www.comptroller.texas.gov/transparency/open-data/search-datasets/\n"
   ]
  },
  {
   "cell_type": "code",
   "execution_count": 190,
   "metadata": {},
   "outputs": [
    {
     "data": {
      "text/plain": [
       "array(['date', 'sales', 'ad'], dtype=object)"
      ]
     },
     "execution_count": 190,
     "metadata": {},
     "output_type": "execute_result"
    }
   ],
   "source": [
    "df.columns.values"
   ]
  },
  {
   "cell_type": "code",
   "execution_count": 46,
   "metadata": {},
   "outputs": [
    {
     "data": {
      "text/html": [
       "<div>\n",
       "<table border=\"1\" class=\"dataframe\">\n",
       "  <thead>\n",
       "    <tr style=\"text-align: right;\">\n",
       "      <th></th>\n",
       "      <th>date</th>\n",
       "      <th>sales</th>\n",
       "      <th>ad</th>\n",
       "    </tr>\n",
       "  </thead>\n",
       "  <tbody>\n",
       "    <tr>\n",
       "      <th>0</th>\n",
       "      <td>1/1/2017</td>\n",
       "      <td>857</td>\n",
       "      <td>0</td>\n",
       "    </tr>\n",
       "    <tr>\n",
       "      <th>1</th>\n",
       "      <td>1/2/2017</td>\n",
       "      <td>618</td>\n",
       "      <td>0</td>\n",
       "    </tr>\n",
       "    <tr>\n",
       "      <th>2</th>\n",
       "      <td>1/3/2017</td>\n",
       "      <td>762</td>\n",
       "      <td>0</td>\n",
       "    </tr>\n",
       "    <tr>\n",
       "      <th>3</th>\n",
       "      <td>1/4/2017</td>\n",
       "      <td>628</td>\n",
       "      <td>0</td>\n",
       "    </tr>\n",
       "    <tr>\n",
       "      <th>4</th>\n",
       "      <td>1/5/2017</td>\n",
       "      <td>849</td>\n",
       "      <td>1</td>\n",
       "    </tr>\n",
       "  </tbody>\n",
       "</table>\n",
       "</div>"
      ],
      "text/plain": [
       "       date  sales  ad\n",
       "0  1/1/2017    857   0\n",
       "1  1/2/2017    618   0\n",
       "2  1/3/2017    762   0\n",
       "3  1/4/2017    628   0\n",
       "4  1/5/2017    849   1"
      ]
     },
     "execution_count": 46,
     "metadata": {},
     "output_type": "execute_result"
    }
   ],
   "source": [
    "df.head() # .head() let's you see the first few rows of data"
   ]
  },
  {
   "cell_type": "code",
   "execution_count": 47,
   "metadata": {},
   "outputs": [
    {
     "data": {
      "text/html": [
       "<div>\n",
       "<table border=\"1\" class=\"dataframe\">\n",
       "  <thead>\n",
       "    <tr style=\"text-align: right;\">\n",
       "      <th></th>\n",
       "      <th>date</th>\n",
       "      <th>sales</th>\n",
       "      <th>ad</th>\n",
       "    </tr>\n",
       "  </thead>\n",
       "  <tbody>\n",
       "    <tr>\n",
       "      <th>50</th>\n",
       "      <td>2/20/2017</td>\n",
       "      <td>885</td>\n",
       "      <td>1</td>\n",
       "    </tr>\n",
       "    <tr>\n",
       "      <th>51</th>\n",
       "      <td>2/21/2017</td>\n",
       "      <td>899</td>\n",
       "      <td>0</td>\n",
       "    </tr>\n",
       "    <tr>\n",
       "      <th>52</th>\n",
       "      <td>2/22/2017</td>\n",
       "      <td>691</td>\n",
       "      <td>1</td>\n",
       "    </tr>\n",
       "    <tr>\n",
       "      <th>53</th>\n",
       "      <td>2/23/2017</td>\n",
       "      <td>901</td>\n",
       "      <td>1</td>\n",
       "    </tr>\n",
       "    <tr>\n",
       "      <th>54</th>\n",
       "      <td>2/24/2017</td>\n",
       "      <td>1821</td>\n",
       "      <td>1</td>\n",
       "    </tr>\n",
       "    <tr>\n",
       "      <th>55</th>\n",
       "      <td>2/25/2017</td>\n",
       "      <td>1476</td>\n",
       "      <td>1</td>\n",
       "    </tr>\n",
       "    <tr>\n",
       "      <th>56</th>\n",
       "      <td>2/26/2017</td>\n",
       "      <td>513</td>\n",
       "      <td>0</td>\n",
       "    </tr>\n",
       "    <tr>\n",
       "      <th>57</th>\n",
       "      <td>2/27/2017</td>\n",
       "      <td>798</td>\n",
       "      <td>0</td>\n",
       "    </tr>\n",
       "    <tr>\n",
       "      <th>58</th>\n",
       "      <td>2/28/2017</td>\n",
       "      <td>664</td>\n",
       "      <td>0</td>\n",
       "    </tr>\n",
       "    <tr>\n",
       "      <th>59</th>\n",
       "      <td>3/1/2017</td>\n",
       "      <td>847</td>\n",
       "      <td>0</td>\n",
       "    </tr>\n",
       "  </tbody>\n",
       "</table>\n",
       "</div>"
      ],
      "text/plain": [
       "         date  sales  ad\n",
       "50  2/20/2017    885   1\n",
       "51  2/21/2017    899   0\n",
       "52  2/22/2017    691   1\n",
       "53  2/23/2017    901   1\n",
       "54  2/24/2017   1821   1\n",
       "55  2/25/2017   1476   1\n",
       "56  2/26/2017    513   0\n",
       "57  2/27/2017    798   0\n",
       "58  2/28/2017    664   0\n",
       "59   3/1/2017    847   0"
      ]
     },
     "execution_count": 47,
     "metadata": {},
     "output_type": "execute_result"
    }
   ],
   "source": [
    "df[50:60]"
   ]
  },
  {
   "cell_type": "markdown",
   "metadata": {},
   "source": [
    "Note this is a dataset with 3 columns and 181 entries. Each entry consists of a date, the sales total, and whether or not an ad was shown that morning."
   ]
  },
  {
   "cell_type": "code",
   "execution_count": 193,
   "metadata": {},
   "outputs": [
    {
     "data": {
      "text/plain": [
       "'1/1/2017'"
      ]
     },
     "execution_count": 193,
     "metadata": {},
     "output_type": "execute_result"
    }
   ],
   "source": [
    "df['date'][0] # we can index a dataframe in several methosd"
   ]
  },
  {
   "cell_type": "code",
   "execution_count": 191,
   "metadata": {},
   "outputs": [
    {
     "data": {
      "text/plain": [
       "'1/1/2017'"
      ]
     },
     "execution_count": 191,
     "metadata": {},
     "output_type": "execute_result"
    }
   ],
   "source": [
    "df.date[0]"
   ]
  },
  {
   "cell_type": "code",
   "execution_count": null,
   "metadata": {
    "collapsed": true
   },
   "outputs": [],
   "source": []
  },
  {
   "cell_type": "code",
   "execution_count": 197,
   "metadata": {},
   "outputs": [
    {
     "data": {
      "text/plain": [
       "date     1/1/2017\n",
       "sales         857\n",
       "ad              0\n",
       "Name: 0, dtype: object"
      ]
     },
     "execution_count": 197,
     "metadata": {},
     "output_type": "execute_result"
    }
   ],
   "source": [
    "df.ix[0]"
   ]
  },
  {
   "cell_type": "code",
   "execution_count": 224,
   "metadata": {},
   "outputs": [
    {
     "data": {
      "text/html": [
       "<div>\n",
       "<table border=\"1\" class=\"dataframe\">\n",
       "  <thead>\n",
       "    <tr style=\"text-align: right;\">\n",
       "      <th></th>\n",
       "      <th>sales</th>\n",
       "      <th>date</th>\n",
       "    </tr>\n",
       "  </thead>\n",
       "  <tbody>\n",
       "    <tr>\n",
       "      <th>0</th>\n",
       "      <td>857</td>\n",
       "      <td>2017-01-01</td>\n",
       "    </tr>\n",
       "    <tr>\n",
       "      <th>1</th>\n",
       "      <td>618</td>\n",
       "      <td>2017-01-02</td>\n",
       "    </tr>\n",
       "    <tr>\n",
       "      <th>2</th>\n",
       "      <td>762</td>\n",
       "      <td>2017-01-03</td>\n",
       "    </tr>\n",
       "    <tr>\n",
       "      <th>3</th>\n",
       "      <td>628</td>\n",
       "      <td>2017-01-04</td>\n",
       "    </tr>\n",
       "    <tr>\n",
       "      <th>4</th>\n",
       "      <td>849</td>\n",
       "      <td>2017-01-05</td>\n",
       "    </tr>\n",
       "    <tr>\n",
       "      <th>5</th>\n",
       "      <td>1670</td>\n",
       "      <td>2017-01-06</td>\n",
       "    </tr>\n",
       "    <tr>\n",
       "      <th>6</th>\n",
       "      <td>1298</td>\n",
       "      <td>2017-01-07</td>\n",
       "    </tr>\n",
       "    <tr>\n",
       "      <th>7</th>\n",
       "      <td>778</td>\n",
       "      <td>2017-01-08</td>\n",
       "    </tr>\n",
       "    <tr>\n",
       "      <th>8</th>\n",
       "      <td>874</td>\n",
       "      <td>2017-01-09</td>\n",
       "    </tr>\n",
       "    <tr>\n",
       "      <th>9</th>\n",
       "      <td>510</td>\n",
       "      <td>2017-01-10</td>\n",
       "    </tr>\n",
       "    <tr>\n",
       "      <th>10</th>\n",
       "      <td>1164</td>\n",
       "      <td>2017-01-11</td>\n",
       "    </tr>\n",
       "  </tbody>\n",
       "</table>\n",
       "</div>"
      ],
      "text/plain": [
       "    sales       date\n",
       "0     857 2017-01-01\n",
       "1     618 2017-01-02\n",
       "2     762 2017-01-03\n",
       "3     628 2017-01-04\n",
       "4     849 2017-01-05\n",
       "5    1670 2017-01-06\n",
       "6    1298 2017-01-07\n",
       "7     778 2017-01-08\n",
       "8     874 2017-01-09\n",
       "9     510 2017-01-10\n",
       "10   1164 2017-01-11"
      ]
     },
     "execution_count": 224,
     "metadata": {},
     "output_type": "execute_result"
    }
   ],
   "source": [
    "df.loc[0:10, ['sales', 'date']]"
   ]
  },
  {
   "cell_type": "code",
   "execution_count": 200,
   "metadata": {},
   "outputs": [
    {
     "data": {
      "text/plain": [
       "str"
      ]
     },
     "execution_count": 200,
     "metadata": {},
     "output_type": "execute_result"
    }
   ],
   "source": [
    "type(df.date[0]) # It looks like the data we read in is fine,\n",
    "#but if we look at the data type for one of the date entries, we see that it is a string an not a date\n",
    "# type is a native Python function to tell you what is the data type"
   ]
  },
  {
   "cell_type": "code",
   "execution_count": 201,
   "metadata": {
    "collapsed": true
   },
   "outputs": [],
   "source": [
    "df.date = pd.to_datetime(df.date) # we can convert the dates using pandas' to_datetime function"
   ]
  },
  {
   "cell_type": "code",
   "execution_count": 202,
   "metadata": {},
   "outputs": [
    {
     "data": {
      "text/plain": [
       "pandas.tslib.Timestamp"
      ]
     },
     "execution_count": 202,
     "metadata": {},
     "output_type": "execute_result"
    }
   ],
   "source": [
    "type(df.date[0]) # Now the data type is pandas' datetime index"
   ]
  },
  {
   "cell_type": "code",
   "execution_count": 203,
   "metadata": {},
   "outputs": [
    {
     "data": {
      "text/plain": [
       "Timestamp('2017-01-01 00:00:00')"
      ]
     },
     "execution_count": 203,
     "metadata": {},
     "output_type": "execute_result"
    }
   ],
   "source": [
    "df.loc[0, 'date']"
   ]
  },
  {
   "cell_type": "code",
   "execution_count": 204,
   "metadata": {},
   "outputs": [
    {
     "data": {
      "text/html": [
       "<div>\n",
       "<table border=\"1\" class=\"dataframe\">\n",
       "  <thead>\n",
       "    <tr style=\"text-align: right;\">\n",
       "      <th></th>\n",
       "      <th>date</th>\n",
       "      <th>sales</th>\n",
       "      <th>ad</th>\n",
       "    </tr>\n",
       "  </thead>\n",
       "  <tbody>\n",
       "    <tr>\n",
       "      <th>0</th>\n",
       "      <td>2017-01-01</td>\n",
       "      <td>857</td>\n",
       "      <td>0</td>\n",
       "    </tr>\n",
       "    <tr>\n",
       "      <th>1</th>\n",
       "      <td>2017-01-02</td>\n",
       "      <td>618</td>\n",
       "      <td>0</td>\n",
       "    </tr>\n",
       "    <tr>\n",
       "      <th>2</th>\n",
       "      <td>2017-01-03</td>\n",
       "      <td>762</td>\n",
       "      <td>0</td>\n",
       "    </tr>\n",
       "    <tr>\n",
       "      <th>3</th>\n",
       "      <td>2017-01-04</td>\n",
       "      <td>628</td>\n",
       "      <td>0</td>\n",
       "    </tr>\n",
       "    <tr>\n",
       "      <th>4</th>\n",
       "      <td>2017-01-05</td>\n",
       "      <td>849</td>\n",
       "      <td>1</td>\n",
       "    </tr>\n",
       "  </tbody>\n",
       "</table>\n",
       "</div>"
      ],
      "text/plain": [
       "        date  sales  ad\n",
       "0 2017-01-01    857   0\n",
       "1 2017-01-02    618   0\n",
       "2 2017-01-03    762   0\n",
       "3 2017-01-04    628   0\n",
       "4 2017-01-05    849   1"
      ]
     },
     "execution_count": 204,
     "metadata": {},
     "output_type": "execute_result"
    }
   ],
   "source": [
    "df.head()"
   ]
  },
  {
   "cell_type": "code",
   "execution_count": 205,
   "metadata": {
    "collapsed": true
   },
   "outputs": [],
   "source": [
    "# Converting to pandas timestamp allows us to use datetime modules\n",
    "import datetime\n",
    "df['dow'] = df.date.map(datetime.date.weekday) #the weekday function converts day of week from 0 to 6, where 0 is Monday and 6 is Sunday\n",
    "#  df.date is a pandas series (column), .map is an attribute of pandas dataframes/series that maps a function to each value in series"
   ]
  },
  {
   "cell_type": "code",
   "execution_count": 206,
   "metadata": {},
   "outputs": [
    {
     "data": {
      "text/html": [
       "<div>\n",
       "<table border=\"1\" class=\"dataframe\">\n",
       "  <thead>\n",
       "    <tr style=\"text-align: right;\">\n",
       "      <th></th>\n",
       "      <th>date</th>\n",
       "      <th>sales</th>\n",
       "      <th>ad</th>\n",
       "      <th>dow</th>\n",
       "    </tr>\n",
       "  </thead>\n",
       "  <tbody>\n",
       "    <tr>\n",
       "      <th>0</th>\n",
       "      <td>2017-01-01</td>\n",
       "      <td>857</td>\n",
       "      <td>0</td>\n",
       "      <td>6</td>\n",
       "    </tr>\n",
       "    <tr>\n",
       "      <th>1</th>\n",
       "      <td>2017-01-02</td>\n",
       "      <td>618</td>\n",
       "      <td>0</td>\n",
       "      <td>0</td>\n",
       "    </tr>\n",
       "    <tr>\n",
       "      <th>2</th>\n",
       "      <td>2017-01-03</td>\n",
       "      <td>762</td>\n",
       "      <td>0</td>\n",
       "      <td>1</td>\n",
       "    </tr>\n",
       "    <tr>\n",
       "      <th>3</th>\n",
       "      <td>2017-01-04</td>\n",
       "      <td>628</td>\n",
       "      <td>0</td>\n",
       "      <td>2</td>\n",
       "    </tr>\n",
       "    <tr>\n",
       "      <th>4</th>\n",
       "      <td>2017-01-05</td>\n",
       "      <td>849</td>\n",
       "      <td>1</td>\n",
       "      <td>3</td>\n",
       "    </tr>\n",
       "  </tbody>\n",
       "</table>\n",
       "</div>"
      ],
      "text/plain": [
       "        date  sales  ad  dow\n",
       "0 2017-01-01    857   0    6\n",
       "1 2017-01-02    618   0    0\n",
       "2 2017-01-03    762   0    1\n",
       "3 2017-01-04    628   0    2\n",
       "4 2017-01-05    849   1    3"
      ]
     },
     "execution_count": 206,
     "metadata": {},
     "output_type": "execute_result"
    }
   ],
   "source": [
    "df.head()"
   ]
  },
  {
   "cell_type": "markdown",
   "metadata": {},
   "source": [
    "Let's convert the 0-6 to words, to do so we first define a dictionary. First, we create a list of keys (number dow format) and a list of values (text dow format). We then \"zip\" them together into a dictionary."
   ]
  },
  {
   "cell_type": "code",
   "execution_count": 207,
   "metadata": {
    "collapsed": true
   },
   "outputs": [],
   "source": [
    "numdow = range(0,7) # range creates a consecutive list of integers starting with the first entry and ending with the last entry - 1 (not incusive)\n",
    "textdow = ['Mon','Tue','Wed','Thu','Fri','Sat', 'Sun']\n",
    "dowdict = dict(zip(numdow, textdow)) # zip creates a \"zip\" object that zips 2 lists together, we convert this zipped list to a dictionary"
   ]
  },
  {
   "cell_type": "code",
   "execution_count": null,
   "metadata": {
    "collapsed": true
   },
   "outputs": [],
   "source": []
  },
  {
   "cell_type": "code",
   "execution_count": 225,
   "metadata": {},
   "outputs": [
    {
     "data": {
      "text/plain": [
       "{0: 'Mon', 1: 'Tue', 2: 'Wed', 3: 'Thu', 4: 'Fri', 5: 'Sat', 6: 'Sun'}"
      ]
     },
     "execution_count": 225,
     "metadata": {},
     "output_type": "execute_result"
    }
   ],
   "source": [
    "dowdict"
   ]
  },
  {
   "cell_type": "code",
   "execution_count": 65,
   "metadata": {},
   "outputs": [
    {
     "data": {
      "text/plain": [
       "'Sun'"
      ]
     },
     "execution_count": 65,
     "metadata": {},
     "output_type": "execute_result"
    }
   ],
   "source": [
    "dowdict[6] # we can access the word associated with each entry"
   ]
  },
  {
   "cell_type": "code",
   "execution_count": 209,
   "metadata": {
    "collapsed": true
   },
   "outputs": [],
   "source": [
    "df.dow = df.dow.apply(lambda x: dowdict[x]) # lambda is a temporary \"function\" that acts on x, \n",
    "# Dataframe allows us to also apply a function to each entry of a column\n",
    "# If each entry is x, then our temporary function of dowdict[x] will return the corresponding string format dow to the existing\n",
    "# numerical entry for dow\n",
    "# altogether, this syntax says, on df.dow apply the lambda function of evaluating dowdict for each value x of df.dow"
   ]
  },
  {
   "cell_type": "code",
   "execution_count": 226,
   "metadata": {},
   "outputs": [
    {
     "data": {
      "text/html": [
       "<div>\n",
       "<table border=\"1\" class=\"dataframe\">\n",
       "  <thead>\n",
       "    <tr style=\"text-align: right;\">\n",
       "      <th></th>\n",
       "      <th>date</th>\n",
       "      <th>sales</th>\n",
       "      <th>ad</th>\n",
       "      <th>dow</th>\n",
       "      <th>ym</th>\n",
       "    </tr>\n",
       "  </thead>\n",
       "  <tbody>\n",
       "    <tr>\n",
       "      <th>0</th>\n",
       "      <td>2017-01-01</td>\n",
       "      <td>857</td>\n",
       "      <td>0</td>\n",
       "      <td>Sun</td>\n",
       "      <td>2017-01-01</td>\n",
       "    </tr>\n",
       "    <tr>\n",
       "      <th>1</th>\n",
       "      <td>2017-01-02</td>\n",
       "      <td>618</td>\n",
       "      <td>0</td>\n",
       "      <td>Mon</td>\n",
       "      <td>2017-01-01</td>\n",
       "    </tr>\n",
       "    <tr>\n",
       "      <th>2</th>\n",
       "      <td>2017-01-03</td>\n",
       "      <td>762</td>\n",
       "      <td>0</td>\n",
       "      <td>Tue</td>\n",
       "      <td>2017-01-01</td>\n",
       "    </tr>\n",
       "    <tr>\n",
       "      <th>3</th>\n",
       "      <td>2017-01-04</td>\n",
       "      <td>628</td>\n",
       "      <td>0</td>\n",
       "      <td>Wed</td>\n",
       "      <td>2017-01-01</td>\n",
       "    </tr>\n",
       "    <tr>\n",
       "      <th>4</th>\n",
       "      <td>2017-01-05</td>\n",
       "      <td>849</td>\n",
       "      <td>1</td>\n",
       "      <td>Thu</td>\n",
       "      <td>2017-01-01</td>\n",
       "    </tr>\n",
       "  </tbody>\n",
       "</table>\n",
       "</div>"
      ],
      "text/plain": [
       "        date  sales  ad  dow          ym\n",
       "0 2017-01-01    857   0  Sun  2017-01-01\n",
       "1 2017-01-02    618   0  Mon  2017-01-01\n",
       "2 2017-01-03    762   0  Tue  2017-01-01\n",
       "3 2017-01-04    628   0  Wed  2017-01-01\n",
       "4 2017-01-05    849   1  Thu  2017-01-01"
      ]
     },
     "execution_count": 226,
     "metadata": {},
     "output_type": "execute_result"
    }
   ],
   "source": [
    "df.head()"
   ]
  },
  {
   "cell_type": "code",
   "execution_count": 211,
   "metadata": {
    "collapsed": true
   },
   "outputs": [],
   "source": [
    "# we can also convert the dates to month\n",
    "df['ym'] = df.date.apply(lambda x: datetime.date(x.year, x.month, 1)) #datetime function takes 3 ordered arguments (year, mth, day)"
   ]
  },
  {
   "cell_type": "code",
   "execution_count": 227,
   "metadata": {},
   "outputs": [
    {
     "data": {
      "text/html": [
       "<div>\n",
       "<table border=\"1\" class=\"dataframe\">\n",
       "  <thead>\n",
       "    <tr style=\"text-align: right;\">\n",
       "      <th></th>\n",
       "      <th>date</th>\n",
       "      <th>sales</th>\n",
       "      <th>ad</th>\n",
       "      <th>dow</th>\n",
       "      <th>ym</th>\n",
       "    </tr>\n",
       "  </thead>\n",
       "  <tbody>\n",
       "    <tr>\n",
       "      <th>0</th>\n",
       "      <td>2017-01-01</td>\n",
       "      <td>857</td>\n",
       "      <td>0</td>\n",
       "      <td>Sun</td>\n",
       "      <td>2017-01-01</td>\n",
       "    </tr>\n",
       "    <tr>\n",
       "      <th>1</th>\n",
       "      <td>2017-01-02</td>\n",
       "      <td>618</td>\n",
       "      <td>0</td>\n",
       "      <td>Mon</td>\n",
       "      <td>2017-01-01</td>\n",
       "    </tr>\n",
       "    <tr>\n",
       "      <th>2</th>\n",
       "      <td>2017-01-03</td>\n",
       "      <td>762</td>\n",
       "      <td>0</td>\n",
       "      <td>Tue</td>\n",
       "      <td>2017-01-01</td>\n",
       "    </tr>\n",
       "    <tr>\n",
       "      <th>3</th>\n",
       "      <td>2017-01-04</td>\n",
       "      <td>628</td>\n",
       "      <td>0</td>\n",
       "      <td>Wed</td>\n",
       "      <td>2017-01-01</td>\n",
       "    </tr>\n",
       "    <tr>\n",
       "      <th>4</th>\n",
       "      <td>2017-01-05</td>\n",
       "      <td>849</td>\n",
       "      <td>1</td>\n",
       "      <td>Thu</td>\n",
       "      <td>2017-01-01</td>\n",
       "    </tr>\n",
       "  </tbody>\n",
       "</table>\n",
       "</div>"
      ],
      "text/plain": [
       "        date  sales  ad  dow          ym\n",
       "0 2017-01-01    857   0  Sun  2017-01-01\n",
       "1 2017-01-02    618   0  Mon  2017-01-01\n",
       "2 2017-01-03    762   0  Tue  2017-01-01\n",
       "3 2017-01-04    628   0  Wed  2017-01-01\n",
       "4 2017-01-05    849   1  Thu  2017-01-01"
      ]
     },
     "execution_count": 227,
     "metadata": {},
     "output_type": "execute_result"
    }
   ],
   "source": [
    "df.head() # now we can see that dow is comprised of strings, and we have the YM"
   ]
  },
  {
   "cell_type": "markdown",
   "metadata": {},
   "source": [
    "#### One awesome thing about dataframes is that we can group by variables to do conditional summaries"
   ]
  },
  {
   "cell_type": "code",
   "execution_count": 220,
   "metadata": {},
   "outputs": [
    {
     "data": {
      "text/html": [
       "<div>\n",
       "<table border=\"1\" class=\"dataframe\">\n",
       "  <thead>\n",
       "    <tr style=\"text-align: right;\">\n",
       "      <th></th>\n",
       "      <th></th>\n",
       "      <th>sales</th>\n",
       "    </tr>\n",
       "    <tr>\n",
       "      <th>dow</th>\n",
       "      <th>ad</th>\n",
       "      <th></th>\n",
       "    </tr>\n",
       "  </thead>\n",
       "  <tbody>\n",
       "    <tr>\n",
       "      <th rowspan=\"2\" valign=\"top\">Fri</th>\n",
       "      <th>0</th>\n",
       "      <td>1108.461538</td>\n",
       "    </tr>\n",
       "    <tr>\n",
       "      <th>1</th>\n",
       "      <td>1527.692308</td>\n",
       "    </tr>\n",
       "    <tr>\n",
       "      <th rowspan=\"2\" valign=\"top\">Mon</th>\n",
       "      <th>0</th>\n",
       "      <td>749.277778</td>\n",
       "    </tr>\n",
       "    <tr>\n",
       "      <th>1</th>\n",
       "      <td>861.125000</td>\n",
       "    </tr>\n",
       "    <tr>\n",
       "      <th rowspan=\"2\" valign=\"top\">Sat</th>\n",
       "      <th>0</th>\n",
       "      <td>1178.700000</td>\n",
       "    </tr>\n",
       "    <tr>\n",
       "      <th>1</th>\n",
       "      <td>1572.533333</td>\n",
       "    </tr>\n",
       "    <tr>\n",
       "      <th rowspan=\"2\" valign=\"top\">Sun</th>\n",
       "      <th>0</th>\n",
       "      <td>704.933333</td>\n",
       "    </tr>\n",
       "    <tr>\n",
       "      <th>1</th>\n",
       "      <td>866.727273</td>\n",
       "    </tr>\n",
       "    <tr>\n",
       "      <th rowspan=\"2\" valign=\"top\">Thu</th>\n",
       "      <th>0</th>\n",
       "      <td>780.700000</td>\n",
       "    </tr>\n",
       "    <tr>\n",
       "      <th>1</th>\n",
       "      <td>817.687500</td>\n",
       "    </tr>\n",
       "    <tr>\n",
       "      <th rowspan=\"2\" valign=\"top\">Tue</th>\n",
       "      <th>0</th>\n",
       "      <td>708.750000</td>\n",
       "    </tr>\n",
       "    <tr>\n",
       "      <th>1</th>\n",
       "      <td>923.166667</td>\n",
       "    </tr>\n",
       "    <tr>\n",
       "      <th rowspan=\"2\" valign=\"top\">Wed</th>\n",
       "      <th>0</th>\n",
       "      <td>723.666667</td>\n",
       "    </tr>\n",
       "    <tr>\n",
       "      <th>1</th>\n",
       "      <td>871.727273</td>\n",
       "    </tr>\n",
       "  </tbody>\n",
       "</table>\n",
       "</div>"
      ],
      "text/plain": [
       "              sales\n",
       "dow ad             \n",
       "Fri 0   1108.461538\n",
       "    1   1527.692308\n",
       "Mon 0    749.277778\n",
       "    1    861.125000\n",
       "Sat 0   1178.700000\n",
       "    1   1572.533333\n",
       "Sun 0    704.933333\n",
       "    1    866.727273\n",
       "Thu 0    780.700000\n",
       "    1    817.687500\n",
       "Tue 0    708.750000\n",
       "    1    923.166667\n",
       "Wed 0    723.666667\n",
       "    1    871.727273"
      ]
     },
     "execution_count": 220,
     "metadata": {},
     "output_type": "execute_result"
    }
   ],
   "source": [
    "# let's look at the average sales by dow\n",
    "df.groupby(['dow', 'ad'])[['sales']].mean() # we first groupby a variable (dow), then select a remaning column (sales) and apply the \n",
    "# summary function \"mean\" to calculate the conditional mean of sales by day of week\n",
    "# When are sales the highest?"
   ]
  },
  {
   "cell_type": "markdown",
   "metadata": {},
   "source": [
    "#### Can we look at conditional averages of sales on both dow and advertising?"
   ]
  },
  {
   "cell_type": "code",
   "execution_count": 218,
   "metadata": {},
   "outputs": [
    {
     "data": {
      "text/html": [
       "<div>\n",
       "<table border=\"1\" class=\"dataframe\">\n",
       "  <thead>\n",
       "    <tr style=\"text-align: right;\">\n",
       "      <th>ad</th>\n",
       "      <th>0</th>\n",
       "      <th>1</th>\n",
       "    </tr>\n",
       "    <tr>\n",
       "      <th>dow</th>\n",
       "      <th></th>\n",
       "      <th></th>\n",
       "    </tr>\n",
       "  </thead>\n",
       "  <tbody>\n",
       "    <tr>\n",
       "      <th>Fri</th>\n",
       "      <td>1108.461538</td>\n",
       "      <td>1527.692308</td>\n",
       "    </tr>\n",
       "    <tr>\n",
       "      <th>Mon</th>\n",
       "      <td>749.277778</td>\n",
       "      <td>861.125000</td>\n",
       "    </tr>\n",
       "    <tr>\n",
       "      <th>Sat</th>\n",
       "      <td>1178.700000</td>\n",
       "      <td>1572.533333</td>\n",
       "    </tr>\n",
       "    <tr>\n",
       "      <th>Sun</th>\n",
       "      <td>704.933333</td>\n",
       "      <td>866.727273</td>\n",
       "    </tr>\n",
       "    <tr>\n",
       "      <th>Thu</th>\n",
       "      <td>780.700000</td>\n",
       "      <td>817.687500</td>\n",
       "    </tr>\n",
       "    <tr>\n",
       "      <th>Tue</th>\n",
       "      <td>708.750000</td>\n",
       "      <td>923.166667</td>\n",
       "    </tr>\n",
       "    <tr>\n",
       "      <th>Wed</th>\n",
       "      <td>723.666667</td>\n",
       "      <td>871.727273</td>\n",
       "    </tr>\n",
       "  </tbody>\n",
       "</table>\n",
       "</div>"
      ],
      "text/plain": [
       "ad             0            1\n",
       "dow                          \n",
       "Fri  1108.461538  1527.692308\n",
       "Mon   749.277778   861.125000\n",
       "Sat  1178.700000  1572.533333\n",
       "Sun   704.933333   866.727273\n",
       "Thu   780.700000   817.687500\n",
       "Tue   708.750000   923.166667\n",
       "Wed   723.666667   871.727273"
      ]
     },
     "execution_count": 218,
     "metadata": {},
     "output_type": "execute_result"
    }
   ],
   "source": [
    "df_summary = df.groupby(['dow', 'ad'])['sales'].mean().unstack('ad')\n",
    "df_summary"
   ]
  },
  {
   "cell_type": "markdown",
   "metadata": {},
   "source": [
    "#### What's the effect of advertising?"
   ]
  },
  {
   "cell_type": "code",
   "execution_count": 228,
   "metadata": {},
   "outputs": [
    {
     "data": {
      "text/html": [
       "<div>\n",
       "<table border=\"1\" class=\"dataframe\">\n",
       "  <thead>\n",
       "    <tr style=\"text-align: right;\">\n",
       "      <th>ad</th>\n",
       "      <th>0</th>\n",
       "      <th>1</th>\n",
       "      <th>ad_diff</th>\n",
       "    </tr>\n",
       "    <tr>\n",
       "      <th>dow</th>\n",
       "      <th></th>\n",
       "      <th></th>\n",
       "      <th></th>\n",
       "    </tr>\n",
       "  </thead>\n",
       "  <tbody>\n",
       "    <tr>\n",
       "      <th>Fri</th>\n",
       "      <td>1108.461538</td>\n",
       "      <td>1527.692308</td>\n",
       "      <td>419.230769</td>\n",
       "    </tr>\n",
       "    <tr>\n",
       "      <th>Mon</th>\n",
       "      <td>749.277778</td>\n",
       "      <td>861.125000</td>\n",
       "      <td>111.847222</td>\n",
       "    </tr>\n",
       "    <tr>\n",
       "      <th>Sat</th>\n",
       "      <td>1178.700000</td>\n",
       "      <td>1572.533333</td>\n",
       "      <td>393.833333</td>\n",
       "    </tr>\n",
       "    <tr>\n",
       "      <th>Sun</th>\n",
       "      <td>704.933333</td>\n",
       "      <td>866.727273</td>\n",
       "      <td>161.793939</td>\n",
       "    </tr>\n",
       "    <tr>\n",
       "      <th>Thu</th>\n",
       "      <td>780.700000</td>\n",
       "      <td>817.687500</td>\n",
       "      <td>36.987500</td>\n",
       "    </tr>\n",
       "    <tr>\n",
       "      <th>Tue</th>\n",
       "      <td>708.750000</td>\n",
       "      <td>923.166667</td>\n",
       "      <td>214.416667</td>\n",
       "    </tr>\n",
       "    <tr>\n",
       "      <th>Wed</th>\n",
       "      <td>723.666667</td>\n",
       "      <td>871.727273</td>\n",
       "      <td>148.060606</td>\n",
       "    </tr>\n",
       "  </tbody>\n",
       "</table>\n",
       "</div>"
      ],
      "text/plain": [
       "ad             0            1     ad_diff\n",
       "dow                                      \n",
       "Fri  1108.461538  1527.692308  419.230769\n",
       "Mon   749.277778   861.125000  111.847222\n",
       "Sat  1178.700000  1572.533333  393.833333\n",
       "Sun   704.933333   866.727273  161.793939\n",
       "Thu   780.700000   817.687500   36.987500\n",
       "Tue   708.750000   923.166667  214.416667\n",
       "Wed   723.666667   871.727273  148.060606"
      ]
     },
     "execution_count": 228,
     "metadata": {},
     "output_type": "execute_result"
    }
   ],
   "source": [
    "df_summary['ad_diff'] = df_summary[1]-df_summary[0]\n",
    "df_summary"
   ]
  },
  {
   "cell_type": "markdown",
   "metadata": {},
   "source": [
    "##### Is there a difference by month?"
   ]
  },
  {
   "cell_type": "code",
   "execution_count": 229,
   "metadata": {},
   "outputs": [
    {
     "data": {
      "text/html": [
       "<div>\n",
       "<table border=\"1\" class=\"dataframe\">\n",
       "  <thead>\n",
       "    <tr style=\"text-align: right;\">\n",
       "      <th>ad</th>\n",
       "      <th>0</th>\n",
       "      <th>1</th>\n",
       "    </tr>\n",
       "    <tr>\n",
       "      <th>ym</th>\n",
       "      <th></th>\n",
       "      <th></th>\n",
       "    </tr>\n",
       "  </thead>\n",
       "  <tbody>\n",
       "    <tr>\n",
       "      <th>2017-01-01</th>\n",
       "      <td>821.705882</td>\n",
       "      <td>1091.857143</td>\n",
       "    </tr>\n",
       "    <tr>\n",
       "      <th>2017-02-01</th>\n",
       "      <td>819.083333</td>\n",
       "      <td>1094.375000</td>\n",
       "    </tr>\n",
       "    <tr>\n",
       "      <th>2017-03-01</th>\n",
       "      <td>803.857143</td>\n",
       "      <td>1135.470588</td>\n",
       "    </tr>\n",
       "    <tr>\n",
       "      <th>2017-04-01</th>\n",
       "      <td>850.357143</td>\n",
       "      <td>967.625000</td>\n",
       "    </tr>\n",
       "    <tr>\n",
       "      <th>2017-05-01</th>\n",
       "      <td>830.480000</td>\n",
       "      <td>1185.166667</td>\n",
       "    </tr>\n",
       "    <tr>\n",
       "      <th>2017-06-01</th>\n",
       "      <td>809.263158</td>\n",
       "      <td>1217.272727</td>\n",
       "    </tr>\n",
       "  </tbody>\n",
       "</table>\n",
       "</div>"
      ],
      "text/plain": [
       "ad                   0            1\n",
       "ym                                 \n",
       "2017-01-01  821.705882  1091.857143\n",
       "2017-02-01  819.083333  1094.375000\n",
       "2017-03-01  803.857143  1135.470588\n",
       "2017-04-01  850.357143   967.625000\n",
       "2017-05-01  830.480000  1185.166667\n",
       "2017-06-01  809.263158  1217.272727"
      ]
     },
     "execution_count": 229,
     "metadata": {},
     "output_type": "execute_result"
    }
   ],
   "source": [
    "df.groupby(['ym', 'ad'])['sales'].mean().unstack('ad')"
   ]
  },
  {
   "cell_type": "markdown",
   "metadata": {},
   "source": [
    "## These tables are all fine and good, can we visualize it?"
   ]
  },
  {
   "cell_type": "code",
   "execution_count": 230,
   "metadata": {
    "collapsed": true
   },
   "outputs": [],
   "source": [
    "# to do so, we should import some more libraries %matplotlib allows the notebook to display plots\n",
    "% matplotlib inline\n",
    "from matplotlib import pyplot as plt"
   ]
  },
  {
   "cell_type": "markdown",
   "metadata": {},
   "source": [
    "First let's plot the time series at the daily level"
   ]
  },
  {
   "cell_type": "code",
   "execution_count": 237,
   "metadata": {},
   "outputs": [
    {
     "data": {
      "text/plain": [
       "[<matplotlib.lines.Line2D at 0x11a62bad0>]"
      ]
     },
     "execution_count": 237,
     "metadata": {},
     "output_type": "execute_result"
    },
    {
     "data": {
      "image/png": "[encoded data removed]",
      "text/plain": [
       "<matplotlib.figure.Figure at 0x11a62bbd0>"
      ]
     },
     "metadata": {},
     "output_type": "display_data"
    }
   ],
   "source": [
    "plt.figure(figsize=(12,8))\n",
    "plt.plot(df.date, df.sales, color = 'purple')"
   ]
  },
  {
   "cell_type": "markdown",
   "metadata": {},
   "source": [
    "Next, let's look at the time series seprately for ad and no ad days."
   ]
  },
  {
   "cell_type": "code",
   "execution_count": 241,
   "metadata": {},
   "outputs": [
    {
     "data": {
      "text/plain": [
       "[<matplotlib.lines.Line2D at 0x11ac4cf10>]"
      ]
     },
     "execution_count": 241,
     "metadata": {},
     "output_type": "execute_result"
    },
    {
     "data": {
      "image/png": "[encoded data removed]",
      "text/plain": [
       "<matplotlib.figure.Figure at 0x11a62b610>"
      ]
     },
     "metadata": {},
     "output_type": "display_data"
    }
   ],
   "source": [
    "plt.plot(df.loc[df.ad == 1, 'date'], df.loc[df.ad == 1, 'sales'])\n",
    "plt.plot(df.loc[df.ad == 0, 'date'], df.loc[df.ad == 0, 'sales'])"
   ]
  },
  {
   "cell_type": "markdown",
   "metadata": {},
   "source": [
    "We can do the same plot using only pandas. But Pandas does not \"fill in the missing values\""
   ]
  },
  {
   "cell_type": "code",
   "execution_count": 242,
   "metadata": {},
   "outputs": [
    {
     "data": {
      "text/html": [
       "<div>\n",
       "<table border=\"1\" class=\"dataframe\">\n",
       "  <thead>\n",
       "    <tr style=\"text-align: right;\">\n",
       "      <th>ad</th>\n",
       "      <th>0</th>\n",
       "      <th>1</th>\n",
       "    </tr>\n",
       "    <tr>\n",
       "      <th>date</th>\n",
       "      <th></th>\n",
       "      <th></th>\n",
       "    </tr>\n",
       "  </thead>\n",
       "  <tbody>\n",
       "    <tr>\n",
       "      <th>2017-01-01</th>\n",
       "      <td>857.0</td>\n",
       "      <td>NaN</td>\n",
       "    </tr>\n",
       "    <tr>\n",
       "      <th>2017-01-02</th>\n",
       "      <td>618.0</td>\n",
       "      <td>NaN</td>\n",
       "    </tr>\n",
       "    <tr>\n",
       "      <th>2017-01-03</th>\n",
       "      <td>762.0</td>\n",
       "      <td>NaN</td>\n",
       "    </tr>\n",
       "    <tr>\n",
       "      <th>2017-01-04</th>\n",
       "      <td>628.0</td>\n",
       "      <td>NaN</td>\n",
       "    </tr>\n",
       "    <tr>\n",
       "      <th>2017-01-05</th>\n",
       "      <td>NaN</td>\n",
       "      <td>849.0</td>\n",
       "    </tr>\n",
       "    <tr>\n",
       "      <th>2017-01-06</th>\n",
       "      <td>NaN</td>\n",
       "      <td>1670.0</td>\n",
       "    </tr>\n",
       "    <tr>\n",
       "      <th>2017-01-07</th>\n",
       "      <td>1298.0</td>\n",
       "      <td>NaN</td>\n",
       "    </tr>\n",
       "    <tr>\n",
       "      <th>2017-01-08</th>\n",
       "      <td>NaN</td>\n",
       "      <td>778.0</td>\n",
       "    </tr>\n",
       "    <tr>\n",
       "      <th>2017-01-09</th>\n",
       "      <td>NaN</td>\n",
       "      <td>874.0</td>\n",
       "    </tr>\n",
       "    <tr>\n",
       "      <th>2017-01-10</th>\n",
       "      <td>510.0</td>\n",
       "      <td>NaN</td>\n",
       "    </tr>\n",
       "    <tr>\n",
       "      <th>2017-01-11</th>\n",
       "      <td>NaN</td>\n",
       "      <td>1164.0</td>\n",
       "    </tr>\n",
       "    <tr>\n",
       "      <th>2017-01-12</th>\n",
       "      <td>NaN</td>\n",
       "      <td>684.0</td>\n",
       "    </tr>\n",
       "    <tr>\n",
       "      <th>2017-01-13</th>\n",
       "      <td>1084.0</td>\n",
       "      <td>NaN</td>\n",
       "    </tr>\n",
       "    <tr>\n",
       "      <th>2017-01-14</th>\n",
       "      <td>NaN</td>\n",
       "      <td>1406.0</td>\n",
       "    </tr>\n",
       "    <tr>\n",
       "      <th>2017-01-15</th>\n",
       "      <td>NaN</td>\n",
       "      <td>934.0</td>\n",
       "    </tr>\n",
       "    <tr>\n",
       "      <th>2017-01-16</th>\n",
       "      <td>880.0</td>\n",
       "      <td>NaN</td>\n",
       "    </tr>\n",
       "    <tr>\n",
       "      <th>2017-01-17</th>\n",
       "      <td>742.0</td>\n",
       "      <td>NaN</td>\n",
       "    </tr>\n",
       "    <tr>\n",
       "      <th>2017-01-18</th>\n",
       "      <td>703.0</td>\n",
       "      <td>NaN</td>\n",
       "    </tr>\n",
       "    <tr>\n",
       "      <th>2017-01-19</th>\n",
       "      <td>NaN</td>\n",
       "      <td>736.0</td>\n",
       "    </tr>\n",
       "    <tr>\n",
       "      <th>2017-01-20</th>\n",
       "      <td>NaN</td>\n",
       "      <td>1686.0</td>\n",
       "    </tr>\n",
       "    <tr>\n",
       "      <th>2017-01-21</th>\n",
       "      <td>NaN</td>\n",
       "      <td>1932.0</td>\n",
       "    </tr>\n",
       "    <tr>\n",
       "      <th>2017-01-22</th>\n",
       "      <td>848.0</td>\n",
       "      <td>NaN</td>\n",
       "    </tr>\n",
       "    <tr>\n",
       "      <th>2017-01-23</th>\n",
       "      <td>525.0</td>\n",
       "      <td>NaN</td>\n",
       "    </tr>\n",
       "    <tr>\n",
       "      <th>2017-01-24</th>\n",
       "      <td>NaN</td>\n",
       "      <td>937.0</td>\n",
       "    </tr>\n",
       "    <tr>\n",
       "      <th>2017-01-25</th>\n",
       "      <td>618.0</td>\n",
       "      <td>NaN</td>\n",
       "    </tr>\n",
       "    <tr>\n",
       "      <th>2017-01-26</th>\n",
       "      <td>792.0</td>\n",
       "      <td>NaN</td>\n",
       "    </tr>\n",
       "    <tr>\n",
       "      <th>2017-01-27</th>\n",
       "      <td>1096.0</td>\n",
       "      <td>NaN</td>\n",
       "    </tr>\n",
       "    <tr>\n",
       "      <th>2017-01-28</th>\n",
       "      <td>1464.0</td>\n",
       "      <td>NaN</td>\n",
       "    </tr>\n",
       "    <tr>\n",
       "      <th>2017-01-29</th>\n",
       "      <td>NaN</td>\n",
       "      <td>645.0</td>\n",
       "    </tr>\n",
       "    <tr>\n",
       "      <th>2017-01-30</th>\n",
       "      <td>NaN</td>\n",
       "      <td>991.0</td>\n",
       "    </tr>\n",
       "    <tr>\n",
       "      <th>...</th>\n",
       "      <td>...</td>\n",
       "      <td>...</td>\n",
       "    </tr>\n",
       "    <tr>\n",
       "      <th>2017-06-01</th>\n",
       "      <td>832.0</td>\n",
       "      <td>NaN</td>\n",
       "    </tr>\n",
       "    <tr>\n",
       "      <th>2017-06-02</th>\n",
       "      <td>1182.0</td>\n",
       "      <td>NaN</td>\n",
       "    </tr>\n",
       "    <tr>\n",
       "      <th>2017-06-03</th>\n",
       "      <td>1304.0</td>\n",
       "      <td>NaN</td>\n",
       "    </tr>\n",
       "    <tr>\n",
       "      <th>2017-06-04</th>\n",
       "      <td>594.0</td>\n",
       "      <td>NaN</td>\n",
       "    </tr>\n",
       "    <tr>\n",
       "      <th>2017-06-05</th>\n",
       "      <td>860.0</td>\n",
       "      <td>NaN</td>\n",
       "    </tr>\n",
       "    <tr>\n",
       "      <th>2017-06-06</th>\n",
       "      <td>810.0</td>\n",
       "      <td>NaN</td>\n",
       "    </tr>\n",
       "    <tr>\n",
       "      <th>2017-06-07</th>\n",
       "      <td>517.0</td>\n",
       "      <td>NaN</td>\n",
       "    </tr>\n",
       "    <tr>\n",
       "      <th>2017-06-08</th>\n",
       "      <td>NaN</td>\n",
       "      <td>977.0</td>\n",
       "    </tr>\n",
       "    <tr>\n",
       "      <th>2017-06-09</th>\n",
       "      <td>NaN</td>\n",
       "      <td>1537.0</td>\n",
       "    </tr>\n",
       "    <tr>\n",
       "      <th>2017-06-10</th>\n",
       "      <td>NaN</td>\n",
       "      <td>1237.0</td>\n",
       "    </tr>\n",
       "    <tr>\n",
       "      <th>2017-06-11</th>\n",
       "      <td>541.0</td>\n",
       "      <td>NaN</td>\n",
       "    </tr>\n",
       "    <tr>\n",
       "      <th>2017-06-12</th>\n",
       "      <td>598.0</td>\n",
       "      <td>NaN</td>\n",
       "    </tr>\n",
       "    <tr>\n",
       "      <th>2017-06-13</th>\n",
       "      <td>NaN</td>\n",
       "      <td>1130.0</td>\n",
       "    </tr>\n",
       "    <tr>\n",
       "      <th>2017-06-14</th>\n",
       "      <td>558.0</td>\n",
       "      <td>NaN</td>\n",
       "    </tr>\n",
       "    <tr>\n",
       "      <th>2017-06-15</th>\n",
       "      <td>817.0</td>\n",
       "      <td>NaN</td>\n",
       "    </tr>\n",
       "    <tr>\n",
       "      <th>2017-06-16</th>\n",
       "      <td>NaN</td>\n",
       "      <td>1073.0</td>\n",
       "    </tr>\n",
       "    <tr>\n",
       "      <th>2017-06-17</th>\n",
       "      <td>1292.0</td>\n",
       "      <td>NaN</td>\n",
       "    </tr>\n",
       "    <tr>\n",
       "      <th>2017-06-18</th>\n",
       "      <td>699.0</td>\n",
       "      <td>NaN</td>\n",
       "    </tr>\n",
       "    <tr>\n",
       "      <th>2017-06-19</th>\n",
       "      <td>NaN</td>\n",
       "      <td>1094.0</td>\n",
       "    </tr>\n",
       "    <tr>\n",
       "      <th>2017-06-20</th>\n",
       "      <td>NaN</td>\n",
       "      <td>1064.0</td>\n",
       "    </tr>\n",
       "    <tr>\n",
       "      <th>2017-06-21</th>\n",
       "      <td>NaN</td>\n",
       "      <td>876.0</td>\n",
       "    </tr>\n",
       "    <tr>\n",
       "      <th>2017-06-22</th>\n",
       "      <td>812.0</td>\n",
       "      <td>NaN</td>\n",
       "    </tr>\n",
       "    <tr>\n",
       "      <th>2017-06-23</th>\n",
       "      <td>1178.0</td>\n",
       "      <td>NaN</td>\n",
       "    </tr>\n",
       "    <tr>\n",
       "      <th>2017-06-24</th>\n",
       "      <td>NaN</td>\n",
       "      <td>1842.0</td>\n",
       "    </tr>\n",
       "    <tr>\n",
       "      <th>2017-06-25</th>\n",
       "      <td>759.0</td>\n",
       "      <td>NaN</td>\n",
       "    </tr>\n",
       "    <tr>\n",
       "      <th>2017-06-26</th>\n",
       "      <td>587.0</td>\n",
       "      <td>NaN</td>\n",
       "    </tr>\n",
       "    <tr>\n",
       "      <th>2017-06-27</th>\n",
       "      <td>813.0</td>\n",
       "      <td>NaN</td>\n",
       "    </tr>\n",
       "    <tr>\n",
       "      <th>2017-06-28</th>\n",
       "      <td>NaN</td>\n",
       "      <td>799.0</td>\n",
       "    </tr>\n",
       "    <tr>\n",
       "      <th>2017-06-29</th>\n",
       "      <td>623.0</td>\n",
       "      <td>NaN</td>\n",
       "    </tr>\n",
       "    <tr>\n",
       "      <th>2017-06-30</th>\n",
       "      <td>NaN</td>\n",
       "      <td>1761.0</td>\n",
       "    </tr>\n",
       "  </tbody>\n",
       "</table>\n",
       "<p>181 rows × 2 columns</p>\n",
       "</div>"
      ],
      "text/plain": [
       "ad               0       1\n",
       "date                      \n",
       "2017-01-01   857.0     NaN\n",
       "2017-01-02   618.0     NaN\n",
       "2017-01-03   762.0     NaN\n",
       "2017-01-04   628.0     NaN\n",
       "2017-01-05     NaN   849.0\n",
       "2017-01-06     NaN  1670.0\n",
       "2017-01-07  1298.0     NaN\n",
       "2017-01-08     NaN   778.0\n",
       "2017-01-09     NaN   874.0\n",
       "2017-01-10   510.0     NaN\n",
       "2017-01-11     NaN  1164.0\n",
       "2017-01-12     NaN   684.0\n",
       "2017-01-13  1084.0     NaN\n",
       "2017-01-14     NaN  1406.0\n",
       "2017-01-15     NaN   934.0\n",
       "2017-01-16   880.0     NaN\n",
       "2017-01-17   742.0     NaN\n",
       "2017-01-18   703.0     NaN\n",
       "2017-01-19     NaN   736.0\n",
       "2017-01-20     NaN  1686.0\n",
       "2017-01-21     NaN  1932.0\n",
       "2017-01-22   848.0     NaN\n",
       "2017-01-23   525.0     NaN\n",
       "2017-01-24     NaN   937.0\n",
       "2017-01-25   618.0     NaN\n",
       "2017-01-26   792.0     NaN\n",
       "2017-01-27  1096.0     NaN\n",
       "2017-01-28  1464.0     NaN\n",
       "2017-01-29     NaN   645.0\n",
       "2017-01-30     NaN   991.0\n",
       "...            ...     ...\n",
       "2017-06-01   832.0     NaN\n",
       "2017-06-02  1182.0     NaN\n",
       "2017-06-03  1304.0     NaN\n",
       "2017-06-04   594.0     NaN\n",
       "2017-06-05   860.0     NaN\n",
       "2017-06-06   810.0     NaN\n",
       "2017-06-07   517.0     NaN\n",
       "2017-06-08     NaN   977.0\n",
       "2017-06-09     NaN  1537.0\n",
       "2017-06-10     NaN  1237.0\n",
       "2017-06-11   541.0     NaN\n",
       "2017-06-12   598.0     NaN\n",
       "2017-06-13     NaN  1130.0\n",
       "2017-06-14   558.0     NaN\n",
       "2017-06-15   817.0     NaN\n",
       "2017-06-16     NaN  1073.0\n",
       "2017-06-17  1292.0     NaN\n",
       "2017-06-18   699.0     NaN\n",
       "2017-06-19     NaN  1094.0\n",
       "2017-06-20     NaN  1064.0\n",
       "2017-06-21     NaN   876.0\n",
       "2017-06-22   812.0     NaN\n",
       "2017-06-23  1178.0     NaN\n",
       "2017-06-24     NaN  1842.0\n",
       "2017-06-25   759.0     NaN\n",
       "2017-06-26   587.0     NaN\n",
       "2017-06-27   813.0     NaN\n",
       "2017-06-28     NaN   799.0\n",
       "2017-06-29   623.0     NaN\n",
       "2017-06-30     NaN  1761.0\n",
       "\n",
       "[181 rows x 2 columns]"
      ]
     },
     "execution_count": 242,
     "metadata": {},
     "output_type": "execute_result"
    }
   ],
   "source": [
    "df.groupby(['date','ad'])['sales'].mean().unstack('ad')"
   ]
  },
  {
   "cell_type": "code",
   "execution_count": 244,
   "metadata": {},
   "outputs": [
    {
     "data": {
      "text/plain": [
       "<matplotlib.axes._subplots.AxesSubplot at 0x11fb79650>"
      ]
     },
     "execution_count": 244,
     "metadata": {},
     "output_type": "execute_result"
    },
    {
     "data": {
      "image/png": "[encoded data removed]",
      "text/plain": [
       "<matplotlib.figure.Figure at 0x11fb83750>"
      ]
     },
     "metadata": {},
     "output_type": "display_data"
    }
   ],
   "source": [
    "df.groupby(['date','ad'])['sales'].mean().unstack('ad').plot(figsize=(8,6))"
   ]
  },
  {
   "cell_type": "markdown",
   "metadata": {},
   "source": [
    "Let's look at the ad vs. no ad by day of week"
   ]
  },
  {
   "cell_type": "code",
   "execution_count": 247,
   "metadata": {},
   "outputs": [
    {
     "data": {
      "text/html": [
       "<div>\n",
       "<table border=\"1\" class=\"dataframe\">\n",
       "  <thead>\n",
       "    <tr style=\"text-align: right;\">\n",
       "      <th>ad</th>\n",
       "      <th>0</th>\n",
       "      <th>1</th>\n",
       "    </tr>\n",
       "    <tr>\n",
       "      <th>dow</th>\n",
       "      <th></th>\n",
       "      <th></th>\n",
       "    </tr>\n",
       "  </thead>\n",
       "  <tbody>\n",
       "    <tr>\n",
       "      <th>Sun</th>\n",
       "      <td>704.933333</td>\n",
       "      <td>866.727273</td>\n",
       "    </tr>\n",
       "    <tr>\n",
       "      <th>Tue</th>\n",
       "      <td>708.750000</td>\n",
       "      <td>923.166667</td>\n",
       "    </tr>\n",
       "    <tr>\n",
       "      <th>Wed</th>\n",
       "      <td>723.666667</td>\n",
       "      <td>871.727273</td>\n",
       "    </tr>\n",
       "    <tr>\n",
       "      <th>Mon</th>\n",
       "      <td>749.277778</td>\n",
       "      <td>861.125000</td>\n",
       "    </tr>\n",
       "    <tr>\n",
       "      <th>Thu</th>\n",
       "      <td>780.700000</td>\n",
       "      <td>817.687500</td>\n",
       "    </tr>\n",
       "    <tr>\n",
       "      <th>Fri</th>\n",
       "      <td>1108.461538</td>\n",
       "      <td>1527.692308</td>\n",
       "    </tr>\n",
       "    <tr>\n",
       "      <th>Sat</th>\n",
       "      <td>1178.700000</td>\n",
       "      <td>1572.533333</td>\n",
       "    </tr>\n",
       "  </tbody>\n",
       "</table>\n",
       "</div>"
      ],
      "text/plain": [
       "ad             0            1\n",
       "dow                          \n",
       "Sun   704.933333   866.727273\n",
       "Tue   708.750000   923.166667\n",
       "Wed   723.666667   871.727273\n",
       "Mon   749.277778   861.125000\n",
       "Thu   780.700000   817.687500\n",
       "Fri  1108.461538  1527.692308\n",
       "Sat  1178.700000  1572.533333"
      ]
     },
     "execution_count": 247,
     "metadata": {},
     "output_type": "execute_result"
    }
   ],
   "source": [
    "df.groupby(['dow', 'ad'])['sales'].mean().unstack('ad').sort_values(by = 0)"
   ]
  },
  {
   "cell_type": "code",
   "execution_count": 254,
   "metadata": {},
   "outputs": [
    {
     "data": {
      "text/plain": [
       "<matplotlib.axes._subplots.AxesSubplot at 0x120765fd0>"
      ]
     },
     "execution_count": 254,
     "metadata": {},
     "output_type": "execute_result"
    },
    {
     "data": {
      "image/png": "[encoded data removed]",
      "text/plain": [
       "<matplotlib.figure.Figure at 0x1205e3310>"
      ]
     },
     "metadata": {},
     "output_type": "display_data"
    }
   ],
   "source": [
    "df.groupby(['dow', 'ad'])['sales'].mean().unstack('ad').sort_values(0).plot(kind='bar', colors = ['green', 'red'], figsize=[8,6]) # we also sort the table on values for no ad days"
   ]
  },
  {
   "cell_type": "markdown",
   "metadata": {},
   "source": [
    "# Let's say your boss wants to see the graph above for each month"
   ]
  },
  {
   "cell_type": "markdown",
   "metadata": {},
   "source": [
    "### How do you do this?"
   ]
  },
  {
   "cell_type": "markdown",
   "metadata": {},
   "source": [
    "To do this effectively, we ought to introduce the concept of loops. There are 2 types: for loops and while loops. \n",
    "\n",
    "For loops execute some code \"for\" some list of values.\n",
    "\n",
    "While loops execute \"while\" some condition is satisfied."
   ]
  },
  {
   "cell_type": "markdown",
   "metadata": {},
   "source": [
    "## So which type of loop should we use to solve the problem posed by your boss?"
   ]
  },
  {
   "cell_type": "markdown",
   "metadata": {},
   "source": [
    "The for loop is the most natural, we know exactly which values to loop over (months)"
   ]
  },
  {
   "cell_type": "code",
   "execution_count": 80,
   "metadata": {},
   "outputs": [
    {
     "data": {
      "text/plain": [
       "array([datetime.date(2017, 1, 1), datetime.date(2017, 2, 1),\n",
       "       datetime.date(2017, 3, 1), datetime.date(2017, 4, 1),\n",
       "       datetime.date(2017, 5, 1), datetime.date(2017, 6, 1)], dtype=object)"
      ]
     },
     "execution_count": 80,
     "metadata": {},
     "output_type": "execute_result"
    }
   ],
   "source": [
    "mths = df.ym.unique()\n",
    "mths"
   ]
  },
  {
   "cell_type": "code",
   "execution_count": 256,
   "metadata": {
    "scrolled": false
   },
   "outputs": [
    {
     "data": {
      "image/png": "[encoded data removed]",
      "text/plain": [
       "<matplotlib.figure.Figure at 0x120cde4d0>"
      ]
     },
     "metadata": {},
     "output_type": "display_data"
    },
    {
     "data": {
      "image/png": "[encoded data removed]",
      "text/plain": [
       "<matplotlib.figure.Figure at 0x120fcf510>"
      ]
     },
     "metadata": {},
     "output_type": "display_data"
    },
    {
     "data": {
      "image/png": "[encoded data removed]",
      "text/plain": [
       "<matplotlib.figure.Figure at 0x1210144d0>"
      ]
     },
     "metadata": {},
     "output_type": "display_data"
    },
    {
     "data": {
      "image/png": "[encoded data removed]",
      "text/plain": [
       "<matplotlib.figure.Figure at 0x1214c41d0>"
      ]
     },
     "metadata": {},
     "output_type": "display_data"
    },
    {
     "data": {
      "image/png": "[encoded data removed]",
      "text/plain": [
       "<matplotlib.figure.Figure at 0x1214a1c90>"
      ]
     },
     "metadata": {},
     "output_type": "display_data"
    },
    {
     "data": {
      "image/png": "[encoded data removed]",
      "text/plain": [
       "<matplotlib.figure.Figure at 0x120ec1ad0>"
      ]
     },
     "metadata": {},
     "output_type": "display_data"
    }
   ],
   "source": [
    "mths = df.ym.unique() # first we grab the unique months in our dataset\n",
    "for m in mths:\n",
    "    df[df.ym == m].groupby(['dow', 'ad'])['sales'].mean().unstack('ad').sort_values(by=0).plot(kind='bar', title = str(m))"
   ]
  },
  {
   "cell_type": "markdown",
   "metadata": {},
   "source": [
    "## Putting it all together!\n",
    "### What if we want to be able to streamline the whole process from reading a file to plotting so we can do this task easily in the future?"
   ]
  },
  {
   "cell_type": "markdown",
   "metadata": {},
   "source": [
    "Let's write a function that takes the file path as an input and saves the file in some output path."
   ]
  },
  {
   "cell_type": "code",
   "execution_count": 257,
   "metadata": {
    "collapsed": true
   },
   "outputs": [],
   "source": [
    "def read_file_make_mthly_plot(infile, outpath): # note that the folder of outpath must already exist!\n",
    "    df = pd.read_csv(infile, sep = ',') # read in file\n",
    "    df.date = pd.to_datetime(df.date) # convert date to proper data type\n",
    "    df['dow'] = df.date.map(datetime.date.weekday) # create dow variable\n",
    "    numdow = range(0,7)\n",
    "    textdow = ['Mon','Tue','Wed','Thu','Fri','Sat', 'Sun']\n",
    "    dowdict = dict(zip(numdow, textdow)) # create conversion dictionary to text format\n",
    "    df.dow = df.dow.apply(lambda x: dowdict[x]) # convert dow data to text format\n",
    "    df['ym'] = df.date.apply(lambda x: datetime.date(x.year, x.month, 1)) # create ym variable\n",
    "    # next we loop through each month and plot the sales split on advertising\n",
    "    mths = df.ym.unique() # first we grab the unique months in our dataset\n",
    "    out = list() # we will collect where the files are saved in this out list, first we define an empty list\n",
    "    for m in mths:\n",
    "        df[df.ym == m].groupby(['dow', 'ad'])['sales'].mean().unstack('ad').sort(0).plot(kind='bar', title = str(m), figsize = (15,10))\n",
    "        fname = outpath + str(m.year)+'_'+str(m.month)+'.png'\n",
    "        plt.savefig(fname, dpi = 230, bbox_inches='tight') # this saves the figure with a specified file name = fname and the dpi argument specifies the resolution \n",
    "        plt.close() # close the plot so it won't be displayed in the notebook\n",
    "        out.append(fname) # we append out with newest file\n",
    "    return out"
   ]
  },
  {
   "cell_type": "code",
   "execution_count": 258,
   "metadata": {},
   "outputs": [
    {
     "name": "stderr",
     "output_type": "stream",
     "text": [
      "/anaconda/lib/python2.7/site-packages/ipykernel_launcher.py:14: FutureWarning: sort(columns=....) is deprecated, use sort_values(by=.....)\n",
      "  \n"
     ]
    },
    {
     "name": "stdout",
     "output_type": "stream",
     "text": [
      "['./figures/2017_1.png', './figures/2017_2.png', './figures/2017_3.png', './figures/2017_4.png', './figures/2017_5.png', './figures/2017_6.png']\n"
     ]
    }
   ],
   "source": [
    "out = read_file_make_mthly_plot('https://www.dropbox.com/s/4bbkolouwwrt0dj/data_sales_intro_programming.csv?dl=1', './figures/')\n",
    "print out # The '.' means the current directory"
   ]
  },
  {
   "cell_type": "markdown",
   "metadata": {},
   "source": [
    "## Voila!\n",
    "Now your monthly task has gotten a lot easier!"
   ]
  }
 ],
 "metadata": {
  "kernelspec": {
   "display_name": "Python 2",
   "language": "python",
   "name": "python2"
  },
  "language_info": {
   "codemirror_mode": {
    "name": "ipython",
    "version": 2
   },
   "file_extension": ".py",
   "mimetype": "text/x-python",
   "name": "python",
   "nbconvert_exporter": "python",
   "pygments_lexer": "ipython2",
   "version": "2.7.14"
  }
 },
 "nbformat": 4,
 "nbformat_minor": 2
}
