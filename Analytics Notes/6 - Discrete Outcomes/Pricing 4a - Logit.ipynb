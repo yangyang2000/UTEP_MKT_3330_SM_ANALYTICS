{
 "cells": [
  {
   "cell_type": "markdown",
   "metadata": {},
   "source": [
    "# Price experiments\n",
    "\n",
    "We discussed before that using pricing experiments to infer demand aggregate curves can be very costly to firms. This is due to randomness of choosing prices leading to lost potential profits. \n",
    "\n",
    "One of the great aspects of practicing marketing in a digital world is that pricing (or any other marketing lever) can often be customized to individual consumers. In this way, we are able to conduct experiments with much lower costs - we don't have to change prices for everyone, just some individuals.\n",
    "\n",
    "The problem, however, is how the marketer can infer demand functions for their profit maximization problems using individual data. When we were considering price experiments at the aggregate level, the fundamental observation recorded is a price and sales pair. This has a very natural demand-function interpretation. When we run price experiments for each individual, we end up with observations of price and purchase decision (whether one specific person bought). The interpretation of this data as a demand function here is not so straightforward.\n",
    "\n",
    "In order to interpret purchase/no purchase decisions, we need to develop some economic theory."
   ]
  },
  {
   "cell_type": "markdown",
   "metadata": {},
   "source": [
    "# Starting from preferences\n",
    "\n",
    "One of the fundamental assumptions of economics is that consumers are rational. This means:\n",
    "\n",
    "1. Consumers have complete preferences.\n",
    "2. Consumer preferences are transitive.\n",
    "\n",
    "Complete preference means that given any 2 pairs of products (A,B), the consumer is able to determine which she prefers and/or is indifferent between. The preference relation notation is as follows:\n",
    "\n",
    "1. $\\succsim$ means weak preference (could be indifferent)\n",
    "2. $\\succ$ means strong preference (cannot be indifferent)\n",
    "3. $\\sim$ means indifferent\n",
    "\n",
    "Transitive preference means: given that consumer prefers A to B ($A\\succsim B$) and she also preferes B to C ($B\\succsim C$), then a rational consumer must prefer A to C ($A\\succsim C$).\n",
    "\n",
    "Given that there are rational preferences, we can show that there exists utility functions that represent these preferences, or the mathematically equivalent statement below: \n",
    "\n",
    "$$\\text{Given some finite set of choice considerations $X$ } \\exists u: x\\rightarrow \\mathbb{R}, \\text{s.t. } x\\succsim y \\iff u(x)\\ge u(y), \\forall(x,y)\\in X$$\n",
    "\n",
    "**Proof:**\n",
    "This is a proof by construction. We first show that we can construct one specific utility function, and then show that this utility function implies the underlying preferences.\n",
    "\n",
    "Let our utilty function, $u$, be simply the cardinality of the no better than set, $NBT$:\n",
    "\n",
    "$$NBT(x)=\\{y\\in X s.t. x \\succsim y\\}$$\n",
    "\n",
    "$$u(x)=\\|{NBT(x)}\\|$$\n",
    "\n",
    "In other words, if $x$ is the most preferred element of set $X$ which has 100 elements, then the $u(x)=99$. Similarly, if x is the least preferred element of set $X$, then $u(x)=0$.\n",
    "\n",
    "Next, we just need to show that this utility function infers the same preference relations, i.e. show $u(x)\\ge u(y)\\implies x\\succsim y$.\n",
    "\n",
    "Suppose this is not the case, i.e. $\\exists x,y \\text{ s.t. } u(x)> u(y) \\text{ and } y\\succsim x$. Since $y\\succsim x$, it must be the case that $x\\in NBT(y)$. \n",
    "\n",
    "If $y\\succ x$, then $NBT(y)$ contains $x$ while $NBT(x)$ does not contain $y$. Moreover, if $x'\\in NBT(x)\\implies x'\\in NBT(y)$ by transitivity. Additionally, $y \\notin NBT(x)$. Therefore, $u(y)\\ge u(x)+1$. $\\Rightarrow\\Leftarrow$ (that means contradiction)\n",
    "\n",
    "**Note** there are infinite number of utility functions for which any set of preferences can be represented. Ex. Any translations of the utility function above works. This means that it's not so important what the value of utility functions yield, as long as the order is preserved."
   ]
  },
  {
   "cell_type": "markdown",
   "metadata": {},
   "source": [
    "# From utility functions to utility maxmization\n",
    "\n",
    "Rather than working with preferences, we are able to work with utility functions. Utility functions allow us to formalize mathematically rational consumer behavior.\n",
    "\n",
    "Let $U(\\cdot)$ be a utility function. The consumer's problem is:\n",
    "\n",
    "$$Max_{x}u(x)$$\n",
    "$$\\text{s.t. }p\\cdot x\\le W$$\n",
    "\n",
    "Where $x$ is a vector of choice quantities $x=\\{x_1,x_2,...,x_n\\}$, p is the vector set of unit prices $p=\\{p_1, p_2, ...,p_n\\}$ and $p\\cdot x$ is the dot product, $\\sum_{i}x_ip_i$.\n",
    "\n",
    "We won't go in too much detail about deriving properties of utility maximizing consumers, you can learn that in a graduate microeconomics course."
   ]
  },
  {
   "cell_type": "markdown",
   "metadata": {},
   "source": [
    "# Putting the random in utility maximization\n",
    "\n",
    "One thing that one may ask is, if consumers are rational, why do we ever make different choices given the same choice set?\n",
    "\n",
    "The short answer is, we are never really given the same choice set.\n",
    "\n",
    "There is always something different about each situation. Maybe it's the time, place, weather, mood, etc...\n",
    "\n",
    "Economists model these \"unobserved\" differences by purchase occassion by allowing utility functions to have a random component. In other words, the deterministic component of a utility function only represents the expected utility. The function also includes a random \"shock\" to the utility function that will alter the observed revealed preference. \n",
    "\n",
    "**This way of thinking about consumers is called random utility maximization, or RUM.**\n",
    "\n",
    "The typical formulation of the utility function describes choices by a set of defining characteristics. Let's call these $x$. This is similar to the bundle of goods in utility maximization problem. You can think of purchasing a bundle of goods as purchasing a bundle of product characteristics. We can write this typical utility function as consumer i's utility for product j below:\n",
    "\n",
    "$$U(x_{i,j})=x_j\\beta+\\epsilon_{i,j}$$\n",
    "\n",
    "The consumer therefore maximizes her utility by picking the product $j$ such that:\n",
    "\n",
    "$$U_{i,j}>U_{i,k}\\forall k\\neq j$$\n",
    "\n",
    "Therefore the probability of picking product $j$ is:\n",
    "$$Pr(x_j\\beta+\\epsilon_{i,j}>x_k\\beta+\\epsilon_{i,k})$$\n",
    "\n",
    "Equivalently,\n",
    "$$Pr(x_j\\beta-x_k\\beta>\\epsilon_{i,k}-\\epsilon_{i,j})$$\n",
    "\n",
    "So if errors are independently and identically distributed, we just need the proportion of the time that the first of these 2 randomly drawn random numbers are greater than the other.\n",
    "\n",
    "# The binary case.\n",
    "\n",
    "Consider the binary choice case. In this scenario you have only to make one choice, to take or not to take a particular action. Think of this in our application as whether or not to buy. Let's further assume that the only difference between consumers is the prices that they see. We assume that consumers are in expectation the same (think of this as having a uniform target audience for your price experiment).\n",
    "\n",
    "$$U(p_{i})=\\beta_0+\\beta p_i+\\epsilon_{i}$$\n",
    "\n",
    "We can normalize their utility for not buying to be 0 (remember only the cardinality of utility matters). \n",
    "\n",
    "Consumer buys when:\n",
    "$$\\beta_0+\\beta p_i>0$$\n",
    "\n",
    "Otherwise, the consumer does not buy.\n",
    "\n",
    "The generated dataset will have whether or not each consumer bought (1 for buying 0 for not), the price they were shown. We can also include demographic variables to control for observed heterogeneity if available, these would be treated just as price is treated.\n",
    "\n",
    "The last piece of the puzzle we need is to make an assumption about the distribution of the error. Because of mathematical convenience, this is typically assumed to be distributed logistically, hence the term logistic regression- or simply \"logit.\" If we assume a random normal error, we get a probit. The problem with probit is that the estimation is more difficult - there is no \"closed form solution.\" You can learn about this in your graduate econometrics course.\n",
    "\n",
    "Binary logit case, the probability of observing a purchase would be:\n",
    "\n",
    "$$Pr(U_i>0)=\\frac{1}{1+e^{-(\\beta_0+\\beta p_i)}}$$\n",
    "\n",
    "We will omit the derivation of the maximul likelihood estimation of the binary logit for this class. But the idea is we want to choose a $\\beta$ that maximizes the joint probability of observing all of our consumer choices."
   ]
  },
  {
   "cell_type": "markdown",
   "metadata": {},
   "source": [
    "# How to run binary Logit in Python"
   ]
  },
  {
   "cell_type": "code",
   "execution_count": 1,
   "metadata": {},
   "outputs": [],
   "source": [
    "#### Let's first simulate some logit choice data\n",
    "## experimental prices\n",
    "import numpy as np, pandas as pd\n",
    "% matplotlib inline\n",
    "from matplotlib import pyplot as plt\n",
    "\n",
    "samplesize = 1000\n",
    "prices = np.random.randint(13,23, size = samplesize)\n",
    "epsilon = np.random.logistic(loc=0.0, scale=1.0, size=samplesize)\n",
    "beta1 = -.6\n",
    "beta0 = 10\n",
    "utilities = beta0+beta1*prices+epsilon\n",
    "choices = [int((np.sign(u)+1)/2) for u in utilities]"
   ]
  },
  {
   "cell_type": "code",
   "execution_count": 2,
   "metadata": {},
   "outputs": [
    {
     "data": {
      "text/plain": [
       "(array([  4.,  11.,  34., 116., 250., 305., 209.,  51.,  15.,   5.]),\n",
       " array([-7.01313107, -5.69328966, -4.37344825, -3.05360684, -1.73376543,\n",
       "        -0.41392402,  0.9059174 ,  2.22575881,  3.54560022,  4.86544163,\n",
       "         6.18528304]),\n",
       " <a list of 10 Patch objects>)"
      ]
     },
     "execution_count": 2,
     "metadata": {},
     "output_type": "execute_result"
    },
    {
     "data": {
      "image/png": "[encoded data removed]",
      "text/plain": [
       "<matplotlib.figure.Figure at 0x6244390>"
      ]
     },
     "metadata": {},
     "output_type": "display_data"
    }
   ],
   "source": [
    "# This is what the logistic shocks looks like as a distribution\n",
    "plt.hist(epsilon)"
   ]
  },
  {
   "cell_type": "code",
   "execution_count": 3,
   "metadata": {},
   "outputs": [
    {
     "data": {
      "text/plain": [
       "(array([577.,   0.,   0.,   0.,   0.,   0.,   0.,   0.,   0., 423.]),\n",
       " array([0. , 0.1, 0.2, 0.3, 0.4, 0.5, 0.6, 0.7, 0.8, 0.9, 1. ]),\n",
       " <a list of 10 Patch objects>)"
      ]
     },
     "execution_count": 3,
     "metadata": {},
     "output_type": "execute_result"
    },
    {
     "data": {
      "image/png": "[encoded data removed]",
      "text/plain": [
       "<matplotlib.figure.Figure at 0x99b2748>"
      ]
     },
     "metadata": {},
     "output_type": "display_data"
    }
   ],
   "source": [
    "# choices\n",
    "plt.hist(choices)"
   ]
  },
  {
   "cell_type": "code",
   "execution_count": 4,
   "metadata": {},
   "outputs": [
    {
     "data": {
      "text/html": [
       "<div>\n",
       "<style scoped>\n",
       "    .dataframe tbody tr th:only-of-type {\n",
       "        vertical-align: middle;\n",
       "    }\n",
       "\n",
       "    .dataframe tbody tr th {\n",
       "        vertical-align: top;\n",
       "    }\n",
       "\n",
       "    .dataframe thead th {\n",
       "        text-align: right;\n",
       "    }\n",
       "</style>\n",
       "<table border=\"1\" class=\"dataframe\">\n",
       "  <thead>\n",
       "    <tr style=\"text-align: right;\">\n",
       "      <th>Buy</th>\n",
       "      <th>0</th>\n",
       "      <th>1</th>\n",
       "    </tr>\n",
       "    <tr>\n",
       "      <th>Price</th>\n",
       "      <th></th>\n",
       "      <th></th>\n",
       "    </tr>\n",
       "  </thead>\n",
       "  <tbody>\n",
       "    <tr>\n",
       "      <th>13</th>\n",
       "      <td>11</td>\n",
       "      <td>98</td>\n",
       "    </tr>\n",
       "    <tr>\n",
       "      <th>14</th>\n",
       "      <td>16</td>\n",
       "      <td>86</td>\n",
       "    </tr>\n",
       "    <tr>\n",
       "      <th>15</th>\n",
       "      <td>34</td>\n",
       "      <td>64</td>\n",
       "    </tr>\n",
       "    <tr>\n",
       "      <th>16</th>\n",
       "      <td>31</td>\n",
       "      <td>52</td>\n",
       "    </tr>\n",
       "    <tr>\n",
       "      <th>17</th>\n",
       "      <td>54</td>\n",
       "      <td>43</td>\n",
       "    </tr>\n",
       "    <tr>\n",
       "      <th>18</th>\n",
       "      <td>64</td>\n",
       "      <td>42</td>\n",
       "    </tr>\n",
       "    <tr>\n",
       "      <th>19</th>\n",
       "      <td>96</td>\n",
       "      <td>15</td>\n",
       "    </tr>\n",
       "    <tr>\n",
       "      <th>20</th>\n",
       "      <td>81</td>\n",
       "      <td>14</td>\n",
       "    </tr>\n",
       "    <tr>\n",
       "      <th>21</th>\n",
       "      <td>97</td>\n",
       "      <td>2</td>\n",
       "    </tr>\n",
       "    <tr>\n",
       "      <th>22</th>\n",
       "      <td>93</td>\n",
       "      <td>7</td>\n",
       "    </tr>\n",
       "  </tbody>\n",
       "</table>\n",
       "</div>"
      ],
      "text/plain": [
       "Buy     0   1\n",
       "Price        \n",
       "13     11  98\n",
       "14     16  86\n",
       "15     34  64\n",
       "16     31  52\n",
       "17     54  43\n",
       "18     64  42\n",
       "19     96  15\n",
       "20     81  14\n",
       "21     97   2\n",
       "22     93   7"
      ]
     },
     "execution_count": 4,
     "metadata": {},
     "output_type": "execute_result"
    }
   ],
   "source": [
    "df = pd.DataFrame(zip(prices, choices), columns = ['Price', 'Buy'])\n",
    "crosstab = pd.crosstab(df.Price, df.Buy)\n",
    "crosstab"
   ]
  },
  {
   "cell_type": "code",
   "execution_count": 5,
   "metadata": {},
   "outputs": [
    {
     "data": {
      "text/plain": [
       "<matplotlib.axes._subplots.AxesSubplot at 0x9d95978>"
      ]
     },
     "execution_count": 5,
     "metadata": {},
     "output_type": "execute_result"
    },
    {
     "data": {
      "image/png": "[encoded data removed]",
      "text/plain": [
       "<matplotlib.figure.Figure at 0x99a2ba8>"
      ]
     },
     "metadata": {},
     "output_type": "display_data"
    }
   ],
   "source": [
    "from __future__ import division\n",
    "crosstab['prob_buy'] = crosstab.apply(lambda x: x[1]/(x[1]+x[0]), axis = 1)\n",
    "crosstab['prob_buy'].plot()"
   ]
  },
  {
   "cell_type": "code",
   "execution_count": 6,
   "metadata": {},
   "outputs": [
    {
     "name": "stderr",
     "output_type": "stream",
     "text": [
      "C:\\Users\\Yang\\Anaconda2\\lib\\site-packages\\statsmodels\\compat\\pandas.py:56: FutureWarning: The pandas.core.datetools module is deprecated and will be removed in a future version. Please use the pandas.tseries module instead.\n",
      "  from pandas.core import datetools\n"
     ]
    },
    {
     "name": "stdout",
     "output_type": "stream",
     "text": [
      "Optimization terminated successfully.\n",
      "         Current function value: 0.463393\n",
      "         Iterations 6\n"
     ]
    }
   ],
   "source": [
    "# estimating the logit\n",
    "from scipy import stats # you may or may not need the first 2 lines\n",
    "stats.chisqprob = lambda chisq, df: stats.chi2.sf(chisq, df) # you may or may not need this\n",
    "import statsmodels.api as sm\n",
    "results = sm.Logit(df.Buy, sm.add_constant(df.Price)).fit()"
   ]
  },
  {
   "cell_type": "code",
   "execution_count": 7,
   "metadata": {},
   "outputs": [
    {
     "data": {
      "text/html": [
       "<table class=\"simpletable\">\n",
       "<caption>Logit Regression Results</caption>\n",
       "<tr>\n",
       "  <th>Dep. Variable:</th>        <td>Buy</td>       <th>  No. Observations:  </th>  <td>  1000</td>  \n",
       "</tr>\n",
       "<tr>\n",
       "  <th>Model:</th>               <td>Logit</td>      <th>  Df Residuals:      </th>  <td>   998</td>  \n",
       "</tr>\n",
       "<tr>\n",
       "  <th>Method:</th>               <td>MLE</td>       <th>  Df Model:          </th>  <td>     1</td>  \n",
       "</tr>\n",
       "<tr>\n",
       "  <th>Date:</th>          <td>Sun, 08 Apr 2018</td> <th>  Pseudo R-squ.:     </th>  <td>0.3198</td>  \n",
       "</tr>\n",
       "<tr>\n",
       "  <th>Time:</th>              <td>18:09:31</td>     <th>  Log-Likelihood:    </th> <td> -463.39</td> \n",
       "</tr>\n",
       "<tr>\n",
       "  <th>converged:</th>           <td>True</td>       <th>  LL-Null:           </th> <td> -681.24</td> \n",
       "</tr>\n",
       "<tr>\n",
       "  <th> </th>                      <td> </td>        <th>  LLR p-value:       </th> <td>9.347e-97</td>\n",
       "</tr>\n",
       "</table>\n",
       "<table class=\"simpletable\">\n",
       "<tr>\n",
       "    <td></td>       <th>coef</th>     <th>std err</th>      <th>z</th>      <th>P>|z|</th>  <th>[0.025</th>    <th>0.975]</th>  \n",
       "</tr>\n",
       "<tr>\n",
       "  <th>const</th> <td>    9.7840</td> <td>    0.611</td> <td>   16.021</td> <td> 0.000</td> <td>    8.587</td> <td>   10.981</td>\n",
       "</tr>\n",
       "<tr>\n",
       "  <th>Price</th> <td>   -0.5880</td> <td>    0.036</td> <td>  -16.453</td> <td> 0.000</td> <td>   -0.658</td> <td>   -0.518</td>\n",
       "</tr>\n",
       "</table>"
      ],
      "text/plain": [
       "<class 'statsmodels.iolib.summary.Summary'>\n",
       "\"\"\"\n",
       "                           Logit Regression Results                           \n",
       "==============================================================================\n",
       "Dep. Variable:                    Buy   No. Observations:                 1000\n",
       "Model:                          Logit   Df Residuals:                      998\n",
       "Method:                           MLE   Df Model:                            1\n",
       "Date:                Sun, 08 Apr 2018   Pseudo R-squ.:                  0.3198\n",
       "Time:                        18:09:31   Log-Likelihood:                -463.39\n",
       "converged:                       True   LL-Null:                       -681.24\n",
       "                                        LLR p-value:                 9.347e-97\n",
       "==============================================================================\n",
       "                 coef    std err          z      P>|z|      [0.025      0.975]\n",
       "------------------------------------------------------------------------------\n",
       "const          9.7840      0.611     16.021      0.000       8.587      10.981\n",
       "Price         -0.5880      0.036    -16.453      0.000      -0.658      -0.518\n",
       "==============================================================================\n",
       "\"\"\""
      ]
     },
     "execution_count": 7,
     "metadata": {},
     "output_type": "execute_result"
    }
   ],
   "source": [
    "results.summary()"
   ]
  },
  {
   "cell_type": "code",
   "execution_count": 8,
   "metadata": {},
   "outputs": [
    {
     "data": {
      "text/html": [
       "<table class=\"simpletable\">\n",
       "<caption>Logit Marginal Effects</caption>\n",
       "<tr>\n",
       "  <th>Dep. Variable:</th>   <td>Buy</td>  \n",
       "</tr>\n",
       "<tr>\n",
       "  <th>Method:</th>         <td>dydx</td>  \n",
       "</tr>\n",
       "<tr>\n",
       "  <th>At:</th>            <td>overall</td>\n",
       "</tr>\n",
       "</table>\n",
       "<table class=\"simpletable\">\n",
       "<tr>\n",
       "    <th></th>       <th>dy/dx</th>    <th>std err</th>      <th>z</th>      <th>P>|z|</th>  <th>[0.025</th>    <th>0.975]</th>  \n",
       "</tr>\n",
       "<tr>\n",
       "  <th>Price</th> <td>   -0.0880</td> <td>    0.002</td> <td>  -52.068</td> <td> 0.000</td> <td>   -0.091</td> <td>   -0.085</td>\n",
       "</tr>\n",
       "</table>"
      ],
      "text/plain": [
       "<class 'statsmodels.iolib.summary.Summary'>\n",
       "\"\"\"\n",
       "        Logit Marginal Effects       \n",
       "=====================================\n",
       "Dep. Variable:                    Buy\n",
       "Method:                          dydx\n",
       "At:                           overall\n",
       "==============================================================================\n",
       "                dy/dx    std err          z      P>|z|      [0.025      0.975]\n",
       "------------------------------------------------------------------------------\n",
       "Price         -0.0880      0.002    -52.068      0.000      -0.091      -0.085\n",
       "==============================================================================\n",
       "\"\"\""
      ]
     },
     "execution_count": 8,
     "metadata": {},
     "output_type": "execute_result"
    }
   ],
   "source": [
    "# we can't really direclty interpret price prediction\n",
    "# marginal effects gets us the change in probability of purchasing per change \n",
    "# in dollar price at the average price charged\n",
    "mfx = results.get_margeff()\n",
    "mfx.summary()"
   ]
  },
  {
   "cell_type": "code",
   "execution_count": 9,
   "metadata": {},
   "outputs": [
    {
     "data": {
      "text/html": [
       "<div>\n",
       "<style scoped>\n",
       "    .dataframe tbody tr th:only-of-type {\n",
       "        vertical-align: middle;\n",
       "    }\n",
       "\n",
       "    .dataframe tbody tr th {\n",
       "        vertical-align: top;\n",
       "    }\n",
       "\n",
       "    .dataframe thead th {\n",
       "        text-align: right;\n",
       "    }\n",
       "</style>\n",
       "<table border=\"1\" class=\"dataframe\">\n",
       "  <thead>\n",
       "    <tr style=\"text-align: right;\">\n",
       "      <th></th>\n",
       "      <th>Price</th>\n",
       "      <th>Prob</th>\n",
       "      <th>prob_buy</th>\n",
       "    </tr>\n",
       "  </thead>\n",
       "  <tbody>\n",
       "    <tr>\n",
       "      <th>0</th>\n",
       "      <td>21</td>\n",
       "      <td>0.071487</td>\n",
       "      <td>0.020202</td>\n",
       "    </tr>\n",
       "    <tr>\n",
       "      <th>1</th>\n",
       "      <td>14</td>\n",
       "      <td>0.825197</td>\n",
       "      <td>0.843137</td>\n",
       "    </tr>\n",
       "    <tr>\n",
       "      <th>2</th>\n",
       "      <td>22</td>\n",
       "      <td>0.041010</td>\n",
       "      <td>0.070000</td>\n",
       "    </tr>\n",
       "    <tr>\n",
       "      <th>3</th>\n",
       "      <td>18</td>\n",
       "      <td>0.310014</td>\n",
       "      <td>0.396226</td>\n",
       "    </tr>\n",
       "    <tr>\n",
       "      <th>4</th>\n",
       "      <td>15</td>\n",
       "      <td>0.723913</td>\n",
       "      <td>0.653061</td>\n",
       "    </tr>\n",
       "    <tr>\n",
       "      <th>5</th>\n",
       "      <td>13</td>\n",
       "      <td>0.894727</td>\n",
       "      <td>0.899083</td>\n",
       "    </tr>\n",
       "    <tr>\n",
       "      <th>6</th>\n",
       "      <td>19</td>\n",
       "      <td>0.199718</td>\n",
       "      <td>0.135135</td>\n",
       "    </tr>\n",
       "    <tr>\n",
       "      <th>7</th>\n",
       "      <td>17</td>\n",
       "      <td>0.447185</td>\n",
       "      <td>0.443299</td>\n",
       "    </tr>\n",
       "    <tr>\n",
       "      <th>8</th>\n",
       "      <td>16</td>\n",
       "      <td>0.592897</td>\n",
       "      <td>0.626506</td>\n",
       "    </tr>\n",
       "    <tr>\n",
       "      <th>9</th>\n",
       "      <td>20</td>\n",
       "      <td>0.121740</td>\n",
       "      <td>0.147368</td>\n",
       "    </tr>\n",
       "  </tbody>\n",
       "</table>\n",
       "</div>"
      ],
      "text/plain": [
       "   Price      Prob  prob_buy\n",
       "0     21  0.071487  0.020202\n",
       "1     14  0.825197  0.843137\n",
       "2     22  0.041010  0.070000\n",
       "3     18  0.310014  0.396226\n",
       "4     15  0.723913  0.653061\n",
       "5     13  0.894727  0.899083\n",
       "6     19  0.199718  0.135135\n",
       "7     17  0.447185  0.443299\n",
       "8     16  0.592897  0.626506\n",
       "9     20  0.121740  0.147368"
      ]
     },
     "execution_count": 9,
     "metadata": {},
     "output_type": "execute_result"
    }
   ],
   "source": [
    "# Compute predicted probabilities of purchasing by price level\n",
    "predicted_prob = pd.DataFrame(zip(df.Price.unique(), results.predict(sm.add_constant(df.Price.unique()))), columns = ['Price', 'Prob'])\n",
    "# Merge with actual purchase probability from data\n",
    "predicted_prob = predicted_prob.merge(crosstab.reset_index()[['Price', 'prob_buy']], how = 'left', on = 'Price')\n",
    "predicted_prob"
   ]
  },
  {
   "cell_type": "code",
   "execution_count": 10,
   "metadata": {},
   "outputs": [
    {
     "data": {
      "text/plain": [
       "<matplotlib.axes._subplots.AxesSubplot at 0xcd8e7f0>"
      ]
     },
     "execution_count": 10,
     "metadata": {},
     "output_type": "execute_result"
    },
    {
     "data": {
      "image/png": "[encoded data removed]",
      "text/plain": [
       "<matplotlib.figure.Figure at 0xcd8e2e8>"
      ]
     },
     "metadata": {},
     "output_type": "display_data"
    }
   ],
   "source": [
    "predicted_prob.groupby('Price').first().plot() # how well did our model fit?"
   ]
  },
  {
   "cell_type": "code",
   "execution_count": 11,
   "metadata": {},
   "outputs": [
    {
     "data": {
      "text/plain": [
       "<matplotlib.collections.PathCollection at 0xd08bfd0>"
      ]
     },
     "execution_count": 11,
     "metadata": {},
     "output_type": "execute_result"
    },
    {
     "data": {
      "image/png": "[encoded data removed]",
      "text/plain": [
       "<matplotlib.figure.Figure at 0xce96cc0>"
      ]
     },
     "metadata": {},
     "output_type": "display_data"
    }
   ],
   "source": [
    "# Expected weighted profits\n",
    "c_m = 2\n",
    "predicted_prob['prof_weight'] = predicted_prob.apply(lambda x: (x['Price']-c_m)*x['Prob'], axis = 1)\n",
    "plt.scatter(predicted_prob.Price, predicted_prob.prof_weight)"
   ]
  },
  {
   "cell_type": "code",
   "execution_count": null,
   "metadata": {},
   "outputs": [],
   "source": []
  }
 ],
 "metadata": {
  "anaconda-cloud": {},
  "kernelspec": {
   "display_name": "Python 2",
   "language": "python",
   "name": "python2"
  },
  "language_info": {
   "codemirror_mode": {
    "name": "ipython",
    "version": 2
   },
   "file_extension": ".py",
   "mimetype": "text/x-python",
   "name": "python",
   "nbconvert_exporter": "python",
   "pygments_lexer": "ipython2",
   "version": "2.7.14"
  }
 },
 "nbformat": 4,
 "nbformat_minor": 2
}
