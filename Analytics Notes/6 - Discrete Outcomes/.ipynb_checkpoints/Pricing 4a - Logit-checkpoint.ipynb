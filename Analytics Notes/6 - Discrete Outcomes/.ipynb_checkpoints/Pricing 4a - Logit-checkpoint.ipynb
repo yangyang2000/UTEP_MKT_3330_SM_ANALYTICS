{
 "cells": [
  {
   "cell_type": "markdown",
   "metadata": {},
   "source": [
    "# Price experiments\n",
    "\n",
    "We discussed before that using pricing experiments to infer demand aggregate curves can be very costly to firms. This is due to randomness of choosing prices leading to lost potential profits. \n",
    "\n",
    "One of the great aspects of practicing marketing in a digital world is that pricing (or any other marketing lever) can often be customized to individual consumers. In this way, we are able to conduct experiments with much lower costs - we don't have to change prices for everyone, just some individuals.\n",
    "\n",
    "The problem, however, is how the marketer can infer demand functions for their profit maximization problems using individual data. When we were considering price experiments at the aggregate level, the fundamental observation recorded is a price and sales pair. This has a very natural demand-function interpretation. When we run price experiments for each individual, we end up with observations of price and purchase decision (whether one specific person bought). The interpretation of this data as a demand function here is not so straightforward.\n",
    "\n",
    "In order to interpret purchase/no purchase decisions, we need to develop some economic theory."
   ]
  },
  {
   "cell_type": "markdown",
   "metadata": {},
   "source": [
    "# Starting from preferences\n",
    "\n",
    "One of the fundamental assumptions of economics is that consumers are rational. This means:\n",
    "\n",
    "1. Consumers have complete preferences.\n",
    "2. Consumer preferences are transitive.\n",
    "\n",
    "Complete preference means that given any 2 pairs of products (A,B), the consumer is able to determine which she prefers and/or is indifferent between. The preference relation notation is as follows:\n",
    "\n",
    "1. $\\succsim$ means weak preference (could be indifferent)\n",
    "2. $\\succ$ means strong preference (cannot be indifferent)\n",
    "3. $\\sim$ means indifferent\n",
    "\n",
    "Transitive preference means: given that consumer prefers A to B ($A\\succsim B$) and she also preferes B to C ($B\\succsim C$), then a rational consumer must prefer A to C ($A\\succsim C$).\n",
    "\n",
    "Given that there are rational preferences, we can show that there exists utility functions that represent these preferences, or the mathematically equivalent statement below: \n",
    "\n",
    "$$\\text{Given some finite set of choice considerations $X$ } \\exists u: x\\rightarrow \\mathbb{R}, \\text{s.t. } x\\succsim y \\iff u(x)\\ge u(y), \\forall(x,y)\\in X$$\n",
    "\n",
    "**Proof:**\n",
    "This is a proof by construction. We first show that we can construct one specific utility function, and then show that this utility function implies the underlying preferences.\n",
    "\n",
    "Let our utilty function, $u$, be simply the cardinality of the no better than set, $NBT$:\n",
    "\n",
    "$$NBT(x)=\\{y\\in X s.t. x \\succsim y\\}$$\n",
    "\n",
    "$$u(x)=\\|{NBT(x)}\\|$$\n",
    "\n",
    "In other words, if $x$ is the most preferred element of set $X$ which has 100 elements, then the $u(x)=99$. Similarly, if x is the least preferred element of set $X$, then $u(x)=0$.\n",
    "\n",
    "Next, we just need to show that this utility function infers the same preference relations, i.e. show $u(x)\\ge u(y)\\implies x\\succsim y$.\n",
    "\n",
    "Suppose this is not the case, i.e. $\\exists x,y \\text{ s.t. } u(x)> u(y) \\text{ and } y\\succsim x$. Since $y\\succsim x$, it must be the case that $x\\in NBT(y)$. \n",
    "\n",
    "If $y\\succ x$, then $NBT(y)$ contains $x$ while $NBT(x)$ does not contain $y$. Moreover, if $x'\\in NBT(x)\\implies x'\\in NBT(y)$ by transitivity. Additionally, $y \\notin NBT(x)$. Therefore, $u(y)\\ge u(x)+1$. $\\Rightarrow\\Leftarrow$ (that means contradiction)\n",
    "\n",
    "**Note** there are infinite number of utility functions for which any set of preferences can be represented. Ex. Any translations of the utility function above works. This means that it's not so important what the value of utility functions yield, as long as the order is preserved."
   ]
  },
  {
   "cell_type": "markdown",
   "metadata": {},
   "source": [
    "# From utility functions to utility maxmization\n",
    "\n",
    "Rather than working with preferences, we are able to work with utility functions. Utility functions allow us to formalize mathematically rational consumer behavior.\n",
    "\n",
    "Let $U(\\cdot)$ be a utility function. The consumer's problem is:\n",
    "\n",
    "$$Max_{x}u(x)$$\n",
    "$$\\text{s.t. }p\\cdot x\\le W$$\n",
    "\n",
    "Where $x$ is a vector of choice quantities $x=\\{x_1,x_2,...,x_n\\}$, p is the vector set of unit prices $p=\\{p_1, p_2, ...,p_n\\}$ and $p\\cdot x$ is the dot product, $\\sum_{i}x_ip_i$.\n",
    "\n",
    "We won't go in too much detail about deriving properties of utility maximizing consumers, you can learn that in a graduate microeconomics course."
   ]
  },
  {
   "cell_type": "markdown",
   "metadata": {},
   "source": [
    "# Putting the random in utility maximization\n",
    "\n",
    "One thing that one may ask is, if consumers are rational, why do we ever make different choices given the same choice set?\n",
    "\n",
    "The short answer is, we are never really given the same choice set.\n",
    "\n",
    "There is always something different about each situation. Maybe it's the time, place, weather, mood, etc...\n",
    "\n",
    "Economists model these \"unobserved\" differences by purchase occassion by allowing utility functions to have a random component. In other words, the deterministic component of a utility function only represents the expected utility. The function also includes a random \"shock\" to the utility function that will alter the observed revealed preference. \n",
    "\n",
    "**This way of thinking about consumers is called random utility maximization, or RUM.**\n",
    "\n",
    "The typical formulation of the utility function describes choices by a set of defining characteristics. Let's call these $x$. This is similar to the bundle of goods in utility maximization problem. You can think of purchasing a bundle of goods as purchasing a bundle of product characteristics. We can write this typical utility function as consumer i's utility for product j below:\n",
    "\n",
    "$$U(x_{i,j})=x_j\\beta+\\epsilon_{i,j}$$\n",
    "\n",
    "The consumer therefore maximizes her utility by picking the product $j$ such that:\n",
    "\n",
    "$$U_{i,j}>U_{i,k}\\forall k\\neq j$$\n",
    "\n",
    "Therefore the probability of picking product $j$ is:\n",
    "$$Pr(x_j\\beta+\\epsilon_{i,j}>x_k\\beta+\\epsilon_{i,k})$$\n",
    "\n",
    "Equivalently,\n",
    "$$Pr(x_j\\beta-x_k\\beta>\\epsilon_{i,k}-\\epsilon_{i,j})$$\n",
    "\n",
    "So if errors are independently and identically distributed, we just need the proportion of the time that the first of these 2 randomly drawn random numbers are greater than the other.\n",
    "\n",
    "# The binary case.\n",
    "\n",
    "Consider the binary choice case. In this scenario you have only to make one choice, to take or not to take a particular action. Think of this in our application as whether or not to buy. Let's further assume that the only difference between consumers is the prices that they see. We assume that consumers are in expectation the same (think of this as having a uniform target audience for your price experiment).\n",
    "\n",
    "$$U(p_{i})=\\beta_0+\\beta p_i+\\epsilon_{i}$$\n",
    "\n",
    "We can normalize their utility for not buying to be 0 (remember only the cardinality of utility matters). \n",
    "\n",
    "Consumer buys when:\n",
    "$$\\beta_0+\\beta p_i>0$$\n",
    "\n",
    "Otherwise, the consumer does not buy.\n",
    "\n",
    "The generated dataset will have whether or not each consumer bought (1 for buying 0 for not), the price they were shown. We can also include demographic variables to control for observed heterogeneity if available, these would be treated just as price is treated.\n",
    "\n",
    "The last piece of the puzzle we need is to make an assumption about the distribution of the error. Because of mathematical convenience, this is typically assumed to be distributed logistically, hence the term logistic regression- or simply \"logit.\" If we assume a random normal error, we get a probit. The problem with probit is that the estimation is more difficult - there is no \"closed form solution.\" You can learn about this in your graduate econometrics course.\n",
    "\n",
    "Binary logit case, the probability of observing a purchase would be:\n",
    "\n",
    "$$Pr(U_i>0)=\\frac{1}{1+e^{-(\\beta_0+\\beta p_i)}}$$\n",
    "\n",
    "We will omit the derivation of the maximul likelihood estimation of the binary logit for this class. But the idea is we want to choose a $\\beta$ that maximizes the joint probability of observing all of our consumer choices."
   ]
  },
  {
   "cell_type": "markdown",
   "metadata": {},
   "source": [
    "# How to run binary Logit in Python"
   ]
  },
  {
   "cell_type": "code",
   "execution_count": 11,
   "metadata": {},
   "outputs": [],
   "source": [
    "#### Let's first simulate some logit choice data\n",
    "## experimental prices\n",
    "import numpy as np, pandas as pd\n",
    "% matplotlib inline\n",
    "from matplotlib import pyplot as plt\n",
    "\n",
    "samplesize = 1000\n",
    "prices = np.random.randint(13,23, size = samplesize)\n",
    "epsilon = np.random.logistic(loc=0.0, scale=1.0, size=samplesize)\n",
    "beta1 = -.6\n",
    "beta0 = 10\n",
    "utilities = beta0+beta1*prices+epsilon\n",
    "choices = [int((np.sign(u)+1)/2) for u in utilities]"
   ]
  },
  {
   "cell_type": "code",
   "execution_count": 12,
   "metadata": {},
   "outputs": [
    {
     "data": {
      "text/plain": [
       "(array([  9.,  16.,  54., 185., 323., 252., 116.,  30.,  10.,   5.]),\n",
       " array([-6.65169491, -5.23201919, -3.81234348, -2.39266776, -0.97299204,\n",
       "         0.44668367,  1.86635939,  3.2860351 ,  4.70571082,  6.12538653,\n",
       "         7.54506225]),\n",
       " <a list of 10 Patch objects>)"
      ]
     },
     "execution_count": 12,
     "metadata": {},
     "output_type": "execute_result"
    },
    {
     "data": {
      "image/png": "[encoded data removed]",
      "text/plain": [
       "<matplotlib.figure.Figure at 0xccd6978>"
      ]
     },
     "metadata": {},
     "output_type": "display_data"
    }
   ],
   "source": [
    "# This is what the logistic shocks looks like as a distribution\n",
    "plt.hist(epsilon)"
   ]
  },
  {
   "cell_type": "code",
   "execution_count": 13,
   "metadata": {},
   "outputs": [
    {
     "data": {
      "text/plain": [
       "(array([544.,   0.,   0.,   0.,   0.,   0.,   0.,   0.,   0., 456.]),\n",
       " array([0. , 0.1, 0.2, 0.3, 0.4, 0.5, 0.6, 0.7, 0.8, 0.9, 1. ]),\n",
       " <a list of 10 Patch objects>)"
      ]
     },
     "execution_count": 13,
     "metadata": {},
     "output_type": "execute_result"
    },
    {
     "data": {
      "image/png": "[encoded data removed]",
      "text/plain": [
       "<matplotlib.figure.Figure at 0xcd1cf98>"
      ]
     },
     "metadata": {},
     "output_type": "display_data"
    }
   ],
   "source": [
    "# choices\n",
    "plt.hist(choices)"
   ]
  },
  {
   "cell_type": "code",
   "execution_count": 14,
   "metadata": {},
   "outputs": [
    {
     "data": {
      "text/html": [
       "<div>\n",
       "<style scoped>\n",
       "    .dataframe tbody tr th:only-of-type {\n",
       "        vertical-align: middle;\n",
       "    }\n",
       "\n",
       "    .dataframe tbody tr th {\n",
       "        vertical-align: top;\n",
       "    }\n",
       "\n",
       "    .dataframe thead th {\n",
       "        text-align: right;\n",
       "    }\n",
       "</style>\n",
       "<table border=\"1\" class=\"dataframe\">\n",
       "  <thead>\n",
       "    <tr style=\"text-align: right;\">\n",
       "      <th>Buy</th>\n",
       "      <th>0</th>\n",
       "      <th>1</th>\n",
       "    </tr>\n",
       "    <tr>\n",
       "      <th>Price</th>\n",
       "      <th></th>\n",
       "      <th></th>\n",
       "    </tr>\n",
       "  </thead>\n",
       "  <tbody>\n",
       "    <tr>\n",
       "      <th>13</th>\n",
       "      <td>5</td>\n",
       "      <td>106</td>\n",
       "    </tr>\n",
       "    <tr>\n",
       "      <th>14</th>\n",
       "      <td>20</td>\n",
       "      <td>79</td>\n",
       "    </tr>\n",
       "    <tr>\n",
       "      <th>15</th>\n",
       "      <td>28</td>\n",
       "      <td>60</td>\n",
       "    </tr>\n",
       "    <tr>\n",
       "      <th>16</th>\n",
       "      <td>24</td>\n",
       "      <td>69</td>\n",
       "    </tr>\n",
       "    <tr>\n",
       "      <th>17</th>\n",
       "      <td>50</td>\n",
       "      <td>47</td>\n",
       "    </tr>\n",
       "    <tr>\n",
       "      <th>18</th>\n",
       "      <td>64</td>\n",
       "      <td>33</td>\n",
       "    </tr>\n",
       "    <tr>\n",
       "      <th>19</th>\n",
       "      <td>77</td>\n",
       "      <td>28</td>\n",
       "    </tr>\n",
       "    <tr>\n",
       "      <th>20</th>\n",
       "      <td>79</td>\n",
       "      <td>24</td>\n",
       "    </tr>\n",
       "    <tr>\n",
       "      <th>21</th>\n",
       "      <td>91</td>\n",
       "      <td>4</td>\n",
       "    </tr>\n",
       "    <tr>\n",
       "      <th>22</th>\n",
       "      <td>106</td>\n",
       "      <td>6</td>\n",
       "    </tr>\n",
       "  </tbody>\n",
       "</table>\n",
       "</div>"
      ],
      "text/plain": [
       "Buy      0    1\n",
       "Price          \n",
       "13       5  106\n",
       "14      20   79\n",
       "15      28   60\n",
       "16      24   69\n",
       "17      50   47\n",
       "18      64   33\n",
       "19      77   28\n",
       "20      79   24\n",
       "21      91    4\n",
       "22     106    6"
      ]
     },
     "execution_count": 14,
     "metadata": {},
     "output_type": "execute_result"
    }
   ],
   "source": [
    "df = pd.DataFrame(zip(prices, choices), columns = ['Price', 'Buy'])\n",
    "crosstab = pd.crosstab(df.Price, df.Buy)\n",
    "crosstab"
   ]
  },
  {
   "cell_type": "code",
   "execution_count": 15,
   "metadata": {},
   "outputs": [
    {
     "data": {
      "text/plain": [
       "<matplotlib.axes._subplots.AxesSubplot at 0xd0b4390>"
      ]
     },
     "execution_count": 15,
     "metadata": {},
     "output_type": "execute_result"
    },
    {
     "data": {
      "image/png": "[encoded data removed]",
      "text/plain": [
       "<matplotlib.figure.Figure at 0xd0c9f60>"
      ]
     },
     "metadata": {},
     "output_type": "display_data"
    }
   ],
   "source": [
    "from __future__ import division\n",
    "crosstab['prob_buy'] = crosstab.apply(lambda x: x[1]/(x[1]+x[0]), axis = 1)\n",
    "crosstab['prob_buy'].plot()"
   ]
  },
  {
   "cell_type": "code",
   "execution_count": 16,
   "metadata": {},
   "outputs": [
    {
     "name": "stdout",
     "output_type": "stream",
     "text": [
      "Optimization terminated successfully.\n",
      "         Current function value: 0.474972\n",
      "         Iterations 6\n"
     ]
    }
   ],
   "source": [
    "# estimating the logit\n",
    "from scipy import stats # you may or may not need the first 2 lines\n",
    "stats.chisqprob = lambda chisq, df: stats.chi2.sf(chisq, df) # you may or may not need this\n",
    "import statsmodels.api as sm\n",
    "results = sm.Logit(df.Buy, sm.add_constant(df.Price)).fit()"
   ]
  },
  {
   "cell_type": "code",
   "execution_count": 17,
   "metadata": {},
   "outputs": [
    {
     "data": {
      "text/html": [
       "<table class=\"simpletable\">\n",
       "<caption>Logit Regression Results</caption>\n",
       "<tr>\n",
       "  <th>Dep. Variable:</th>        <td>Buy</td>       <th>  No. Observations:  </th>  <td>  1000</td>  \n",
       "</tr>\n",
       "<tr>\n",
       "  <th>Model:</th>               <td>Logit</td>      <th>  Df Residuals:      </th>  <td>   998</td>  \n",
       "</tr>\n",
       "<tr>\n",
       "  <th>Method:</th>               <td>MLE</td>       <th>  Df Model:          </th>  <td>     1</td>  \n",
       "</tr>\n",
       "<tr>\n",
       "  <th>Date:</th>          <td>Wed, 04 Apr 2018</td> <th>  Pseudo R-squ.:     </th>  <td>0.3109</td>  \n",
       "</tr>\n",
       "<tr>\n",
       "  <th>Time:</th>              <td>14:48:17</td>     <th>  Log-Likelihood:    </th> <td> -474.97</td> \n",
       "</tr>\n",
       "<tr>\n",
       "  <th>converged:</th>           <td>True</td>       <th>  LL-Null:           </th> <td> -689.27</td> \n",
       "</tr>\n",
       "<tr>\n",
       "  <th> </th>                      <td> </td>        <th>  LLR p-value:       </th> <td>3.284e-95</td>\n",
       "</tr>\n",
       "</table>\n",
       "<table class=\"simpletable\">\n",
       "<tr>\n",
       "    <td></td>       <th>coef</th>     <th>std err</th>      <th>z</th>      <th>P>|z|</th>  <th>[0.025</th>    <th>0.975]</th>  \n",
       "</tr>\n",
       "<tr>\n",
       "  <th>const</th> <td>    9.6534</td> <td>    0.598</td> <td>   16.136</td> <td> 0.000</td> <td>    8.481</td> <td>   10.826</td>\n",
       "</tr>\n",
       "<tr>\n",
       "  <th>Price</th> <td>   -0.5657</td> <td>    0.034</td> <td>  -16.469</td> <td> 0.000</td> <td>   -0.633</td> <td>   -0.498</td>\n",
       "</tr>\n",
       "</table>"
      ],
      "text/plain": [
       "<class 'statsmodels.iolib.summary.Summary'>\n",
       "\"\"\"\n",
       "                           Logit Regression Results                           \n",
       "==============================================================================\n",
       "Dep. Variable:                    Buy   No. Observations:                 1000\n",
       "Model:                          Logit   Df Residuals:                      998\n",
       "Method:                           MLE   Df Model:                            1\n",
       "Date:                Wed, 04 Apr 2018   Pseudo R-squ.:                  0.3109\n",
       "Time:                        14:48:17   Log-Likelihood:                -474.97\n",
       "converged:                       True   LL-Null:                       -689.27\n",
       "                                        LLR p-value:                 3.284e-95\n",
       "==============================================================================\n",
       "                 coef    std err          z      P>|z|      [0.025      0.975]\n",
       "------------------------------------------------------------------------------\n",
       "const          9.6534      0.598     16.136      0.000       8.481      10.826\n",
       "Price         -0.5657      0.034    -16.469      0.000      -0.633      -0.498\n",
       "==============================================================================\n",
       "\"\"\""
      ]
     },
     "execution_count": 17,
     "metadata": {},
     "output_type": "execute_result"
    }
   ],
   "source": [
    "results.summary()"
   ]
  },
  {
   "cell_type": "code",
   "execution_count": 18,
   "metadata": {},
   "outputs": [
    {
     "data": {
      "text/html": [
       "<table class=\"simpletable\">\n",
       "<caption>Logit Marginal Effects</caption>\n",
       "<tr>\n",
       "  <th>Dep. Variable:</th>   <td>Buy</td>  \n",
       "</tr>\n",
       "<tr>\n",
       "  <th>Method:</th>         <td>dydx</td>  \n",
       "</tr>\n",
       "<tr>\n",
       "  <th>At:</th>            <td>overall</td>\n",
       "</tr>\n",
       "</table>\n",
       "<table class=\"simpletable\">\n",
       "<tr>\n",
       "    <th></th>       <th>dy/dx</th>    <th>std err</th>      <th>z</th>      <th>P>|z|</th>  <th>[0.025</th>    <th>0.975]</th>  \n",
       "</tr>\n",
       "<tr>\n",
       "  <th>Price</th> <td>   -0.0870</td> <td>    0.002</td> <td>  -51.236</td> <td> 0.000</td> <td>   -0.090</td> <td>   -0.084</td>\n",
       "</tr>\n",
       "</table>"
      ],
      "text/plain": [
       "<class 'statsmodels.iolib.summary.Summary'>\n",
       "\"\"\"\n",
       "        Logit Marginal Effects       \n",
       "=====================================\n",
       "Dep. Variable:                    Buy\n",
       "Method:                          dydx\n",
       "At:                           overall\n",
       "==============================================================================\n",
       "                dy/dx    std err          z      P>|z|      [0.025      0.975]\n",
       "------------------------------------------------------------------------------\n",
       "Price         -0.0870      0.002    -51.236      0.000      -0.090      -0.084\n",
       "==============================================================================\n",
       "\"\"\""
      ]
     },
     "execution_count": 18,
     "metadata": {},
     "output_type": "execute_result"
    }
   ],
   "source": [
    "# we can't really direclty interpret price prediction\n",
    "# marginal effects gets us the change in probability of purchasing per change \n",
    "# in dollar price at the average price charged\n",
    "mfx = results.get_margeff()\n",
    "mfx.summary()"
   ]
  },
  {
   "cell_type": "code",
   "execution_count": 19,
   "metadata": {},
   "outputs": [
    {
     "data": {
      "text/html": [
       "<div>\n",
       "<style scoped>\n",
       "    .dataframe tbody tr th:only-of-type {\n",
       "        vertical-align: middle;\n",
       "    }\n",
       "\n",
       "    .dataframe tbody tr th {\n",
       "        vertical-align: top;\n",
       "    }\n",
       "\n",
       "    .dataframe thead th {\n",
       "        text-align: right;\n",
       "    }\n",
       "</style>\n",
       "<table border=\"1\" class=\"dataframe\">\n",
       "  <thead>\n",
       "    <tr style=\"text-align: right;\">\n",
       "      <th></th>\n",
       "      <th>Price</th>\n",
       "      <th>Prob</th>\n",
       "      <th>prob_buy</th>\n",
       "    </tr>\n",
       "  </thead>\n",
       "  <tbody>\n",
       "    <tr>\n",
       "      <th>0</th>\n",
       "      <td>17</td>\n",
       "      <td>0.509013</td>\n",
       "      <td>0.484536</td>\n",
       "    </tr>\n",
       "    <tr>\n",
       "      <th>1</th>\n",
       "      <td>21</td>\n",
       "      <td>0.097365</td>\n",
       "      <td>0.042105</td>\n",
       "    </tr>\n",
       "    <tr>\n",
       "      <th>2</th>\n",
       "      <td>14</td>\n",
       "      <td>0.849826</td>\n",
       "      <td>0.797980</td>\n",
       "    </tr>\n",
       "    <tr>\n",
       "      <th>3</th>\n",
       "      <td>15</td>\n",
       "      <td>0.762695</td>\n",
       "      <td>0.681818</td>\n",
       "    </tr>\n",
       "    <tr>\n",
       "      <th>4</th>\n",
       "      <td>20</td>\n",
       "      <td>0.159611</td>\n",
       "      <td>0.233010</td>\n",
       "    </tr>\n",
       "    <tr>\n",
       "      <th>5</th>\n",
       "      <td>18</td>\n",
       "      <td>0.370594</td>\n",
       "      <td>0.340206</td>\n",
       "    </tr>\n",
       "    <tr>\n",
       "      <th>6</th>\n",
       "      <td>13</td>\n",
       "      <td>0.908791</td>\n",
       "      <td>0.954955</td>\n",
       "    </tr>\n",
       "    <tr>\n",
       "      <th>7</th>\n",
       "      <td>16</td>\n",
       "      <td>0.646064</td>\n",
       "      <td>0.741935</td>\n",
       "    </tr>\n",
       "    <tr>\n",
       "      <th>8</th>\n",
       "      <td>22</td>\n",
       "      <td>0.057727</td>\n",
       "      <td>0.053571</td>\n",
       "    </tr>\n",
       "    <tr>\n",
       "      <th>9</th>\n",
       "      <td>19</td>\n",
       "      <td>0.250603</td>\n",
       "      <td>0.266667</td>\n",
       "    </tr>\n",
       "  </tbody>\n",
       "</table>\n",
       "</div>"
      ],
      "text/plain": [
       "   Price      Prob  prob_buy\n",
       "0     17  0.509013  0.484536\n",
       "1     21  0.097365  0.042105\n",
       "2     14  0.849826  0.797980\n",
       "3     15  0.762695  0.681818\n",
       "4     20  0.159611  0.233010\n",
       "5     18  0.370594  0.340206\n",
       "6     13  0.908791  0.954955\n",
       "7     16  0.646064  0.741935\n",
       "8     22  0.057727  0.053571\n",
       "9     19  0.250603  0.266667"
      ]
     },
     "execution_count": 19,
     "metadata": {},
     "output_type": "execute_result"
    }
   ],
   "source": [
    "# Compute predicted probabilities of purchasing by price level\n",
    "predicted_prob = pd.DataFrame(zip(df.Price.unique(), results.predict(sm.add_constant(df.Price.unique()))), columns = ['Price', 'Prob'])\n",
    "# Merge with actual purchase probability from data\n",
    "predicted_prob = predicted_prob.merge(crosstab.reset_index()[['Price', 'prob_buy']], how = 'left', on = 'Price')\n",
    "predicted_prob"
   ]
  },
  {
   "cell_type": "code",
   "execution_count": 20,
   "metadata": {},
   "outputs": [
    {
     "data": {
      "text/plain": [
       "<matplotlib.axes._subplots.AxesSubplot at 0xd1c8ba8>"
      ]
     },
     "execution_count": 20,
     "metadata": {},
     "output_type": "execute_result"
    },
    {
     "data": {
      "image/png": "[encoded data removed]",
      "text/plain": [
       "<matplotlib.figure.Figure at 0xd0c9f98>"
      ]
     },
     "metadata": {},
     "output_type": "display_data"
    }
   ],
   "source": [
    "predicted_prob.groupby('Price').first().plot() # how well did our model fit?"
   ]
  },
  {
   "cell_type": "code",
   "execution_count": 21,
   "metadata": {},
   "outputs": [
    {
     "data": {
      "text/plain": [
       "<matplotlib.collections.PathCollection at 0xe5f1080>"
      ]
     },
     "execution_count": 21,
     "metadata": {},
     "output_type": "execute_result"
    },
    {
     "data": {
      "image/png": "[encoded data removed]",
      "text/plain": [
       "<matplotlib.figure.Figure at 0xd1d6a58>"
      ]
     },
     "metadata": {},
     "output_type": "display_data"
    }
   ],
   "source": [
    "# Expected weighted profits\n",
    "c_m = 2\n",
    "predicted_prob['prof_weight'] = predicted_prob.apply(lambda x: (x['Price']-c_m)*x['Prob'], axis = 1)\n",
    "plt.scatter(predicted_prob.Price, predicted_prob.prof_weight)"
   ]
  }
 ],
 "metadata": {
  "anaconda-cloud": {},
  "kernelspec": {
   "display_name": "Python 2",
   "language": "python",
   "name": "python2"
  },
  "language_info": {
   "codemirror_mode": {
    "name": "ipython",
    "version": 2
   },
   "file_extension": ".py",
   "mimetype": "text/x-python",
   "name": "python",
   "nbconvert_exporter": "python",
   "pygments_lexer": "ipython2",
   "version": "2.7.14"
  }
 },
 "nbformat": 4,
 "nbformat_minor": 2
}
