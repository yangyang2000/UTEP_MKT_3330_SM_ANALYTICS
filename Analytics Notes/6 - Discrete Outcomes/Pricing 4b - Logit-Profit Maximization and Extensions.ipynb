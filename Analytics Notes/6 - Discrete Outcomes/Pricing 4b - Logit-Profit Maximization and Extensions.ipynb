{
 "cells": [
  {
   "cell_type": "code",
   "execution_count": 65,
   "metadata": {},
   "outputs": [],
   "source": [
    "import numpy as np, pandas as pd\n",
    "from scipy import stats # you may or may not need these 2 lines\n",
    "stats.chisqprob = lambda chisq, df: stats.chi2.sf(chisq, df) # you may or may not need this\n",
    "from __future__ import division\n",
    "% matplotlib inline\n",
    "from matplotlib import pyplot as plt\n",
    "## Parameters for our Logit Demand ##\n",
    "b0,b1,c_m = 10,-.6, 2."
   ]
  },
  {
   "cell_type": "markdown",
   "metadata": {
    "collapsed": true
   },
   "source": [
    "# Interpreting the coefficient on price\n",
    "$$\\text{Effect of price change on demand}=\\frac{d}{dp}\\frac{1}{1+e^{-(\\beta_0+\\beta p_i)}}=\\frac{b_1 e^{b_0 + b_1 p}}{(1 + e^{b0 + b1 p})^2}$$\n",
    "\n"
   ]
  },
  {
   "cell_type": "code",
   "execution_count": 66,
   "metadata": {},
   "outputs": [],
   "source": [
    "def _derivative_p_(p,b0,b1):\n",
    "    return b1*np.exp(b0+b1*p)/np.square((1+np.exp(b0+b1*p)))"
   ]
  },
  {
   "cell_type": "code",
   "execution_count": 67,
   "metadata": {},
   "outputs": [
    {
     "data": {
      "text/plain": [
       "<matplotlib.collections.PathCollection at 0x121d8898>"
      ]
     },
     "execution_count": 67,
     "metadata": {},
     "output_type": "execute_result"
    },
    {
     "data": {
      "image/png": "[encoded data removed]",
      "text/plain": [
       "<matplotlib.figure.Figure at 0x10cafa90>"
      ]
     },
     "metadata": {},
     "output_type": "display_data"
    }
   ],
   "source": [
    "# b0,b1,c_m = 10.855,-.64,2.\n",
    "prices = np.arange(10,30,.1) # range from 10 to 20 with .1 steps\n",
    "chgind = [_derivative_p_(p,b0,b1) for p in prices] # compute change in demand\n",
    "plt.scatter(prices, chgind)"
   ]
  },
  {
   "cell_type": "markdown",
   "metadata": {},
   "source": [
    "# What about price elasticity?\n",
    "$$ \\text{Elasticity} = \\frac{d}{dd}\\frac{dp}{p}=\\frac{b_1 e^{b_0 + b_1 p}}{(1 + e^{b0 + b1 p})^2}\\frac{p}{\\frac{1}{1+e^{-(\\beta_0+\\beta p_i)}}}=\\frac{b_1 p}{e^{b_0+b_1p}+1}$$\n",
    "\n",
    "** Note the elasticity depends on b1 and b0! **"
   ]
  },
  {
   "cell_type": "code",
   "execution_count": 68,
   "metadata": {},
   "outputs": [],
   "source": [
    "def _elasticity_(p,b0,b1):\n",
    "    return b1*p/(np.exp(b0+b1*p)+1)"
   ]
  },
  {
   "cell_type": "code",
   "execution_count": 69,
   "metadata": {
    "scrolled": true
   },
   "outputs": [
    {
     "data": {
      "text/plain": [
       "<matplotlib.lines.Line2D at 0x120d6240>"
      ]
     },
     "execution_count": 69,
     "metadata": {},
     "output_type": "execute_result"
    },
    {
     "data": {
      "image/png": "[encoded data removed]",
      "text/plain": [
       "<matplotlib.figure.Figure at 0x11a2ba90>"
      ]
     },
     "metadata": {},
     "output_type": "display_data"
    }
   ],
   "source": [
    "prices = np.arange(10,30,.1) # range from 10 to 20 with .1 steps\n",
    "elas = [_elasticity_(p,b0,b1) for p in prices] # compute change in demand\n",
    "plt.scatter(prices, elas)\n",
    "plt.axhline(y=-1, c = 'r')"
   ]
  },
  {
   "cell_type": "markdown",
   "metadata": {},
   "source": [
    "# Profit maximization with binary logit demand\n",
    "\n",
    "$$Pr(U_i>0)=\\frac{1}{1+e^{-(\\beta_0+\\beta p_i)}}=\\frac{1}{1+e^{-(10.855-.64 p_i)}}$$\n",
    "\n",
    "$$E[\\Pi]=KPr(U_i>0)\\cdot (p-c_m), \\text{ where K is the total market size}$$\n",
    "\n",
    "Note, optimal price should not really depend on K as it multiplies everything, which means when you take the derivative and set equal to 0 to find the maximum, you will end up dropping the K (you divide both sides by K and dividing 0 by K is still 0).\n",
    "\n",
    "Therefore, we only need to maximize $Pr(U_i>0)\\cdot (p-c_m)$ to find the optimal price.\n",
    "\n",
    "First, we re-write this expression as:\n",
    "\n",
    "$$\\frac{p-c_m}{1+e^{-(\\beta_0+\\beta p_i)}} $$\n",
    "\n",
    "Solving for the maximum of this expression is analytically intractable ([See This for more Details](http://ashwin.faculty.ucdavis.edu/wp-content/uploads/sites/169/2014/12/Publication-5.pdf)). **Therefore, we must rely on numerical optimization.**\n",
    "\n",
    "**SciPy has a convenient numerical optimization function.**\n",
    "\n",
    "# Example: Solve for profit maximizing price"
   ]
  },
  {
   "cell_type": "code",
   "execution_count": 51,
   "metadata": {},
   "outputs": [],
   "source": [
    "from scipy.optimize import fmin # import the numerical optimization function\n",
    "# first we have to define the objective function, this is our profit function\n",
    "def _profit_function_(p, b0,b1,c_m):\n",
    "    return (p-c_m)/(1+np.exp(-(b0+b1*p)))"
   ]
  },
  {
   "cell_type": "code",
   "execution_count": null,
   "metadata": {},
   "outputs": [],
   "source": []
  },
  {
   "cell_type": "code",
   "execution_count": 73,
   "metadata": {},
   "outputs": [
    {
     "name": "stdout",
     "output_type": "stream",
     "text": [
      "Optimization terminated successfully.\n",
      "         Current function value: -10.011773\n",
      "         Iterations: 23\n",
      "         Function evaluations: 46\n"
     ]
    },
    {
     "data": {
      "text/plain": [
       "13.678417968750026"
      ]
     },
     "execution_count": 73,
     "metadata": {},
     "output_type": "execute_result"
    }
   ],
   "source": [
    "# Next we run the optimization\n",
    "# b0,b1,c_m = 10, -.6, 2\n",
    "pstar = fmin(lambda x: -_profit_function_(x, b0,b1,c_m), c_m)[0]  \n",
    "# the \", c_m\" is the starting value that the numerical solver begins its search at\n",
    "# Why are we using the negative of the profit function??\n",
    "pstar"
   ]
  },
  {
   "cell_type": "code",
   "execution_count": 75,
   "metadata": {},
   "outputs": [
    {
     "data": {
      "text/plain": [
       "Text(0.5,1,u'Expected Profit Per Visit')"
      ]
     },
     "execution_count": 75,
     "metadata": {},
     "output_type": "execute_result"
    },
    {
     "data": {
      "image/png": "[encoded data removed]",
      "text/plain": [
       "<matplotlib.figure.Figure at 0x122d10b8>"
      ]
     },
     "metadata": {},
     "output_type": "display_data"
    }
   ],
   "source": [
    "plt.scatter(prices, [_profit_function_(p,b0,b1,c_m) for p in prices])\n",
    "plt.axvline(x=pstar, color = 'r')\n",
    "plt.title('Expected Profit Per Visit')"
   ]
  },
  {
   "cell_type": "markdown",
   "metadata": {},
   "source": [
    "# Adding additional explanatory variables\n",
    "\n",
    "With logit demand, we have a discrete choice model. In this model, we asume each consumer, $i$, has a common utility function that represents their rational preferences over product attributes, $j$:\n",
    "\n",
    "$$U_i=\\sum_jx_j\\beta_j+\\epsilon_{i}$$\n",
    "\n",
    "At least one of these preference attributes, j is price.\n",
    "\n",
    "Let's rewrite it as:\n",
    "\n",
    "$$U(x_{i})=\\sum_jx_j\\beta_j+\\alpha p_i+\\epsilon_{i}$$\n",
    "\n",
    "We can let $x$ be any explanatory variable. For example, x_j can be the advertising used, the time of day the item is being displayed, the size of the package, etc.\n",
    "\n",
    "Assuming the error term $\\epsilon\\sim \\text{Logistic(0,1)}$, we can express the probability of purchase as:\n",
    "\n",
    "$$Pr(U_i>0)=\\frac{1}{1+e^{-(\\sum_j{x_j\\beta_j}+\\alpha p_i)}}$$\n",
    "\n",
    "\n",
    "## Example, let's simulate some data with  clickthrough search advertisements.\n",
    "We want to test the effect of prices on demand for customers who arrive at the site following an ad versus organic traffic. Let's randomly assign the price charged each customer. What's the effect of price on probability of purchase? Are customers who follow an ad to the site better or worse? \n",
    "\n",
    "Assume marginal cost is \\$2 and the cost per click of the ad is \\$1.70. Note that this cost is incurred for any visitor, whether or not they bought, as long as they got to the page through the ad.\n",
    "\n",
    "Utility function:\n",
    "$$ U_i = \\beta_0+\\beta_1\\text{ad}+\\alpha p+\\epsilon_{i} $$\n",
    "\n",
    "Probability of buying:\n",
    "$$Pr(U_i>0)=\\frac{1}{1+e^{-(\\beta_0+\\beta_1 ad+\\alpha p_i)}}$$\n",
    "\n",
    "Simulation: let $\\beta_0=10,\\beta_1=1.5,\\alpha = -.7,c_m=2, c_{ad} = 1.7$"
   ]
  },
  {
   "cell_type": "code",
   "execution_count": 77,
   "metadata": {},
   "outputs": [
    {
     "data": {
      "text/html": [
       "<div>\n",
       "<style scoped>\n",
       "    .dataframe tbody tr th:only-of-type {\n",
       "        vertical-align: middle;\n",
       "    }\n",
       "\n",
       "    .dataframe tbody tr th {\n",
       "        vertical-align: top;\n",
       "    }\n",
       "\n",
       "    .dataframe thead th {\n",
       "        text-align: right;\n",
       "    }\n",
       "</style>\n",
       "<table border=\"1\" class=\"dataframe\">\n",
       "  <thead>\n",
       "    <tr style=\"text-align: right;\">\n",
       "      <th></th>\n",
       "      <th>Price</th>\n",
       "      <th>Ad</th>\n",
       "      <th>Buy</th>\n",
       "    </tr>\n",
       "  </thead>\n",
       "  <tbody>\n",
       "    <tr>\n",
       "      <th>0</th>\n",
       "      <td>19</td>\n",
       "      <td>1</td>\n",
       "      <td>1</td>\n",
       "    </tr>\n",
       "    <tr>\n",
       "      <th>1</th>\n",
       "      <td>21</td>\n",
       "      <td>1</td>\n",
       "      <td>0</td>\n",
       "    </tr>\n",
       "    <tr>\n",
       "      <th>2</th>\n",
       "      <td>24</td>\n",
       "      <td>1</td>\n",
       "      <td>0</td>\n",
       "    </tr>\n",
       "    <tr>\n",
       "      <th>3</th>\n",
       "      <td>11</td>\n",
       "      <td>0</td>\n",
       "      <td>0</td>\n",
       "    </tr>\n",
       "    <tr>\n",
       "      <th>4</th>\n",
       "      <td>19</td>\n",
       "      <td>1</td>\n",
       "      <td>0</td>\n",
       "    </tr>\n",
       "  </tbody>\n",
       "</table>\n",
       "</div>"
      ],
      "text/plain": [
       "   Price  Ad  Buy\n",
       "0     19   1    1\n",
       "1     21   1    0\n",
       "2     24   1    0\n",
       "3     11   0    0\n",
       "4     19   1    0"
      ]
     },
     "execution_count": 77,
     "metadata": {},
     "output_type": "execute_result"
    }
   ],
   "source": [
    "samplesize = 2000 # Set number of samples\n",
    "prices = np.random.randint(7,25, size = samplesize) # Randomize prices $7 and $25\n",
    "ads = np.random.randint(0,2, samplesize) # Randomize ads\n",
    "epsilon = np.random.logistic(loc=0.0, scale=1.0, size=samplesize) # Random utility shocks\n",
    "\n",
    "## Set parameters ##\n",
    "beta1 = 1.5\n",
    "beta0 = 10\n",
    "alpha = -.7\n",
    "\n",
    "c_ad = 1.7\n",
    "c_m = 2\n",
    "## Compute individual utilities ##\n",
    "utilities = beta0+beta1*ads+alpha*prices+epsilon\n",
    "## Translate utility to chioces (buys when u>0)\n",
    "choices = [int((np.sign(u)+1)/2) for u in utilities]\n",
    "\n",
    "# Put data together for what customers see\n",
    "df = pd.DataFrame(zip(prices, ads, choices),columns = ['Price', 'Ad', 'Buy'] )\n",
    "df.head()"
   ]
  },
  {
   "cell_type": "code",
   "execution_count": 88,
   "metadata": {},
   "outputs": [
    {
     "data": {
      "text/html": [
       "<div>\n",
       "<style scoped>\n",
       "    .dataframe tbody tr th:only-of-type {\n",
       "        vertical-align: middle;\n",
       "    }\n",
       "\n",
       "    .dataframe tbody tr th {\n",
       "        vertical-align: top;\n",
       "    }\n",
       "\n",
       "    .dataframe thead tr th {\n",
       "        text-align: left;\n",
       "    }\n",
       "\n",
       "    .dataframe thead tr:last-of-type th {\n",
       "        text-align: right;\n",
       "    }\n",
       "</style>\n",
       "<table border=\"1\" class=\"dataframe\">\n",
       "  <thead>\n",
       "    <tr>\n",
       "      <th></th>\n",
       "      <th colspan=\"2\" halign=\"left\">Buy</th>\n",
       "    </tr>\n",
       "    <tr>\n",
       "      <th>Ad</th>\n",
       "      <th>0</th>\n",
       "      <th>1</th>\n",
       "    </tr>\n",
       "    <tr>\n",
       "      <th>Price</th>\n",
       "      <th></th>\n",
       "      <th></th>\n",
       "    </tr>\n",
       "  </thead>\n",
       "  <tbody>\n",
       "    <tr>\n",
       "      <th>7</th>\n",
       "      <td>0.983051</td>\n",
       "      <td>1.000000</td>\n",
       "    </tr>\n",
       "    <tr>\n",
       "      <th>8</th>\n",
       "      <td>0.968750</td>\n",
       "      <td>1.000000</td>\n",
       "    </tr>\n",
       "    <tr>\n",
       "      <th>9</th>\n",
       "      <td>1.000000</td>\n",
       "      <td>1.000000</td>\n",
       "    </tr>\n",
       "    <tr>\n",
       "      <th>10</th>\n",
       "      <td>0.967213</td>\n",
       "      <td>1.000000</td>\n",
       "    </tr>\n",
       "    <tr>\n",
       "      <th>11</th>\n",
       "      <td>0.921875</td>\n",
       "      <td>0.954545</td>\n",
       "    </tr>\n",
       "    <tr>\n",
       "      <th>12</th>\n",
       "      <td>0.727273</td>\n",
       "      <td>0.977778</td>\n",
       "    </tr>\n",
       "    <tr>\n",
       "      <th>13</th>\n",
       "      <td>0.696429</td>\n",
       "      <td>1.000000</td>\n",
       "    </tr>\n",
       "    <tr>\n",
       "      <th>14</th>\n",
       "      <td>0.562500</td>\n",
       "      <td>0.842105</td>\n",
       "    </tr>\n",
       "    <tr>\n",
       "      <th>15</th>\n",
       "      <td>0.431034</td>\n",
       "      <td>0.818182</td>\n",
       "    </tr>\n",
       "    <tr>\n",
       "      <th>16</th>\n",
       "      <td>0.173077</td>\n",
       "      <td>0.507692</td>\n",
       "    </tr>\n",
       "    <tr>\n",
       "      <th>17</th>\n",
       "      <td>0.096774</td>\n",
       "      <td>0.416667</td>\n",
       "    </tr>\n",
       "    <tr>\n",
       "      <th>18</th>\n",
       "      <td>0.054545</td>\n",
       "      <td>0.250000</td>\n",
       "    </tr>\n",
       "    <tr>\n",
       "      <th>19</th>\n",
       "      <td>0.039216</td>\n",
       "      <td>0.129032</td>\n",
       "    </tr>\n",
       "    <tr>\n",
       "      <th>20</th>\n",
       "      <td>0.021277</td>\n",
       "      <td>0.057692</td>\n",
       "    </tr>\n",
       "    <tr>\n",
       "      <th>21</th>\n",
       "      <td>0.000000</td>\n",
       "      <td>0.054545</td>\n",
       "    </tr>\n",
       "    <tr>\n",
       "      <th>22</th>\n",
       "      <td>0.000000</td>\n",
       "      <td>0.016667</td>\n",
       "    </tr>\n",
       "    <tr>\n",
       "      <th>23</th>\n",
       "      <td>0.000000</td>\n",
       "      <td>0.000000</td>\n",
       "    </tr>\n",
       "    <tr>\n",
       "      <th>24</th>\n",
       "      <td>0.000000</td>\n",
       "      <td>0.015873</td>\n",
       "    </tr>\n",
       "  </tbody>\n",
       "</table>\n",
       "</div>"
      ],
      "text/plain": [
       "            Buy          \n",
       "Ad            0         1\n",
       "Price                    \n",
       "7      0.983051  1.000000\n",
       "8      0.968750  1.000000\n",
       "9      1.000000  1.000000\n",
       "10     0.967213  1.000000\n",
       "11     0.921875  0.954545\n",
       "12     0.727273  0.977778\n",
       "13     0.696429  1.000000\n",
       "14     0.562500  0.842105\n",
       "15     0.431034  0.818182\n",
       "16     0.173077  0.507692\n",
       "17     0.096774  0.416667\n",
       "18     0.054545  0.250000\n",
       "19     0.039216  0.129032\n",
       "20     0.021277  0.057692\n",
       "21     0.000000  0.054545\n",
       "22     0.000000  0.016667\n",
       "23     0.000000  0.000000\n",
       "24     0.000000  0.015873"
      ]
     },
     "execution_count": 88,
     "metadata": {},
     "output_type": "execute_result"
    }
   ],
   "source": [
    "df.groupby(['Ad', 'Price'])[['Buy']].mean().unstack('Ad')"
   ]
  },
  {
   "cell_type": "code",
   "execution_count": 89,
   "metadata": {},
   "outputs": [
    {
     "data": {
      "text/plain": [
       "<matplotlib.legend.Legend at 0x134b0c88>"
      ]
     },
     "execution_count": 89,
     "metadata": {},
     "output_type": "execute_result"
    },
    {
     "data": {
      "image/png": "[encoded data removed]",
      "text/plain": [
       "<matplotlib.figure.Figure at 0x13106eb8>"
      ]
     },
     "metadata": {},
     "output_type": "display_data"
    }
   ],
   "source": [
    "f, axes = plt.subplots(2,2, figsize = (15,10)) # Define figure and axes for a 2 x 2 figure of 4 total plots\n",
    "f.suptitle('First Look at Data') # Title of figure\n",
    "\n",
    "# Plot purchase probability by price\n",
    "axes[(0,0)].plot(df.groupby('Price')['Buy'].mean()) #df.groupby('Price')['Buy'].mean() is the probability of buying for each price\n",
    "axes[(0,0)].set_title('Purchase Prob by Price') # Label this plot\n",
    "\n",
    "# Plot purchase probability by Ad\n",
    "temp = df.groupby('Ad')['Buy'].mean().reset_index()\n",
    "axes[(0,1)].bar(['No Ad', 'Ad'], temp['Buy']) # create a bar plot\n",
    "axes[(0,1)].set_title('Purchase Prob by Ad') \n",
    "\n",
    "# Plot purchase probability by both Ad and Price, plot Ad conditions on different lines\n",
    "# Use price as the x axis\n",
    "axes[(1,0)].plot(df.groupby(['Ad', 'Price'])[['Buy']].mean().unstack('Ad')) # Unstack creates 2 columns, one for each ad condition (Ad v.s no Ad)\n",
    "axes[(1,0)].set_title('Purchase Prob by Ad x Price') \n",
    "axes[(1,0)].legend(['No Ad', 'Ad']) # Set legend, the first one is no ad, since it is encoded as 0, which comes before 1 (ad condition)\n",
    "\n",
    "### Compute expected profit using observed data####\n",
    "# First, we groupby ad and price, then average the Buy dummy variable\n",
    "# This gives us probability of purchase for each ad x price condition\n",
    "# We reset index so we can use Ads and Prices as columns to compute expected profits\n",
    "temp = df.groupby(['Ad', 'Price'])[['Buy']].mean().reset_index()\n",
    "# Compute expected profits for each row, x. \n",
    "# We do this w/ a lambda function\n",
    "# e.g. x['buy'] is the buy variable for each row x\n",
    "# Note we have to specify, axis =1\n",
    "# Expected Profit = Prob(Buying)*(Price-Marginal Cost)-Ad Cost\n",
    "temp['Expected_Profit']=temp.apply(lambda x: x['Buy']*(x['Price']-c_m)-x['Ad']*c_ad, axis =1)\n",
    "\n",
    "axes[(1,1)].plot(temp.groupby(['Ad', 'Price'])[['Expected_Profit']].mean().unstack('Ad'))\n",
    "axes[(1,1)].set_title('Expected Profits by Ad x Price')\n",
    "axes[(1,1)].legend(['No Ad', 'Ad'])"
   ]
  },
  {
   "cell_type": "markdown",
   "metadata": {},
   "source": [
    "### Assume the simulated data is all we see, let's estimate the logit demand function"
   ]
  },
  {
   "cell_type": "code",
   "execution_count": 90,
   "metadata": {},
   "outputs": [],
   "source": [
    "import statsmodels.api as sm"
   ]
  },
  {
   "cell_type": "code",
   "execution_count": 91,
   "metadata": {},
   "outputs": [
    {
     "data": {
      "text/html": [
       "<div>\n",
       "<style scoped>\n",
       "    .dataframe tbody tr th:only-of-type {\n",
       "        vertical-align: middle;\n",
       "    }\n",
       "\n",
       "    .dataframe tbody tr th {\n",
       "        vertical-align: top;\n",
       "    }\n",
       "\n",
       "    .dataframe thead th {\n",
       "        text-align: right;\n",
       "    }\n",
       "</style>\n",
       "<table border=\"1\" class=\"dataframe\">\n",
       "  <thead>\n",
       "    <tr style=\"text-align: right;\">\n",
       "      <th></th>\n",
       "      <th>Price</th>\n",
       "      <th>Ad</th>\n",
       "      <th>Buy</th>\n",
       "    </tr>\n",
       "  </thead>\n",
       "  <tbody>\n",
       "    <tr>\n",
       "      <th>0</th>\n",
       "      <td>19</td>\n",
       "      <td>1</td>\n",
       "      <td>1</td>\n",
       "    </tr>\n",
       "    <tr>\n",
       "      <th>1</th>\n",
       "      <td>21</td>\n",
       "      <td>1</td>\n",
       "      <td>0</td>\n",
       "    </tr>\n",
       "    <tr>\n",
       "      <th>2</th>\n",
       "      <td>24</td>\n",
       "      <td>1</td>\n",
       "      <td>0</td>\n",
       "    </tr>\n",
       "    <tr>\n",
       "      <th>3</th>\n",
       "      <td>11</td>\n",
       "      <td>0</td>\n",
       "      <td>0</td>\n",
       "    </tr>\n",
       "    <tr>\n",
       "      <th>4</th>\n",
       "      <td>19</td>\n",
       "      <td>1</td>\n",
       "      <td>0</td>\n",
       "    </tr>\n",
       "  </tbody>\n",
       "</table>\n",
       "</div>"
      ],
      "text/plain": [
       "   Price  Ad  Buy\n",
       "0     19   1    1\n",
       "1     21   1    0\n",
       "2     24   1    0\n",
       "3     11   0    0\n",
       "4     19   1    0"
      ]
     },
     "execution_count": 91,
     "metadata": {},
     "output_type": "execute_result"
    }
   ],
   "source": [
    "df.head()"
   ]
  },
  {
   "cell_type": "code",
   "execution_count": 92,
   "metadata": {},
   "outputs": [
    {
     "name": "stdout",
     "output_type": "stream",
     "text": [
      "Optimization terminated successfully.\n",
      "         Current function value: 0.245488\n",
      "         Iterations 8\n"
     ]
    }
   ],
   "source": [
    "results = sm.Logit(df.Buy, sm.add_constant(df[['Ad', 'Price']])).fit() # estimate logit model"
   ]
  },
  {
   "cell_type": "code",
   "execution_count": 93,
   "metadata": {},
   "outputs": [
    {
     "data": {
      "text/html": [
       "<table class=\"simpletable\">\n",
       "<caption>Logit Regression Results</caption>\n",
       "<tr>\n",
       "  <th>Dep. Variable:</th>        <td>Buy</td>       <th>  No. Observations:  </th>  <td>  2000</td> \n",
       "</tr>\n",
       "<tr>\n",
       "  <th>Model:</th>               <td>Logit</td>      <th>  Df Residuals:      </th>  <td>  1997</td> \n",
       "</tr>\n",
       "<tr>\n",
       "  <th>Method:</th>               <td>MLE</td>       <th>  Df Model:          </th>  <td>     2</td> \n",
       "</tr>\n",
       "<tr>\n",
       "  <th>Date:</th>          <td>Wed, 11 Apr 2018</td> <th>  Pseudo R-squ.:     </th>  <td>0.6458</td> \n",
       "</tr>\n",
       "<tr>\n",
       "  <th>Time:</th>              <td>16:07:26</td>     <th>  Log-Likelihood:    </th> <td> -490.98</td>\n",
       "</tr>\n",
       "<tr>\n",
       "  <th>converged:</th>           <td>True</td>       <th>  LL-Null:           </th> <td> -1386.3</td>\n",
       "</tr>\n",
       "<tr>\n",
       "  <th> </th>                      <td> </td>        <th>  LLR p-value:       </th>  <td> 0.000</td> \n",
       "</tr>\n",
       "</table>\n",
       "<table class=\"simpletable\">\n",
       "<tr>\n",
       "    <td></td>       <th>coef</th>     <th>std err</th>      <th>z</th>      <th>P>|z|</th>  <th>[0.025</th>    <th>0.975]</th>  \n",
       "</tr>\n",
       "<tr>\n",
       "  <th>const</th> <td>   10.3966</td> <td>    0.491</td> <td>   21.158</td> <td> 0.000</td> <td>    9.434</td> <td>   11.360</td>\n",
       "</tr>\n",
       "<tr>\n",
       "  <th>Ad</th>    <td>    1.7526</td> <td>    0.184</td> <td>    9.544</td> <td> 0.000</td> <td>    1.393</td> <td>    2.113</td>\n",
       "</tr>\n",
       "<tr>\n",
       "  <th>Price</th> <td>   -0.7352</td> <td>    0.034</td> <td>  -21.707</td> <td> 0.000</td> <td>   -0.802</td> <td>   -0.669</td>\n",
       "</tr>\n",
       "</table>"
      ],
      "text/plain": [
       "<class 'statsmodels.iolib.summary.Summary'>\n",
       "\"\"\"\n",
       "                           Logit Regression Results                           \n",
       "==============================================================================\n",
       "Dep. Variable:                    Buy   No. Observations:                 2000\n",
       "Model:                          Logit   Df Residuals:                     1997\n",
       "Method:                           MLE   Df Model:                            2\n",
       "Date:                Wed, 11 Apr 2018   Pseudo R-squ.:                  0.6458\n",
       "Time:                        16:07:26   Log-Likelihood:                -490.98\n",
       "converged:                       True   LL-Null:                       -1386.3\n",
       "                                        LLR p-value:                     0.000\n",
       "==============================================================================\n",
       "                 coef    std err          z      P>|z|      [0.025      0.975]\n",
       "------------------------------------------------------------------------------\n",
       "const         10.3966      0.491     21.158      0.000       9.434      11.360\n",
       "Ad             1.7526      0.184      9.544      0.000       1.393       2.113\n",
       "Price         -0.7352      0.034    -21.707      0.000      -0.802      -0.669\n",
       "==============================================================================\n",
       "\"\"\""
      ]
     },
     "execution_count": 93,
     "metadata": {},
     "output_type": "execute_result"
    }
   ],
   "source": [
    "results.summary() # Show Estimated Parameters"
   ]
  },
  {
   "cell_type": "code",
   "execution_count": 96,
   "metadata": {},
   "outputs": [
    {
     "data": {
      "text/html": [
       "<table class=\"simpletable\">\n",
       "<caption>Logit Marginal Effects</caption>\n",
       "<tr>\n",
       "  <th>Dep. Variable:</th>   <td>Buy</td>  \n",
       "</tr>\n",
       "<tr>\n",
       "  <th>Method:</th>         <td>dydx</td>  \n",
       "</tr>\n",
       "<tr>\n",
       "  <th>At:</th>            <td>overall</td>\n",
       "</tr>\n",
       "</table>\n",
       "<table class=\"simpletable\">\n",
       "<tr>\n",
       "    <th></th>       <th>dy/dx</th>    <th>std err</th>      <th>z</th>      <th>P>|z|</th>  <th>[0.025</th>    <th>0.975]</th>  \n",
       "</tr>\n",
       "<tr>\n",
       "  <th>Ad</th>    <td>    0.1312</td> <td>    0.012</td> <td>   10.605</td> <td> 0.000</td> <td>    0.107</td> <td>    0.155</td>\n",
       "</tr>\n",
       "<tr>\n",
       "  <th>Price</th> <td>   -0.0551</td> <td> 6.22e-05</td> <td> -884.574</td> <td> 0.000</td> <td>   -0.055</td> <td>   -0.055</td>\n",
       "</tr>\n",
       "</table>"
      ],
      "text/plain": [
       "<class 'statsmodels.iolib.summary.Summary'>\n",
       "\"\"\"\n",
       "        Logit Marginal Effects       \n",
       "=====================================\n",
       "Dep. Variable:                    Buy\n",
       "Method:                          dydx\n",
       "At:                           overall\n",
       "==============================================================================\n",
       "                dy/dx    std err          z      P>|z|      [0.025      0.975]\n",
       "------------------------------------------------------------------------------\n",
       "Ad             0.1312      0.012     10.605      0.000       0.107       0.155\n",
       "Price         -0.0551   6.22e-05   -884.574      0.000      -0.055      -0.055\n",
       "==============================================================================\n",
       "\"\"\""
      ]
     },
     "execution_count": 96,
     "metadata": {},
     "output_type": "execute_result"
    }
   ],
   "source": [
    "results.get_margeff().summary()"
   ]
  },
  {
   "cell_type": "markdown",
   "metadata": {},
   "source": [
    "## Okay, now let's find the profit maximizing price\n",
    "\n",
    "First, we have to point out that there may be a different profit maximizing price for Ads vs. No Ads.\n",
    "\n",
    "1. Expected Profit for No Ads: Prob(buying | No Ad)*(price-marginal cost)\n",
    "2. Expected Profit for Ads: Prob(buying | Ad)*(price-marginal cost)-Ad cost\n",
    "\n",
    "Let's define 2 expected profit functions, one for ads, one for no ads."
   ]
  },
  {
   "cell_type": "code",
   "execution_count": 97,
   "metadata": {},
   "outputs": [],
   "source": [
    "def _e_prof_noad_(p, b0,alpha, c_m):\n",
    "    return (p-c_m)/(1+np.exp(-(b0+alpha*p)))\n",
    "\n",
    "def _e_prof_ad_(p, b0,b1,alpha, c_m,c_ad):\n",
    "    return (p-c_m)/(1+np.exp(-(b0+b1+alpha*p)))-c_ad"
   ]
  },
  {
   "cell_type": "code",
   "execution_count": 98,
   "metadata": {},
   "outputs": [],
   "source": [
    "b0,b1,alpha = results.params # Grab estimated parameters from Logit results"
   ]
  },
  {
   "cell_type": "code",
   "execution_count": 99,
   "metadata": {
    "scrolled": true
   },
   "outputs": [
    {
     "name": "stdout",
     "output_type": "stream",
     "text": [
      "Optimization terminated successfully.\n",
      "         Current function value: -8.317544\n",
      "         Iterations: 22\n",
      "         Function evaluations: 44\n",
      "Optimization terminated successfully.\n",
      "         Current function value: -8.697722\n",
      "         Iterations: 21\n",
      "         Function evaluations: 42\n",
      "No ad profit maximized at price = 11.67763671875002, profits are 8.317544141975073\n",
      "Ad profit maximized at price = 13.757839355468771, profits are 11.757839355468759\n"
     ]
    }
   ],
   "source": [
    "pstar_noad = fmin(lambda x: -_e_prof_noad_(x, b0,alpha,c_m), c_m)[0]  \n",
    "profstar_noad = _e_prof_noad_(pstar_noad, b0,alpha,c_m)\n",
    "pstar_ad = fmin(lambda x: -_e_prof_ad_(x, b0,b1,alpha, c_m, c_ad), c_m+c_ad)[0]\n",
    "profstar_ad = _e_prof_noad_(pstar_ad, b0,b1,c_m)\n",
    "\n",
    "print 'No ad profit maximized at price = '+str(pstar_noad)+', profits are '+str(profstar_noad)\n",
    "print 'Ad profit maximized at price = '+str(pstar_ad)+', profits are '+str(profstar_ad)"
   ]
  },
  {
   "cell_type": "code",
   "execution_count": 100,
   "metadata": {},
   "outputs": [
    {
     "data": {
      "text/plain": [
       "Text(0.5,1,u'Expected Profits by Ad x Price')"
      ]
     },
     "execution_count": 100,
     "metadata": {},
     "output_type": "execute_result"
    },
    {
     "data": {
      "image/png": "[encoded data removed]",
      "text/plain": [
       "<matplotlib.figure.Figure at 0x1373c6a0>"
      ]
     },
     "metadata": {},
     "output_type": "display_data"
    }
   ],
   "source": [
    "prices = np.arange(7,25,.1)\n",
    "profits_noad = [_e_prof_noad_(p, b0,alpha,c_m) for p in prices]\n",
    "profits_ad = [_e_prof_ad_(p, b0,b1,alpha, c_m,c_ad) for p in prices]\n",
    "plt.scatter(prices, profits_noad, s = 5, c='r') # \"s\" controls the dots' opacity\n",
    "plt.scatter(prices, profits_ad, s = 5, c='b') \n",
    "plt.legend(['No Ad', 'Ad'])\n",
    "plt.axvline(x=pstar_noad, color = 'r')\n",
    "plt.axvline(x=pstar_ad, color = 'r')\n",
    "plt.title('Expected Profits by Ad x Price')"
   ]
  },
  {
   "cell_type": "code",
   "execution_count": null,
   "metadata": {},
   "outputs": [],
   "source": []
  }
 ],
 "metadata": {
  "anaconda-cloud": {},
  "kernelspec": {
   "display_name": "Python 2",
   "language": "python",
   "name": "python2"
  },
  "language_info": {
   "codemirror_mode": {
    "name": "ipython",
    "version": 2
   },
   "file_extension": ".py",
   "mimetype": "text/x-python",
   "name": "python",
   "nbconvert_exporter": "python",
   "pygments_lexer": "ipython2",
   "version": "2.7.14"
  }
 },
 "nbformat": 4,
 "nbformat_minor": 2
}
