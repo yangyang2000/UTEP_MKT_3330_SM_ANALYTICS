{
 "cells": [
  {
   "cell_type": "code",
   "execution_count": 1,
   "metadata": {},
   "outputs": [],
   "source": [
    "import numpy as np, pandas as pd\n",
    "from scipy import stats # you may or may not need these 2 lines\n",
    "stats.chisqprob = lambda chisq, df: stats.chi2.sf(chisq, df) # you may or may not need this\n",
    "from __future__ import division\n",
    "% matplotlib inline\n",
    "from matplotlib import pyplot as plt\n",
    "## Parameters for our Logit Demand ##\n",
    "b0,b1,c_m = 10,-.6, 2."
   ]
  },
  {
   "cell_type": "markdown",
   "metadata": {
    "collapsed": true
   },
   "source": [
    "# Interpreting the coefficient on price\n",
    "$$\\text{Effect of price change on demand}=\\frac{d}{dp}\\frac{1}{1+e^{-(\\beta_0+\\beta p_i)}}=\\frac{b_1 e^{b_0 + b_1 p}}{(1 + e^{b0 + b1 p})^2}$$\n",
    "\n"
   ]
  },
  {
   "cell_type": "code",
   "execution_count": 2,
   "metadata": {},
   "outputs": [],
   "source": [
    "def _derivative_p_(p,b0,b1):\n",
    "    return b1*np.exp(b0+b1*p)/np.square((1+np.exp(b0+b1*p)))"
   ]
  },
  {
   "cell_type": "code",
   "execution_count": 3,
   "metadata": {},
   "outputs": [
    {
     "data": {
      "text/plain": [
       "<matplotlib.collections.PathCollection at 0xb83b9b0>"
      ]
     },
     "execution_count": 3,
     "metadata": {},
     "output_type": "execute_result"
    },
    {
     "data": {
      "image/png": "[encoded data removed]",
      "text/plain": [
       "<matplotlib.figure.Figure at 0x60b4710>"
      ]
     },
     "metadata": {},
     "output_type": "display_data"
    }
   ],
   "source": [
    "# b0,b1,c_m = 10.855,-.64,2.\n",
    "prices = np.arange(10,30,.1) # range from 10 to 20 with .1 steps\n",
    "chgind = [_derivative_p_(p,b0,b1) for p in prices] # compute change in demand\n",
    "plt.scatter(prices, chgind)"
   ]
  },
  {
   "cell_type": "markdown",
   "metadata": {},
   "source": [
    "# What about price elasticity?\n",
    "$$ \\text{Elasticity} = \\frac{d}{dp}\\frac{p}{d}=\\frac{b_1 e^{b_0 + b_1 p}}{(1 + e^{b0 + b1 p})^2}\\frac{p}{\\frac{1}{1+e^{-(\\beta_0+\\beta p_i)}}}=\\frac{b_1 p}{e^{b_0+b_1p}+1}$$\n",
    "\n",
    "** Note the elasticity depends on b1 and b0! **"
   ]
  },
  {
   "cell_type": "code",
   "execution_count": 4,
   "metadata": {},
   "outputs": [],
   "source": [
    "def _elasticity_(p,b0,b1):\n",
    "    return b1*p/(np.exp(b0+b1*p)+1)"
   ]
  },
  {
   "cell_type": "code",
   "execution_count": 5,
   "metadata": {
    "scrolled": true
   },
   "outputs": [
    {
     "data": {
      "text/plain": [
       "<matplotlib.lines.Line2D at 0xba1b8d0>"
      ]
     },
     "execution_count": 5,
     "metadata": {},
     "output_type": "execute_result"
    },
    {
     "data": {
      "image/png": "[encoded data removed]",
      "text/plain": [
       "<matplotlib.figure.Figure at 0x6127390>"
      ]
     },
     "metadata": {},
     "output_type": "display_data"
    }
   ],
   "source": [
    "prices = np.arange(10,30,.1) # range from 10 to 20 with .1 steps\n",
    "elas = [_elasticity_(p,b0,b1) for p in prices] # compute change in demand\n",
    "plt.scatter(prices, elas)\n",
    "plt.axhline(y=-1, c = 'r')"
   ]
  },
  {
   "cell_type": "markdown",
   "metadata": {},
   "source": [
    "# Profit maximization with binary logit demand\n",
    "\n",
    "$$Pr(U_i>0)=\\frac{1}{1+e^{-(\\beta_0+\\beta p_i)}}=\\frac{1}{1+e^{-(10.855-.64 p_i)}}$$\n",
    "\n",
    "$$E[\\Pi]=KPr(U_i>0)\\cdot (p-c_m), \\text{ where K is the total market size}$$\n",
    "\n",
    "Note, optimal price should not really depend on K as it multiplies everything, which means when you take the derivative and set equal to 0 to find the maximum, you will end up dropping the K (you divide both sides by K and dividing 0 by K is still 0).\n",
    "\n",
    "Therefore, we only need to maximize $Pr(U_i>0)\\cdot (p-c_m)$ to find the optimal price.\n",
    "\n",
    "First, we re-write this expression as:\n",
    "\n",
    "$$\\frac{p-c_m}{1+e^{-(\\beta_0+\\beta p_i)}} $$\n",
    "\n",
    "Solving for the maximum of this expression is analytically intractable ([See This for more Details](http://ashwin.faculty.ucdavis.edu/wp-content/uploads/sites/169/2014/12/Publication-5.pdf)). **Therefore, we must rely on numerical optimization.**\n",
    "\n",
    "**SciPy has a convenient numerical optimization function.**\n",
    "\n",
    "# Example: Solve for profit maximizing price"
   ]
  },
  {
   "cell_type": "code",
   "execution_count": 6,
   "metadata": {},
   "outputs": [],
   "source": [
    "from scipy.optimize import fmin # import the numerical optimization function\n",
    "# first we have to define the objective function, this is our profit function\n",
    "def _profit_function_(p, b0,b1,c_m):\n",
    "    return (p-c_m)/(1+np.exp(-(b0+b1*p)))"
   ]
  },
  {
   "cell_type": "code",
   "execution_count": 7,
   "metadata": {},
   "outputs": [
    {
     "name": "stdout",
     "output_type": "stream",
     "text": [
      "Optimization terminated successfully.\n",
      "         Current function value: -10.011773\n",
      "         Iterations: 23\n",
      "         Function evaluations: 46\n"
     ]
    },
    {
     "data": {
      "text/plain": [
       "13.678417968750026"
      ]
     },
     "execution_count": 7,
     "metadata": {},
     "output_type": "execute_result"
    }
   ],
   "source": [
    "# Next we run the optimization\n",
    "# b0,b1,c_m = 10, -.6, 2\n",
    "pstar = fmin(lambda x: -_profit_function_(x, b0,b1,c_m), c_m)[0]  \n",
    "# the \", c_m\" is the starting value that the numerical solver begins its search at\n",
    "# Why are we using the negative of the profit function??\n",
    "pstar"
   ]
  },
  {
   "cell_type": "code",
   "execution_count": 8,
   "metadata": {},
   "outputs": [
    {
     "data": {
      "text/plain": [
       "Text(0.5,1,u'Expected Profit Per Visit')"
      ]
     },
     "execution_count": 8,
     "metadata": {},
     "output_type": "execute_result"
    },
    {
     "data": {
      "image/png": "[encoded data removed]",
      "text/plain": [
       "<matplotlib.figure.Figure at 0x61275f8>"
      ]
     },
     "metadata": {},
     "output_type": "display_data"
    }
   ],
   "source": [
    "plt.scatter(prices, [_profit_function_(p,b0,b1,c_m) for p in prices])\n",
    "plt.axvline(x=pstar, color = 'r')\n",
    "plt.title('Expected Profit Per Visit')"
   ]
  },
  {
   "cell_type": "markdown",
   "metadata": {},
   "source": [
    "# Adding additional explanatory variables\n",
    "\n",
    "With logit demand, we have a discrete choice model. In this model, we asume each consumer, $i$, has a common utility function that represents their rational preferences over product attributes, $j$:\n",
    "\n",
    "$$U_i=\\sum_jx_j\\beta_j+\\epsilon_{i}$$\n",
    "\n",
    "At least one of these preference attributes, j is price.\n",
    "\n",
    "Let's rewrite it as:\n",
    "\n",
    "$$U(x_{i})=\\sum_jx_j\\beta_j+\\alpha p_i+\\epsilon_{i}$$\n",
    "\n",
    "We can let $x$ be any explanatory variable. For example, x_j can be the advertising used, the time of day the item is being displayed, the size of the package, etc.\n",
    "\n",
    "Assuming the error term $\\epsilon\\sim \\text{Logistic(0,1)}$, we can express the probability of purchase as:\n",
    "\n",
    "$$Pr(U_i>0)=\\frac{1}{1+e^{-(\\sum_j{x_j\\beta_j}+\\alpha p_i)}}$$\n",
    "\n",
    "\n",
    "## Example, let's simulate some data with  clickthrough search advertisements.\n",
    "We want to test the effect of prices on demand for customers who arrive at the site following an ad versus organic traffic. Let's randomly assign the price charged each customer. What's the effect of price on probability of purchase? Are customers who follow an ad to the site better or worse? \n",
    "\n",
    "Assume marginal cost is \\$2 and the cost per click of the ad is \\$1.70. Note that this cost is incurred for any visitor, whether or not they bought, as long as they got to the page through the ad.\n",
    "\n",
    "Utility function:\n",
    "$$ U_i = \\beta_0+\\beta_1\\text{ad}+\\alpha p+\\epsilon_{i} $$\n",
    "\n",
    "Probability of buying:\n",
    "$$Pr(U_i>0)=\\frac{1}{1+e^{-(\\beta_0+\\beta_1 ad+\\alpha p_i)}}$$\n",
    "\n",
    "Simulation: let $\\beta_0=10,\\beta_1=1.5,\\alpha = -.7,c_m=2, c_{ad} = 1.7$"
   ]
  },
  {
   "cell_type": "code",
   "execution_count": 9,
   "metadata": {},
   "outputs": [
    {
     "data": {
      "text/html": [
       "<div>\n",
       "<style scoped>\n",
       "    .dataframe tbody tr th:only-of-type {\n",
       "        vertical-align: middle;\n",
       "    }\n",
       "\n",
       "    .dataframe tbody tr th {\n",
       "        vertical-align: top;\n",
       "    }\n",
       "\n",
       "    .dataframe thead th {\n",
       "        text-align: right;\n",
       "    }\n",
       "</style>\n",
       "<table border=\"1\" class=\"dataframe\">\n",
       "  <thead>\n",
       "    <tr style=\"text-align: right;\">\n",
       "      <th></th>\n",
       "      <th>Price</th>\n",
       "      <th>Ad</th>\n",
       "      <th>Buy</th>\n",
       "    </tr>\n",
       "  </thead>\n",
       "  <tbody>\n",
       "    <tr>\n",
       "      <th>0</th>\n",
       "      <td>21</td>\n",
       "      <td>0</td>\n",
       "      <td>0</td>\n",
       "    </tr>\n",
       "    <tr>\n",
       "      <th>1</th>\n",
       "      <td>20</td>\n",
       "      <td>1</td>\n",
       "      <td>0</td>\n",
       "    </tr>\n",
       "    <tr>\n",
       "      <th>2</th>\n",
       "      <td>13</td>\n",
       "      <td>0</td>\n",
       "      <td>1</td>\n",
       "    </tr>\n",
       "    <tr>\n",
       "      <th>3</th>\n",
       "      <td>13</td>\n",
       "      <td>0</td>\n",
       "      <td>1</td>\n",
       "    </tr>\n",
       "    <tr>\n",
       "      <th>4</th>\n",
       "      <td>23</td>\n",
       "      <td>0</td>\n",
       "      <td>0</td>\n",
       "    </tr>\n",
       "  </tbody>\n",
       "</table>\n",
       "</div>"
      ],
      "text/plain": [
       "   Price  Ad  Buy\n",
       "0     21   0    0\n",
       "1     20   1    0\n",
       "2     13   0    1\n",
       "3     13   0    1\n",
       "4     23   0    0"
      ]
     },
     "execution_count": 9,
     "metadata": {},
     "output_type": "execute_result"
    }
   ],
   "source": [
    "samplesize = 2000 # Set number of samples\n",
    "prices = np.random.randint(7,25, size = samplesize) # Randomize prices $7 and $25\n",
    "ads = np.random.randint(0,2, samplesize) # Randomize ads\n",
    "epsilon = np.random.logistic(loc=0.0, scale=1.0, size=samplesize) # Random utility shocks\n",
    "\n",
    "## Set parameters ##\n",
    "beta1 = 1.5\n",
    "beta0 = 10\n",
    "alpha = -.7\n",
    "\n",
    "c_ad = 1.7\n",
    "c_m = 2\n",
    "## Compute individual utilities ##\n",
    "utilities = beta0+beta1*ads+alpha*prices+epsilon\n",
    "## Translate utility to chioces (buys when u>0)\n",
    "choices = [int((np.sign(u)+1)/2) for u in utilities]\n",
    "\n",
    "# Put data together for what customers see\n",
    "df = pd.DataFrame(zip(prices, ads, choices),columns = ['Price', 'Ad', 'Buy'] )\n",
    "df.head()"
   ]
  },
  {
   "cell_type": "code",
   "execution_count": 10,
   "metadata": {},
   "outputs": [
    {
     "data": {
      "text/plain": [
       "<matplotlib.legend.Legend at 0xc3a4b38>"
      ]
     },
     "execution_count": 10,
     "metadata": {},
     "output_type": "execute_result"
    },
    {
     "data": {
      "image/png": "[encoded data removed]",
      "text/plain": [
       "<matplotlib.figure.Figure at 0xc142d30>"
      ]
     },
     "metadata": {},
     "output_type": "display_data"
    }
   ],
   "source": [
    "f, axes = plt.subplots(2,2, figsize = (15,10)) # Define figure and axes\n",
    "f.suptitle('First Look at Data') # Title of figure\n",
    "\n",
    "# Plot purchase probability by price\n",
    "axes[(0,0)].plot(df.groupby('Price')['Buy'].mean()) #df.groupby('Price')['Buy'].mean() is the probability of buying for each price\n",
    "axes[(0,0)].set_title('Purchase Prob by Price') # Label this plot\n",
    "\n",
    "# Plot purchase probability by Ad\n",
    "temp = df.groupby('Ad')['Buy'].mean().reset_index()\n",
    "axes[(0,1)].bar(temp['Ad'], temp['Buy']) # create a bar plot\n",
    "axes[(0,1)].set_title('Purchase Prob by Ad') \n",
    "\n",
    "# Plot purchase probability by both Ad and Price, plot Ad conditions on different lines\n",
    "# Use price as the x axis\n",
    "axes[(1,0)].plot(df.groupby(['Ad', 'Price'])[['Buy']].mean().unstack('Ad')) # Unstack creates 2 columns, one for each ad condition (Ad v.s no Ad)\n",
    "axes[(1,0)].set_title('Purchase Prob by Ad x Price') \n",
    "axes[(1,0)].legend(['No Ad', 'Ad']) # Set legend, the first one is no ad, since it is encoded as 0, which comes before 1 (ad condition)\n",
    "\n",
    "### Compute expected profit using observed data####\n",
    "# First, we groupby ad and price, then average the Buy dummy variable\n",
    "# This gives us probability of purchase for each ad x price condition\n",
    "# We reset index so we can use Ads and Prices as columns to compute expected profits\n",
    "temp = df.groupby(['Ad', 'Price'])[['Buy']].mean().reset_index()\n",
    "# Compute expected profits for each row, x. \n",
    "# We do this w/ a lambda function\n",
    "# e.g. x['buy'] is the buy variable for each row x\n",
    "# Note we have to specify, axis =1\n",
    "# Expected Profit = Prob(Buying)*(Price-Marginal Cost)-Ad Cost\n",
    "temp['Expected_Profit']=temp.apply(lambda x: x['Buy']*(x['Price']-c_m)-x['Ad']*c_ad, axis =1)\n",
    "\n",
    "axes[(1,1)].plot(temp.groupby(['Ad', 'Price'])[['Expected_Profit']].mean().unstack('Ad'))\n",
    "axes[(1,1)].set_title('Expected Profits by Ad x Price')\n",
    "axes[(1,1)].legend(['No Ad', 'Ad'])"
   ]
  },
  {
   "cell_type": "markdown",
   "metadata": {},
   "source": [
    "### Assume the simulated data is all we see, let's estimate the logit demand function"
   ]
  },
  {
   "cell_type": "code",
   "execution_count": 11,
   "metadata": {},
   "outputs": [
    {
     "name": "stderr",
     "output_type": "stream",
     "text": [
      "C:\\Users\\Yang\\Anaconda2\\lib\\site-packages\\statsmodels\\compat\\pandas.py:56: FutureWarning: The pandas.core.datetools module is deprecated and will be removed in a future version. Please use the pandas.tseries module instead.\n",
      "  from pandas.core import datetools\n"
     ]
    }
   ],
   "source": [
    "import statsmodels.api as sm"
   ]
  },
  {
   "cell_type": "code",
   "execution_count": 12,
   "metadata": {},
   "outputs": [
    {
     "data": {
      "text/html": [
       "<div>\n",
       "<style scoped>\n",
       "    .dataframe tbody tr th:only-of-type {\n",
       "        vertical-align: middle;\n",
       "    }\n",
       "\n",
       "    .dataframe tbody tr th {\n",
       "        vertical-align: top;\n",
       "    }\n",
       "\n",
       "    .dataframe thead th {\n",
       "        text-align: right;\n",
       "    }\n",
       "</style>\n",
       "<table border=\"1\" class=\"dataframe\">\n",
       "  <thead>\n",
       "    <tr style=\"text-align: right;\">\n",
       "      <th></th>\n",
       "      <th>Price</th>\n",
       "      <th>Ad</th>\n",
       "      <th>Buy</th>\n",
       "    </tr>\n",
       "  </thead>\n",
       "  <tbody>\n",
       "    <tr>\n",
       "      <th>0</th>\n",
       "      <td>21</td>\n",
       "      <td>0</td>\n",
       "      <td>0</td>\n",
       "    </tr>\n",
       "    <tr>\n",
       "      <th>1</th>\n",
       "      <td>20</td>\n",
       "      <td>1</td>\n",
       "      <td>0</td>\n",
       "    </tr>\n",
       "    <tr>\n",
       "      <th>2</th>\n",
       "      <td>13</td>\n",
       "      <td>0</td>\n",
       "      <td>1</td>\n",
       "    </tr>\n",
       "    <tr>\n",
       "      <th>3</th>\n",
       "      <td>13</td>\n",
       "      <td>0</td>\n",
       "      <td>1</td>\n",
       "    </tr>\n",
       "    <tr>\n",
       "      <th>4</th>\n",
       "      <td>23</td>\n",
       "      <td>0</td>\n",
       "      <td>0</td>\n",
       "    </tr>\n",
       "  </tbody>\n",
       "</table>\n",
       "</div>"
      ],
      "text/plain": [
       "   Price  Ad  Buy\n",
       "0     21   0    0\n",
       "1     20   1    0\n",
       "2     13   0    1\n",
       "3     13   0    1\n",
       "4     23   0    0"
      ]
     },
     "execution_count": 12,
     "metadata": {},
     "output_type": "execute_result"
    }
   ],
   "source": [
    "df.head()"
   ]
  },
  {
   "cell_type": "code",
   "execution_count": 13,
   "metadata": {},
   "outputs": [
    {
     "name": "stdout",
     "output_type": "stream",
     "text": [
      "Optimization terminated successfully.\n",
      "         Current function value: 0.274843\n",
      "         Iterations 8\n"
     ]
    }
   ],
   "source": [
    "results = sm.Logit(df.Buy, sm.add_constant(df[['Ad', 'Price']])).fit() # estimate logit model"
   ]
  },
  {
   "cell_type": "code",
   "execution_count": 14,
   "metadata": {},
   "outputs": [
    {
     "data": {
      "text/html": [
       "<table class=\"simpletable\">\n",
       "<caption>Logit Regression Results</caption>\n",
       "<tr>\n",
       "  <th>Dep. Variable:</th>        <td>Buy</td>       <th>  No. Observations:  </th>  <td>  2000</td> \n",
       "</tr>\n",
       "<tr>\n",
       "  <th>Model:</th>               <td>Logit</td>      <th>  Df Residuals:      </th>  <td>  1997</td> \n",
       "</tr>\n",
       "<tr>\n",
       "  <th>Method:</th>               <td>MLE</td>       <th>  Df Model:          </th>  <td>     2</td> \n",
       "</tr>\n",
       "<tr>\n",
       "  <th>Date:</th>          <td>Mon, 09 Apr 2018</td> <th>  Pseudo R-squ.:     </th>  <td>0.6032</td> \n",
       "</tr>\n",
       "<tr>\n",
       "  <th>Time:</th>              <td>13:10:05</td>     <th>  Log-Likelihood:    </th> <td> -549.69</td>\n",
       "</tr>\n",
       "<tr>\n",
       "  <th>converged:</th>           <td>True</td>       <th>  LL-Null:           </th> <td> -1385.3</td>\n",
       "</tr>\n",
       "<tr>\n",
       "  <th> </th>                      <td> </td>        <th>  LLR p-value:       </th>  <td> 0.000</td> \n",
       "</tr>\n",
       "</table>\n",
       "<table class=\"simpletable\">\n",
       "<tr>\n",
       "    <td></td>       <th>coef</th>     <th>std err</th>      <th>z</th>      <th>P>|z|</th>  <th>[0.025</th>    <th>0.975]</th>  \n",
       "</tr>\n",
       "<tr>\n",
       "  <th>const</th> <td>    9.4624</td> <td>    0.431</td> <td>   21.945</td> <td> 0.000</td> <td>    8.617</td> <td>   10.308</td>\n",
       "</tr>\n",
       "<tr>\n",
       "  <th>Ad</th>    <td>    1.3394</td> <td>    0.165</td> <td>    8.098</td> <td> 0.000</td> <td>    1.015</td> <td>    1.664</td>\n",
       "</tr>\n",
       "<tr>\n",
       "  <th>Price</th> <td>   -0.6658</td> <td>    0.029</td> <td>  -22.750</td> <td> 0.000</td> <td>   -0.723</td> <td>   -0.608</td>\n",
       "</tr>\n",
       "</table>"
      ],
      "text/plain": [
       "<class 'statsmodels.iolib.summary.Summary'>\n",
       "\"\"\"\n",
       "                           Logit Regression Results                           \n",
       "==============================================================================\n",
       "Dep. Variable:                    Buy   No. Observations:                 2000\n",
       "Model:                          Logit   Df Residuals:                     1997\n",
       "Method:                           MLE   Df Model:                            2\n",
       "Date:                Mon, 09 Apr 2018   Pseudo R-squ.:                  0.6032\n",
       "Time:                        13:10:05   Log-Likelihood:                -549.69\n",
       "converged:                       True   LL-Null:                       -1385.3\n",
       "                                        LLR p-value:                     0.000\n",
       "==============================================================================\n",
       "                 coef    std err          z      P>|z|      [0.025      0.975]\n",
       "------------------------------------------------------------------------------\n",
       "const          9.4624      0.431     21.945      0.000       8.617      10.308\n",
       "Ad             1.3394      0.165      8.098      0.000       1.015       1.664\n",
       "Price         -0.6658      0.029    -22.750      0.000      -0.723      -0.608\n",
       "==============================================================================\n",
       "\"\"\""
      ]
     },
     "execution_count": 14,
     "metadata": {},
     "output_type": "execute_result"
    }
   ],
   "source": [
    "results.summary() # Show Estimated Parameters"
   ]
  },
  {
   "cell_type": "markdown",
   "metadata": {},
   "source": [
    "## Okay, now let's find the profit maximizing price\n",
    "\n",
    "First, we have to point out that there may be a different profit maximizing price for Ads vs. No Ads.\n",
    "\n",
    "1. Expected Profit for No Ads: Prob(buying | No Ad)*(price-marginal cost)\n",
    "2. Expected Profit for Ads: Prob(buying | Ad)*(price-marginal cost)-Ad cost\n",
    "\n",
    "Let's define 2 expected profit functions, one for ads, one for no ads."
   ]
  },
  {
   "cell_type": "code",
   "execution_count": 15,
   "metadata": {},
   "outputs": [],
   "source": [
    "def _e_prof_noad_(p, b0,alpha, c_m):\n",
    "    return (p-c_m)/(1+np.exp(-(b0+alpha*p)))\n",
    "\n",
    "def _e_prof_ad_(p, b0,b1,alpha, c_m,c_ad):\n",
    "    return (p-c_m)/(1+np.exp(-(b0+b1+alpha*p)))-c_ad"
   ]
  },
  {
   "cell_type": "code",
   "execution_count": 16,
   "metadata": {},
   "outputs": [],
   "source": [
    "b0,b1,alpha = results.params # Grab estimated parameters from Logit results"
   ]
  },
  {
   "cell_type": "code",
   "execution_count": 17,
   "metadata": {
    "scrolled": true
   },
   "outputs": [
    {
     "name": "stdout",
     "output_type": "stream",
     "text": [
      "Optimization terminated successfully.\n",
      "         Current function value: -8.167109\n",
      "         Iterations: 22\n",
      "         Function evaluations: 44\n",
      "Optimization terminated successfully.\n",
      "         Current function value: -8.191208\n",
      "         Iterations: 21\n",
      "         Function evaluations: 42\n",
      "No ad profit maximized at price = 11.66914062500002, profits are 8.167108817399875\n",
      "Ad profit maximized at price = 13.393168945312517, profits are 11.393168945298184\n"
     ]
    }
   ],
   "source": [
    "pstar_noad = fmin(lambda x: -_e_prof_noad_(x, b0,alpha,c_m), c_m)[0]  \n",
    "profstar_noad = _e_prof_noad_(pstar_noad, b0,alpha,c_m)\n",
    "pstar_ad = fmin(lambda x: -_e_prof_ad_(x, b0,b1,alpha, c_m, c_ad), c_m+c_ad)[0]\n",
    "profstar_ad = _e_prof_noad_(pstar_ad, b0,b1,c_m)\n",
    "\n",
    "print 'No ad profit maximized at price = '+str(pstar_noad)+', profits are '+str(profstar_noad)\n",
    "print 'Ad profit maximized at price = '+str(pstar_ad)+', profits are '+str(profstar_ad)"
   ]
  },
  {
   "cell_type": "code",
   "execution_count": 18,
   "metadata": {},
   "outputs": [
    {
     "data": {
      "text/plain": [
       "Text(0.5,1,u'Expected Profits by Ad x Price')"
      ]
     },
     "execution_count": 18,
     "metadata": {},
     "output_type": "execute_result"
    },
    {
     "data": {
      "image/png": "[encoded data removed]",
      "text/plain": [
       "<matplotlib.figure.Figure at 0xd5dae10>"
      ]
     },
     "metadata": {},
     "output_type": "display_data"
    }
   ],
   "source": [
    "prices = np.arange(7,25,.1)\n",
    "profits_noad = [_e_prof_noad_(p, b0,alpha,c_m) for p in prices]\n",
    "profits_ad = [_e_prof_ad_(p, b0,b1,alpha, c_m,c_ad) for p in prices]\n",
    "plt.scatter(prices, profits_noad, s = 5, c='r') # \"s\" controls the dots' opacity\n",
    "plt.scatter(prices, profits_ad, s = 5, c='b') \n",
    "plt.legend(['No Ad', 'Ad'])\n",
    "plt.axvline(x=pstar_noad, color = 'r')\n",
    "plt.axvline(x=pstar_ad, color = 'r')\n",
    "plt.title('Expected Profits by Ad x Price')"
   ]
  },
  {
   "cell_type": "markdown",
   "metadata": {},
   "source": []
  },
  {
   "cell_type": "code",
   "execution_count": null,
   "metadata": {},
   "outputs": [],
   "source": []
  }
 ],
 "metadata": {
  "anaconda-cloud": {},
  "kernelspec": {
   "display_name": "Python 2",
   "language": "python",
   "name": "python2"
  },
  "language_info": {
   "codemirror_mode": {
    "name": "ipython",
    "version": 2
   },
   "file_extension": ".py",
   "mimetype": "text/x-python",
   "name": "python",
   "nbconvert_exporter": "python",
   "pygments_lexer": "ipython2",
   "version": "2.7.14"
  }
 },
 "nbformat": 4,
 "nbformat_minor": 2
}
