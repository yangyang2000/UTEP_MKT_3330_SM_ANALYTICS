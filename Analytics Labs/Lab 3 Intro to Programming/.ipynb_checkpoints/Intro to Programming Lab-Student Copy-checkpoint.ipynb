{
 "cells": [
  {
   "cell_type": "markdown",
   "metadata": {},
   "source": [
    "# Intro to Programming Lab\n",
    "\n",
    "This lab will guide you some programming basics."
   ]
  },
  {
   "cell_type": "markdown",
   "metadata": {},
   "source": [
    "# Warm up"
   ]
  },
  {
   "cell_type": "markdown",
   "metadata": {},
   "source": [
    "## Problem 1\n",
    "\n",
    "Create a list of numbers from 1 to 100 (inclusive) using the range function"
   ]
  },
  {
   "cell_type": "markdown",
   "metadata": {},
   "source": [
    "## Problem 2\n",
    "Make a new list that repeats the previous list 5 times. Print the length of this new list."
   ]
  },
  {
   "cell_type": "markdown",
   "metadata": {},
   "source": [
    "## Problem 3\n",
    "Using a list comprehension [do something to a for a in somelist], create a new list that multiplies each element of the list by 3."
   ]
  },
  {
   "cell_type": "markdown",
   "metadata": {},
   "source": [
    "## Problem 4\n",
    "Find the unique elements of the numbers in list 3 by converting it to a set then convert the set back to a list. Print out the length of the list. Do the same thing for the list created in problem 2."
   ]
  },
  {
   "cell_type": "markdown",
   "metadata": {},
   "source": [
    "## Problem 5\n",
    "Use the zip function to to zip together the second and first list created in problem 4, i.e. zip(list_x, list_y), then convert the list of tuples formed by zip to a dictionary. dict(zip(...))\n",
    "\n",
    "What value does the looking up the dictionary for key=3 return, i.e. your_dictionary[3]?"
   ]
  },
  {
   "cell_type": "markdown",
   "metadata": {},
   "source": [
    "# Fix the following code\n",
    "\n",
    "## Problem 1\n",
    "Below is a bit of code that simulates rolling of 2 dice. If the 2 rolls sum to 6, the code should print out \"rolled a 6,\" otherwise, the code will print out \"not 6.\"\n",
    "```python\n",
    "import numpy as np\n",
    "x1 = np.random.randint(range(1,7)) # this is the random integer function\n",
    "x2 = np.random.randint(range(1,7))\n",
    "if x1+x2 = 6\n",
    "print('rolled a 6')\n",
    "else\n",
    "    print(not 6)\n",
    "print('Rolled a: {}'.format(x1+x2)) \n",
    "```"
   ]
  },
  {
   "cell_type": "markdown",
   "metadata": {},
   "source": [
    "\n",
    "## Problem 2\n",
    "This code takes a list of numbers and keeps them if they are even.\n",
    "\n",
    "```python\n",
    "listofnumbers = np.random.randint(0, 10001, 100) # creates a list of 100 random integers between 0 and 10000.\n",
    "evennumbers = [c for c in listofnumber if c / 2=0\n",
    "```"
   ]
  },
  {
   "cell_type": "markdown",
   "metadata": {},
   "source": [
    "## Problem 3\n",
    "This code defines a function that returns a new list after checking whether each value of a list belongs (or optionally doesn't belong) to a second list. \n",
    "\n",
    "```python\n",
    "# First define a function\n",
    "def check_lists(list1, checklist, membership = 'in')\n",
    "    if membership = 'in'\n",
    "    [for v list1 if v in checklist]\n",
    "    else\n",
    "    [for v list1 if v not in checklist]\n",
    "    \n",
    "# Check the function (the checking code below is correct)\n",
    "import numpy as np\n",
    "l1 = np.random.randint(0, 500, 20)\n",
    "l2 = np.random.randint(0, 500, 100)\n",
    "inlist = check_lists(l1, l2, membership = 'in')\n",
    "outlist = check_lists(l1, l2, membership = 'out')\n",
    "print(u'list1: {} \\n\\nlist2: {} \\n\\nIn list: {} \\n\\nOut list: {}'.format(l1,l2,inlist,outlist))\n",
    "```"
   ]
  },
  {
   "cell_type": "markdown",
   "metadata": {},
   "source": [
    "# Write your own code to select all the prime numbers (numbers with exactly 2 unique divisors (1 and itself)) from 1 to 1000, how many primes are there? How about 1 to 100k (if your code is brute force, this will take a long time and maybe crash python).\n",
    "\n",
    "Try to write the best possible code with 1000, then try 10k, see if you can improve the runtime before trying 100k"
   ]
  }
 ],
 "metadata": {
  "kernelspec": {
   "display_name": "Python 2",
   "language": "python",
   "name": "python2"
  },
  "language_info": {
   "codemirror_mode": {
    "name": "ipython",
    "version": 2
   },
   "file_extension": ".py",
   "mimetype": "text/x-python",
   "name": "python",
   "nbconvert_exporter": "python",
   "pygments_lexer": "ipython2",
   "version": "2.7.14"
  }
 },
 "nbformat": 4,
 "nbformat_minor": 2
}
