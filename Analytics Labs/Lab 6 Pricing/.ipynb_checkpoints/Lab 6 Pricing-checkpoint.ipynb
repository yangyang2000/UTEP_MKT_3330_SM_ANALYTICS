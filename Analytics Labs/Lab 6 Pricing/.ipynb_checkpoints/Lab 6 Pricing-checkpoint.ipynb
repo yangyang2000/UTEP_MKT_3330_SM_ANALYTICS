{
 "cells": [
  {
   "cell_type": "markdown",
   "metadata": {},
   "source": [
    "# Problem 1.a\n",
    "Suppose company ABC faces a monthly linear demand curve for its product: $d=200-5p$. It currenty has a marginal cost of \\$8 per unit sold and fixed costs of \\$300 for each month it operates. What is ABC's profit break even price? What is ABC's profit maximizing price? What is ABC's maximum profit? "
   ]
  },
  {
   "cell_type": "markdown",
   "metadata": {},
   "source": [
    "# Problem 1.b\n",
    "ABC plans to implement a new promotonal strategy that will have a one time fixed expenditure of \\$3000 that increases the demand at every price by 50 units. What is the new demand function? What is the new profit function? What is the change in profit maximizing prices? How long will it take ABC to break even on this investment (ignoring discounting of future cash flows)?"
   ]
  },
  {
   "cell_type": "markdown",
   "metadata": {},
   "source": [
    "My new profit function is: $\\Pi=(250-5p)(p-8)-300$\n",
    "\n",
    "My new profit maximizaing prices: \n",
    "\n",
    "$p=\\frac{A+bc_m}{2b}$\n",
    "\n",
    "$p=\\frac{250+5\\times8}{2\\times5}=29$\n",
    "\n",
    "The change in price is $29-24=5$\n",
    "\n",
    "Calculate new profits by pluggin in 29\n",
    "\n",
    "$\\Pi=(250-5\\times29)(29-8)-300=1905$\n",
    "\n",
    "Change in profits is $1905-980=925$, this is how much more we make per month.\n",
    "\n",
    "Now we want to compute how many months it takes to make up \\$3000 investment.\n",
    "\n",
    "$3000/925\\approx3.243$ months"
   ]
  },
  {
   "cell_type": "markdown",
   "metadata": {},
   "source": [
    "# Problem 1.c\n",
    "\n",
    "Suppose an alternative promotional strategy costs ABC an additional \\$2 per unit sold, but decreases the price impact on demand (slope of demand) from 5 to 4. In other words, consumers become less sensitive to price because of the promotion. What is the new demand function? What is the new profit function? What is the profit maximizing price? Should ABC implement this promotional strategy?"
   ]
  },
  {
   "cell_type": "markdown",
   "metadata": {},
   "source": [
    "# Problem 2\n",
    "In 4 equivalent test weeks, we have the following sales for prices:\n",
    "\n",
    "Week 1: 4075 units @ \\$6\n",
    "\n",
    "Week 2: 3000 units @ \\$10\n",
    "\n",
    "Week 3: 2020 units @ \\$15\n",
    "\n",
    "Week 4: 1100 units @ \\$19\n",
    "\n",
    "The fixed cost is \\$1000 marginal cost is \\$5.50, what is the maximum profit?"
   ]
  },
  {
   "cell_type": "markdown",
   "metadata": {},
   "source": [
    "# Problem 3\n",
    "Suppose company ABC produces a product with a constant elasticity of -1.4. What kind of product is this (elastic or inelastic)? What is the demand function if ABC would sell 20000 units at a price of \\$1? If the firm has marginal costs of \\$3 and fixed costs of \\$3000, What is the profit function? Compute the profit maximizing price and the maximum profit."
   ]
  },
  {
   "cell_type": "markdown",
   "metadata": {},
   "source": [
    "1. This is an elastic product (elasticity is less than -1.)"
   ]
  },
  {
   "cell_type": "markdown",
   "metadata": {},
   "source": [
    "# Problem 3.a\n",
    "You randomly assign 4 test markets to the following prices: Market A: \\$3, Market B: \\$7, Market C: \\$10, Market D: \\$15. Your quantities sold in each of these similar markets were: 6200, 2350, 1560, 1000 for markets A, B, C, and D, respectively.\n",
    "\n",
    "Does this product seem to have a constant elasticity demand or a linear demand?\n",
    "\n",
    "Estimate the appropriate demand model, what is the estimated demand function?"
   ]
  },
  {
   "cell_type": "markdown",
   "metadata": {},
   "source": [
    "# Problem 3.b\n",
    "What is the profit maximizing price if it costs \\$1 in components, 10 cents in labor, and 40 cents in licensing fees for each unit? What is the maximum profit if the total fixed costs are \\$1000?"
   ]
  },
  {
   "cell_type": "markdown",
   "metadata": {},
   "source": [
    "# Problem 3.c\n",
    "Suppose you can decrease the elasticity of the product by 2% (e_new = e_old*0.98) through a new advertising campaign, how much in fixed costs are you willing to pay for this campaign?"
   ]
  },
  {
   "cell_type": "code",
   "execution_count": null,
   "metadata": {
    "collapsed": true
   },
   "outputs": [],
   "source": []
  }
 ],
 "metadata": {
  "kernelspec": {
   "display_name": "Python 2",
   "language": "python",
   "name": "python2"
  },
  "language_info": {
   "codemirror_mode": {
    "name": "ipython",
    "version": 2
   },
   "file_extension": ".py",
   "mimetype": "text/x-python",
   "name": "python",
   "nbconvert_exporter": "python",
   "pygments_lexer": "ipython2",
   "version": "2.7.14"
  }
 },
 "nbformat": 4,
 "nbformat_minor": 2
}
