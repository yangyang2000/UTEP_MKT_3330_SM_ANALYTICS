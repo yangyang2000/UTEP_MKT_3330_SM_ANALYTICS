{
 "cells": [
  {
   "cell_type": "markdown",
   "metadata": {},
   "source": [
    "# Problem 1.a\n",
    "Suppose company ABC faces a monthly linear demand curve for its product: $d=200-5p$. It currenty has a marginal cost of \\$8 per unit sold and fixed costs of \\$300 for each month it operates. What is ABC's profit break even price? What is ABC's profit maximizing price? What is ABC's maximum profit? "
   ]
  },
  {
   "cell_type": "markdown",
   "metadata": {},
   "source": [
    "# Solution 1.a\n",
    "\n",
    "\n",
    "We know demand is this:\n",
    "$D=200-5p$\n",
    "\n",
    "So the profit function is this:\n",
    "$\\Pi=(200-5p)(p-8)-300$\n",
    "\n",
    "Set $\\Pi=0$\n",
    "\n",
    "$0=(200-5p)(p-8)-300$\n",
    "\n",
    "$0=-5p^2+240p-1900$\n",
    "\n",
    "Recall the quadratic formula: for $0=ax^2+bx+c$, we can solve for x using \n",
    "$\\frac{-b\\pm\\sqrt{b^2-4ac}}{2a}$\n",
    "\n",
    "Applied to our problem: $a=-5$, $b=240$, $c=-1900$\n",
    "\n",
    "What is the solution? (note we only want positive solutions)\n",
    "$p = 10$  or $38$\n",
    "\n",
    "The optimal price should be the average of the 2 break even prices.\n",
    "\n",
    "$\\frac{10+38}{2}=24$\n",
    "\n",
    "Calculate the maximum profit by plugging the optimal price, \\$24, back in.\n",
    "\n",
    "$\\Pi = (200-5p)(p-8)-300$\n",
    "\n",
    "$\\Pi = (200-5\\times24)(24-8)-300 = 980$"
   ]
  },
  {
   "cell_type": "code",
   "execution_count": 1,
   "metadata": {},
   "outputs": [
    {
     "data": {
      "text/plain": [
       "(10.0, 38.0)"
      ]
     },
     "execution_count": 1,
     "metadata": {},
     "output_type": "execute_result"
    }
   ],
   "source": [
    "import numpy as np\n",
    "a = -5\n",
    "b=240\n",
    "c=-1900\n",
    "p1 = (-b+np.sqrt(b**2-4*a*c))/(2*a)\n",
    "\n",
    "p2 = (-b-np.sqrt(b**2-4*a*c))/(2*a)\n",
    "\n",
    "p1,p2 # break even prices"
   ]
  },
  {
   "cell_type": "code",
   "execution_count": 2,
   "metadata": {},
   "outputs": [
    {
     "data": {
      "text/plain": [
       "980"
      ]
     },
     "execution_count": 2,
     "metadata": {},
     "output_type": "execute_result"
    }
   ],
   "source": [
    "(200-5*24)*(24-8)-300 # profits"
   ]
  },
  {
   "cell_type": "markdown",
   "metadata": {},
   "source": [
    "# Problem 1.b\n",
    "ABC plans to implement a new promotonal strategy that will have a one time fixed expenditure of \\$3000 that increases the demand at every price by 50 units. What is the new demand function? What is the new profit function? What is the change in profit maximizing prices? How long will it take ABC to break even on this investment (ignoring discounting of future cash flows)?"
   ]
  },
  {
   "cell_type": "markdown",
   "metadata": {},
   "source": [
    "My new profit function is: $\\Pi=(250-5p)(p-8)-300$\n",
    "\n",
    "My new profit maximizaing prices: \n",
    "\n",
    "$p=\\frac{A+bc_m}{2b}$\n",
    "\n",
    "$p=\\frac{250+5\\times8}{2\\times5}=29$\n",
    "\n",
    "The change in price is $29-24=5$\n",
    "\n",
    "Calculate new profits by pluggin in 29\n",
    "\n",
    "$\\Pi=(250-5\\times29)(29-8)-300=1905$\n",
    "\n",
    "Change in profits is $1905-980=925$, this is how much more we make per month.\n",
    "\n",
    "Now we want to compute how many months it takes to make up \\$3000 investment.\n",
    "\n",
    "$3000/925\\approx3.243$ months"
   ]
  },
  {
   "cell_type": "code",
   "execution_count": 3,
   "metadata": {},
   "outputs": [
    {
     "data": {
      "text/plain": [
       "29"
      ]
     },
     "execution_count": 3,
     "metadata": {},
     "output_type": "execute_result"
    }
   ],
   "source": [
    "(250+5*8)/(2*5) #pstar"
   ]
  },
  {
   "cell_type": "code",
   "execution_count": 4,
   "metadata": {},
   "outputs": [
    {
     "data": {
      "text/plain": [
       "1905"
      ]
     },
     "execution_count": 4,
     "metadata": {},
     "output_type": "execute_result"
    }
   ],
   "source": [
    "(250-5*29)*(29-8)-300"
   ]
  },
  {
   "cell_type": "code",
   "execution_count": 5,
   "metadata": {},
   "outputs": [
    {
     "data": {
      "text/plain": [
       "3.2432432432432434"
      ]
     },
     "execution_count": 5,
     "metadata": {},
     "output_type": "execute_result"
    }
   ],
   "source": [
    "from __future__ import division\n",
    "3000/925"
   ]
  },
  {
   "cell_type": "markdown",
   "metadata": {},
   "source": [
    "# Problem 1.c\n",
    "\n",
    "Suppose an alternative promotional strategy costs ABC an additional \\$2 per unit sold, but decreases the price impact on demand (slope of demand) from 5 to 4. In other words, consumers become less sensitive to price because of the promotion. What is the new demand function? What is the new profit function? What is the profit maximizing price? Should ABC implement this promotional strategy?"
   ]
  },
  {
   "cell_type": "markdown",
   "metadata": {},
   "source": [
    "My new profit function is: $\\Pi=(200-4p)(p-10)-300$\n",
    "\n",
    "My new profit maximizaing prices: \n",
    "\n",
    "$p=\\frac{A+bc_m}{2b}$\n",
    "\n",
    "$p=\\frac{200+4\\times10}{2\\times4}=30$\n",
    "\n",
    "The change in price is $30-24=6$\n",
    "\n",
    "Calculate new profits by plugging in in 30\n",
    "\n",
    "$\\Pi=(200-4\\times30)(30-10)-300=1300$\n",
    "\n",
    "Change in profits is $1300-980=320$, this is how much more we make per month.\n",
    "\n",
    "This promotional strategy makes us more money."
   ]
  },
  {
   "cell_type": "markdown",
   "metadata": {},
   "source": [
    "# Problem 2\n",
    "In 4 equivalent test weeks, we have the following sales for prices:\n",
    "\n",
    "Week 1: 4075 units @ \\$6\n",
    "\n",
    "Week 2: 3000 units @ \\$10\n",
    "\n",
    "Week 3: 2020 units @ \\$15\n",
    "\n",
    "Week 4: 1100 units @ \\$19\n",
    "\n",
    "The fixed cost is \\$1000 marginal cost is \\$5.50, what is the maximum profit?"
   ]
  },
  {
   "cell_type": "code",
   "execution_count": 6,
   "metadata": {},
   "outputs": [
    {
     "data": {
      "text/plain": [
       "Text(0.5,0,u'Prices')"
      ]
     },
     "execution_count": 6,
     "metadata": {},
     "output_type": "execute_result"
    },
    {
     "data": {
      "image/png": "[encoded data removed]",
      "text/plain": [
       "<matplotlib.figure.Figure at 0x985ae80>"
      ]
     },
     "metadata": {},
     "output_type": "display_data"
    }
   ],
   "source": [
    "% matplotlib inline \n",
    "import matplotlib.pyplot as plt # import pyplot as plt\n",
    "import pandas as pd # import pandas\n",
    "sales = [4075,3000,2020,1100] # sales data\n",
    "prices = [6, 10, 15, 19] # price data\n",
    "data = pd.DataFrame(list(zip(prices, sales)), columns = ['Prices', 'Units'])\n",
    "plt.scatter(prices, sales)\n",
    "plt.ylabel('Units')\n",
    "plt.xlabel('Prices')"
   ]
  },
  {
   "cell_type": "code",
   "execution_count": 7,
   "metadata": {},
   "outputs": [
    {
     "name": "stderr",
     "output_type": "stream",
     "text": [
      "C:\\Users\\yangy\\AppData\\Local\\conda\\conda\\envs\\py27\\lib\\site-packages\\statsmodels\\stats\\stattools.py:72: ValueWarning: omni_normtest is not valid with less than 8 observations; 4 samples were given.\n",
      "  \"samples were given.\" % int(n), ValueWarning)\n"
     ]
    },
    {
     "data": {
      "text/html": [
       "<table class=\"simpletable\">\n",
       "<caption>OLS Regression Results</caption>\n",
       "<tr>\n",
       "  <th>Dep. Variable:</th>          <td>Units</td>      <th>  R-squared:         </th> <td>   0.996</td>\n",
       "</tr>\n",
       "<tr>\n",
       "  <th>Model:</th>                   <td>OLS</td>       <th>  Adj. R-squared:    </th> <td>   0.995</td>\n",
       "</tr>\n",
       "<tr>\n",
       "  <th>Method:</th>             <td>Least Squares</td>  <th>  F-statistic:       </th> <td>   551.3</td>\n",
       "</tr>\n",
       "<tr>\n",
       "  <th>Date:</th>             <td>Mon, 12 Mar 2018</td> <th>  Prob (F-statistic):</th>  <td>0.00181</td>\n",
       "</tr>\n",
       "<tr>\n",
       "  <th>Time:</th>                 <td>15:16:40</td>     <th>  Log-Likelihood:    </th> <td> -22.472</td>\n",
       "</tr>\n",
       "<tr>\n",
       "  <th>No. Observations:</th>      <td>     4</td>      <th>  AIC:               </th> <td>   48.94</td>\n",
       "</tr>\n",
       "<tr>\n",
       "  <th>Df Residuals:</th>          <td>     2</td>      <th>  BIC:               </th> <td>   47.72</td>\n",
       "</tr>\n",
       "<tr>\n",
       "  <th>Df Model:</th>              <td>     1</td>      <th>                     </th>     <td> </td>   \n",
       "</tr>\n",
       "<tr>\n",
       "  <th>Covariance Type:</th>      <td>nonrobust</td>    <th>                     </th>     <td> </td>   \n",
       "</tr>\n",
       "</table>\n",
       "<table class=\"simpletable\">\n",
       "<tr>\n",
       "      <td></td>         <th>coef</th>     <th>std err</th>      <th>t</th>      <th>P>|t|</th>  <th>[0.025</th>    <th>0.975]</th>  \n",
       "</tr>\n",
       "<tr>\n",
       "  <th>Intercept</th> <td> 5356.4175</td> <td>  128.525</td> <td>   41.676</td> <td> 0.001</td> <td> 4803.417</td> <td> 5909.418</td>\n",
       "</tr>\n",
       "<tr>\n",
       "  <th>Prices</th>    <td> -224.6134</td> <td>    9.566</td> <td>  -23.479</td> <td> 0.002</td> <td> -265.774</td> <td> -183.452</td>\n",
       "</tr>\n",
       "</table>\n",
       "<table class=\"simpletable\">\n",
       "<tr>\n",
       "  <th>Omnibus:</th>       <td>   nan</td> <th>  Durbin-Watson:     </th> <td>   2.935</td>\n",
       "</tr>\n",
       "<tr>\n",
       "  <th>Prob(Omnibus):</th> <td>   nan</td> <th>  Jarque-Bera (JB):  </th> <td>   0.614</td>\n",
       "</tr>\n",
       "<tr>\n",
       "  <th>Skew:</th>          <td>-0.857</td> <th>  Prob(JB):          </th> <td>   0.736</td>\n",
       "</tr>\n",
       "<tr>\n",
       "  <th>Kurtosis:</th>      <td> 2.137</td> <th>  Cond. No.          </th> <td>    36.8</td>\n",
       "</tr>\n",
       "</table>"
      ],
      "text/plain": [
       "<class 'statsmodels.iolib.summary.Summary'>\n",
       "\"\"\"\n",
       "                            OLS Regression Results                            \n",
       "==============================================================================\n",
       "Dep. Variable:                  Units   R-squared:                       0.996\n",
       "Model:                            OLS   Adj. R-squared:                  0.995\n",
       "Method:                 Least Squares   F-statistic:                     551.3\n",
       "Date:                Mon, 12 Mar 2018   Prob (F-statistic):            0.00181\n",
       "Time:                        15:16:40   Log-Likelihood:                -22.472\n",
       "No. Observations:                   4   AIC:                             48.94\n",
       "Df Residuals:                       2   BIC:                             47.72\n",
       "Df Model:                           1                                         \n",
       "Covariance Type:            nonrobust                                         \n",
       "==============================================================================\n",
       "                 coef    std err          t      P>|t|      [0.025      0.975]\n",
       "------------------------------------------------------------------------------\n",
       "Intercept   5356.4175    128.525     41.676      0.001    4803.417    5909.418\n",
       "Prices      -224.6134      9.566    -23.479      0.002    -265.774    -183.452\n",
       "==============================================================================\n",
       "Omnibus:                          nan   Durbin-Watson:                   2.935\n",
       "Prob(Omnibus):                    nan   Jarque-Bera (JB):                0.614\n",
       "Skew:                          -0.857   Prob(JB):                        0.736\n",
       "Kurtosis:                       2.137   Cond. No.                         36.8\n",
       "==============================================================================\n",
       "\n",
       "Warnings:\n",
       "[1] Standard Errors assume that the covariance matrix of the errors is correctly specified.\n",
       "\"\"\""
      ]
     },
     "execution_count": 7,
     "metadata": {},
     "output_type": "execute_result"
    }
   ],
   "source": [
    "import statsmodels.formula.api as smf\n",
    "results = smf.ols(formula = 'Units~Prices', data = data).fit()\n",
    "results.summary()"
   ]
  },
  {
   "cell_type": "code",
   "execution_count": 8,
   "metadata": {
    "collapsed": true
   },
   "outputs": [],
   "source": [
    "A = results.params['Intercept']\n",
    "b = -results.params['Prices']\n",
    "c_m = 5.50\n",
    "c_f = 1000"
   ]
  },
  {
   "cell_type": "code",
   "execution_count": 9,
   "metadata": {},
   "outputs": [
    {
     "data": {
      "text/plain": [
       "(14.67363740676994, 17902.480845510177)"
      ]
     },
     "execution_count": 9,
     "metadata": {},
     "output_type": "execute_result"
    }
   ],
   "source": [
    "def _Demand_(price, A, b): # Define a linear demand function D = A-b*price\n",
    "    try:\n",
    "        if len(price)>0:\n",
    "            return np.maximum(np.array(A-b*price), np.array([0]*len(price)))\n",
    "    except:\n",
    "        return max(A-b*price, 0)\n",
    "def _pstar_linear_(A,b,c_m):\n",
    "    return (A+b*c_m)/(2*b)\n",
    "def _profit_(demands, prices, c_fixed, c_marginal): # define the profit function\n",
    "    return demands*(prices-c_marginal)-c_fixed\n",
    "pstar = _pstar_linear_(A,b,c_m)\n",
    "profstar = _profit_(_Demand_(pstar,A,b), pstar, c_f, c_m)\n",
    "pstar, profstar"
   ]
  },
  {
   "cell_type": "markdown",
   "metadata": {},
   "source": [
    "# Problem 3\n",
    "Suppose company ABC produces a product with a constant elasticity of -1.4. What kind of product is this (elastic or inelastic)? What is the demand function if ABC would sell 20000 units at a price of \\$1? If the firm has marginal costs of \\$3 and fixed costs of \\$3000, What is the profit function? Compute the profit maximizing price and the maximum profit."
   ]
  },
  {
   "cell_type": "markdown",
   "metadata": {},
   "source": [
    "1. This is an elastic product (elasticity is less than -1.)"
   ]
  },
  {
   "cell_type": "code",
   "execution_count": 11,
   "metadata": {},
   "outputs": [
    {
     "data": {
      "text/plain": [
       "9.9034875525361272"
      ]
     },
     "execution_count": 11,
     "metadata": {},
     "output_type": "execute_result"
    }
   ],
   "source": [
    "np.log(20000) # at price = 1, p^elasticity = 1 regardless of the elasticity, \n",
    "# so the constant e^k = 20000. Therefore, k = log(20000)"
   ]
  },
  {
   "cell_type": "code",
   "execution_count": 12,
   "metadata": {},
   "outputs": [
    {
     "data": {
      "text/plain": [
       "10.499999999999998"
      ]
     },
     "execution_count": 12,
     "metadata": {},
     "output_type": "execute_result"
    }
   ],
   "source": [
    "-1.4*3/(-.4) # use the formula for optimal price, plug in elasticity and marginal cost"
   ]
  },
  {
   "cell_type": "code",
   "execution_count": 13,
   "metadata": {},
   "outputs": [
    {
     "name": "stdout",
     "output_type": "stream",
     "text": [
      "Maximum profit is $2574.61012147\n"
     ]
    }
   ],
   "source": [
    "# Calculations for problem 1\n",
    "pistar = np.power(10.5, -1.4)*np.exp(9.903)*(10.50-3)-3000 # plug in pstar in profit equation\n",
    "print \"Maximum profit is $\"+str(pistar)"
   ]
  },
  {
   "cell_type": "markdown",
   "metadata": {},
   "source": [
    "# Problem 3.a\n",
    "You randomly assign 4 test markets to the following prices: Market A: \\$3, Market B: \\$7, Market C: \\$10, Market D: \\$15. Your quantities sold in each of these similar markets were: 6200, 2350, 1560, 1000 for markets A, B, C, and D, respectively.\n",
    "\n",
    "Does this product seem to have a constant elasticity demand or a linear demand?\n",
    "\n",
    "Estimate the appropriate demand model, what is the estimated demand function?"
   ]
  },
  {
   "cell_type": "code",
   "execution_count": 14,
   "metadata": {},
   "outputs": [
    {
     "data": {
      "text/plain": [
       "Text(0.5,1,u'This looks like it is not linear!')"
      ]
     },
     "execution_count": 14,
     "metadata": {},
     "output_type": "execute_result"
    },
    {
     "data": {
      "image/png": "[encoded data removed]",
      "text/plain": [
       "<matplotlib.figure.Figure at 0xf719978>"
      ]
     },
     "metadata": {},
     "output_type": "display_data"
    }
   ],
   "source": [
    "# Plot the test market data\n",
    "data = pd.DataFrame(list(zip([3,7,10,15],[6200,2350,1560,1000])), columns = ['price', 'units'])\n",
    "plt.scatter(data.price, data.units)\n",
    "plt.xlabel('prices')\n",
    "plt.ylabel('units')\n",
    "plt.title('This looks like it is not linear!')"
   ]
  },
  {
   "cell_type": "code",
   "execution_count": 15,
   "metadata": {},
   "outputs": [
    {
     "data": {
      "text/html": [
       "<div>\n",
       "<style>\n",
       "    .dataframe thead tr:only-child th {\n",
       "        text-align: right;\n",
       "    }\n",
       "\n",
       "    .dataframe thead th {\n",
       "        text-align: left;\n",
       "    }\n",
       "\n",
       "    .dataframe tbody tr th {\n",
       "        vertical-align: top;\n",
       "    }\n",
       "</style>\n",
       "<table border=\"1\" class=\"dataframe\">\n",
       "  <thead>\n",
       "    <tr style=\"text-align: right;\">\n",
       "      <th></th>\n",
       "      <th>price</th>\n",
       "      <th>units</th>\n",
       "      <th>logUnits</th>\n",
       "      <th>logPrices</th>\n",
       "    </tr>\n",
       "  </thead>\n",
       "  <tbody>\n",
       "    <tr>\n",
       "      <th>0</th>\n",
       "      <td>3</td>\n",
       "      <td>6200</td>\n",
       "      <td>8.732305</td>\n",
       "      <td>1.098612</td>\n",
       "    </tr>\n",
       "    <tr>\n",
       "      <th>1</th>\n",
       "      <td>7</td>\n",
       "      <td>2350</td>\n",
       "      <td>7.762171</td>\n",
       "      <td>1.945910</td>\n",
       "    </tr>\n",
       "    <tr>\n",
       "      <th>2</th>\n",
       "      <td>10</td>\n",
       "      <td>1560</td>\n",
       "      <td>7.352441</td>\n",
       "      <td>2.302585</td>\n",
       "    </tr>\n",
       "    <tr>\n",
       "      <th>3</th>\n",
       "      <td>15</td>\n",
       "      <td>1000</td>\n",
       "      <td>6.907755</td>\n",
       "      <td>2.708050</td>\n",
       "    </tr>\n",
       "  </tbody>\n",
       "</table>\n",
       "</div>"
      ],
      "text/plain": [
       "   price  units  logUnits  logPrices\n",
       "0      3   6200  8.732305   1.098612\n",
       "1      7   2350  7.762171   1.945910\n",
       "2     10   1560  7.352441   2.302585\n",
       "3     15   1000  6.907755   2.708050"
      ]
     },
     "execution_count": 15,
     "metadata": {},
     "output_type": "execute_result"
    }
   ],
   "source": [
    "data['logUnits'] = np.log(data.units) # Take logs of demand and price\n",
    "data['logPrices'] = np.log(data.price)\n",
    "data"
   ]
  },
  {
   "cell_type": "code",
   "execution_count": 17,
   "metadata": {},
   "outputs": [
    {
     "data": {
      "text/plain": [
       "Text(0.5,1,u'This looks pretty much linear!')"
      ]
     },
     "execution_count": 17,
     "metadata": {},
     "output_type": "execute_result"
    },
    {
     "data": {
      "image/png": "[encoded data removed]",
      "text/plain": [
       "<matplotlib.figure.Figure at 0xf7ea860>"
      ]
     },
     "metadata": {},
     "output_type": "display_data"
    }
   ],
   "source": [
    "# Plot the test market data in log units\n",
    "plt.scatter(data.logPrices, data.logUnits)\n",
    "plt.xlabel('log prices')\n",
    "plt.ylabel('log units')\n",
    "plt.title('This looks pretty much linear!')"
   ]
  },
  {
   "cell_type": "markdown",
   "metadata": {},
   "source": [
    "In order to find the parameters of our demand function, we need to estimate the line that fits these points. Remember, we can run a linear regression on the logs of the units and prices because taking logs of our demand function, $D=p^{\\beta}*e^K$, we can rewrite the demand function as a linear equation in logs: $ln(D)=K+\\beta ln(p)$. This is the basic form of a linear (regression) equation. Recall that linear regressions have the form $y=\\beta_0+\\beta_1x_1+...+error$, where $\\beta_0$ is the constant term and $\\beta_1$ is the coefficient for variable $x_1$. Translating our problem to this form, our $y$ is our logUnits and our $x_1$ is our logPrices. Therefore, our $\\beta_0$ (or coefficient of the constant term) is K, and our $\\beta_1$ (or coefficient of logPrices) is $\\beta$. "
   ]
  },
  {
   "cell_type": "code",
   "execution_count": 18,
   "metadata": {},
   "outputs": [
    {
     "data": {
      "text/html": [
       "<table class=\"simpletable\">\n",
       "<caption>OLS Regression Results</caption>\n",
       "<tr>\n",
       "  <th>Dep. Variable:</th>        <td>logUnits</td>     <th>  R-squared:         </th> <td>   1.000</td> \n",
       "</tr>\n",
       "<tr>\n",
       "  <th>Model:</th>                   <td>OLS</td>       <th>  Adj. R-squared:    </th> <td>   1.000</td> \n",
       "</tr>\n",
       "<tr>\n",
       "  <th>Method:</th>             <td>Least Squares</td>  <th>  F-statistic:       </th> <td>2.334e+04</td>\n",
       "</tr>\n",
       "<tr>\n",
       "  <th>Date:</th>             <td>Mon, 12 Mar 2018</td> <th>  Prob (F-statistic):</th> <td>4.28e-05</td> \n",
       "</tr>\n",
       "<tr>\n",
       "  <th>Time:</th>                 <td>15:19:54</td>     <th>  Log-Likelihood:    </th> <td>  14.632</td> \n",
       "</tr>\n",
       "<tr>\n",
       "  <th>No. Observations:</th>      <td>     4</td>      <th>  AIC:               </th> <td>  -25.26</td> \n",
       "</tr>\n",
       "<tr>\n",
       "  <th>Df Residuals:</th>          <td>     2</td>      <th>  BIC:               </th> <td>  -26.49</td> \n",
       "</tr>\n",
       "<tr>\n",
       "  <th>Df Model:</th>              <td>     1</td>      <th>                     </th>     <td> </td>    \n",
       "</tr>\n",
       "<tr>\n",
       "  <th>Covariance Type:</th>      <td>nonrobust</td>    <th>                     </th>     <td> </td>    \n",
       "</tr>\n",
       "</table>\n",
       "<table class=\"simpletable\">\n",
       "<tr>\n",
       "      <td></td>         <th>coef</th>     <th>std err</th>      <th>t</th>      <th>P>|t|</th>  <th>[0.025</th>    <th>0.975]</th>  \n",
       "</tr>\n",
       "<tr>\n",
       "  <th>Intercept</th> <td>    9.9769</td> <td>    0.016</td> <td>  638.976</td> <td> 0.000</td> <td>    9.910</td> <td>   10.044</td>\n",
       "</tr>\n",
       "<tr>\n",
       "  <th>logPrices</th> <td>   -1.1363</td> <td>    0.007</td> <td> -152.775</td> <td> 0.000</td> <td>   -1.168</td> <td>   -1.104</td>\n",
       "</tr>\n",
       "</table>\n",
       "<table class=\"simpletable\">\n",
       "<tr>\n",
       "  <th>Omnibus:</th>       <td>   nan</td> <th>  Durbin-Watson:     </th> <td>   2.127</td>\n",
       "</tr>\n",
       "<tr>\n",
       "  <th>Prob(Omnibus):</th> <td>   nan</td> <th>  Jarque-Bera (JB):  </th> <td>   0.415</td>\n",
       "</tr>\n",
       "<tr>\n",
       "  <th>Skew:</th>          <td>-0.020</td> <th>  Prob(JB):          </th> <td>   0.813</td>\n",
       "</tr>\n",
       "<tr>\n",
       "  <th>Kurtosis:</th>      <td> 1.423</td> <th>  Cond. No.          </th> <td>    9.00</td>\n",
       "</tr>\n",
       "</table>"
      ],
      "text/plain": [
       "<class 'statsmodels.iolib.summary.Summary'>\n",
       "\"\"\"\n",
       "                            OLS Regression Results                            \n",
       "==============================================================================\n",
       "Dep. Variable:               logUnits   R-squared:                       1.000\n",
       "Model:                            OLS   Adj. R-squared:                  1.000\n",
       "Method:                 Least Squares   F-statistic:                 2.334e+04\n",
       "Date:                Mon, 12 Mar 2018   Prob (F-statistic):           4.28e-05\n",
       "Time:                        15:19:54   Log-Likelihood:                 14.632\n",
       "No. Observations:                   4   AIC:                            -25.26\n",
       "Df Residuals:                       2   BIC:                            -26.49\n",
       "Df Model:                           1                                         \n",
       "Covariance Type:            nonrobust                                         \n",
       "==============================================================================\n",
       "                 coef    std err          t      P>|t|      [0.025      0.975]\n",
       "------------------------------------------------------------------------------\n",
       "Intercept      9.9769      0.016    638.976      0.000       9.910      10.044\n",
       "logPrices     -1.1363      0.007   -152.775      0.000      -1.168      -1.104\n",
       "==============================================================================\n",
       "Omnibus:                          nan   Durbin-Watson:                   2.127\n",
       "Prob(Omnibus):                    nan   Jarque-Bera (JB):                0.415\n",
       "Skew:                          -0.020   Prob(JB):                        0.813\n",
       "Kurtosis:                       1.423   Cond. No.                         9.00\n",
       "==============================================================================\n",
       "\n",
       "Warnings:\n",
       "[1] Standard Errors assume that the covariance matrix of the errors is correctly specified.\n",
       "\"\"\""
      ]
     },
     "execution_count": 18,
     "metadata": {},
     "output_type": "execute_result"
    }
   ],
   "source": [
    "from statsmodels.formula import api as smf ## Let's use ordinary least squares to estimate the line of best fit\n",
    "data['constant'] = 1 # to do this we need a constant term \n",
    "results = smf.ols(formula = 'logUnits ~ logPrices', data=data).fit() # this line runs the regression\n",
    "data['logUnits_predict'] = np.dot(data[['constant', 'logPrices']],results.params[::-1]) # this line computes the \"predicted\" log units sold based on regression \n",
    "data['Units_predict'] = data.logUnits_predict.apply(np.exp) # this line converts predicted log units to predicted units by exponentiating the log units\n",
    "results.summary() # Look at the coef column"
   ]
  },
  {
   "cell_type": "markdown",
   "metadata": {},
   "source": [
    "The above output gives us a bunch of numbers, but we really just want the \"coef\" column. Notice the coefficient for the constant term is 9.9769, and the coefficient for logPrices is -1.1363. Therefore, $K=9.9769,\\beta=-1.1363$.\n",
    "\n",
    "Plugging in these values to our demand function, we get:\n",
    "$D(p)=p^{-1.1363}e^{9.9769}$"
   ]
  },
  {
   "cell_type": "markdown",
   "metadata": {},
   "source": [
    "# Problem 3.b\n",
    "What is the profit maximizing price if it costs \\$1 in components, 10 cents in labor, and 40 cents in licensing fees for each unit? What is the maximum profit if the total fixed costs are \\$1000?"
   ]
  },
  {
   "cell_type": "markdown",
   "metadata": {},
   "source": [
    "## Solution 3.b\n",
    "Similar to problem 2, we now have the demand function and we want to write down the profit function. Remember that $\\Pi(p) = D(p)(p-c_m)-c_f$.\n",
    "\n",
    "Our marginal costs are $1+.1+.4=1.5$ since each of the component, labor, and licensing fees are costs per unit produced. Our fixed costs are \\$1000 as stated.\n",
    "\n",
    "Our profit function is: $$\\Pi(p) = p^{-1.1363}e^{9.9769}(p-1.5)-1000$$\n",
    "\n",
    "Again, profit maximizing price is computed using $p^*=\\frac{\\beta c_m}{1+\\beta}$. In our case, this is $$p^*=\\frac{-1.1363\\times 1.5}{1-1.1363}=12.51$$\n",
    "\n",
    "Our maximum profit can be computed by plugging in $p^*$.\n",
    " $$\\Pi^* = 12.51^{-1.1363}e^{9.9769}(12.51-1.5)-1000=12424.14$$\n"
   ]
  },
  {
   "cell_type": "markdown",
   "metadata": {},
   "source": [
    "# Problem 3.c\n",
    "Suppose you can decrease the elasticity of the product by 2% (e_new = e_old*0.98) through a new advertising campaign, how much in fixed costs are you willing to pay for this campaign?"
   ]
  },
  {
   "cell_type": "markdown",
   "metadata": {
    "collapsed": true
   },
   "source": [
    "## Solution 3.c\n",
    "Let's think about this logically. How much we are willing to pay for a decrease in price elasticity should be equal the gains in profit due to decrease in price elasticity. Therefore, we need to compute the new maximum profit and subtract that from the old one. \n",
    "\n",
    "Let's first write down the new profit function:\n",
    "$$\\Pi(p) = p^{-1.1363\\times0.98}e^{9.9769}(p-1.5)-1000$$\n",
    "$$\\Pi(p) = p^{-1.113574}e^{9.9769}(p-1.5)-1000$$\n",
    "\n",
    "Given this profit function, let's compute the profit maximizing price.\n",
    "$$p^*=\\frac{-1.1136\\times 1.5}{1-1.1136}=\\frac{-1.67}{.1136}=14.70$$\n",
    "\n",
    "Next, we plug it back in to the profit function to get the maximum profit.\n",
    "$$\\Pi(p) = 14.7042^{-1.113574}e^{9.9769}(14.7042-1.5)-1000=13242.70$$\n",
    "\n",
    "Finally, let's compute the difference betweent this new profit and the old profit. $$ \\Delta_{\\Pi}=13242.70-12424.14=818.56$$\n",
    "\n",
    "This should be the amount you would be willing to invest in the promotional campaign that will reduce your price elasticity by 2%."
   ]
  },
  {
   "cell_type": "code",
   "execution_count": null,
   "metadata": {
    "collapsed": true
   },
   "outputs": [],
   "source": []
  }
 ],
 "metadata": {
  "kernelspec": {
   "display_name": "Python 2",
   "language": "python",
   "name": "python2"
  },
  "language_info": {
   "codemirror_mode": {
    "name": "ipython",
    "version": 2
   },
   "file_extension": ".py",
   "mimetype": "text/x-python",
   "name": "python",
   "nbconvert_exporter": "python",
   "pygments_lexer": "ipython2",
   "version": "2.7.14"
  }
 },
 "nbformat": 4,
 "nbformat_minor": 2
}
