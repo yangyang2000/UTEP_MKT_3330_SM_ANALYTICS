{
 "cells": [
  {
   "cell_type": "markdown",
   "metadata": {},
   "source": [
    "# Grab ESPN data\n",
    "\n",
    "## Try to finish as much of this as possible.\n",
    "\n",
    "1. Grab the 2016 regular season table for the Dallas Cowboys. The page is located here: http://www.espn.com/nfl/team/schedule/_/name/dal/year/2016\n",
    "2. Make sure your code can parse the data into:\n",
    "    1. home/away game\n",
    "    2. Opponent\n",
    "    3. own score \n",
    "    4. opponent score\n",
    "    5. Also create a new column that denotes the season (it'll be important for the next part).\n",
    "3. Once you're written the code for 2016, write the whole process as a function that takes the input \"season\" - i.e. the function grab_data(season) will take an interger of the season (such as 2016) and return a dataframe w/ the data needed.\n",
    "4. Write a loop to grab the data for the Cowboys since 1990.\n",
    "5. Create the following plots\n",
    "    1. Average point differential by season (x axis = season, y axis = pont differential)\n",
    "    2. Average point differential by season for home games\n",
    "    3. Average point differential by season for away games\n",
    "    4. Overlay these 3 plots in one plot\n",
    "    5. Plot the home vs. away point differential by season"
   ]
  },
  {
   "cell_type": "code",
   "execution_count": null,
   "metadata": {
    "collapsed": true
   },
   "outputs": [],
   "source": []
  }
 ],
 "metadata": {
  "kernelspec": {
   "display_name": "Python 2",
   "language": "python",
   "name": "python2"
  },
  "language_info": {
   "codemirror_mode": {
    "name": "ipython",
    "version": 2
   },
   "file_extension": ".py",
   "mimetype": "text/x-python",
   "name": "python",
   "nbconvert_exporter": "python",
   "pygments_lexer": "ipython2",
   "version": "2.7.14"
  }
 },
 "nbformat": 4,
 "nbformat_minor": 2
}
