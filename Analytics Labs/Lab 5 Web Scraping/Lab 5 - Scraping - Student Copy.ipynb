{
 "cells": [
  {
   "cell_type": "markdown",
   "metadata": {},
   "source": [
    "# Grab ESPN data\n",
    "\n",
    "## Try to finish as much of this as possible.\n",
    "\n",
    "1. Grab the 2016 regular season table for the Dallas Cowboys. The page is located here: http://www.espn.com/nfl/team/schedule/_/name/dal/year/2016\n",
    "2. Make sure your code can parse the data into:\n",
    "    1. home/away game\n",
    "    2. Opponent\n",
    "    3. own score \n",
    "    4. opponent score\n",
    "    5. Also create a new column that denotes the season (it'll be important for the next part).\n",
    "3. Once you're written the code for 2016, write the whole process as a function that takes the input \"season\" - i.e. the function grab_data(season) will take an interger of the season (such as 2016) and return a dataframe w/ the data needed.\n",
    "4. Write a loop to grab the data for the Cowboys since 1990.\n",
    "5. Create the following plots\n",
    "    1. Average point differential by season (x axis = season, y axis = pont differential)\n",
    "    2. Average point differential by season for home games\n",
    "    3. Average point differential by season for away games\n",
    "    4. Overlay these 3 plots in one plot\n",
    "    5. Plot the home vs. away point differential by season"
   ]
  },
  {
   "cell_type": "code",
   "execution_count": 1,
   "metadata": {
    "collapsed": true
   },
   "outputs": [],
   "source": [
    "# Import the necessary packages\n",
    "import pandas as pd, datetime \n",
    "from urllib2 import urlopen as URL\n",
    "from bs4 import BeautifulSoup as BS\n",
    "% matplotlib inline \n",
    "from matplotlib import pyplot as plt"
   ]
  },
  {
   "cell_type": "code",
   "execution_count": 29,
   "metadata": {},
   "outputs": [
    {
     "data": {
      "text/plain": [
       "'http://www.espn.com/nfl/team/schedule/_/name/dal/year/2016'"
      ]
     },
     "execution_count": 29,
     "metadata": {},
     "output_type": "execute_result"
    }
   ],
   "source": [
    "season = 2016\n",
    "url = 'http://www.espn.com/nfl/team/schedule/_/name/dal/year/{}'.format(season)\n",
    "url"
   ]
  },
  {
   "cell_type": "markdown",
   "metadata": {},
   "source": [
    "## Open page, read, parse w/ BS"
   ]
  },
  {
   "cell_type": "code",
   "execution_count": 3,
   "metadata": {},
   "outputs": [
    {
     "name": "stderr",
     "output_type": "stream",
     "text": [
      "C:\\Users\\yangy\\AppData\\Local\\conda\\conda\\envs\\py27\\lib\\site-packages\\bs4\\__init__.py:181: UserWarning: No parser was explicitly specified, so I'm using the best available HTML parser for this system (\"lxml\"). This usually isn't a problem, but if you run this code on another system, or in a different virtual environment, it may use a different parser and behave differently.\n",
      "\n",
      "The code that caused this warning is on line 174 of the file C:\\Users\\yangy\\AppData\\Local\\conda\\conda\\envs\\py27\\lib\\runpy.py. To get rid of this warning, change code that looks like this:\n",
      "\n",
      " BeautifulSoup(YOUR_MARKUP})\n",
      "\n",
      "to this:\n",
      "\n",
      " BeautifulSoup(YOUR_MARKUP, \"lxml\")\n",
      "\n",
      "  markup_type=markup_type))\n"
     ]
    }
   ],
   "source": [
    "sc = BS(URL(url).read()) # opens url, reads it as str, converts to soup"
   ]
  },
  {
   "cell_type": "markdown",
   "metadata": {},
   "source": [
    "## Grab data from page"
   ]
  },
  {
   "cell_type": "code",
   "execution_count": 30,
   "metadata": {
    "collapsed": true
   },
   "outputs": [],
   "source": [
    "tab = sc.find_all('table', {'class':'tablehead'})[0] # grabs entire table, postseason/regular season/preseason"
   ]
  },
  {
   "cell_type": "code",
   "execution_count": 31,
   "metadata": {},
   "outputs": [
    {
     "data": {
      "text/plain": [
       "bs4.element.Tag"
      ]
     },
     "execution_count": 31,
     "metadata": {},
     "output_type": "execute_result"
    }
   ],
   "source": [
    "type(tab)"
   ]
  },
  {
   "cell_type": "code",
   "execution_count": 33,
   "metadata": {},
   "outputs": [
    {
     "data": {
      "text/plain": [
       "[<tr class=\"colhead\"><td>RND</td><td>DATE</td><td>OPPONENT</td><td>RESULT</td><td>HI PASSING</td><td>HI RUSHING</td><td>HI RECEIVING</td></tr>,\n",
       " <tr class=\"colhead\"><td>WK</td><td>DATE</td><td>OPPONENT</td><td>RESULT</td><td>HI PASSING</td><td>HI RUSHING</td><td>HI RECEIVING</td></tr>,\n",
       " <tr class=\"colhead\"><td>WK</td><td>DATE</td><td>OPPONENT</td><td>RESULT</td><td colspan=\"3\">RESOURCES</td></tr>]"
      ]
     },
     "execution_count": 33,
     "metadata": {},
     "output_type": "execute_result"
    }
   ],
   "source": [
    "headers = tab.find_all('tr', {'class' : 'colhead'})\n",
    "headers"
   ]
  },
  {
   "cell_type": "code",
   "execution_count": 34,
   "metadata": {},
   "outputs": [
    {
     "data": {
      "text/plain": [
       "[<td>RND</td>,\n",
       " <td>DATE</td>,\n",
       " <td>OPPONENT</td>,\n",
       " <td>RESULT</td>,\n",
       " <td>HI PASSING</td>,\n",
       " <td>HI RUSHING</td>,\n",
       " <td>HI RECEIVING</td>]"
      ]
     },
     "execution_count": 34,
     "metadata": {},
     "output_type": "execute_result"
    }
   ],
   "source": [
    "headers[0].find_all('td')"
   ]
  },
  {
   "cell_type": "code",
   "execution_count": 35,
   "metadata": {},
   "outputs": [
    {
     "data": {
      "text/plain": [
       "[u'RND',\n",
       " u'DATE',\n",
       " u'OPPONENT',\n",
       " u'RESULT',\n",
       " u'HI PASSING',\n",
       " u'HI RUSHING',\n",
       " u'HI RECEIVING']"
      ]
     },
     "execution_count": 35,
     "metadata": {},
     "output_type": "execute_result"
    }
   ],
   "source": [
    "[c.text for c in headers[0].find_all('td')]"
   ]
  },
  {
   "cell_type": "code",
   "execution_count": 39,
   "metadata": {
    "collapsed": true
   },
   "outputs": [],
   "source": [
    "headers2 = [[td.text for td in h.find_all('td')] for h in headers]"
   ]
  },
  {
   "cell_type": "code",
   "execution_count": null,
   "metadata": {
    "collapsed": true
   },
   "outputs": [],
   "source": []
  },
  {
   "cell_type": "code",
   "execution_count": 40,
   "metadata": {},
   "outputs": [
    {
     "data": {
      "text/plain": [
       "[[u'RND',\n",
       "  u'DATE',\n",
       "  u'OPPONENT',\n",
       "  u'RESULT',\n",
       "  u'HI PASSING',\n",
       "  u'HI RUSHING',\n",
       "  u'HI RECEIVING'],\n",
       " [u'WK',\n",
       "  u'DATE',\n",
       "  u'OPPONENT',\n",
       "  u'RESULT',\n",
       "  u'HI PASSING',\n",
       "  u'HI RUSHING',\n",
       "  u'HI RECEIVING'],\n",
       " [u'WK', u'DATE', u'OPPONENT', u'RESULT', u'RESOURCES']]"
      ]
     },
     "execution_count": 40,
     "metadata": {},
     "output_type": "execute_result"
    }
   ],
   "source": [
    "headers2"
   ]
  },
  {
   "cell_type": "code",
   "execution_count": 46,
   "metadata": {},
   "outputs": [
    {
     "data": {
      "text/plain": [
       "[u'WK',\n",
       " u'DATE',\n",
       " u'OPPONENT',\n",
       " u'RESULT',\n",
       " u'HI PASSING',\n",
       " u'HI RUSHING',\n",
       " u'HI RECEIVING']"
      ]
     },
     "execution_count": 46,
     "metadata": {},
     "output_type": "execute_result"
    }
   ],
   "source": [
    "cols = [h for h in headers2 if (h[0]=='WK')&(len(h)>5)][0] # grabs column names for reg. season\n",
    "cols "
   ]
  },
  {
   "cell_type": "code",
   "execution_count": 47,
   "metadata": {
    "collapsed": true
   },
   "outputs": [],
   "source": [
    "even = tab.find_all('tr', {'class':'evenrow'}) # grabbing html code for even rows\n",
    "odd = tab.find_all('tr', {'class':'oddrow'}) # ditto for odd rows"
   ]
  },
  {
   "cell_type": "code",
   "execution_count": 48,
   "metadata": {
    "collapsed": true
   },
   "outputs": [],
   "source": [
    "odd_data = [[c.text for c in r.find_all('td')] for r in odd] \n",
    "# loop through each row of html code, r, find all td tags, retrieve text from each\n",
    "even_data = [[c.text for c in r.find_all('td')] for r in even] # ditto for even rows"
   ]
  },
  {
   "cell_type": "code",
   "execution_count": 50,
   "metadata": {},
   "outputs": [
    {
     "data": {
      "text/plain": [
       "True"
      ]
     },
     "execution_count": 50,
     "metadata": {},
     "output_type": "execute_result"
    }
   ],
   "source": [
    "weeks =[str(w) for w in  list(range(1,18))] # converts list of 1-17 weeks to str\n",
    "'1' in weeks # check to make sure it works"
   ]
  },
  {
   "cell_type": "code",
   "execution_count": null,
   "metadata": {},
   "outputs": [],
   "source": []
  },
  {
   "cell_type": "code",
   "execution_count": 53,
   "metadata": {
    "collapsed": true
   },
   "outputs": [],
   "source": [
    "# Get odd and even data rows for regular season only \n",
    "odds = [d for d in odd_data if (len(d)>5)&(d[0] in weeks)] \n",
    "# check to make sure each row, d, has at least 6 columns (not preseason), and first data point\n",
    "# d[0] belongs to weeks (not post season) \n",
    "evens = [d for d in even_data if (len(d)>5)&(d[0] in weeks)]\n",
    "# ditto for even rows"
   ]
  },
  {
   "cell_type": "code",
   "execution_count": 54,
   "metadata": {
    "collapsed": true
   },
   "outputs": [],
   "source": [
    "data = odds+evens # combine evens and odds"
   ]
  },
  {
   "cell_type": "code",
   "execution_count": 56,
   "metadata": {
    "collapsed": true
   },
   "outputs": [],
   "source": [
    "df = pd.DataFrame(data) # convert to pandas dataframe"
   ]
  },
  {
   "cell_type": "code",
   "execution_count": 58,
   "metadata": {},
   "outputs": [
    {
     "data": {
      "text/plain": [
       "[u'WK',\n",
       " u'DATE',\n",
       " u'OPPONENT',\n",
       " u'RESULT',\n",
       " u'HI PASSING',\n",
       " u'HI RUSHING',\n",
       " u'HI RECEIVING']"
      ]
     },
     "execution_count": 58,
     "metadata": {},
     "output_type": "execute_result"
    }
   ],
   "source": [
    "cols"
   ]
  },
  {
   "cell_type": "code",
   "execution_count": 59,
   "metadata": {
    "collapsed": true
   },
   "outputs": [],
   "source": [
    "df.columns = cols # set column names to cols"
   ]
  },
  {
   "cell_type": "code",
   "execution_count": 60,
   "metadata": {},
   "outputs": [
    {
     "data": {
      "text/html": [
       "<div>\n",
       "<style>\n",
       "    .dataframe thead tr:only-child th {\n",
       "        text-align: right;\n",
       "    }\n",
       "\n",
       "    .dataframe thead th {\n",
       "        text-align: left;\n",
       "    }\n",
       "\n",
       "    .dataframe tbody tr th {\n",
       "        vertical-align: top;\n",
       "    }\n",
       "</style>\n",
       "<table border=\"1\" class=\"dataframe\">\n",
       "  <thead>\n",
       "    <tr style=\"text-align: right;\">\n",
       "      <th></th>\n",
       "      <th>WK</th>\n",
       "      <th>DATE</th>\n",
       "      <th>OPPONENT</th>\n",
       "      <th>RESULT</th>\n",
       "      <th>HI PASSING</th>\n",
       "      <th>HI RUSHING</th>\n",
       "      <th>HI RECEIVING</th>\n",
       "    </tr>\n",
       "  </thead>\n",
       "  <tbody>\n",
       "    <tr>\n",
       "      <th>0</th>\n",
       "      <td>1</td>\n",
       "      <td>Sun, Sep 11</td>\n",
       "      <td>vsNew York</td>\n",
       "      <td>L20-19</td>\n",
       "      <td>Prescott  227</td>\n",
       "      <td>Elliott  51</td>\n",
       "      <td>Witten  66</td>\n",
       "    </tr>\n",
       "    <tr>\n",
       "      <th>1</th>\n",
       "      <td>3</td>\n",
       "      <td>Sun, Sep 25</td>\n",
       "      <td>vsChicago</td>\n",
       "      <td>W31-17</td>\n",
       "      <td>Prescott  248</td>\n",
       "      <td>Elliott  140</td>\n",
       "      <td>Williams  88</td>\n",
       "    </tr>\n",
       "    <tr>\n",
       "      <th>2</th>\n",
       "      <td>5</td>\n",
       "      <td>Sun, Oct 9</td>\n",
       "      <td>vsCincinnati</td>\n",
       "      <td>W28-14</td>\n",
       "      <td>Prescott  227</td>\n",
       "      <td>Elliott  134</td>\n",
       "      <td>Williams  70</td>\n",
       "    </tr>\n",
       "    <tr>\n",
       "      <th>3</th>\n",
       "      <td>9</td>\n",
       "      <td>Sun, Nov 6</td>\n",
       "      <td>@Cleveland</td>\n",
       "      <td>W35-10</td>\n",
       "      <td>Prescott  247</td>\n",
       "      <td>Elliott  92</td>\n",
       "      <td>Witten  134</td>\n",
       "    </tr>\n",
       "    <tr>\n",
       "      <th>4</th>\n",
       "      <td>11</td>\n",
       "      <td>Sun, Nov 20</td>\n",
       "      <td>vsBaltimore</td>\n",
       "      <td>W27-17</td>\n",
       "      <td>Prescott  301</td>\n",
       "      <td>Elliott  97</td>\n",
       "      <td>Bryant  80</td>\n",
       "    </tr>\n",
       "  </tbody>\n",
       "</table>\n",
       "</div>"
      ],
      "text/plain": [
       "   WK         DATE      OPPONENT  RESULT     HI PASSING    HI RUSHING  \\\n",
       "0   1  Sun, Sep 11    vsNew York  L20-19  Prescott  227   Elliott  51   \n",
       "1   3  Sun, Sep 25     vsChicago  W31-17  Prescott  248  Elliott  140   \n",
       "2   5   Sun, Oct 9  vsCincinnati  W28-14  Prescott  227  Elliott  134   \n",
       "3   9   Sun, Nov 6    @Cleveland  W35-10  Prescott  247   Elliott  92   \n",
       "4  11  Sun, Nov 20   vsBaltimore  W27-17  Prescott  301   Elliott  97   \n",
       "\n",
       "   HI RECEIVING  \n",
       "0    Witten  66  \n",
       "1  Williams  88  \n",
       "2  Williams  70  \n",
       "3   Witten  134  \n",
       "4    Bryant  80  "
      ]
     },
     "execution_count": 60,
     "metadata": {},
     "output_type": "execute_result"
    }
   ],
   "source": [
    "df.head() # yay!"
   ]
  },
  {
   "cell_type": "markdown",
   "metadata": {},
   "source": [
    "## Convert data to correct formats"
   ]
  },
  {
   "cell_type": "code",
   "execution_count": 63,
   "metadata": {
    "collapsed": true
   },
   "outputs": [],
   "source": [
    "# home takes x from OPPONENT and determines whether game was away (0) or home(1)\n",
    "def home(x):\n",
    "    if x[0]=='@':\n",
    "        return 0\n",
    "    else:\n",
    "        return 1"
   ]
  },
  {
   "cell_type": "code",
   "execution_count": 65,
   "metadata": {},
   "outputs": [
    {
     "data": {
      "text/html": [
       "<div>\n",
       "<style>\n",
       "    .dataframe thead tr:only-child th {\n",
       "        text-align: right;\n",
       "    }\n",
       "\n",
       "    .dataframe thead th {\n",
       "        text-align: left;\n",
       "    }\n",
       "\n",
       "    .dataframe tbody tr th {\n",
       "        vertical-align: top;\n",
       "    }\n",
       "</style>\n",
       "<table border=\"1\" class=\"dataframe\">\n",
       "  <thead>\n",
       "    <tr style=\"text-align: right;\">\n",
       "      <th></th>\n",
       "      <th>WK</th>\n",
       "      <th>DATE</th>\n",
       "      <th>OPPONENT</th>\n",
       "      <th>RESULT</th>\n",
       "      <th>HI PASSING</th>\n",
       "      <th>HI RUSHING</th>\n",
       "      <th>HI RECEIVING</th>\n",
       "      <th>HOME</th>\n",
       "    </tr>\n",
       "  </thead>\n",
       "  <tbody>\n",
       "    <tr>\n",
       "      <th>0</th>\n",
       "      <td>1</td>\n",
       "      <td>Sun, Sep 11</td>\n",
       "      <td>vsNew York</td>\n",
       "      <td>L20-19</td>\n",
       "      <td>Prescott  227</td>\n",
       "      <td>Elliott  51</td>\n",
       "      <td>Witten  66</td>\n",
       "      <td>1</td>\n",
       "    </tr>\n",
       "    <tr>\n",
       "      <th>1</th>\n",
       "      <td>3</td>\n",
       "      <td>Sun, Sep 25</td>\n",
       "      <td>vsChicago</td>\n",
       "      <td>W31-17</td>\n",
       "      <td>Prescott  248</td>\n",
       "      <td>Elliott  140</td>\n",
       "      <td>Williams  88</td>\n",
       "      <td>1</td>\n",
       "    </tr>\n",
       "    <tr>\n",
       "      <th>2</th>\n",
       "      <td>5</td>\n",
       "      <td>Sun, Oct 9</td>\n",
       "      <td>vsCincinnati</td>\n",
       "      <td>W28-14</td>\n",
       "      <td>Prescott  227</td>\n",
       "      <td>Elliott  134</td>\n",
       "      <td>Williams  70</td>\n",
       "      <td>1</td>\n",
       "    </tr>\n",
       "    <tr>\n",
       "      <th>3</th>\n",
       "      <td>9</td>\n",
       "      <td>Sun, Nov 6</td>\n",
       "      <td>@Cleveland</td>\n",
       "      <td>W35-10</td>\n",
       "      <td>Prescott  247</td>\n",
       "      <td>Elliott  92</td>\n",
       "      <td>Witten  134</td>\n",
       "      <td>0</td>\n",
       "    </tr>\n",
       "    <tr>\n",
       "      <th>4</th>\n",
       "      <td>11</td>\n",
       "      <td>Sun, Nov 20</td>\n",
       "      <td>vsBaltimore</td>\n",
       "      <td>W27-17</td>\n",
       "      <td>Prescott  301</td>\n",
       "      <td>Elliott  97</td>\n",
       "      <td>Bryant  80</td>\n",
       "      <td>1</td>\n",
       "    </tr>\n",
       "  </tbody>\n",
       "</table>\n",
       "</div>"
      ],
      "text/plain": [
       "   WK         DATE      OPPONENT  RESULT     HI PASSING    HI RUSHING  \\\n",
       "0   1  Sun, Sep 11    vsNew York  L20-19  Prescott  227   Elliott  51   \n",
       "1   3  Sun, Sep 25     vsChicago  W31-17  Prescott  248  Elliott  140   \n",
       "2   5   Sun, Oct 9  vsCincinnati  W28-14  Prescott  227  Elliott  134   \n",
       "3   9   Sun, Nov 6    @Cleveland  W35-10  Prescott  247   Elliott  92   \n",
       "4  11  Sun, Nov 20   vsBaltimore  W27-17  Prescott  301   Elliott  97   \n",
       "\n",
       "   HI RECEIVING  HOME  \n",
       "0    Witten  66     1  \n",
       "1  Williams  88     1  \n",
       "2  Williams  70     1  \n",
       "3   Witten  134     0  \n",
       "4    Bryant  80     1  "
      ]
     },
     "execution_count": 65,
     "metadata": {},
     "output_type": "execute_result"
    }
   ],
   "source": [
    "df['HOME'] = df.OPPONENT.map(home)\n",
    "df.head()"
   ]
  },
  {
   "cell_type": "code",
   "execution_count": 66,
   "metadata": {
    "collapsed": true
   },
   "outputs": [],
   "source": [
    "# opponent takes a row of OPPONENT, x, and gets rid of the @ or vs.\n",
    "def opponent(x):\n",
    "    if x[0]=='@':\n",
    "        return x[1:]\n",
    "    else:\n",
    "        return x[2:]"
   ]
  },
  {
   "cell_type": "code",
   "execution_count": 68,
   "metadata": {},
   "outputs": [
    {
     "data": {
      "text/html": [
       "<div>\n",
       "<style>\n",
       "    .dataframe thead tr:only-child th {\n",
       "        text-align: right;\n",
       "    }\n",
       "\n",
       "    .dataframe thead th {\n",
       "        text-align: left;\n",
       "    }\n",
       "\n",
       "    .dataframe tbody tr th {\n",
       "        vertical-align: top;\n",
       "    }\n",
       "</style>\n",
       "<table border=\"1\" class=\"dataframe\">\n",
       "  <thead>\n",
       "    <tr style=\"text-align: right;\">\n",
       "      <th></th>\n",
       "      <th>WK</th>\n",
       "      <th>DATE</th>\n",
       "      <th>OPPONENT</th>\n",
       "      <th>RESULT</th>\n",
       "      <th>HI PASSING</th>\n",
       "      <th>HI RUSHING</th>\n",
       "      <th>HI RECEIVING</th>\n",
       "      <th>HOME</th>\n",
       "      <th>opp</th>\n",
       "    </tr>\n",
       "  </thead>\n",
       "  <tbody>\n",
       "    <tr>\n",
       "      <th>0</th>\n",
       "      <td>1</td>\n",
       "      <td>Sun, Sep 11</td>\n",
       "      <td>vsNew York</td>\n",
       "      <td>L20-19</td>\n",
       "      <td>Prescott  227</td>\n",
       "      <td>Elliott  51</td>\n",
       "      <td>Witten  66</td>\n",
       "      <td>1</td>\n",
       "      <td>New York</td>\n",
       "    </tr>\n",
       "    <tr>\n",
       "      <th>1</th>\n",
       "      <td>3</td>\n",
       "      <td>Sun, Sep 25</td>\n",
       "      <td>vsChicago</td>\n",
       "      <td>W31-17</td>\n",
       "      <td>Prescott  248</td>\n",
       "      <td>Elliott  140</td>\n",
       "      <td>Williams  88</td>\n",
       "      <td>1</td>\n",
       "      <td>Chicago</td>\n",
       "    </tr>\n",
       "    <tr>\n",
       "      <th>2</th>\n",
       "      <td>5</td>\n",
       "      <td>Sun, Oct 9</td>\n",
       "      <td>vsCincinnati</td>\n",
       "      <td>W28-14</td>\n",
       "      <td>Prescott  227</td>\n",
       "      <td>Elliott  134</td>\n",
       "      <td>Williams  70</td>\n",
       "      <td>1</td>\n",
       "      <td>Cincinnati</td>\n",
       "    </tr>\n",
       "    <tr>\n",
       "      <th>3</th>\n",
       "      <td>9</td>\n",
       "      <td>Sun, Nov 6</td>\n",
       "      <td>@Cleveland</td>\n",
       "      <td>W35-10</td>\n",
       "      <td>Prescott  247</td>\n",
       "      <td>Elliott  92</td>\n",
       "      <td>Witten  134</td>\n",
       "      <td>0</td>\n",
       "      <td>Cleveland</td>\n",
       "    </tr>\n",
       "    <tr>\n",
       "      <th>4</th>\n",
       "      <td>11</td>\n",
       "      <td>Sun, Nov 20</td>\n",
       "      <td>vsBaltimore</td>\n",
       "      <td>W27-17</td>\n",
       "      <td>Prescott  301</td>\n",
       "      <td>Elliott  97</td>\n",
       "      <td>Bryant  80</td>\n",
       "      <td>1</td>\n",
       "      <td>Baltimore</td>\n",
       "    </tr>\n",
       "  </tbody>\n",
       "</table>\n",
       "</div>"
      ],
      "text/plain": [
       "   WK         DATE      OPPONENT  RESULT     HI PASSING    HI RUSHING  \\\n",
       "0   1  Sun, Sep 11    vsNew York  L20-19  Prescott  227   Elliott  51   \n",
       "1   3  Sun, Sep 25     vsChicago  W31-17  Prescott  248  Elliott  140   \n",
       "2   5   Sun, Oct 9  vsCincinnati  W28-14  Prescott  227  Elliott  134   \n",
       "3   9   Sun, Nov 6    @Cleveland  W35-10  Prescott  247   Elliott  92   \n",
       "4  11  Sun, Nov 20   vsBaltimore  W27-17  Prescott  301   Elliott  97   \n",
       "\n",
       "   HI RECEIVING  HOME         opp  \n",
       "0    Witten  66     1    New York  \n",
       "1  Williams  88     1     Chicago  \n",
       "2  Williams  70     1  Cincinnati  \n",
       "3   Witten  134     0   Cleveland  \n",
       "4    Bryant  80     1   Baltimore  "
      ]
     },
     "execution_count": 68,
     "metadata": {},
     "output_type": "execute_result"
    }
   ],
   "source": [
    "df['opp'] = df.OPPONENT.map(opponent)\n",
    "df.head()"
   ]
  },
  {
   "cell_type": "code",
   "execution_count": 69,
   "metadata": {
    "collapsed": true
   },
   "outputs": [],
   "source": [
    "# Takes a row of RESULT column, x, and returns whether the team won(1), lost(-1), or tied(0)\n",
    "def wl(x):\n",
    "    if x[0]=='W':\n",
    "        return 1\n",
    "    elif x[0] == 'L':\n",
    "        return -1\n",
    "    else:\n",
    "        return 0"
   ]
  },
  {
   "cell_type": "code",
   "execution_count": 70,
   "metadata": {
    "collapsed": true
   },
   "outputs": [],
   "source": [
    "df['Win'] = df.RESULT.map(wl)"
   ]
  },
  {
   "cell_type": "code",
   "execution_count": 72,
   "metadata": {},
   "outputs": [
    {
     "data": {
      "text/html": [
       "<div>\n",
       "<style>\n",
       "    .dataframe thead tr:only-child th {\n",
       "        text-align: right;\n",
       "    }\n",
       "\n",
       "    .dataframe thead th {\n",
       "        text-align: left;\n",
       "    }\n",
       "\n",
       "    .dataframe tbody tr th {\n",
       "        vertical-align: top;\n",
       "    }\n",
       "</style>\n",
       "<table border=\"1\" class=\"dataframe\">\n",
       "  <thead>\n",
       "    <tr style=\"text-align: right;\">\n",
       "      <th></th>\n",
       "      <th>WK</th>\n",
       "      <th>DATE</th>\n",
       "      <th>OPPONENT</th>\n",
       "      <th>RESULT</th>\n",
       "      <th>HI PASSING</th>\n",
       "      <th>HI RUSHING</th>\n",
       "      <th>HI RECEIVING</th>\n",
       "      <th>HOME</th>\n",
       "      <th>opp</th>\n",
       "      <th>Win</th>\n",
       "    </tr>\n",
       "  </thead>\n",
       "  <tbody>\n",
       "    <tr>\n",
       "      <th>0</th>\n",
       "      <td>1</td>\n",
       "      <td>Sun, Sep 11</td>\n",
       "      <td>vsNew York</td>\n",
       "      <td>L20-19</td>\n",
       "      <td>Prescott  227</td>\n",
       "      <td>Elliott  51</td>\n",
       "      <td>Witten  66</td>\n",
       "      <td>1</td>\n",
       "      <td>New York</td>\n",
       "      <td>-1</td>\n",
       "    </tr>\n",
       "    <tr>\n",
       "      <th>1</th>\n",
       "      <td>3</td>\n",
       "      <td>Sun, Sep 25</td>\n",
       "      <td>vsChicago</td>\n",
       "      <td>W31-17</td>\n",
       "      <td>Prescott  248</td>\n",
       "      <td>Elliott  140</td>\n",
       "      <td>Williams  88</td>\n",
       "      <td>1</td>\n",
       "      <td>Chicago</td>\n",
       "      <td>1</td>\n",
       "    </tr>\n",
       "    <tr>\n",
       "      <th>2</th>\n",
       "      <td>5</td>\n",
       "      <td>Sun, Oct 9</td>\n",
       "      <td>vsCincinnati</td>\n",
       "      <td>W28-14</td>\n",
       "      <td>Prescott  227</td>\n",
       "      <td>Elliott  134</td>\n",
       "      <td>Williams  70</td>\n",
       "      <td>1</td>\n",
       "      <td>Cincinnati</td>\n",
       "      <td>1</td>\n",
       "    </tr>\n",
       "    <tr>\n",
       "      <th>3</th>\n",
       "      <td>9</td>\n",
       "      <td>Sun, Nov 6</td>\n",
       "      <td>@Cleveland</td>\n",
       "      <td>W35-10</td>\n",
       "      <td>Prescott  247</td>\n",
       "      <td>Elliott  92</td>\n",
       "      <td>Witten  134</td>\n",
       "      <td>0</td>\n",
       "      <td>Cleveland</td>\n",
       "      <td>1</td>\n",
       "    </tr>\n",
       "    <tr>\n",
       "      <th>4</th>\n",
       "      <td>11</td>\n",
       "      <td>Sun, Nov 20</td>\n",
       "      <td>vsBaltimore</td>\n",
       "      <td>W27-17</td>\n",
       "      <td>Prescott  301</td>\n",
       "      <td>Elliott  97</td>\n",
       "      <td>Bryant  80</td>\n",
       "      <td>1</td>\n",
       "      <td>Baltimore</td>\n",
       "      <td>1</td>\n",
       "    </tr>\n",
       "  </tbody>\n",
       "</table>\n",
       "</div>"
      ],
      "text/plain": [
       "   WK         DATE      OPPONENT  RESULT     HI PASSING    HI RUSHING  \\\n",
       "0   1  Sun, Sep 11    vsNew York  L20-19  Prescott  227   Elliott  51   \n",
       "1   3  Sun, Sep 25     vsChicago  W31-17  Prescott  248  Elliott  140   \n",
       "2   5   Sun, Oct 9  vsCincinnati  W28-14  Prescott  227  Elliott  134   \n",
       "3   9   Sun, Nov 6    @Cleveland  W35-10  Prescott  247   Elliott  92   \n",
       "4  11  Sun, Nov 20   vsBaltimore  W27-17  Prescott  301   Elliott  97   \n",
       "\n",
       "   HI RECEIVING  HOME         opp  Win  \n",
       "0    Witten  66     1    New York   -1  \n",
       "1  Williams  88     1     Chicago    1  \n",
       "2  Williams  70     1  Cincinnati    1  \n",
       "3   Witten  134     0   Cleveland    1  \n",
       "4    Bryant  80     1   Baltimore    1  "
      ]
     },
     "execution_count": 72,
     "metadata": {},
     "output_type": "execute_result"
    }
   ],
   "source": [
    "df.head()"
   ]
  },
  {
   "cell_type": "code",
   "execution_count": 74,
   "metadata": {
    "collapsed": true
   },
   "outputs": [],
   "source": [
    "import re # regular expressions, package to find patterns in texts"
   ]
  },
  {
   "cell_type": "code",
   "execution_count": 82,
   "metadata": {},
   "outputs": [
    {
     "data": {
      "text/plain": [
       "u'W30-16'"
      ]
     },
     "execution_count": 82,
     "metadata": {},
     "output_type": "execute_result"
    }
   ],
   "source": [
    "r = df.RESULT[10]\n",
    "r"
   ]
  },
  {
   "cell_type": "code",
   "execution_count": 77,
   "metadata": {},
   "outputs": [
    {
     "data": {
      "text/plain": [
       "[u'20', u'19']"
      ]
     },
     "execution_count": 77,
     "metadata": {},
     "output_type": "execute_result"
    }
   ],
   "source": [
    "re.findall('[0-9]+', r)"
   ]
  },
  {
   "cell_type": "code",
   "execution_count": 80,
   "metadata": {
    "collapsed": true
   },
   "outputs": [],
   "source": [
    "def score(r):\n",
    "    return [int(s) for s in re.findall('[0-9]+', r)]"
   ]
  },
  {
   "cell_type": "code",
   "execution_count": 84,
   "metadata": {},
   "outputs": [],
   "source": [
    "df['score']=df.RESULT.map(score)"
   ]
  },
  {
   "cell_type": "code",
   "execution_count": 85,
   "metadata": {},
   "outputs": [
    {
     "data": {
      "text/html": [
       "<div>\n",
       "<style>\n",
       "    .dataframe thead tr:only-child th {\n",
       "        text-align: right;\n",
       "    }\n",
       "\n",
       "    .dataframe thead th {\n",
       "        text-align: left;\n",
       "    }\n",
       "\n",
       "    .dataframe tbody tr th {\n",
       "        vertical-align: top;\n",
       "    }\n",
       "</style>\n",
       "<table border=\"1\" class=\"dataframe\">\n",
       "  <thead>\n",
       "    <tr style=\"text-align: right;\">\n",
       "      <th></th>\n",
       "      <th>WK</th>\n",
       "      <th>DATE</th>\n",
       "      <th>OPPONENT</th>\n",
       "      <th>RESULT</th>\n",
       "      <th>HI PASSING</th>\n",
       "      <th>HI RUSHING</th>\n",
       "      <th>HI RECEIVING</th>\n",
       "      <th>HOME</th>\n",
       "      <th>opp</th>\n",
       "      <th>Win</th>\n",
       "      <th>score</th>\n",
       "    </tr>\n",
       "  </thead>\n",
       "  <tbody>\n",
       "    <tr>\n",
       "      <th>0</th>\n",
       "      <td>1</td>\n",
       "      <td>Sun, Sep 11</td>\n",
       "      <td>vsNew York</td>\n",
       "      <td>L20-19</td>\n",
       "      <td>Prescott  227</td>\n",
       "      <td>Elliott  51</td>\n",
       "      <td>Witten  66</td>\n",
       "      <td>1</td>\n",
       "      <td>New York</td>\n",
       "      <td>-1</td>\n",
       "      <td>[20, 19]</td>\n",
       "    </tr>\n",
       "    <tr>\n",
       "      <th>1</th>\n",
       "      <td>3</td>\n",
       "      <td>Sun, Sep 25</td>\n",
       "      <td>vsChicago</td>\n",
       "      <td>W31-17</td>\n",
       "      <td>Prescott  248</td>\n",
       "      <td>Elliott  140</td>\n",
       "      <td>Williams  88</td>\n",
       "      <td>1</td>\n",
       "      <td>Chicago</td>\n",
       "      <td>1</td>\n",
       "      <td>[31, 17]</td>\n",
       "    </tr>\n",
       "    <tr>\n",
       "      <th>2</th>\n",
       "      <td>5</td>\n",
       "      <td>Sun, Oct 9</td>\n",
       "      <td>vsCincinnati</td>\n",
       "      <td>W28-14</td>\n",
       "      <td>Prescott  227</td>\n",
       "      <td>Elliott  134</td>\n",
       "      <td>Williams  70</td>\n",
       "      <td>1</td>\n",
       "      <td>Cincinnati</td>\n",
       "      <td>1</td>\n",
       "      <td>[28, 14]</td>\n",
       "    </tr>\n",
       "    <tr>\n",
       "      <th>3</th>\n",
       "      <td>9</td>\n",
       "      <td>Sun, Nov 6</td>\n",
       "      <td>@Cleveland</td>\n",
       "      <td>W35-10</td>\n",
       "      <td>Prescott  247</td>\n",
       "      <td>Elliott  92</td>\n",
       "      <td>Witten  134</td>\n",
       "      <td>0</td>\n",
       "      <td>Cleveland</td>\n",
       "      <td>1</td>\n",
       "      <td>[35, 10]</td>\n",
       "    </tr>\n",
       "    <tr>\n",
       "      <th>4</th>\n",
       "      <td>11</td>\n",
       "      <td>Sun, Nov 20</td>\n",
       "      <td>vsBaltimore</td>\n",
       "      <td>W27-17</td>\n",
       "      <td>Prescott  301</td>\n",
       "      <td>Elliott  97</td>\n",
       "      <td>Bryant  80</td>\n",
       "      <td>1</td>\n",
       "      <td>Baltimore</td>\n",
       "      <td>1</td>\n",
       "      <td>[27, 17]</td>\n",
       "    </tr>\n",
       "  </tbody>\n",
       "</table>\n",
       "</div>"
      ],
      "text/plain": [
       "   WK         DATE      OPPONENT  RESULT     HI PASSING    HI RUSHING  \\\n",
       "0   1  Sun, Sep 11    vsNew York  L20-19  Prescott  227   Elliott  51   \n",
       "1   3  Sun, Sep 25     vsChicago  W31-17  Prescott  248  Elliott  140   \n",
       "2   5   Sun, Oct 9  vsCincinnati  W28-14  Prescott  227  Elliott  134   \n",
       "3   9   Sun, Nov 6    @Cleveland  W35-10  Prescott  247   Elliott  92   \n",
       "4  11  Sun, Nov 20   vsBaltimore  W27-17  Prescott  301   Elliott  97   \n",
       "\n",
       "   HI RECEIVING  HOME         opp  Win     score  \n",
       "0    Witten  66     1    New York   -1  [20, 19]  \n",
       "1  Williams  88     1     Chicago    1  [31, 17]  \n",
       "2  Williams  70     1  Cincinnati    1  [28, 14]  \n",
       "3   Witten  134     0   Cleveland    1  [35, 10]  \n",
       "4    Bryant  80     1   Baltimore    1  [27, 17]  "
      ]
     },
     "execution_count": 85,
     "metadata": {},
     "output_type": "execute_result"
    }
   ],
   "source": [
    "df.head()"
   ]
  },
  {
   "cell_type": "code",
   "execution_count": 86,
   "metadata": {
    "collapsed": true
   },
   "outputs": [],
   "source": [
    "def myscore(w, score):\n",
    "    if w==1:\n",
    "        return max(score)\n",
    "    else:\n",
    "        return min(score)\n",
    "df['myscore']=df.apply(lambda x: myscore(x['Win'], x['score']), axis = 1)"
   ]
  },
  {
   "cell_type": "code",
   "execution_count": 87,
   "metadata": {},
   "outputs": [
    {
     "data": {
      "text/html": [
       "<div>\n",
       "<style>\n",
       "    .dataframe thead tr:only-child th {\n",
       "        text-align: right;\n",
       "    }\n",
       "\n",
       "    .dataframe thead th {\n",
       "        text-align: left;\n",
       "    }\n",
       "\n",
       "    .dataframe tbody tr th {\n",
       "        vertical-align: top;\n",
       "    }\n",
       "</style>\n",
       "<table border=\"1\" class=\"dataframe\">\n",
       "  <thead>\n",
       "    <tr style=\"text-align: right;\">\n",
       "      <th></th>\n",
       "      <th>WK</th>\n",
       "      <th>DATE</th>\n",
       "      <th>OPPONENT</th>\n",
       "      <th>RESULT</th>\n",
       "      <th>HI PASSING</th>\n",
       "      <th>HI RUSHING</th>\n",
       "      <th>HI RECEIVING</th>\n",
       "      <th>HOME</th>\n",
       "      <th>opp</th>\n",
       "      <th>Win</th>\n",
       "      <th>score</th>\n",
       "      <th>myscore</th>\n",
       "    </tr>\n",
       "  </thead>\n",
       "  <tbody>\n",
       "    <tr>\n",
       "      <th>0</th>\n",
       "      <td>1</td>\n",
       "      <td>Sun, Sep 11</td>\n",
       "      <td>vsNew York</td>\n",
       "      <td>L20-19</td>\n",
       "      <td>Prescott  227</td>\n",
       "      <td>Elliott  51</td>\n",
       "      <td>Witten  66</td>\n",
       "      <td>1</td>\n",
       "      <td>New York</td>\n",
       "      <td>-1</td>\n",
       "      <td>[20, 19]</td>\n",
       "      <td>19</td>\n",
       "    </tr>\n",
       "    <tr>\n",
       "      <th>1</th>\n",
       "      <td>3</td>\n",
       "      <td>Sun, Sep 25</td>\n",
       "      <td>vsChicago</td>\n",
       "      <td>W31-17</td>\n",
       "      <td>Prescott  248</td>\n",
       "      <td>Elliott  140</td>\n",
       "      <td>Williams  88</td>\n",
       "      <td>1</td>\n",
       "      <td>Chicago</td>\n",
       "      <td>1</td>\n",
       "      <td>[31, 17]</td>\n",
       "      <td>31</td>\n",
       "    </tr>\n",
       "    <tr>\n",
       "      <th>2</th>\n",
       "      <td>5</td>\n",
       "      <td>Sun, Oct 9</td>\n",
       "      <td>vsCincinnati</td>\n",
       "      <td>W28-14</td>\n",
       "      <td>Prescott  227</td>\n",
       "      <td>Elliott  134</td>\n",
       "      <td>Williams  70</td>\n",
       "      <td>1</td>\n",
       "      <td>Cincinnati</td>\n",
       "      <td>1</td>\n",
       "      <td>[28, 14]</td>\n",
       "      <td>28</td>\n",
       "    </tr>\n",
       "    <tr>\n",
       "      <th>3</th>\n",
       "      <td>9</td>\n",
       "      <td>Sun, Nov 6</td>\n",
       "      <td>@Cleveland</td>\n",
       "      <td>W35-10</td>\n",
       "      <td>Prescott  247</td>\n",
       "      <td>Elliott  92</td>\n",
       "      <td>Witten  134</td>\n",
       "      <td>0</td>\n",
       "      <td>Cleveland</td>\n",
       "      <td>1</td>\n",
       "      <td>[35, 10]</td>\n",
       "      <td>35</td>\n",
       "    </tr>\n",
       "    <tr>\n",
       "      <th>4</th>\n",
       "      <td>11</td>\n",
       "      <td>Sun, Nov 20</td>\n",
       "      <td>vsBaltimore</td>\n",
       "      <td>W27-17</td>\n",
       "      <td>Prescott  301</td>\n",
       "      <td>Elliott  97</td>\n",
       "      <td>Bryant  80</td>\n",
       "      <td>1</td>\n",
       "      <td>Baltimore</td>\n",
       "      <td>1</td>\n",
       "      <td>[27, 17]</td>\n",
       "      <td>27</td>\n",
       "    </tr>\n",
       "  </tbody>\n",
       "</table>\n",
       "</div>"
      ],
      "text/plain": [
       "   WK         DATE      OPPONENT  RESULT     HI PASSING    HI RUSHING  \\\n",
       "0   1  Sun, Sep 11    vsNew York  L20-19  Prescott  227   Elliott  51   \n",
       "1   3  Sun, Sep 25     vsChicago  W31-17  Prescott  248  Elliott  140   \n",
       "2   5   Sun, Oct 9  vsCincinnati  W28-14  Prescott  227  Elliott  134   \n",
       "3   9   Sun, Nov 6    @Cleveland  W35-10  Prescott  247   Elliott  92   \n",
       "4  11  Sun, Nov 20   vsBaltimore  W27-17  Prescott  301   Elliott  97   \n",
       "\n",
       "   HI RECEIVING  HOME         opp  Win     score  myscore  \n",
       "0    Witten  66     1    New York   -1  [20, 19]       19  \n",
       "1  Williams  88     1     Chicago    1  [31, 17]       31  \n",
       "2  Williams  70     1  Cincinnati    1  [28, 14]       28  \n",
       "3   Witten  134     0   Cleveland    1  [35, 10]       35  \n",
       "4    Bryant  80     1   Baltimore    1  [27, 17]       27  "
      ]
     },
     "execution_count": 87,
     "metadata": {},
     "output_type": "execute_result"
    }
   ],
   "source": [
    "df.head()"
   ]
  },
  {
   "cell_type": "code",
   "execution_count": 88,
   "metadata": {},
   "outputs": [
    {
     "data": {
      "text/html": [
       "<div>\n",
       "<style>\n",
       "    .dataframe thead tr:only-child th {\n",
       "        text-align: right;\n",
       "    }\n",
       "\n",
       "    .dataframe thead th {\n",
       "        text-align: left;\n",
       "    }\n",
       "\n",
       "    .dataframe tbody tr th {\n",
       "        vertical-align: top;\n",
       "    }\n",
       "</style>\n",
       "<table border=\"1\" class=\"dataframe\">\n",
       "  <thead>\n",
       "    <tr style=\"text-align: right;\">\n",
       "      <th></th>\n",
       "      <th>WK</th>\n",
       "      <th>DATE</th>\n",
       "      <th>OPPONENT</th>\n",
       "      <th>RESULT</th>\n",
       "      <th>HI PASSING</th>\n",
       "      <th>HI RUSHING</th>\n",
       "      <th>HI RECEIVING</th>\n",
       "      <th>HOME</th>\n",
       "      <th>opp</th>\n",
       "      <th>Win</th>\n",
       "      <th>score</th>\n",
       "      <th>myscore</th>\n",
       "      <th>oppscore</th>\n",
       "    </tr>\n",
       "  </thead>\n",
       "  <tbody>\n",
       "    <tr>\n",
       "      <th>0</th>\n",
       "      <td>1</td>\n",
       "      <td>Sun, Sep 11</td>\n",
       "      <td>vsNew York</td>\n",
       "      <td>L20-19</td>\n",
       "      <td>Prescott  227</td>\n",
       "      <td>Elliott  51</td>\n",
       "      <td>Witten  66</td>\n",
       "      <td>1</td>\n",
       "      <td>New York</td>\n",
       "      <td>-1</td>\n",
       "      <td>[20, 19]</td>\n",
       "      <td>19</td>\n",
       "      <td>20</td>\n",
       "    </tr>\n",
       "    <tr>\n",
       "      <th>1</th>\n",
       "      <td>3</td>\n",
       "      <td>Sun, Sep 25</td>\n",
       "      <td>vsChicago</td>\n",
       "      <td>W31-17</td>\n",
       "      <td>Prescott  248</td>\n",
       "      <td>Elliott  140</td>\n",
       "      <td>Williams  88</td>\n",
       "      <td>1</td>\n",
       "      <td>Chicago</td>\n",
       "      <td>1</td>\n",
       "      <td>[31, 17]</td>\n",
       "      <td>31</td>\n",
       "      <td>17</td>\n",
       "    </tr>\n",
       "    <tr>\n",
       "      <th>2</th>\n",
       "      <td>5</td>\n",
       "      <td>Sun, Oct 9</td>\n",
       "      <td>vsCincinnati</td>\n",
       "      <td>W28-14</td>\n",
       "      <td>Prescott  227</td>\n",
       "      <td>Elliott  134</td>\n",
       "      <td>Williams  70</td>\n",
       "      <td>1</td>\n",
       "      <td>Cincinnati</td>\n",
       "      <td>1</td>\n",
       "      <td>[28, 14]</td>\n",
       "      <td>28</td>\n",
       "      <td>14</td>\n",
       "    </tr>\n",
       "    <tr>\n",
       "      <th>3</th>\n",
       "      <td>9</td>\n",
       "      <td>Sun, Nov 6</td>\n",
       "      <td>@Cleveland</td>\n",
       "      <td>W35-10</td>\n",
       "      <td>Prescott  247</td>\n",
       "      <td>Elliott  92</td>\n",
       "      <td>Witten  134</td>\n",
       "      <td>0</td>\n",
       "      <td>Cleveland</td>\n",
       "      <td>1</td>\n",
       "      <td>[35, 10]</td>\n",
       "      <td>35</td>\n",
       "      <td>10</td>\n",
       "    </tr>\n",
       "    <tr>\n",
       "      <th>4</th>\n",
       "      <td>11</td>\n",
       "      <td>Sun, Nov 20</td>\n",
       "      <td>vsBaltimore</td>\n",
       "      <td>W27-17</td>\n",
       "      <td>Prescott  301</td>\n",
       "      <td>Elliott  97</td>\n",
       "      <td>Bryant  80</td>\n",
       "      <td>1</td>\n",
       "      <td>Baltimore</td>\n",
       "      <td>1</td>\n",
       "      <td>[27, 17]</td>\n",
       "      <td>27</td>\n",
       "      <td>17</td>\n",
       "    </tr>\n",
       "  </tbody>\n",
       "</table>\n",
       "</div>"
      ],
      "text/plain": [
       "   WK         DATE      OPPONENT  RESULT     HI PASSING    HI RUSHING  \\\n",
       "0   1  Sun, Sep 11    vsNew York  L20-19  Prescott  227   Elliott  51   \n",
       "1   3  Sun, Sep 25     vsChicago  W31-17  Prescott  248  Elliott  140   \n",
       "2   5   Sun, Oct 9  vsCincinnati  W28-14  Prescott  227  Elliott  134   \n",
       "3   9   Sun, Nov 6    @Cleveland  W35-10  Prescott  247   Elliott  92   \n",
       "4  11  Sun, Nov 20   vsBaltimore  W27-17  Prescott  301   Elliott  97   \n",
       "\n",
       "   HI RECEIVING  HOME         opp  Win     score  myscore  oppscore  \n",
       "0    Witten  66     1    New York   -1  [20, 19]       19        20  \n",
       "1  Williams  88     1     Chicago    1  [31, 17]       31        17  \n",
       "2  Williams  70     1  Cincinnati    1  [28, 14]       28        14  \n",
       "3   Witten  134     0   Cleveland    1  [35, 10]       35        10  \n",
       "4    Bryant  80     1   Baltimore    1  [27, 17]       27        17  "
      ]
     },
     "execution_count": 88,
     "metadata": {},
     "output_type": "execute_result"
    }
   ],
   "source": [
    "df['oppscore']=df.apply(lambda x: myscore(x['Win']*-1, x['score']), axis = 1)\n",
    "df.head()"
   ]
  },
  {
   "cell_type": "markdown",
   "metadata": {},
   "source": [
    "# Let's write a function that takes season as input, returns final dataframe"
   ]
  },
  {
   "cell_type": "code",
   "execution_count": 92,
   "metadata": {
    "collapsed": true
   },
   "outputs": [],
   "source": [
    "def grab_cowboys(season):\n",
    "    # grab page\n",
    "    url = 'http://www.espn.com/nfl/team/schedule/_/name/dal/year/{}'.format(season)\n",
    "    sc = BS(URL(url).read())\n",
    "    # get col headers\n",
    "    tab = sc.find_all('table', {'class':'tablehead'})[0] # grabs entire table, postseason/regular season/preseason\n",
    "    headers = tab.find_all('tr', {'class' : 'colhead'})\n",
    "    headers2 = [[td.text for td in h.find_all('td')] for h in headers]\n",
    "    cols = [h for h in headers2 if (h[0]=='WK')&(len(h)>5)][0] # grabs column names for reg. season\n",
    "    # get all data\n",
    "    even = tab.find_all('tr', {'class':'evenrow'}) # grabbing html code for even rows\n",
    "    odd = tab.find_all('tr', {'class':'oddrow'}) # ditto for odd rows\n",
    "    odd_data = [[c.text for c in r.find_all('td')] for r in odd] \n",
    "    # loop through each row of html code, r, find all td tags, retrieve text from each\n",
    "    even_data = [[c.text for c in r.find_all('td')] for r in even] # ditto for even rows\n",
    "    weeks =[str(w) for w in  list(range(1,18))] # converts list of 1-17 weeks to str\n",
    "    odds = [d for d in odd_data if (len(d)>5)&(d[0] in weeks)] \n",
    "    # check to make sure each row, d, has at least 6 columns (not preseason), and first data point\n",
    "    # d[0] belongs to weeks (not post season) \n",
    "    evens = [d for d in even_data if (len(d)>5)&(d[0] in weeks)]\n",
    "    data = odds+evens # combine evens and odds\n",
    "    df = pd.DataFrame(data) # convert to pandas dataframe\n",
    "    df.columns = cols # set column names to cols\n",
    "    # parse data into proper columns\n",
    "    df['HOME'] = df.OPPONENT.map(home)\n",
    "    df['opp']= df.OPPONENT.map(opponent)\n",
    "    df['Win'] = df.RESULT.map(wl)\n",
    "    df['score']=df.RESULT.map(score)\n",
    "    df['myscore']=df.apply(lambda x: myscore(x['Win'], x['score']), axis = 1)\n",
    "    df['oppscore']=df.apply(lambda x: myscore(x['Win']*-1, x['score']), axis = 1)\n",
    "    df['season'] = season\n",
    "    return df"
   ]
  },
  {
   "cell_type": "code",
   "execution_count": 90,
   "metadata": {
    "collapsed": true
   },
   "outputs": [],
   "source": [
    "df = grab_cowboys(2016)"
   ]
  },
  {
   "cell_type": "code",
   "execution_count": 93,
   "metadata": {},
   "outputs": [
    {
     "name": "stdout",
     "output_type": "stream",
     "text": [
      "1990\n",
      "error for 1990\n",
      "1991\n",
      "error for 1991\n",
      "1992\n",
      "error for 1992\n",
      "1993\n",
      "1994\n",
      "1995\n",
      "1996\n",
      "1997\n",
      "1998\n",
      "1999\n",
      "2000\n",
      "2001\n",
      "2002\n",
      "2003\n",
      "2004\n",
      "2005\n",
      "2006\n",
      "2007\n",
      "2008\n",
      "2009\n",
      "2010\n",
      "2011\n",
      "2012\n",
      "2013\n",
      "2014\n",
      "2015\n",
      "2016\n"
     ]
    }
   ],
   "source": [
    "dfs = list()\n",
    "for s in range(1990, 2017):\n",
    "    try:\n",
    "        print(s)\n",
    "        df = grab_cowboys(s)\n",
    "        dfs.append(df)\n",
    "    except:\n",
    "        print('error for {}'.format(s))"
   ]
  },
  {
   "cell_type": "code",
   "execution_count": 96,
   "metadata": {},
   "outputs": [],
   "source": [
    "df = pd.concat(dfs) # puts all datasets together"
   ]
  },
  {
   "cell_type": "code",
   "execution_count": 98,
   "metadata": {},
   "outputs": [],
   "source": [
    "df['margin'] = df.myscore - df.oppscore"
   ]
  },
  {
   "cell_type": "code",
   "execution_count": 100,
   "metadata": {},
   "outputs": [
    {
     "data": {
      "text/plain": [
       "HOME\n",
       "0   -0.502618\n",
       "1    4.312500\n",
       "Name: margin, dtype: float64"
      ]
     },
     "execution_count": 100,
     "metadata": {},
     "output_type": "execute_result"
    }
   ],
   "source": [
    "df.groupby('HOME')['margin'].mean()"
   ]
  },
  {
   "cell_type": "code",
   "execution_count": 101,
   "metadata": {},
   "outputs": [
    {
     "data": {
      "text/plain": [
       "<matplotlib.axes._subplots.AxesSubplot at 0x101a1e48>"
      ]
     },
     "execution_count": 101,
     "metadata": {},
     "output_type": "execute_result"
    },
    {
     "data": {
      "image/png": "[encoded data removed]",
      "text/plain": [
       "<matplotlib.figure.Figure at 0x89b5940>"
      ]
     },
     "metadata": {},
     "output_type": "display_data"
    }
   ],
   "source": [
    "df.groupby(['HOME', 'season'])['margin'].mean().unstack('HOME').plot()"
   ]
  },
  {
   "cell_type": "code",
   "execution_count": null,
   "metadata": {
    "collapsed": true
   },
   "outputs": [],
   "source": []
  }
 ],
 "metadata": {
  "kernelspec": {
   "display_name": "Python 2",
   "language": "python",
   "name": "python2"
  },
  "language_info": {
   "codemirror_mode": {
    "name": "ipython",
    "version": 2
   },
   "file_extension": ".py",
   "mimetype": "text/x-python",
   "name": "python",
   "nbconvert_exporter": "python",
   "pygments_lexer": "ipython2",
   "version": "2.7.14"
  }
 },
 "nbformat": 4,
 "nbformat_minor": 2
}
