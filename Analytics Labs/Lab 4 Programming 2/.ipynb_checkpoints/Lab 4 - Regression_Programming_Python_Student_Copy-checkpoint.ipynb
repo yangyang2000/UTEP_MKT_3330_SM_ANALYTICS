{
 "cells": [
  {
   "cell_type": "markdown",
   "metadata": {},
   "source": [
    "# This lab will guide you through some data oriented programming tasks\n",
    "\n",
    "1. Read in datasets\n",
    "2. Manipulating data\n",
    "3. Merging Datasets\n",
    "4. Groupby Summaries\n",
    "5. Run Regressions\n",
    "\n",
    "**Write comments for all your code, if you don't comment your code in this class, you will not get credit on your assignments**"
   ]
  },
  {
   "cell_type": "markdown",
   "metadata": {},
   "source": [
    "## 1. Read in the following dataset and display the first and last 5 rows\n",
    "\n",
    "```python\n",
    "'https://www.dropbox.com/s/yjo0ri1mph6we52/properties_2016_small.csv?dl=1'\n",
    "```"
   ]
  },
  {
   "cell_type": "markdown",
   "metadata": {},
   "source": [
    "# 2. Manipulating the dataset\n",
    "\n",
    "1. List all the columns of the dataset.\n",
    "2. Display the unique values for the variable `poolcnt`.\n",
    "3. Replace all the `nan` in `poolcnt` with 0. you can use the replace function (Google pandas replace). Note that `nan` is the numpy version of `None` and it is called by importing numpy:\n",
    "```python\n",
    "import numpy as np # import numpy module\n",
    "np.nan # np.nan gives you the nan value, this is the value you want to replace with 0\n",
    "```\n",
    "4. What data type is stored in the variable yearbuilt? Change it to int. Note you have to first replace np.nan with None, then change to integer. Use the \"`map`\" function on the column series df.yearbuilt. `.map` maps any function to the values in that function. What function did you map to conver to interger type?\n",
    "5. Plot a scatterplot of the longitude and latitude. Note that Longitude corresponds to x-axis and latitude corresponds to the y axis. Remember to import pyplot and make the plots inline:\n",
    "```python\n",
    "% matplotlib inline\n",
    "import matplotlib.pyplot as plt\n",
    "```\n",
    "Make the plot using the plt.scatter function. Play around with the `c`, `s`, and `alpha` parameters.\n",
    "6. For each cohort year (`yearbuilt`), plot the distribution of assessed value of the homes (`taxvaluedollarcnt`) for 2 bedroom homes. Note you can do histograms by selecting just the data that you need and appending the `.hist()` function. You should use a loop to loop through all the unique years. Plot the histogram inside the loop. To ensure you have a different figure for each plot, use the `plt.figure()` before plotting. Remember before you loop through all the years, you should make sure to not include `nan` years and to sort years from smallest to largest, you can do this using the `sorted` function. \n",
    "```python\n",
    "# write code to create listofuniqueyears \n",
    "# make sure this list of years does not include nan values and is sorted\n",
    "for year in listofuniqueyears: # note you have have to define listofuniqueyears\n",
    "        plt.figure()\n",
    "        plt.title(year) # this sets the title for the plot\n",
    "        # code to select data and plot histogram\n",
    "```\n",
    "7. Create a second dataframe using all the squarefeet variables (any variable that contains squarefeet) and parcelid. Drop *just* the squarefeet variables from the original dataframe. Display all the columns of these 2 dataframes"
   ]
  },
  {
   "cell_type": "markdown",
   "metadata": {},
   "source": [
    "# Merge a dataset\n",
    "\n",
    "Merge these two datasets back together. What kind of merge should you use, ('inner', 'outer', 'left'), why? On what variable should you evaluate the merge? (what to merge on?)"
   ]
  },
  {
   "cell_type": "markdown",
   "metadata": {},
   "source": [
    "# Groupby\n",
    "\n",
    "1. Use groupby to compute the average number of bedrooms in each cohort year, plot this as a line plot\n",
    "2. Use groupby to compute the average number of bathrooms in each cohort year, plot this as a line plot\n",
    "3. Use groupby to compute the average total sqft (`calculatedfinishedsquarefeet`), plot this as a line plot\n",
    "4. Use groupby to compute the number of houses in each cohort year, plot this as a line plot\n",
    "\n",
    "Are there any interesting trends for these plots?"
   ]
  },
  {
   "cell_type": "markdown",
   "metadata": {},
   "source": [
    "# Regression\n",
    "$$\n",
    "Value=\\beta_0+\\beta_1Sqft+\\beta_{2,bdrm}+\\beta_{3,bath}\n",
    "$$\n",
    "1. Run the above regression. Note $\\beta_{2,bdrm}$ and $\\beta_{3,bath}$ means a separate coffecient for each level of bedroom and bathroom. This means you should treat the variables as a categorical variable:\n",
    "2. Run the above regression separately for each cohort year. Store the coefficient of squarefootage for each regression in a list (see construction below). Plot the line plot of the coefficients vs. years.\n",
    "```python\n",
    "sqft_coefficients = list()\n",
    "for y in years:\n",
    "         sqft_coefficients.append(yourcoefficient)\n",
    "```"
   ]
  }
 ],
 "metadata": {
  "kernelspec": {
   "display_name": "Python 2",
   "language": "python",
   "name": "python2"
  },
  "language_info": {
   "codemirror_mode": {
    "name": "ipython",
    "version": 2
   },
   "file_extension": ".py",
   "mimetype": "text/x-python",
   "name": "python",
   "nbconvert_exporter": "python",
   "pygments_lexer": "ipython2",
   "version": "2.7.14"
  }
 },
 "nbformat": 4,
 "nbformat_minor": 2
}
