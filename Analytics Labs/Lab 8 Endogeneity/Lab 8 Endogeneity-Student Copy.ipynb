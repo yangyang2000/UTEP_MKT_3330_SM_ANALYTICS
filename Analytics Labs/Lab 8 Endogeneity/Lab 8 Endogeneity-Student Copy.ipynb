{
 "cells": [
  {
   "cell_type": "markdown",
   "metadata": {},
   "source": [
    "# 1. Read in the [dataset](https://www.dropbox.com/s/lyen5rp599k1rbj/iv2sls_data.csv?dl=0). Make the following plots. Include axes labels and titles.\n",
    "\n",
    "1. Plot Demand (y) vs. Prices (x). Which direction do you think the line of best fit through this dataset go, up or down?\n",
    "2. Plot Demand vs. Prices, but color weekends differently (red) from weekdays (blue). Include a legend for the 2 colors. Do the lines of best fit seem to have a clearer slope now?\n",
    "3. Plot Costs vs. Prices and color weekends differently (red) from weekdays (blue). Include a legend. What's the relationship between prices, costs, and weekend?\n",
    "\n",
    "\n",
    "Hint: use/look up `` plt.scatter, plt.title, plt.xlabel, plt.ylabel `` and use the option ``c`` to specify the color in the plotting function."
   ]
  },
  {
   "cell_type": "code",
   "execution_count": null,
   "metadata": {},
   "outputs": [],
   "source": []
  },
  {
   "cell_type": "markdown",
   "metadata": {},
   "source": [
    "# 2. Run 2 OLS regressions, one with and one without controlling for weekend\n",
    "\n",
    "Report the regression results. Plot the regression lines of each on top of the same plot as above (with weekend and weekdays labeled)."
   ]
  },
  {
   "cell_type": "code",
   "execution_count": null,
   "metadata": {},
   "outputs": [],
   "source": []
  },
  {
   "cell_type": "markdown",
   "metadata": {},
   "source": [
    "# 3. We've controlled for weekend, but the manager is still sophisticated, and anticipates unobserved demand shocks.\n",
    "\n",
    "1. What is the endogenous variable? Which variable should be used as an instrument?\n",
    "\n",
    "2. Perform the IV2SLS to estimate the demand equation controlling for weekend.\n",
    "\n",
    "3. Add the new predicted demand lines to the plot from part 2. Use the same colors for the new lines as the old ones, but make the old predicted weekend and weekday lines from part 2 dotted. (use option ``linestyle = ':'``)\n",
    "\n",
    "3. Perform 2SLS estimation using 2 OLS regressions. Confirm that you get the same parameter estimates as in step 2.\n",
    "    \n",
    "    1. Plot prices vs. costs (scatter) and overlay predicted prices (from 1st stage vs. costs using line plot), color the weekends and weekdays differently.\n",
    "    2. Plot the actual demand vs. predicted prices and actual demand vs. actual prices on the same plot. Make the latter more transparent and use \"x\" as the marker (specify option ``marker='x'``). Draw in the true demand lines for weekend and weekday.\n",
    "\n",
    "4. What is the profit maximizing price if marginal cost is \\$15?"
   ]
  },
  {
   "cell_type": "code",
   "execution_count": null,
   "metadata": {},
   "outputs": [],
   "source": []
  }
 ],
 "metadata": {
  "kernelspec": {
   "display_name": "Python 2",
   "language": "python",
   "name": "python2"
  },
  "language_info": {
   "codemirror_mode": {
    "name": "ipython",
    "version": 2
   },
   "file_extension": ".py",
   "mimetype": "text/x-python",
   "name": "python",
   "nbconvert_exporter": "python",
   "pygments_lexer": "ipython2",
   "version": "2.7.14"
  }
 },
 "nbformat": 4,
 "nbformat_minor": 2
}
